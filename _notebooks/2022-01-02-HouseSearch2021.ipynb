{
  "nbformat": 4,
  "nbformat_minor": 0,
  "metadata": {
    "colab": {
      "name": "HouseSearch2021.ipynb",
      "provenance": [],
      "collapsed_sections": [],
      "authorship_tag": "ABX9TyMqS6Z8sxL+VLSvC3Jkti9C"
    },
    "kernelspec": {
      "name": "python3",
      "display_name": "Python 3"
    },
    "language_info": {
      "name": "python"
    }
  },
  "cells": [
    {
      "cell_type": "markdown",
      "source": [
        "# Orange County House Search\n",
        "\n",
        "The following are some considerations for buying a house in Orange County, CA"
      ],
      "metadata": {
        "id": "RPWe3Ha-cej3"
      }
    },
    {
      "cell_type": "code",
      "execution_count": 33,
      "metadata": {
        "id": "bJKyIFTagnP0",
        "colab": {
          "base_uri": "https://localhost:8080/"
        },
        "outputId": "2ae41d74-2da4-40a5-a7bd-e06a92e4c3de"
      },
      "outputs": [
        {
          "output_type": "stream",
          "name": "stdout",
          "text": [
            "pandas version: 1.1.5\n",
            "plotly version: 5.5.0\n"
          ]
        }
      ],
      "source": [
        "#hide\n",
        "# export to: _notebooks/2022-01-02-HouseSearch2021.ipynb\n",
        "#!pip install --upgrade -q --no-deps pandas\n",
        "!pip install --upgrade -q plotly\n",
        "!pip install -q itables\n",
        "#!pip install -q plotlyhtmlexporter\n",
        "\n",
        "from google.colab import data_table\n",
        "from IPython.display import display, Markdown, Latex\n",
        "from itables import interactive, show\n",
        "import pandas as pd\n",
        "import warnings\n",
        "import plotly\n",
        "import plotly.graph_objects as go\n",
        "import plotly.express as px\n",
        "print(f'pandas version: {pd.__version__}')\n",
        "print(f'plotly version: {plotly.__version__}')\n",
        "\n",
        "#pd.set_option('display.width', 2000)\n",
        "pd.set_option('display.max_colwidth', None)\n",
        "#pd.options.plotting.backend = \"plotly\"\n",
        "\n",
        "data_table.enable_dataframe_formatter()\n",
        "warnings.filterwarnings('ignore') # get rid of annoying warnings so they don't appear in notebook outputs"
      ]
    },
    {
      "cell_type": "code",
      "source": [
        "#hide\n",
        "sheetId = '1az-gajkCWX4GwgJnNMFX8gfeRvhRxAY3QMTowj0YTwE'\n",
        "hdf = pd.read_csv(f'https://docs.google.com/spreadsheets/d/{sheetId}/export?format=csv',\n",
        "                 skiprows=2)\n",
        "hdf = hdf.iloc[:,1:] # skip first blank column\n",
        "hdf.rename(columns={col:col.replace(' ','').lower() for col in hdf.columns},inplace=True)\n",
        "for col in hdf.columns[4:]:\n",
        "  if hdf[col].dtype=='O':\n",
        "    hdf[col] = pd.to_numeric(hdf[col].str.replace('[^0-9.]','',regex=True))\n",
        "hdf.delta_price = hdf.delta_price/100\n",
        "hdf['home2'] = hdf.home.apply(lambda x: x.split(',')[0])\n",
        "hdf['zip'] = hdf['home'].str.split(',').str[-1].str.split(' ').str[-1]\n",
        "hdf.head()"
      ],
      "metadata": {
        "id": "R5jBWv-gqIfi",
        "colab": {
          "base_uri": "https://localhost:8080/",
          "height": 693
        },
        "outputId": "4cb85692-02be-4546-f4e1-a216eb54cce1"
      },
      "execution_count": 34,
      "outputs": [
        {
          "output_type": "stream",
          "name": "stdout",
          "text": [
            "Warning: Total number of columns (22) exceeds max_columns (20). Falling back to pandas display.\n"
          ]
        },
        {
          "output_type": "execute_result",
          "data": {
            "text/html": [
              "\n",
              "  <div id=\"df-44e6b10d-97a9-4a4c-86c0-a06e1a6f136d\">\n",
              "    <div class=\"colab-df-container\">\n",
              "      <table id=\"bcc7d7a5-86e2-4ce2-935b-292aeefe4763\" class=\"display\"><thead><th>status</th><th>area</th><th>home</th><th>zillowlink</th><th>price</th><th>price2019</th><th>bed</th><th>bath</th><th>sqft</th><th>lot</th><th>psqft</th><th>psqft2019</th><th>delta_price</th><th>hoafee</th><th>dylanq</th><th>kateq</th><th>jayq</th><th>tinaq</th><th>maddyq</th><th>aveq</th><th>home2</th><th>zip</th></thead><tbody><tr><td>Loading... (need <a href=https://github.com/mwouts/itables/#table-not-loading>help</a>?)</td></tr></tbody></table>\n",
              "<link rel=\"stylesheet\" type=\"text/css\" href=\"https://cdn.datatables.net/1.11.3/css/jquery.dataTables.min.css\">\n",
              "<style> table td {\n",
              "    text-overflow: ellipsis;\n",
              "    overflow: hidden;\n",
              "} </style>\n",
              "<style> table th {\n",
              "    text-overflow: ellipsis;\n",
              "    overflow: hidden;\n",
              "} </style>\n",
              "<script type=\"module\">\n",
              "    // Define the table data\n",
              "    const data = [[\"Under Contract\", \"Laguna Hills\", \"25861 Faircourt Ln, Laguna Hills, CA 92653\", \"https://www.zillow.com/homedetails/25861-Faircourt-Ln-Laguna-Hills-CA-92653/25548319_zpid/\", 1550000, 1300000, 4, 4, 3513, 7500, 441, 370, 0.19, 130, NaN, NaN, NaN, NaN, NaN, 0.0, \"25861 Faircourt Ln\", \"92653\"], [\"Under Contract\", \"Fullerton\", \"3101 Flintridge Dr, Fullerton, CA 92835\", \"https://www.zillow.com/homedetails/3101-Flintridge-Dr-Fullerton-CA-92835/25357767_zpid/\", 1675000, 1300000, 4, 3, 3183, 28750, 526, 408, 0.29, 0, NaN, NaN, NaN, NaN, NaN, 0.0, \"3101 Flintridge Dr\", \"92835\"], [\"For Sale\", \"Ladera Ranch\", \"20 Winslow St, Ladera Ranch, CA 92694\", \"https://www.zillow.com/homedetails/20-Winslow-St-Ladera-Ranch-CA-92694/51669389_zpid/\", 1700000, 1200000, 5, 4, 3433, 6322, 495, 350, 0.42, 200, 9.0, NaN, NaN, NaN, NaN, 9.0, \"20 Winslow St\", \"92694\"], [\"Pending\", \"Mission Viejo\", \"1 Wyeth St,\\u00a0Mission Viejo, CA 92694\", \"https://www.zillow.com/homedetails/1-Wyeth-St-Mission-Viejo-CA-92694/51669404_zpid/\", 1949900, 1500000, 5, 5, 3792, 9308, 514, 396, 0.3, 237, 10.0, 10.0, 10.0, 10.0, 10.0, 10.0, \"1 Wyeth St\", \"92694\"], [\"Pending\", \"Coto De Caza\", \"8 Lippizaner, Coto De Caza, CA 92679\", \"https://www.zillow.com/homes/8-Lippizaner,-Coto-De-Caza,-CA-92679_rb/25604942_zpid/\", 2699000, 2100000, 6, 7, 5600, 22216, 482, 375, 0.29, 225, 10.0, 10.0, 10.0, 10.0, 10.0, 10.0, \"8 Lippizaner\", \"92679\"]];\n",
              "\n",
              "    if (typeof require === 'undefined') {\n",
              "        // TODO: This should become the default (use a simple import)\n",
              "        // when the ESM version works independently of whether\n",
              "        // require.js is there or not, see\n",
              "        // https://datatables.net/forums/discussion/69066/esm-es6-module-support?\n",
              "        const {default: $} = await import(\"https://esm.sh/jquery@3.5.0\");\n",
              "        const {default: initDataTables} = await import(\"https://esm.sh/datatables.net@1.11.3?deps=jquery@3.5.0\");\n",
              "\n",
              "        initDataTables();\n",
              "\n",
              "        // Define the dt_args\n",
              "        let dt_args = {\"columnDefs\": [{\"width\": \"70px\", \"targets\": \"_all\"}], \"paging\": false};\n",
              "        dt_args[\"data\"] = data;\n",
              "\n",
              "        // Display the table\n",
              "        $(document).ready(function () {\n",
              "            $('#bcc7d7a5-86e2-4ce2-935b-292aeefe4763').DataTable(dt_args);\n",
              "        });\n",
              "    } else {\n",
              "        require([\"jquery\", \"datatables\"], ($, datatables) => {\n",
              "                // Define the dt_args\n",
              "                let dt_args = {\"columnDefs\": [{\"width\": \"70px\", \"targets\": \"_all\"}], \"paging\": false};\n",
              "                dt_args[\"data\"] = data;\n",
              "\n",
              "                // Display the table\n",
              "                $(document).ready(function () {\n",
              "                    $('#bcc7d7a5-86e2-4ce2-935b-292aeefe4763').DataTable(dt_args);\n",
              "                });\n",
              "            }\n",
              "        )\n",
              "    }\n",
              "</script>\n",
              "\n",
              "      <button class=\"colab-df-convert\" onclick=\"convertToInteractive('df-44e6b10d-97a9-4a4c-86c0-a06e1a6f136d')\"\n",
              "              title=\"Convert this dataframe to an interactive table.\"\n",
              "              style=\"display:none;\">\n",
              "        \n",
              "  <svg xmlns=\"http://www.w3.org/2000/svg\" height=\"24px\"viewBox=\"0 0 24 24\"\n",
              "       width=\"24px\">\n",
              "    <path d=\"M0 0h24v24H0V0z\" fill=\"none\"/>\n",
              "    <path d=\"M18.56 5.44l.94 2.06.94-2.06 2.06-.94-2.06-.94-.94-2.06-.94 2.06-2.06.94zm-11 1L8.5 8.5l.94-2.06 2.06-.94-2.06-.94L8.5 2.5l-.94 2.06-2.06.94zm10 10l.94 2.06.94-2.06 2.06-.94-2.06-.94-.94-2.06-.94 2.06-2.06.94z\"/><path d=\"M17.41 7.96l-1.37-1.37c-.4-.4-.92-.59-1.43-.59-.52 0-1.04.2-1.43.59L10.3 9.45l-7.72 7.72c-.78.78-.78 2.05 0 2.83L4 21.41c.39.39.9.59 1.41.59.51 0 1.02-.2 1.41-.59l7.78-7.78 2.81-2.81c.8-.78.8-2.07 0-2.86zM5.41 20L4 18.59l7.72-7.72 1.47 1.35L5.41 20z\"/>\n",
              "  </svg>\n",
              "      </button>\n",
              "      \n",
              "  <style>\n",
              "    .colab-df-container {\n",
              "      display:flex;\n",
              "      flex-wrap:wrap;\n",
              "      gap: 12px;\n",
              "    }\n",
              "\n",
              "    .colab-df-convert {\n",
              "      background-color: #E8F0FE;\n",
              "      border: none;\n",
              "      border-radius: 50%;\n",
              "      cursor: pointer;\n",
              "      display: none;\n",
              "      fill: #1967D2;\n",
              "      height: 32px;\n",
              "      padding: 0 0 0 0;\n",
              "      width: 32px;\n",
              "    }\n",
              "\n",
              "    .colab-df-convert:hover {\n",
              "      background-color: #E2EBFA;\n",
              "      box-shadow: 0px 1px 2px rgba(60, 64, 67, 0.3), 0px 1px 3px 1px rgba(60, 64, 67, 0.15);\n",
              "      fill: #174EA6;\n",
              "    }\n",
              "\n",
              "    [theme=dark] .colab-df-convert {\n",
              "      background-color: #3B4455;\n",
              "      fill: #D2E3FC;\n",
              "    }\n",
              "\n",
              "    [theme=dark] .colab-df-convert:hover {\n",
              "      background-color: #434B5C;\n",
              "      box-shadow: 0px 1px 3px 1px rgba(0, 0, 0, 0.15);\n",
              "      filter: drop-shadow(0px 1px 2px rgba(0, 0, 0, 0.3));\n",
              "      fill: #FFFFFF;\n",
              "    }\n",
              "  </style>\n",
              "\n",
              "      <script>\n",
              "        const buttonEl =\n",
              "          document.querySelector('#df-44e6b10d-97a9-4a4c-86c0-a06e1a6f136d button.colab-df-convert');\n",
              "        buttonEl.style.display =\n",
              "          google.colab.kernel.accessAllowed ? 'block' : 'none';\n",
              "\n",
              "        async function convertToInteractive(key) {\n",
              "          const element = document.querySelector('#df-44e6b10d-97a9-4a4c-86c0-a06e1a6f136d');\n",
              "          const dataTable =\n",
              "            await google.colab.kernel.invokeFunction('convertToInteractive',\n",
              "                                                     [key], {});\n",
              "          if (!dataTable) return;\n",
              "\n",
              "          const docLinkHtml = 'Like what you see? Visit the ' +\n",
              "            '<a target=\"_blank\" href=https://colab.research.google.com/notebooks/data_table.ipynb>data table notebook</a>'\n",
              "            + ' to learn more about interactive tables.';\n",
              "          element.innerHTML = '';\n",
              "          dataTable['output_type'] = 'display_data';\n",
              "          await google.colab.output.renderOutput(dataTable, element);\n",
              "          const docLink = document.createElement('div');\n",
              "          docLink.innerHTML = docLinkHtml;\n",
              "          element.appendChild(docLink);\n",
              "        }\n",
              "      </script>\n",
              "    </div>\n",
              "  </div>\n",
              "  "
            ],
            "text/plain": [
              "           status           area  ...               home2    zip\n",
              "0  Under Contract   Laguna Hills  ...  25861 Faircourt Ln  92653\n",
              "1  Under Contract      Fullerton  ...  3101 Flintridge Dr  92835\n",
              "2        For Sale   Ladera Ranch  ...       20 Winslow St  92694\n",
              "3         Pending  Mission Viejo  ...          1 Wyeth St  92694\n",
              "4         Pending   Coto De Caza  ...        8 Lippizaner  92679\n",
              "\n",
              "[5 rows x 22 columns]"
            ]
          },
          "metadata": {},
          "execution_count": 34
        }
      ]
    },
    {
      "cell_type": "code",
      "source": [
        "#hide\n",
        "# Read in HPI data and convert to Pandas DataFrame\n",
        "sheetId = '1az-gajkCWX4GwgJnNMFX8gfeRvhRxAY3QMTowj0YTwE'\n",
        "hpidf =  pd.read_csv(f'https://docs.google.com/spreadsheets/d/{sheetId}/export?gid=1182115701&format=csv',\n",
        "                 skiprows=6,dtype='str')\n",
        "hpidf = pd.DataFrame(hpidf.values[1:],columns=['zip','year','percent_change','hpi','hpi_1990','hpi_2000'])\n",
        "for col in hpidf.columns[1:]:\n",
        "  hpidf[col] = pd.to_numeric(hpidf[col].str.replace('[^0-9.]','',regex=True),errors='coerce')\n",
        "hpidf.head()"
      ],
      "metadata": {
        "id": "Q7O_TI71vsw-",
        "colab": {
          "base_uri": "https://localhost:8080/",
          "height": 197
        },
        "outputId": "b429bf27-7000-4131-cf7b-9e458cc1b0fc"
      },
      "execution_count": 35,
      "outputs": [
        {
          "output_type": "execute_result",
          "data": {
            "application/vnd.google.colaboratory.module+javascript": "\n      import \"https://ssl.gstatic.com/colaboratory/data_table/a6224c040fa35dcf/data_table.js\";\n\n      window.createDataTable({\n        data: [[{\n            'v': 0,\n            'f': \"0\",\n        },\n\"01001\",\n{\n            'v': 1986,\n            'f': \"1986\",\n        },\n{\n            'v': 13.67,\n            'f': \"13.67\",\n        },\n{\n            'v': 113.67,\n            'f': \"113.67\",\n        },\n{\n            'v': 70.65,\n            'f': \"70.65\",\n        },\n{\n            'v': 69.8,\n            'f': \"69.8\",\n        }],\n [{\n            'v': 1,\n            'f': \"1\",\n        },\n\"01001\",\n{\n            'v': 1987,\n            'f': \"1987\",\n        },\n{\n            'v': 21.2,\n            'f': \"21.2\",\n        },\n{\n            'v': 137.77,\n            'f': \"137.77\",\n        },\n{\n            'v': 85.63,\n            'f': \"85.63\",\n        },\n{\n            'v': 84.6,\n            'f': \"84.6\",\n        }],\n [{\n            'v': 2,\n            'f': \"2\",\n        },\n\"01001\",\n{\n            'v': 1988,\n            'f': \"1988\",\n        },\n{\n            'v': 17.38,\n            'f': \"17.38\",\n        },\n{\n            'v': 161.72,\n            'f': \"161.72\",\n        },\n{\n            'v': 100.52,\n            'f': \"100.52\",\n        },\n{\n            'v': 99.31,\n            'f': \"99.31\",\n        }],\n [{\n            'v': 3,\n            'f': \"3\",\n        },\n\"01001\",\n{\n            'v': 1989,\n            'f': \"1989\",\n        },\n{\n            'v': 1.14,\n            'f': \"1.14\",\n        },\n{\n            'v': 163.57,\n            'f': \"163.57\",\n        },\n{\n            'v': 101.67,\n            'f': \"101.67\",\n        },\n{\n            'v': 100.45,\n            'f': \"100.45\",\n        }],\n [{\n            'v': 4,\n            'f': \"4\",\n        },\n\"01001\",\n{\n            'v': 1990,\n            'f': \"1990\",\n        },\n{\n            'v': 1.64,\n            'f': \"1.64\",\n        },\n{\n            'v': 160.89,\n            'f': \"160.89\",\n        },\n{\n            'v': 100.0,\n            'f': \"100.0\",\n        },\n{\n            'v': 98.8,\n            'f': \"98.8\",\n        }]],\n        columns: [[\"number\", \"index\"], [\"string\", \"zip\"], [\"number\", \"year\"], [\"number\", \"percent_change\"], [\"number\", \"hpi\"], [\"number\", \"hpi_1990\"], [\"number\", \"hpi_2000\"]],\n        columnOptions: [{\"width\": \"1px\", \"className\": \"index_column\"}],\n        rowsPerPage: 25,\n        helpUrl: \"https://colab.research.google.com/notebooks/data_table.ipynb\",\n        suppressOutputScrolling: true,\n        minimumWidth: undefined,\n      });\n    ",
            "text/html": [
              "\n",
              "  <div id=\"df-c5c12c23-37c9-4183-8777-bea3236e3f19\">\n",
              "    <div class=\"colab-df-container\">\n",
              "      <table id=\"5d2fcd78-6536-4331-af38-ad8e4aabec1b\" class=\"display\"><thead><th>zip</th><th>year</th><th>percent_change</th><th>hpi</th><th>hpi_1990</th><th>hpi_2000</th></thead><tbody><tr><td>Loading... (need <a href=https://github.com/mwouts/itables/#table-not-loading>help</a>?)</td></tr></tbody></table>\n",
              "<link rel=\"stylesheet\" type=\"text/css\" href=\"https://cdn.datatables.net/1.11.3/css/jquery.dataTables.min.css\">\n",
              "<style> table td {\n",
              "    text-overflow: ellipsis;\n",
              "    overflow: hidden;\n",
              "} </style>\n",
              "<style> table th {\n",
              "    text-overflow: ellipsis;\n",
              "    overflow: hidden;\n",
              "} </style>\n",
              "<script type=\"module\">\n",
              "    // Define the table data\n",
              "    const data = [[\"01001\", 1986, 13.67, 113.67, 70.65, 69.8], [\"01001\", 1987, 21.2, 137.77, 85.63, 84.6], [\"01001\", 1988, 17.38, 161.72, 100.52, 99.31], [\"01001\", 1989, 1.14, 163.57, 101.67, 100.45], [\"01001\", 1990, 1.64, 160.89, 100.0, 98.8]];\n",
              "\n",
              "    if (typeof require === 'undefined') {\n",
              "        // TODO: This should become the default (use a simple import)\n",
              "        // when the ESM version works independently of whether\n",
              "        // require.js is there or not, see\n",
              "        // https://datatables.net/forums/discussion/69066/esm-es6-module-support?\n",
              "        const {default: $} = await import(\"https://esm.sh/jquery@3.5.0\");\n",
              "        const {default: initDataTables} = await import(\"https://esm.sh/datatables.net@1.11.3?deps=jquery@3.5.0\");\n",
              "\n",
              "        initDataTables();\n",
              "\n",
              "        // Define the dt_args\n",
              "        let dt_args = {\"columnDefs\": [{\"width\": \"70px\", \"targets\": \"_all\"}], \"paging\": false};\n",
              "        dt_args[\"data\"] = data;\n",
              "\n",
              "        // Display the table\n",
              "        $(document).ready(function () {\n",
              "            $('#5d2fcd78-6536-4331-af38-ad8e4aabec1b').DataTable(dt_args);\n",
              "        });\n",
              "    } else {\n",
              "        require([\"jquery\", \"datatables\"], ($, datatables) => {\n",
              "                // Define the dt_args\n",
              "                let dt_args = {\"columnDefs\": [{\"width\": \"70px\", \"targets\": \"_all\"}], \"paging\": false};\n",
              "                dt_args[\"data\"] = data;\n",
              "\n",
              "                // Display the table\n",
              "                $(document).ready(function () {\n",
              "                    $('#5d2fcd78-6536-4331-af38-ad8e4aabec1b').DataTable(dt_args);\n",
              "                });\n",
              "            }\n",
              "        )\n",
              "    }\n",
              "</script>\n",
              "\n",
              "      <button class=\"colab-df-convert\" onclick=\"convertToInteractive('df-c5c12c23-37c9-4183-8777-bea3236e3f19')\"\n",
              "              title=\"Convert this dataframe to an interactive table.\"\n",
              "              style=\"display:none;\">\n",
              "        \n",
              "  <svg xmlns=\"http://www.w3.org/2000/svg\" height=\"24px\"viewBox=\"0 0 24 24\"\n",
              "       width=\"24px\">\n",
              "    <path d=\"M0 0h24v24H0V0z\" fill=\"none\"/>\n",
              "    <path d=\"M18.56 5.44l.94 2.06.94-2.06 2.06-.94-2.06-.94-.94-2.06-.94 2.06-2.06.94zm-11 1L8.5 8.5l.94-2.06 2.06-.94-2.06-.94L8.5 2.5l-.94 2.06-2.06.94zm10 10l.94 2.06.94-2.06 2.06-.94-2.06-.94-.94-2.06-.94 2.06-2.06.94z\"/><path d=\"M17.41 7.96l-1.37-1.37c-.4-.4-.92-.59-1.43-.59-.52 0-1.04.2-1.43.59L10.3 9.45l-7.72 7.72c-.78.78-.78 2.05 0 2.83L4 21.41c.39.39.9.59 1.41.59.51 0 1.02-.2 1.41-.59l7.78-7.78 2.81-2.81c.8-.78.8-2.07 0-2.86zM5.41 20L4 18.59l7.72-7.72 1.47 1.35L5.41 20z\"/>\n",
              "  </svg>\n",
              "      </button>\n",
              "      \n",
              "  <style>\n",
              "    .colab-df-container {\n",
              "      display:flex;\n",
              "      flex-wrap:wrap;\n",
              "      gap: 12px;\n",
              "    }\n",
              "\n",
              "    .colab-df-convert {\n",
              "      background-color: #E8F0FE;\n",
              "      border: none;\n",
              "      border-radius: 50%;\n",
              "      cursor: pointer;\n",
              "      display: none;\n",
              "      fill: #1967D2;\n",
              "      height: 32px;\n",
              "      padding: 0 0 0 0;\n",
              "      width: 32px;\n",
              "    }\n",
              "\n",
              "    .colab-df-convert:hover {\n",
              "      background-color: #E2EBFA;\n",
              "      box-shadow: 0px 1px 2px rgba(60, 64, 67, 0.3), 0px 1px 3px 1px rgba(60, 64, 67, 0.15);\n",
              "      fill: #174EA6;\n",
              "    }\n",
              "\n",
              "    [theme=dark] .colab-df-convert {\n",
              "      background-color: #3B4455;\n",
              "      fill: #D2E3FC;\n",
              "    }\n",
              "\n",
              "    [theme=dark] .colab-df-convert:hover {\n",
              "      background-color: #434B5C;\n",
              "      box-shadow: 0px 1px 3px 1px rgba(0, 0, 0, 0.15);\n",
              "      filter: drop-shadow(0px 1px 2px rgba(0, 0, 0, 0.3));\n",
              "      fill: #FFFFFF;\n",
              "    }\n",
              "  </style>\n",
              "\n",
              "      <script>\n",
              "        const buttonEl =\n",
              "          document.querySelector('#df-c5c12c23-37c9-4183-8777-bea3236e3f19 button.colab-df-convert');\n",
              "        buttonEl.style.display =\n",
              "          google.colab.kernel.accessAllowed ? 'block' : 'none';\n",
              "\n",
              "        async function convertToInteractive(key) {\n",
              "          const element = document.querySelector('#df-c5c12c23-37c9-4183-8777-bea3236e3f19');\n",
              "          const dataTable =\n",
              "            await google.colab.kernel.invokeFunction('convertToInteractive',\n",
              "                                                     [key], {});\n",
              "          if (!dataTable) return;\n",
              "\n",
              "          const docLinkHtml = 'Like what you see? Visit the ' +\n",
              "            '<a target=\"_blank\" href=https://colab.research.google.com/notebooks/data_table.ipynb>data table notebook</a>'\n",
              "            + ' to learn more about interactive tables.';\n",
              "          element.innerHTML = '';\n",
              "          dataTable['output_type'] = 'display_data';\n",
              "          await google.colab.output.renderOutput(dataTable, element);\n",
              "          const docLink = document.createElement('div');\n",
              "          docLink.innerHTML = docLinkHtml;\n",
              "          element.appendChild(docLink);\n",
              "        }\n",
              "      </script>\n",
              "    </div>\n",
              "  </div>\n",
              "  "
            ],
            "text/plain": [
              "     zip  year  percent_change     hpi  hpi_1990  hpi_2000\n",
              "0  01001  1986           13.67  113.67     70.65     69.80\n",
              "1  01001  1987           21.20  137.77     85.63     84.60\n",
              "2  01001  1988           17.38  161.72    100.52     99.31\n",
              "3  01001  1989            1.14  163.57    101.67    100.45\n",
              "4  01001  1990            1.64  160.89    100.00     98.80"
            ]
          },
          "metadata": {},
          "execution_count": 35
        }
      ]
    },
    {
      "cell_type": "code",
      "source": [
        "#hide\n",
        "azdf = hdf.groupby(['area','zip']).count().reset_index()[['area','zip']]"
      ],
      "metadata": {
        "id": "Qxa61AAZFbvj"
      },
      "execution_count": 36,
      "outputs": []
    },
    {
      "cell_type": "code",
      "source": [
        "#hide\n",
        "hpiyeardf = azdf.merge(hpidf,left_on='zip',right_on='zip',how='inner')\n",
        "hpiyeardf = hpiyeardf[hpiyeardf.year>2000].groupby(['area','year']).mean()['hpi_2000']#.reset_index()\n",
        "hpiyeardf.head()"
      ],
      "metadata": {
        "id": "7eU7Sl_kOnCs",
        "colab": {
          "base_uri": "https://localhost:8080/",
          "height": 302
        },
        "outputId": "955b912b-48f5-459c-987d-d0d63fb6bd1f"
      },
      "execution_count": 37,
      "outputs": [
        {
          "output_type": "execute_result",
          "data": {
            "text/html": [
              "<table id=\"7b5146f9-c734-40f7-b6ee-da202d8e4c62\" class=\"display\"><thead><th></th><th></th><th>hpi_2000</th></thead><tbody><tr><td>Loading... (need <a href=https://github.com/mwouts/itables/#table-not-loading>help</a>?)</td></tr></tbody></table>\n",
              "<link rel=\"stylesheet\" type=\"text/css\" href=\"https://cdn.datatables.net/1.11.3/css/jquery.dataTables.min.css\">\n",
              "<style> table td {\n",
              "    text-overflow: ellipsis;\n",
              "    overflow: hidden;\n",
              "} </style>\n",
              "<style> table th {\n",
              "    text-overflow: ellipsis;\n",
              "    overflow: hidden;\n",
              "} </style>\n",
              "<script type=\"module\">\n",
              "    // Define the table data\n",
              "    const data = [[\"Coto De Caza\", 2001, 111.32], [\"Coto De Caza\", 2002, 122.11], [\"Coto De Caza\", 2003, 134.06], [\"Coto De Caza\", 2004, 156.78], [\"Coto De Caza\", 2005, 193.51]];\n",
              "\n",
              "    if (typeof require === 'undefined') {\n",
              "        // TODO: This should become the default (use a simple import)\n",
              "        // when the ESM version works independently of whether\n",
              "        // require.js is there or not, see\n",
              "        // https://datatables.net/forums/discussion/69066/esm-es6-module-support?\n",
              "        const {default: $} = await import(\"https://esm.sh/jquery@3.5.0\");\n",
              "        const {default: initDataTables} = await import(\"https://esm.sh/datatables.net@1.11.3?deps=jquery@3.5.0\");\n",
              "\n",
              "        initDataTables();\n",
              "\n",
              "        // Define the dt_args\n",
              "        let dt_args = {\"columnDefs\": [{\"width\": \"70px\", \"targets\": \"_all\"}], \"paging\": false};\n",
              "        dt_args[\"data\"] = data;\n",
              "\n",
              "        // Display the table\n",
              "        $(document).ready(function () {\n",
              "            $('#7b5146f9-c734-40f7-b6ee-da202d8e4c62').DataTable(dt_args);\n",
              "        });\n",
              "    } else {\n",
              "        require([\"jquery\", \"datatables\"], ($, datatables) => {\n",
              "                // Define the dt_args\n",
              "                let dt_args = {\"columnDefs\": [{\"width\": \"70px\", \"targets\": \"_all\"}], \"paging\": false};\n",
              "                dt_args[\"data\"] = data;\n",
              "\n",
              "                // Display the table\n",
              "                $(document).ready(function () {\n",
              "                    $('#7b5146f9-c734-40f7-b6ee-da202d8e4c62').DataTable(dt_args);\n",
              "                });\n",
              "            }\n",
              "        )\n",
              "    }\n",
              "</script>\n"
            ],
            "text/plain": [
              "area          year\n",
              "Coto De Caza  2001    111.32\n",
              "              2002    122.11\n",
              "              2003    134.06\n",
              "              2004    156.78\n",
              "              2005    193.51\n",
              "Name: hpi_2000, dtype: float64"
            ]
          },
          "metadata": {},
          "execution_count": 37
        }
      ]
    },
    {
      "cell_type": "code",
      "source": [
        "#hide\n",
        "p21df = hdf.groupby('area').mean()['delta_price'].reset_index()\n",
        "p21df = hpiyeardf.reset_index()[hpiyeardf.reset_index().year==2019].merge(p21df,left_on='area',right_on='area')\n",
        "p21df['year']=2021\n",
        "p21df.hpi_2000 = p21df.hpi_2000*(1+p21df.delta_price)\n",
        "p21df = p21df[['area','year','hpi_2000']]"
      ],
      "metadata": {
        "id": "BsLHFJ0kj3hW"
      },
      "execution_count": 38,
      "outputs": []
    },
    {
      "cell_type": "code",
      "source": [
        "#hide\n",
        "# add projection of 2021 based on selling prices of homes (this is an assumption as these houses may be overpriced and may not sell)\n",
        "hpiyeardf = pd.concat([hpiyeardf,p21df.groupby(['area','year']).mean()['hpi_2000']])"
      ],
      "metadata": {
        "id": "WMFcFBK1I9bU"
      },
      "execution_count": 39,
      "outputs": []
    },
    {
      "cell_type": "markdown",
      "source": [
        "## Houses of interest\n",
        "\n",
        "The following houses are sorted by the highest average rating, followed by the price:"
      ],
      "metadata": {
        "id": "yxA_MPMae7Gy"
      }
    },
    {
      "cell_type": "code",
      "source": [
        "#hide_input\n",
        "# Filter only For Sale with high ratings\n",
        "hoidf = hdf.loc[(hdf.status==\"For Sale\")&(hdf.aveq>=7),[\"status\",\"home\",\"zillowlink\",\"price\",\"sqft\",\"aveq\"]] \n",
        "#hoidf = hoidf.style.format({'zillowlink': lambda x: f'<a href=\"{x}\">{x}</a>'})\n",
        "#hoidf['zillowlink2'] = hoidf.zillowlink.apply(lambda x : f'<a href=\"{x}>{x}</a>')  #f'<a href=\"{hoidf.zillowlink}>{hoidf.zillowlink}</a>'\n",
        "#hoidf['zillowlink2'] = hoidf.zillowlink.apply(lambda x : f'[\"{x}]({x})')  #f'<a href=\"{hoidf.zillowlink}>{hoidf.zillowlink}</a>'\n",
        "#show(hoidf,paging=False,scrollY=\"800px\")\n",
        "hoidf.style.format({'zillowlink': lambda x: f'<a href=\"{x}\">{x}</a>'}).hide_index()\n",
        "#data_table.DataTable(hoidf,include_index=False,num_rows_per_page=20)"
      ],
      "metadata": {
        "id": "j77e5bAlLz7D",
        "colab": {
          "base_uri": "https://localhost:8080/",
          "height": 238
        },
        "outputId": "62c3a410-8af4-43e4-970d-5e691d35e8cd"
      },
      "execution_count": 40,
      "outputs": [
        {
          "output_type": "execute_result",
          "data": {
            "text/html": [
              "<style  type=\"text/css\" >\n",
              "</style><table id=\"T_60f87892_75d8_11ec_9e03_0242ac1c0002\" class=\"dataframe\"><thead>    <tr>        <th class=\"col_heading level0 col0\" >status</th>        <th class=\"col_heading level0 col1\" >home</th>        <th class=\"col_heading level0 col2\" >zillowlink</th>        <th class=\"col_heading level0 col3\" >price</th>        <th class=\"col_heading level0 col4\" >sqft</th>        <th class=\"col_heading level0 col5\" >aveq</th>    </tr></thead><tbody>\n",
              "                <tr>\n",
              "                                <td id=\"T_60f87892_75d8_11ec_9e03_0242ac1c0002row0_col0\" class=\"data row0 col0\" >For Sale</td>\n",
              "                        <td id=\"T_60f87892_75d8_11ec_9e03_0242ac1c0002row0_col1\" class=\"data row0 col1\" >20 Winslow St, Ladera Ranch, CA 92694</td>\n",
              "                        <td id=\"T_60f87892_75d8_11ec_9e03_0242ac1c0002row0_col2\" class=\"data row0 col2\" ><a href=\"https://www.zillow.com/homedetails/20-Winslow-St-Ladera-Ranch-CA-92694/51669389_zpid/\">https://www.zillow.com/homedetails/20-Winslow-St-Ladera-Ranch-CA-92694/51669389_zpid/</a></td>\n",
              "                        <td id=\"T_60f87892_75d8_11ec_9e03_0242ac1c0002row0_col3\" class=\"data row0 col3\" >1700000</td>\n",
              "                        <td id=\"T_60f87892_75d8_11ec_9e03_0242ac1c0002row0_col4\" class=\"data row0 col4\" >3433</td>\n",
              "                        <td id=\"T_60f87892_75d8_11ec_9e03_0242ac1c0002row0_col5\" class=\"data row0 col5\" >9.000000</td>\n",
              "            </tr>\n",
              "            <tr>\n",
              "                                <td id=\"T_60f87892_75d8_11ec_9e03_0242ac1c0002row1_col0\" class=\"data row1 col0\" >For Sale</td>\n",
              "                        <td id=\"T_60f87892_75d8_11ec_9e03_0242ac1c0002row1_col1\" class=\"data row1 col1\" >27641 Deputy Cir, Laguna Hills, CA 92653</td>\n",
              "                        <td id=\"T_60f87892_75d8_11ec_9e03_0242ac1c0002row1_col2\" class=\"data row1 col2\" ><a href=\"https://www.zillow.com/homes/27641-Deputy-Cir,-Laguna-Hills,-CA-92653-_rb/25551152_zpid/\">https://www.zillow.com/homes/27641-Deputy-Cir,-Laguna-Hills,-CA-92653-_rb/25551152_zpid/</a></td>\n",
              "                        <td id=\"T_60f87892_75d8_11ec_9e03_0242ac1c0002row1_col3\" class=\"data row1 col3\" >3995000</td>\n",
              "                        <td id=\"T_60f87892_75d8_11ec_9e03_0242ac1c0002row1_col4\" class=\"data row1 col4\" >6742</td>\n",
              "                        <td id=\"T_60f87892_75d8_11ec_9e03_0242ac1c0002row1_col5\" class=\"data row1 col5\" >9.200000</td>\n",
              "            </tr>\n",
              "            <tr>\n",
              "                                <td id=\"T_60f87892_75d8_11ec_9e03_0242ac1c0002row2_col0\" class=\"data row2 col0\" >For Sale</td>\n",
              "                        <td id=\"T_60f87892_75d8_11ec_9e03_0242ac1c0002row2_col1\" class=\"data row2 col1\" >12 Vista Montemar, Laguna Niguel, CA 92677</td>\n",
              "                        <td id=\"T_60f87892_75d8_11ec_9e03_0242ac1c0002row2_col2\" class=\"data row2 col2\" ><a href=\"https://www.zillow.com/homedetails/12-Vista-Montemar-Laguna-Niguel-CA-92677/25572417_zpid/\">https://www.zillow.com/homedetails/12-Vista-Montemar-Laguna-Niguel-CA-92677/25572417_zpid/</a></td>\n",
              "                        <td id=\"T_60f87892_75d8_11ec_9e03_0242ac1c0002row2_col3\" class=\"data row2 col3\" >3888000</td>\n",
              "                        <td id=\"T_60f87892_75d8_11ec_9e03_0242ac1c0002row2_col4\" class=\"data row2 col4\" >5300</td>\n",
              "                        <td id=\"T_60f87892_75d8_11ec_9e03_0242ac1c0002row2_col5\" class=\"data row2 col5\" >8.400000</td>\n",
              "            </tr>\n",
              "            <tr>\n",
              "                                <td id=\"T_60f87892_75d8_11ec_9e03_0242ac1c0002row3_col0\" class=\"data row3 col0\" >For Sale</td>\n",
              "                        <td id=\"T_60f87892_75d8_11ec_9e03_0242ac1c0002row3_col1\" class=\"data row3 col1\" >21861 Montbury Dr, Lake Forest, CA 92630</td>\n",
              "                        <td id=\"T_60f87892_75d8_11ec_9e03_0242ac1c0002row3_col2\" class=\"data row3 col2\" ><a href=\"https://www.zillow.com/homes/21861-Montbury-Drive_rb/25528526_zpid/\">https://www.zillow.com/homes/21861-Montbury-Drive_rb/25528526_zpid/</a></td>\n",
              "                        <td id=\"T_60f87892_75d8_11ec_9e03_0242ac1c0002row3_col3\" class=\"data row3 col3\" >1798000</td>\n",
              "                        <td id=\"T_60f87892_75d8_11ec_9e03_0242ac1c0002row3_col4\" class=\"data row3 col4\" >3458</td>\n",
              "                        <td id=\"T_60f87892_75d8_11ec_9e03_0242ac1c0002row3_col5\" class=\"data row3 col5\" >8.000000</td>\n",
              "            </tr>\n",
              "            <tr>\n",
              "                                <td id=\"T_60f87892_75d8_11ec_9e03_0242ac1c0002row4_col0\" class=\"data row4 col0\" >For Sale</td>\n",
              "                        <td id=\"T_60f87892_75d8_11ec_9e03_0242ac1c0002row4_col1\" class=\"data row4 col1\" >23 Via Lucena, San Clemente, CA 92673</td>\n",
              "                        <td id=\"T_60f87892_75d8_11ec_9e03_0242ac1c0002row4_col2\" class=\"data row4 col2\" ><a href=\"https://www.zillow.com/homedetails/23-Via-Lucena-San-Clemente-CA-92673/69250433_zpid/\">https://www.zillow.com/homedetails/23-Via-Lucena-San-Clemente-CA-92673/69250433_zpid/</a></td>\n",
              "                        <td id=\"T_60f87892_75d8_11ec_9e03_0242ac1c0002row4_col3\" class=\"data row4 col3\" >2400000</td>\n",
              "                        <td id=\"T_60f87892_75d8_11ec_9e03_0242ac1c0002row4_col4\" class=\"data row4 col4\" >3786</td>\n",
              "                        <td id=\"T_60f87892_75d8_11ec_9e03_0242ac1c0002row4_col5\" class=\"data row4 col5\" >8.000000</td>\n",
              "            </tr>\n",
              "            <tr>\n",
              "                                <td id=\"T_60f87892_75d8_11ec_9e03_0242ac1c0002row5_col0\" class=\"data row5 col0\" >For Sale</td>\n",
              "                        <td id=\"T_60f87892_75d8_11ec_9e03_0242ac1c0002row5_col1\" class=\"data row5 col1\" >26936 Falling Leaf Dr, Laguna Hills, CA 92653</td>\n",
              "                        <td id=\"T_60f87892_75d8_11ec_9e03_0242ac1c0002row5_col2\" class=\"data row5 col2\" ><a href=\"https://www.zillow.com/homes/26936-Falling-Leaf-Dr-Laguna-Hills,-CA-92653_rb/25548202_zpid/\">https://www.zillow.com/homes/26936-Falling-Leaf-Dr-Laguna-Hills,-CA-92653_rb/25548202_zpid/</a></td>\n",
              "                        <td id=\"T_60f87892_75d8_11ec_9e03_0242ac1c0002row5_col3\" class=\"data row5 col3\" >1599000</td>\n",
              "                        <td id=\"T_60f87892_75d8_11ec_9e03_0242ac1c0002row5_col4\" class=\"data row5 col4\" >3370</td>\n",
              "                        <td id=\"T_60f87892_75d8_11ec_9e03_0242ac1c0002row5_col5\" class=\"data row5 col5\" >7.000000</td>\n",
              "            </tr>\n",
              "    </tbody></table>"
            ],
            "text/plain": [
              "<pandas.io.formats.style.Styler at 0x7f7b5a38ded0>"
            ]
          },
          "metadata": {},
          "execution_count": 40
        }
      ]
    },
    {
      "cell_type": "markdown",
      "source": [
        "## Ratings Needed"
      ],
      "metadata": {
        "id": "ILcLL_ZRIe87"
      }
    },
    {
      "cell_type": "markdown",
      "source": [
        "The following people still need to rate the following (For Sale/Coming Soon) homes:"
      ],
      "metadata": {
        "id": "n9EosnMvpYS8"
      }
    },
    {
      "cell_type": "code",
      "source": [
        "#hide_input\n",
        "raters = [c for c in hdf.columns if c[-1]=='q' and c!='aveq']\n",
        "ntrdf = hdf.query(f\"status=='For Sale' or status =='Coming Soon'\").loc[:,['home2','zillowlink']+raters].melt(id_vars = ['home2','zillowlink'],value_vars=raters).query(\"value=='NaN'\").assign(name = lambda x: x.variable.str[:-1].str.capitalize()).loc[:,['name','home2','zillowlink']] \n",
        "ntrdf.style.format({'zillowlink': lambda x: f'<a href=\"{x}\">{x}</a>'}).hide_index()\n",
        "#show(ntrdf,scrollY=\"800px\",paging=False)#.groupby('variable').home2.apply(lambda x: '<br>'.join(x) ).reset_index()\n",
        "\n"
      ],
      "metadata": {
        "colab": {
          "base_uri": "https://localhost:8080/",
          "height": 833
        },
        "id": "nfhEnp5lRaCp",
        "outputId": "a86b4c02-78ea-4dce-9f6e-af8b21840969"
      },
      "execution_count": 41,
      "outputs": [
        {
          "output_type": "execute_result",
          "data": {
            "text/html": [
              "<style  type=\"text/css\" >\n",
              "</style><table id=\"T_6105095e_75d8_11ec_9e03_0242ac1c0002\" class=\"dataframe\"><thead>    <tr>        <th class=\"col_heading level0 col0\" >name</th>        <th class=\"col_heading level0 col1\" >home2</th>        <th class=\"col_heading level0 col2\" >zillowlink</th>    </tr></thead><tbody>\n",
              "                <tr>\n",
              "                                <td id=\"T_6105095e_75d8_11ec_9e03_0242ac1c0002row0_col0\" class=\"data row0 col0\" >Kate</td>\n",
              "                        <td id=\"T_6105095e_75d8_11ec_9e03_0242ac1c0002row0_col1\" class=\"data row0 col1\" >20 Winslow St</td>\n",
              "                        <td id=\"T_6105095e_75d8_11ec_9e03_0242ac1c0002row0_col2\" class=\"data row0 col2\" ><a href=\"https://www.zillow.com/homedetails/20-Winslow-St-Ladera-Ranch-CA-92694/51669389_zpid/\">https://www.zillow.com/homedetails/20-Winslow-St-Ladera-Ranch-CA-92694/51669389_zpid/</a></td>\n",
              "            </tr>\n",
              "            <tr>\n",
              "                                <td id=\"T_6105095e_75d8_11ec_9e03_0242ac1c0002row1_col0\" class=\"data row1 col0\" >Kate</td>\n",
              "                        <td id=\"T_6105095e_75d8_11ec_9e03_0242ac1c0002row1_col1\" class=\"data row1 col1\" >21861 Montbury Dr</td>\n",
              "                        <td id=\"T_6105095e_75d8_11ec_9e03_0242ac1c0002row1_col2\" class=\"data row1 col2\" ><a href=\"https://www.zillow.com/homes/21861-Montbury-Drive_rb/25528526_zpid/\">https://www.zillow.com/homes/21861-Montbury-Drive_rb/25528526_zpid/</a></td>\n",
              "            </tr>\n",
              "            <tr>\n",
              "                                <td id=\"T_6105095e_75d8_11ec_9e03_0242ac1c0002row2_col0\" class=\"data row2 col0\" >Kate</td>\n",
              "                        <td id=\"T_6105095e_75d8_11ec_9e03_0242ac1c0002row2_col1\" class=\"data row2 col1\" >23 Via Lucena</td>\n",
              "                        <td id=\"T_6105095e_75d8_11ec_9e03_0242ac1c0002row2_col2\" class=\"data row2 col2\" ><a href=\"https://www.zillow.com/homedetails/23-Via-Lucena-San-Clemente-CA-92673/69250433_zpid/\">https://www.zillow.com/homedetails/23-Via-Lucena-San-Clemente-CA-92673/69250433_zpid/</a></td>\n",
              "            </tr>\n",
              "            <tr>\n",
              "                                <td id=\"T_6105095e_75d8_11ec_9e03_0242ac1c0002row3_col0\" class=\"data row3 col0\" >Kate</td>\n",
              "                        <td id=\"T_6105095e_75d8_11ec_9e03_0242ac1c0002row3_col1\" class=\"data row3 col1\" >63 Tessera Ave</td>\n",
              "                        <td id=\"T_6105095e_75d8_11ec_9e03_0242ac1c0002row3_col2\" class=\"data row3 col2\" ><a href=\"https://www.zillow.com/homes/63-Tessera-Ave-Foothill-Ranch,-CA-92610_rb/25523926_zpid/\">https://www.zillow.com/homes/63-Tessera-Ave-Foothill-Ranch,-CA-92610_rb/25523926_zpid/</a></td>\n",
              "            </tr>\n",
              "            <tr>\n",
              "                                <td id=\"T_6105095e_75d8_11ec_9e03_0242ac1c0002row4_col0\" class=\"data row4 col0\" >Kate</td>\n",
              "                        <td id=\"T_6105095e_75d8_11ec_9e03_0242ac1c0002row4_col1\" class=\"data row4 col1\" >25551 El Capitan Ln</td>\n",
              "                        <td id=\"T_6105095e_75d8_11ec_9e03_0242ac1c0002row4_col2\" class=\"data row4 col2\" ><a href=\"https://www.zillow.com/homedetails/25551-El-Capitan-Ln-Laguna-Hills-CA-92653/25545436_zpid/?\">https://www.zillow.com/homedetails/25551-El-Capitan-Ln-Laguna-Hills-CA-92653/25545436_zpid/?</a></td>\n",
              "            </tr>\n",
              "            <tr>\n",
              "                                <td id=\"T_6105095e_75d8_11ec_9e03_0242ac1c0002row5_col0\" class=\"data row5 col0\" >Kate</td>\n",
              "                        <td id=\"T_6105095e_75d8_11ec_9e03_0242ac1c0002row5_col1\" class=\"data row5 col1\" >26936 Falling Leaf Dr</td>\n",
              "                        <td id=\"T_6105095e_75d8_11ec_9e03_0242ac1c0002row5_col2\" class=\"data row5 col2\" ><a href=\"https://www.zillow.com/homes/26936-Falling-Leaf-Dr-Laguna-Hills,-CA-92653_rb/25548202_zpid/\">https://www.zillow.com/homes/26936-Falling-Leaf-Dr-Laguna-Hills,-CA-92653_rb/25548202_zpid/</a></td>\n",
              "            </tr>\n",
              "            <tr>\n",
              "                                <td id=\"T_6105095e_75d8_11ec_9e03_0242ac1c0002row6_col0\" class=\"data row6 col0\" >Kate</td>\n",
              "                        <td id=\"T_6105095e_75d8_11ec_9e03_0242ac1c0002row6_col1\" class=\"data row6 col1\" >26722 Cuenca Dr</td>\n",
              "                        <td id=\"T_6105095e_75d8_11ec_9e03_0242ac1c0002row6_col2\" class=\"data row6 col2\" ><a href=\"https://www.zillow.com/homes/26722-Cuenca-Drive_rb/25603347_zpid/\">https://www.zillow.com/homes/26722-Cuenca-Drive_rb/25603347_zpid/</a></td>\n",
              "            </tr>\n",
              "            <tr>\n",
              "                                <td id=\"T_6105095e_75d8_11ec_9e03_0242ac1c0002row7_col0\" class=\"data row7 col0\" >Jay</td>\n",
              "                        <td id=\"T_6105095e_75d8_11ec_9e03_0242ac1c0002row7_col1\" class=\"data row7 col1\" >20 Winslow St</td>\n",
              "                        <td id=\"T_6105095e_75d8_11ec_9e03_0242ac1c0002row7_col2\" class=\"data row7 col2\" ><a href=\"https://www.zillow.com/homedetails/20-Winslow-St-Ladera-Ranch-CA-92694/51669389_zpid/\">https://www.zillow.com/homedetails/20-Winslow-St-Ladera-Ranch-CA-92694/51669389_zpid/</a></td>\n",
              "            </tr>\n",
              "            <tr>\n",
              "                                <td id=\"T_6105095e_75d8_11ec_9e03_0242ac1c0002row8_col0\" class=\"data row8 col0\" >Jay</td>\n",
              "                        <td id=\"T_6105095e_75d8_11ec_9e03_0242ac1c0002row8_col1\" class=\"data row8 col1\" >21861 Montbury Dr</td>\n",
              "                        <td id=\"T_6105095e_75d8_11ec_9e03_0242ac1c0002row8_col2\" class=\"data row8 col2\" ><a href=\"https://www.zillow.com/homes/21861-Montbury-Drive_rb/25528526_zpid/\">https://www.zillow.com/homes/21861-Montbury-Drive_rb/25528526_zpid/</a></td>\n",
              "            </tr>\n",
              "            <tr>\n",
              "                                <td id=\"T_6105095e_75d8_11ec_9e03_0242ac1c0002row9_col0\" class=\"data row9 col0\" >Jay</td>\n",
              "                        <td id=\"T_6105095e_75d8_11ec_9e03_0242ac1c0002row9_col1\" class=\"data row9 col1\" >23 Via Lucena</td>\n",
              "                        <td id=\"T_6105095e_75d8_11ec_9e03_0242ac1c0002row9_col2\" class=\"data row9 col2\" ><a href=\"https://www.zillow.com/homedetails/23-Via-Lucena-San-Clemente-CA-92673/69250433_zpid/\">https://www.zillow.com/homedetails/23-Via-Lucena-San-Clemente-CA-92673/69250433_zpid/</a></td>\n",
              "            </tr>\n",
              "            <tr>\n",
              "                                <td id=\"T_6105095e_75d8_11ec_9e03_0242ac1c0002row10_col0\" class=\"data row10 col0\" >Jay</td>\n",
              "                        <td id=\"T_6105095e_75d8_11ec_9e03_0242ac1c0002row10_col1\" class=\"data row10 col1\" >26936 Falling Leaf Dr</td>\n",
              "                        <td id=\"T_6105095e_75d8_11ec_9e03_0242ac1c0002row10_col2\" class=\"data row10 col2\" ><a href=\"https://www.zillow.com/homes/26936-Falling-Leaf-Dr-Laguna-Hills,-CA-92653_rb/25548202_zpid/\">https://www.zillow.com/homes/26936-Falling-Leaf-Dr-Laguna-Hills,-CA-92653_rb/25548202_zpid/</a></td>\n",
              "            </tr>\n",
              "            <tr>\n",
              "                                <td id=\"T_6105095e_75d8_11ec_9e03_0242ac1c0002row11_col0\" class=\"data row11 col0\" >Jay</td>\n",
              "                        <td id=\"T_6105095e_75d8_11ec_9e03_0242ac1c0002row11_col1\" class=\"data row11 col1\" >26722 Cuenca Dr</td>\n",
              "                        <td id=\"T_6105095e_75d8_11ec_9e03_0242ac1c0002row11_col2\" class=\"data row11 col2\" ><a href=\"https://www.zillow.com/homes/26722-Cuenca-Drive_rb/25603347_zpid/\">https://www.zillow.com/homes/26722-Cuenca-Drive_rb/25603347_zpid/</a></td>\n",
              "            </tr>\n",
              "            <tr>\n",
              "                                <td id=\"T_6105095e_75d8_11ec_9e03_0242ac1c0002row12_col0\" class=\"data row12 col0\" >Tina</td>\n",
              "                        <td id=\"T_6105095e_75d8_11ec_9e03_0242ac1c0002row12_col1\" class=\"data row12 col1\" >20 Winslow St</td>\n",
              "                        <td id=\"T_6105095e_75d8_11ec_9e03_0242ac1c0002row12_col2\" class=\"data row12 col2\" ><a href=\"https://www.zillow.com/homedetails/20-Winslow-St-Ladera-Ranch-CA-92694/51669389_zpid/\">https://www.zillow.com/homedetails/20-Winslow-St-Ladera-Ranch-CA-92694/51669389_zpid/</a></td>\n",
              "            </tr>\n",
              "            <tr>\n",
              "                                <td id=\"T_6105095e_75d8_11ec_9e03_0242ac1c0002row13_col0\" class=\"data row13 col0\" >Tina</td>\n",
              "                        <td id=\"T_6105095e_75d8_11ec_9e03_0242ac1c0002row13_col1\" class=\"data row13 col1\" >21861 Montbury Dr</td>\n",
              "                        <td id=\"T_6105095e_75d8_11ec_9e03_0242ac1c0002row13_col2\" class=\"data row13 col2\" ><a href=\"https://www.zillow.com/homes/21861-Montbury-Drive_rb/25528526_zpid/\">https://www.zillow.com/homes/21861-Montbury-Drive_rb/25528526_zpid/</a></td>\n",
              "            </tr>\n",
              "            <tr>\n",
              "                                <td id=\"T_6105095e_75d8_11ec_9e03_0242ac1c0002row14_col0\" class=\"data row14 col0\" >Tina</td>\n",
              "                        <td id=\"T_6105095e_75d8_11ec_9e03_0242ac1c0002row14_col1\" class=\"data row14 col1\" >23 Via Lucena</td>\n",
              "                        <td id=\"T_6105095e_75d8_11ec_9e03_0242ac1c0002row14_col2\" class=\"data row14 col2\" ><a href=\"https://www.zillow.com/homedetails/23-Via-Lucena-San-Clemente-CA-92673/69250433_zpid/\">https://www.zillow.com/homedetails/23-Via-Lucena-San-Clemente-CA-92673/69250433_zpid/</a></td>\n",
              "            </tr>\n",
              "            <tr>\n",
              "                                <td id=\"T_6105095e_75d8_11ec_9e03_0242ac1c0002row15_col0\" class=\"data row15 col0\" >Tina</td>\n",
              "                        <td id=\"T_6105095e_75d8_11ec_9e03_0242ac1c0002row15_col1\" class=\"data row15 col1\" >63 Tessera Ave</td>\n",
              "                        <td id=\"T_6105095e_75d8_11ec_9e03_0242ac1c0002row15_col2\" class=\"data row15 col2\" ><a href=\"https://www.zillow.com/homes/63-Tessera-Ave-Foothill-Ranch,-CA-92610_rb/25523926_zpid/\">https://www.zillow.com/homes/63-Tessera-Ave-Foothill-Ranch,-CA-92610_rb/25523926_zpid/</a></td>\n",
              "            </tr>\n",
              "            <tr>\n",
              "                                <td id=\"T_6105095e_75d8_11ec_9e03_0242ac1c0002row16_col0\" class=\"data row16 col0\" >Tina</td>\n",
              "                        <td id=\"T_6105095e_75d8_11ec_9e03_0242ac1c0002row16_col1\" class=\"data row16 col1\" >25551 El Capitan Ln</td>\n",
              "                        <td id=\"T_6105095e_75d8_11ec_9e03_0242ac1c0002row16_col2\" class=\"data row16 col2\" ><a href=\"https://www.zillow.com/homedetails/25551-El-Capitan-Ln-Laguna-Hills-CA-92653/25545436_zpid/?\">https://www.zillow.com/homedetails/25551-El-Capitan-Ln-Laguna-Hills-CA-92653/25545436_zpid/?</a></td>\n",
              "            </tr>\n",
              "            <tr>\n",
              "                                <td id=\"T_6105095e_75d8_11ec_9e03_0242ac1c0002row17_col0\" class=\"data row17 col0\" >Tina</td>\n",
              "                        <td id=\"T_6105095e_75d8_11ec_9e03_0242ac1c0002row17_col1\" class=\"data row17 col1\" >26936 Falling Leaf Dr</td>\n",
              "                        <td id=\"T_6105095e_75d8_11ec_9e03_0242ac1c0002row17_col2\" class=\"data row17 col2\" ><a href=\"https://www.zillow.com/homes/26936-Falling-Leaf-Dr-Laguna-Hills,-CA-92653_rb/25548202_zpid/\">https://www.zillow.com/homes/26936-Falling-Leaf-Dr-Laguna-Hills,-CA-92653_rb/25548202_zpid/</a></td>\n",
              "            </tr>\n",
              "            <tr>\n",
              "                                <td id=\"T_6105095e_75d8_11ec_9e03_0242ac1c0002row18_col0\" class=\"data row18 col0\" >Tina</td>\n",
              "                        <td id=\"T_6105095e_75d8_11ec_9e03_0242ac1c0002row18_col1\" class=\"data row18 col1\" >26722 Cuenca Dr</td>\n",
              "                        <td id=\"T_6105095e_75d8_11ec_9e03_0242ac1c0002row18_col2\" class=\"data row18 col2\" ><a href=\"https://www.zillow.com/homes/26722-Cuenca-Drive_rb/25603347_zpid/\">https://www.zillow.com/homes/26722-Cuenca-Drive_rb/25603347_zpid/</a></td>\n",
              "            </tr>\n",
              "            <tr>\n",
              "                                <td id=\"T_6105095e_75d8_11ec_9e03_0242ac1c0002row19_col0\" class=\"data row19 col0\" >Maddy</td>\n",
              "                        <td id=\"T_6105095e_75d8_11ec_9e03_0242ac1c0002row19_col1\" class=\"data row19 col1\" >20 Winslow St</td>\n",
              "                        <td id=\"T_6105095e_75d8_11ec_9e03_0242ac1c0002row19_col2\" class=\"data row19 col2\" ><a href=\"https://www.zillow.com/homedetails/20-Winslow-St-Ladera-Ranch-CA-92694/51669389_zpid/\">https://www.zillow.com/homedetails/20-Winslow-St-Ladera-Ranch-CA-92694/51669389_zpid/</a></td>\n",
              "            </tr>\n",
              "            <tr>\n",
              "                                <td id=\"T_6105095e_75d8_11ec_9e03_0242ac1c0002row20_col0\" class=\"data row20 col0\" >Maddy</td>\n",
              "                        <td id=\"T_6105095e_75d8_11ec_9e03_0242ac1c0002row20_col1\" class=\"data row20 col1\" >21861 Montbury Dr</td>\n",
              "                        <td id=\"T_6105095e_75d8_11ec_9e03_0242ac1c0002row20_col2\" class=\"data row20 col2\" ><a href=\"https://www.zillow.com/homes/21861-Montbury-Drive_rb/25528526_zpid/\">https://www.zillow.com/homes/21861-Montbury-Drive_rb/25528526_zpid/</a></td>\n",
              "            </tr>\n",
              "            <tr>\n",
              "                                <td id=\"T_6105095e_75d8_11ec_9e03_0242ac1c0002row21_col0\" class=\"data row21 col0\" >Maddy</td>\n",
              "                        <td id=\"T_6105095e_75d8_11ec_9e03_0242ac1c0002row21_col1\" class=\"data row21 col1\" >23 Via Lucena</td>\n",
              "                        <td id=\"T_6105095e_75d8_11ec_9e03_0242ac1c0002row21_col2\" class=\"data row21 col2\" ><a href=\"https://www.zillow.com/homedetails/23-Via-Lucena-San-Clemente-CA-92673/69250433_zpid/\">https://www.zillow.com/homedetails/23-Via-Lucena-San-Clemente-CA-92673/69250433_zpid/</a></td>\n",
              "            </tr>\n",
              "            <tr>\n",
              "                                <td id=\"T_6105095e_75d8_11ec_9e03_0242ac1c0002row22_col0\" class=\"data row22 col0\" >Maddy</td>\n",
              "                        <td id=\"T_6105095e_75d8_11ec_9e03_0242ac1c0002row22_col1\" class=\"data row22 col1\" >63 Tessera Ave</td>\n",
              "                        <td id=\"T_6105095e_75d8_11ec_9e03_0242ac1c0002row22_col2\" class=\"data row22 col2\" ><a href=\"https://www.zillow.com/homes/63-Tessera-Ave-Foothill-Ranch,-CA-92610_rb/25523926_zpid/\">https://www.zillow.com/homes/63-Tessera-Ave-Foothill-Ranch,-CA-92610_rb/25523926_zpid/</a></td>\n",
              "            </tr>\n",
              "            <tr>\n",
              "                                <td id=\"T_6105095e_75d8_11ec_9e03_0242ac1c0002row23_col0\" class=\"data row23 col0\" >Maddy</td>\n",
              "                        <td id=\"T_6105095e_75d8_11ec_9e03_0242ac1c0002row23_col1\" class=\"data row23 col1\" >26936 Falling Leaf Dr</td>\n",
              "                        <td id=\"T_6105095e_75d8_11ec_9e03_0242ac1c0002row23_col2\" class=\"data row23 col2\" ><a href=\"https://www.zillow.com/homes/26936-Falling-Leaf-Dr-Laguna-Hills,-CA-92653_rb/25548202_zpid/\">https://www.zillow.com/homes/26936-Falling-Leaf-Dr-Laguna-Hills,-CA-92653_rb/25548202_zpid/</a></td>\n",
              "            </tr>\n",
              "            <tr>\n",
              "                                <td id=\"T_6105095e_75d8_11ec_9e03_0242ac1c0002row24_col0\" class=\"data row24 col0\" >Maddy</td>\n",
              "                        <td id=\"T_6105095e_75d8_11ec_9e03_0242ac1c0002row24_col1\" class=\"data row24 col1\" >26722 Cuenca Dr</td>\n",
              "                        <td id=\"T_6105095e_75d8_11ec_9e03_0242ac1c0002row24_col2\" class=\"data row24 col2\" ><a href=\"https://www.zillow.com/homes/26722-Cuenca-Drive_rb/25603347_zpid/\">https://www.zillow.com/homes/26722-Cuenca-Drive_rb/25603347_zpid/</a></td>\n",
              "            </tr>\n",
              "    </tbody></table>"
            ],
            "text/plain": [
              "<pandas.io.formats.style.Styler at 0x7f7b5a388850>"
            ]
          },
          "metadata": {},
          "execution_count": 41
        }
      ]
    },
    {
      "cell_type": "markdown",
      "source": [
        "## Plots to explore houses"
      ],
      "metadata": {
        "id": "-cQBrvaBrEnc"
      }
    },
    {
      "cell_type": "markdown",
      "source": [
        "### Plot: Rating vs Price\n",
        "A comparison of the rating vs asking price of houses are shown below, along with their current status and area. Click the corresponding unit in the legend to remove houses from the plot.  "
      ],
      "metadata": {
        "id": "VpNa5jDPgpG_"
      }
    },
    {
      "cell_type": "code",
      "source": [
        "#hide_input\n",
        "# Rating vs. Price\n",
        "filter = hdf.aveq>5 #suppress houses with lower than 5 rating\n",
        "#colorProp = \"area\"\n",
        "colorProp = \"status\"\n",
        "hovertemplate = \"<b>%{hovertext}</b><br>(%{customdata[7]})<br><br>%{customdata[0]}<br>$%{x:,} (%{customdata[3]:.0%})<br>%{customdata[5]} bed, %{customdata[6]} bath<br>%{customdata[1]} sqft<br>%{customdata[2]:,} lot size<br>$%{customdata[4]} HOA<br>%{y}<extra></extra> average rating\"\n",
        "symbol_map = {\"For Sale\":\"circle\",\n",
        "              \"Coming Soon\":\"circle\",\n",
        "              \"Off Market\":\"square\",\n",
        "              \"Pending\":\"cross\",\n",
        "              \"Under Contract\":\"cross\",\n",
        "              \"Sold\":\"x\"}\n",
        "\n",
        "fig = px.scatter(hdf[filter],x=\"price\",y=\"aveq\",text=\"home2\",size='sqft',color=\"area\",symbol=\"status\",symbol_map=symbol_map,hover_name=\"home2\",hover_data=[\"area\",\"sqft\",\"lot\",\"price\",\"delta_price\",\"hoafee\",\"bed\",\"bath\",\"status\"])\n",
        "trendline = px.scatter(hdf[filter],x=\"price\",y=\"aveq\",trendline=\"ols\",trendline_options=dict(log_x=True)).data[1]\n",
        "fig.update_traces(hovertemplate=hovertemplate)\n",
        "fig.add_traces(trendline)\n",
        "fig.update_yaxes(title_text=\"Rating (average)\")\n",
        "fig.update_traces(textposition='top center',textfont_size=10)#,marker=dict(line=dict(width=hdf[filter].delta_price*10,color='DarkSlateGrey'))) #<-- this doesn't work!\n",
        "fig.update_layout(title=\"Orange County Houses: Rating vs Price\")\n",
        "fig.add_annotation(xref=\"paper\",yref=\"paper\",x=0.5,y=0,showarrow=False,text=\"note: point size = sqft\")\n",
        "fig.write_html('H21_rating_vs_price.html')\n",
        "fig.show()"
      ],
      "metadata": {
        "id": "XgCRC4Roh9vS",
        "colab": {
          "base_uri": "https://localhost:8080/",
          "height": 542
        },
        "outputId": "facba7a0-498c-4775-9ca4-2bf3e0e6049b"
      },
      "execution_count": 42,
      "outputs": [
        {
          "output_type": "display_data",
          "data": {
            "text/html": [
              "<html>\n",
              "<head><meta charset=\"utf-8\" /></head>\n",
              "<body>\n",
              "    <div>            <script src=\"https://cdnjs.cloudflare.com/ajax/libs/mathjax/2.7.5/MathJax.js?config=TeX-AMS-MML_SVG\"></script><script type=\"text/javascript\">if (window.MathJax) {MathJax.Hub.Config({SVG: {font: \"STIX-Web\"}});}</script>                <script type=\"text/javascript\">window.PlotlyConfig = {MathJaxConfig: 'local'};</script>\n",
              "        <script src=\"https://cdn.plot.ly/plotly-2.8.3.min.js\"></script>                <div id=\"b8686fdd-79dc-47b2-ae3f-60169aaaa973\" class=\"plotly-graph-div\" style=\"height:525px; width:100%;\"></div>            <script type=\"text/javascript\">                                    window.PLOTLYENV=window.PLOTLYENV || {};                                    if (document.getElementById(\"b8686fdd-79dc-47b2-ae3f-60169aaaa973\")) {                    Plotly.newPlot(                        \"b8686fdd-79dc-47b2-ae3f-60169aaaa973\",                        [{\"customdata\":[[\"Ladera Ranch\",3433,6322,0.42,200,5,4,\"For Sale\"]],\"hovertemplate\":\"<b>%{hovertext}</b><br>(%{customdata[7]})<br><br>%{customdata[0]}<br>$%{x:,} (%{customdata[3]:.0%})<br>%{customdata[5]} bed, %{customdata[6]} bath<br>%{customdata[1]} sqft<br>%{customdata[2]:,} lot size<br>$%{customdata[4]} HOA<br>%{y}<extra></extra> average rating\",\"hovertext\":[\"20 Winslow St\"],\"legendgroup\":\"Ladera Ranch, For Sale\",\"marker\":{\"color\":\"#636efa\",\"size\":[3433],\"sizemode\":\"area\",\"sizeref\":20.5,\"symbol\":\"circle\"},\"mode\":\"markers+text\",\"name\":\"Ladera Ranch, For Sale\",\"orientation\":\"v\",\"showlegend\":true,\"text\":[\"20 Winslow St\"],\"x\":[1700000],\"xaxis\":\"x\",\"y\":[9.0],\"yaxis\":\"y\",\"type\":\"scatter\",\"textfont\":{\"size\":10},\"textposition\":\"top center\"},{\"customdata\":[[\"Ladera Ranch\",4673,8847,0.5,472,5,6,\"Pending\"],[\"Ladera Ranch\",2523,5767,0.37,226,5,3,\"Pending\"]],\"hovertemplate\":\"<b>%{hovertext}</b><br>(%{customdata[7]})<br><br>%{customdata[0]}<br>$%{x:,} (%{customdata[3]:.0%})<br>%{customdata[5]} bed, %{customdata[6]} bath<br>%{customdata[1]} sqft<br>%{customdata[2]:,} lot size<br>$%{customdata[4]} HOA<br>%{y}<extra></extra> average rating\",\"hovertext\":[\"19 Basilica Pl\",\"39 Chimney Ln\"],\"legendgroup\":\"Ladera Ranch, Pending\",\"marker\":{\"color\":\"#636efa\",\"size\":[4673,2523],\"sizemode\":\"area\",\"sizeref\":20.5,\"symbol\":\"cross\"},\"mode\":\"markers+text\",\"name\":\"Ladera Ranch, Pending\",\"orientation\":\"v\",\"showlegend\":true,\"text\":[\"19 Basilica Pl\",\"39 Chimney Ln\"],\"x\":[2699900,1299000],\"xaxis\":\"x\",\"y\":[8.0,5.3],\"yaxis\":\"y\",\"type\":\"scatter\",\"textfont\":{\"size\":10},\"textposition\":\"top center\"},{\"customdata\":[[\"Mission Viejo\",2882,11326,0.77,0,6,4,\"For Sale\"]],\"hovertemplate\":\"<b>%{hovertext}</b><br>(%{customdata[7]})<br><br>%{customdata[0]}<br>$%{x:,} (%{customdata[3]:.0%})<br>%{customdata[5]} bed, %{customdata[6]} bath<br>%{customdata[1]} sqft<br>%{customdata[2]:,} lot size<br>$%{customdata[4]} HOA<br>%{y}<extra></extra> average rating\",\"hovertext\":[\"26722 Cuenca Dr\"],\"legendgroup\":\"Mission Viejo, For Sale\",\"marker\":{\"color\":\"#EF553B\",\"size\":[2882],\"sizemode\":\"area\",\"sizeref\":20.5,\"symbol\":\"circle\"},\"mode\":\"markers+text\",\"name\":\"Mission Viejo, For Sale\",\"orientation\":\"v\",\"showlegend\":true,\"text\":[\"26722 Cuenca Dr\"],\"x\":[1595000],\"xaxis\":\"x\",\"y\":[6.0],\"yaxis\":\"y\",\"type\":\"scatter\",\"textfont\":{\"size\":10},\"textposition\":\"top center\"},{\"customdata\":[[\"Mission Viejo\",3792,9308,0.3,237,5,5,\"Pending\"],[\"Mission Viejo\",3415,7700,0.45,76,5,3,\"Pending\"],[\"Mission Viejo\",2866,5508,0.58,169,5,3,\"Pending\"]],\"hovertemplate\":\"<b>%{hovertext}</b><br>(%{customdata[7]})<br><br>%{customdata[0]}<br>$%{x:,} (%{customdata[3]:.0%})<br>%{customdata[5]} bed, %{customdata[6]} bath<br>%{customdata[1]} sqft<br>%{customdata[2]:,} lot size<br>$%{customdata[4]} HOA<br>%{y}<extra></extra> average rating\",\"hovertext\":[\"1 Wyeth St\",\"28335 Driza\",\"26192 Palmetto Pl\"],\"legendgroup\":\"Mission Viejo, Pending\",\"marker\":{\"color\":\"#EF553B\",\"size\":[3792,3415,2866],\"sizemode\":\"area\",\"sizeref\":20.5,\"symbol\":\"cross\"},\"mode\":\"markers+text\",\"name\":\"Mission Viejo, Pending\",\"orientation\":\"v\",\"showlegend\":true,\"text\":[\"1 Wyeth St\",\"28335 Driza\",\"26192 Palmetto Pl\"],\"x\":[1949900,1450000,1499000],\"xaxis\":\"x\",\"y\":[10.0,8.0,6.5],\"yaxis\":\"y\",\"type\":\"scatter\",\"textfont\":{\"size\":10},\"textposition\":\"top center\"},{\"customdata\":[[\"Mission Viejo\",3300,7474,0.54,253,5,4,\"Off Market\"]],\"hovertemplate\":\"<b>%{hovertext}</b><br>(%{customdata[7]})<br><br>%{customdata[0]}<br>$%{x:,} (%{customdata[3]:.0%})<br>%{customdata[5]} bed, %{customdata[6]} bath<br>%{customdata[1]} sqft<br>%{customdata[2]:,} lot size<br>$%{customdata[4]} HOA<br>%{y}<extra></extra> average rating\",\"hovertext\":[\"24038 Skyline\"],\"legendgroup\":\"Mission Viejo, Off Market\",\"marker\":{\"color\":\"#EF553B\",\"size\":[3300],\"sizemode\":\"area\",\"sizeref\":20.5,\"symbol\":\"square\"},\"mode\":\"markers+text\",\"name\":\"Mission Viejo, Off Market\",\"orientation\":\"v\",\"showlegend\":true,\"text\":[\"24038 Skyline\"],\"x\":[2000000],\"xaxis\":\"x\",\"y\":[7.0],\"yaxis\":\"y\",\"type\":\"scatter\",\"textfont\":{\"size\":10},\"textposition\":\"top center\"},{\"customdata\":[[\"Mission Viejo\",3906,9315,0.31,497,4,5,\"Under Contract\"]],\"hovertemplate\":\"<b>%{hovertext}</b><br>(%{customdata[7]})<br><br>%{customdata[0]}<br>$%{x:,} (%{customdata[3]:.0%})<br>%{customdata[5]} bed, %{customdata[6]} bath<br>%{customdata[1]} sqft<br>%{customdata[2]:,} lot size<br>$%{customdata[4]} HOA<br>%{y}<extra></extra> average rating\",\"hovertext\":[\"5 Christopher St\"],\"legendgroup\":\"Mission Viejo, Under Contract\",\"marker\":{\"color\":\"#EF553B\",\"size\":[3906],\"sizemode\":\"area\",\"sizeref\":20.5,\"symbol\":\"cross\"},\"mode\":\"markers+text\",\"name\":\"Mission Viejo, Under Contract\",\"orientation\":\"v\",\"showlegend\":true,\"text\":[\"5 Christopher St\"],\"x\":[2088000],\"xaxis\":\"x\",\"y\":[8.0],\"yaxis\":\"y\",\"type\":\"scatter\",\"textfont\":{\"size\":10},\"textposition\":\"top center\"},{\"customdata\":[[\"Mission Viejo\",3747,7962,0.45,253,4,3,\"Sold\"]],\"hovertemplate\":\"<b>%{hovertext}</b><br>(%{customdata[7]})<br><br>%{customdata[0]}<br>$%{x:,} (%{customdata[3]:.0%})<br>%{customdata[5]} bed, %{customdata[6]} bath<br>%{customdata[1]} sqft<br>%{customdata[2]:,} lot size<br>$%{customdata[4]} HOA<br>%{y}<extra></extra> average rating\",\"hovertext\":[\"23272 Eagle Rdg\"],\"legendgroup\":\"Mission Viejo, Sold\",\"marker\":{\"color\":\"#EF553B\",\"size\":[3747],\"sizemode\":\"area\",\"sizeref\":20.5,\"symbol\":\"x\"},\"mode\":\"markers+text\",\"name\":\"Mission Viejo, Sold\",\"orientation\":\"v\",\"showlegend\":true,\"text\":[\"23272 Eagle Rdg\"],\"x\":[1595000],\"xaxis\":\"x\",\"y\":[7.4],\"yaxis\":\"y\",\"type\":\"scatter\",\"textfont\":{\"size\":10},\"textposition\":\"top center\"},{\"customdata\":[[\"Coto De Caza\",5600,22216,0.29,225,6,7,\"Pending\"],[\"Coto De Caza\",3970,12196,0.41,235,5,5,\"Pending\"],[\"Coto De Caza\",3000,12197,0.19,235,4,3,\"Pending\"]],\"hovertemplate\":\"<b>%{hovertext}</b><br>(%{customdata[7]})<br><br>%{customdata[0]}<br>$%{x:,} (%{customdata[3]:.0%})<br>%{customdata[5]} bed, %{customdata[6]} bath<br>%{customdata[1]} sqft<br>%{customdata[2]:,} lot size<br>$%{customdata[4]} HOA<br>%{y}<extra></extra> average rating\",\"hovertext\":[\"8 Lippizaner\",\"29 Cherry Hills Dr\",\"4 Tanglewood\"],\"legendgroup\":\"Coto De Caza, Pending\",\"marker\":{\"color\":\"#00cc96\",\"size\":[5600,3970,3000],\"sizemode\":\"area\",\"sizeref\":20.5,\"symbol\":\"cross\"},\"mode\":\"markers+text\",\"name\":\"Coto De Caza, Pending\",\"orientation\":\"v\",\"showlegend\":true,\"text\":[\"8 Lippizaner\",\"29 Cherry Hills Dr\",\"4 Tanglewood\"],\"x\":[2699000,2399500,1549000],\"xaxis\":\"x\",\"y\":[10.0,7.0,6.0],\"yaxis\":\"y\",\"type\":\"scatter\",\"textfont\":{\"size\":10},\"textposition\":\"top center\"},{\"customdata\":[[\"Coto De Caza\",5177,9600,0.39,278,5,6,\"Under Contract\"],[\"Coto De Caza\",4400,13068,0.67,235,5,5,\"Under Contract\"]],\"hovertemplate\":\"<b>%{hovertext}</b><br>(%{customdata[7]})<br><br>%{customdata[0]}<br>$%{x:,} (%{customdata[3]:.0%})<br>%{customdata[5]} bed, %{customdata[6]} bath<br>%{customdata[1]} sqft<br>%{customdata[2]:,} lot size<br>$%{customdata[4]} HOA<br>%{y}<extra></extra> average rating\",\"hovertext\":[\"114 Vela Ct\",\"3 Canada Oaks\"],\"legendgroup\":\"Coto De Caza, Under Contract\",\"marker\":{\"color\":\"#00cc96\",\"size\":[5177,4400],\"sizemode\":\"area\",\"sizeref\":20.5,\"symbol\":\"cross\"},\"mode\":\"markers+text\",\"name\":\"Coto De Caza, Under Contract\",\"orientation\":\"v\",\"showlegend\":true,\"text\":[\"114 Vela Ct\",\"3 Canada Oaks\"],\"x\":[2495000,2999000],\"xaxis\":\"x\",\"y\":[8.4,7.8],\"yaxis\":\"y\",\"type\":\"scatter\",\"textfont\":{\"size\":10},\"textposition\":\"top center\"},{\"customdata\":[[\"Coto De Caza\",5000,19602,0.45,235,6,5,\"Sold\"]],\"hovertemplate\":\"<b>%{hovertext}</b><br>(%{customdata[7]})<br><br>%{customdata[0]}<br>$%{x:,} (%{customdata[3]:.0%})<br>%{customdata[5]} bed, %{customdata[6]} bath<br>%{customdata[1]} sqft<br>%{customdata[2]:,} lot size<br>$%{customdata[4]} HOA<br>%{y}<extra></extra> average rating\",\"hovertext\":[\"8 Panorama\"],\"legendgroup\":\"Coto De Caza, Sold\",\"marker\":{\"color\":\"#00cc96\",\"size\":[5000],\"sizemode\":\"area\",\"sizeref\":20.5,\"symbol\":\"x\"},\"mode\":\"markers+text\",\"name\":\"Coto De Caza, Sold\",\"orientation\":\"v\",\"showlegend\":true,\"text\":[\"8 Panorama\"],\"x\":[2899000],\"xaxis\":\"x\",\"y\":[8.4],\"yaxis\":\"y\",\"type\":\"scatter\",\"textfont\":{\"size\":10},\"textposition\":\"top center\"},{\"customdata\":[[\"Laguna Hills\",6742,28314,0.48,157,6,6,\"For Sale\"],[\"Laguna Hills\",2841,8190,0.75,0,4,3,\"For Sale\"],[\"Laguna Hills\",3370,7701,0.33,130,5,3,\"For Sale\"]],\"hovertemplate\":\"<b>%{hovertext}</b><br>(%{customdata[7]})<br><br>%{customdata[0]}<br>$%{x:,} (%{customdata[3]:.0%})<br>%{customdata[5]} bed, %{customdata[6]} bath<br>%{customdata[1]} sqft<br>%{customdata[2]:,} lot size<br>$%{customdata[4]} HOA<br>%{y}<extra></extra> average rating\",\"hovertext\":[\"27641 Deputy Cir\",\"25551 El Capitan Ln\",\"26936 Falling Leaf Dr\"],\"legendgroup\":\"Laguna Hills, For Sale\",\"marker\":{\"color\":\"#ab63fa\",\"size\":[6742,2841,3370],\"sizemode\":\"area\",\"sizeref\":20.5,\"symbol\":\"circle\"},\"mode\":\"markers+text\",\"name\":\"Laguna Hills, For Sale\",\"orientation\":\"v\",\"showlegend\":true,\"text\":[\"27641 Deputy Cir\",\"25551 El Capitan Ln\",\"26936 Falling Leaf Dr\"],\"x\":[3995000,1520000,1599000],\"xaxis\":\"x\",\"y\":[9.2,6.0,7.0],\"yaxis\":\"y\",\"type\":\"scatter\",\"textfont\":{\"size\":10},\"textposition\":\"top center\"},{\"customdata\":[[\"Laguna Hills\",7372,15681,0.3,113,8,11,\"Pending\"],[\"Laguna Hills\",4000,21780,0.22,147,5,5,\"Pending\"],[\"Laguna Hills\",6799,82764,0.0,471,6,7,\"Pending\"],[\"Laguna Hills\",2650,10150,0.62,0,4,3,\"Pending\"]],\"hovertemplate\":\"<b>%{hovertext}</b><br>(%{customdata[7]})<br><br>%{customdata[0]}<br>$%{x:,} (%{customdata[3]:.0%})<br>%{customdata[5]} bed, %{customdata[6]} bath<br>%{customdata[1]} sqft<br>%{customdata[2]:,} lot size<br>$%{customdata[4]} HOA<br>%{y}<extra></extra> average rating\",\"hovertext\":[\"26041 Spur Branch Ln\",\"27773 Hidden Trail Rd\",\"25731 Bucklestone Dr\",\"25491 El Conejo Ln\"],\"legendgroup\":\"Laguna Hills, Pending\",\"marker\":{\"color\":\"#ab63fa\",\"size\":[7372,4000,6799,2650],\"sizemode\":\"area\",\"sizeref\":20.5,\"symbol\":\"cross\"},\"mode\":\"markers+text\",\"name\":\"Laguna Hills, Pending\",\"orientation\":\"v\",\"showlegend\":true,\"text\":[\"26041 Spur Branch Ln\",\"27773 Hidden Trail Rd\",\"25731 Bucklestone Dr\",\"25491 El Conejo Ln\"],\"x\":[2999999,2199000,2500000,1395000],\"xaxis\":\"x\",\"y\":[10.0,8.5,8.3,5.3],\"yaxis\":\"y\",\"type\":\"scatter\",\"textfont\":{\"size\":10},\"textposition\":\"top center\"},{\"customdata\":[[\"Laguna Niguel\",5300,15246,0.39,336,5,6,\"For Sale\"]],\"hovertemplate\":\"<b>%{hovertext}</b><br>(%{customdata[7]})<br><br>%{customdata[0]}<br>$%{x:,} (%{customdata[3]:.0%})<br>%{customdata[5]} bed, %{customdata[6]} bath<br>%{customdata[1]} sqft<br>%{customdata[2]:,} lot size<br>$%{customdata[4]} HOA<br>%{y}<extra></extra> average rating\",\"hovertext\":[\"12 Vista Montemar\"],\"legendgroup\":\"Laguna Niguel, For Sale\",\"marker\":{\"color\":\"#FFA15A\",\"size\":[5300],\"sizemode\":\"area\",\"sizeref\":20.5,\"symbol\":\"circle\"},\"mode\":\"markers+text\",\"name\":\"Laguna Niguel, For Sale\",\"orientation\":\"v\",\"showlegend\":true,\"text\":[\"12 Vista Montemar\"],\"x\":[3888000],\"xaxis\":\"x\",\"y\":[8.4],\"yaxis\":\"y\",\"type\":\"scatter\",\"textfont\":{\"size\":10},\"textposition\":\"top center\"},{\"customdata\":[[\"Laguna Niguel\",3690,7800,0.62,350,5,5,\"Pending\"],[\"Laguna Niguel\",4075,13068,0.09,0,4,4,\"Pending\"],[\"Laguna Niguel\",2625,7800,0.36,155,4,3,\"Pending\"],[\"Laguna Niguel\",3284,7258,0.43,190,5,4,\"Pending\"]],\"hovertemplate\":\"<b>%{hovertext}</b><br>(%{customdata[7]})<br><br>%{customdata[0]}<br>$%{x:,} (%{customdata[3]:.0%})<br>%{customdata[5]} bed, %{customdata[6]} bath<br>%{customdata[1]} sqft<br>%{customdata[2]:,} lot size<br>$%{customdata[4]} HOA<br>%{y}<extra></extra> average rating\",\"hovertext\":[\"35 Hastings\",\"24711 Crown Royale\",\"4 Bastia\",\"27856 Homestead Rd\"],\"legendgroup\":\"Laguna Niguel, Pending\",\"marker\":{\"color\":\"#FFA15A\",\"size\":[3690,4075,2625,3284],\"sizemode\":\"area\",\"sizeref\":20.5,\"symbol\":\"cross\"},\"mode\":\"markers+text\",\"name\":\"Laguna Niguel, Pending\",\"orientation\":\"v\",\"showlegend\":true,\"text\":[\"35 Hastings\",\"24711 Crown Royale\",\"4 Bastia\",\"27856 Homestead Rd\"],\"x\":[2750000,1750000,1500000,2000000],\"xaxis\":\"x\",\"y\":[8.0,7.2,7.0,5.3],\"yaxis\":\"y\",\"type\":\"scatter\",\"textfont\":{\"size\":10},\"textposition\":\"top center\"},{\"customdata\":[[\"Laguna Niguel\",8200,19166,0.97,0,7,11,\"Off Market\"]],\"hovertemplate\":\"<b>%{hovertext}</b><br>(%{customdata[7]})<br><br>%{customdata[0]}<br>$%{x:,} (%{customdata[3]:.0%})<br>%{customdata[5]} bed, %{customdata[6]} bath<br>%{customdata[1]} sqft<br>%{customdata[2]:,} lot size<br>$%{customdata[4]} HOA<br>%{y}<extra></extra> average rating\",\"hovertext\":[\"30752 Paseo Del Niguel\"],\"legendgroup\":\"Laguna Niguel, Off Market\",\"marker\":{\"color\":\"#FFA15A\",\"size\":[8200],\"sizemode\":\"area\",\"sizeref\":20.5,\"symbol\":\"square\"},\"mode\":\"markers+text\",\"name\":\"Laguna Niguel, Off Market\",\"orientation\":\"v\",\"showlegend\":true,\"text\":[\"30752 Paseo Del Niguel\"],\"x\":[5900000],\"xaxis\":\"x\",\"y\":[9.6],\"yaxis\":\"y\",\"type\":\"scatter\",\"textfont\":{\"size\":10},\"textposition\":\"top center\"},{\"customdata\":[[\"Laguna Niguel\",3800,8170,0.66,280,5,5,\"Under Contract\"]],\"hovertemplate\":\"<b>%{hovertext}</b><br>(%{customdata[7]})<br><br>%{customdata[0]}<br>$%{x:,} (%{customdata[3]:.0%})<br>%{customdata[5]} bed, %{customdata[6]} bath<br>%{customdata[1]} sqft<br>%{customdata[2]:,} lot size<br>$%{customdata[4]} HOA<br>%{y}<extra></extra> average rating\",\"hovertext\":[\"28811 Drakes Bay\"],\"legendgroup\":\"Laguna Niguel, Under Contract\",\"marker\":{\"color\":\"#FFA15A\",\"size\":[3800],\"sizemode\":\"area\",\"sizeref\":20.5,\"symbol\":\"cross\"},\"mode\":\"markers+text\",\"name\":\"Laguna Niguel, Under Contract\",\"orientation\":\"v\",\"showlegend\":true,\"text\":[\"28811 Drakes Bay\"],\"x\":[2495000],\"xaxis\":\"x\",\"y\":[6.5],\"yaxis\":\"y\",\"type\":\"scatter\",\"textfont\":{\"size\":10},\"textposition\":\"top center\"},{\"customdata\":[[\"San Juan Capistrano\",5387,22651,0.17,350,5,5,\"Off Market\"]],\"hovertemplate\":\"<b>%{hovertext}</b><br>(%{customdata[7]})<br><br>%{customdata[0]}<br>$%{x:,} (%{customdata[3]:.0%})<br>%{customdata[5]} bed, %{customdata[6]} bath<br>%{customdata[1]} sqft<br>%{customdata[2]:,} lot size<br>$%{customdata[4]} HOA<br>%{y}<extra></extra> average rating\",\"hovertext\":[\"27826 Golden Ridge Ln\"],\"legendgroup\":\"San Juan Capistrano, Off Market\",\"marker\":{\"color\":\"#19d3f3\",\"size\":[5387],\"sizemode\":\"area\",\"sizeref\":20.5,\"symbol\":\"square\"},\"mode\":\"markers+text\",\"name\":\"San Juan Capistrano, Off Market\",\"orientation\":\"v\",\"showlegend\":true,\"text\":[\"27826 Golden Ridge Ln\"],\"x\":[2925000],\"xaxis\":\"x\",\"y\":[7.6],\"yaxis\":\"y\",\"type\":\"scatter\",\"textfont\":{\"size\":10},\"textposition\":\"top center\"},{\"customdata\":[[\"San Juan Capistrano\",4473,11761,0.47,325,5,5,\"Under Contract\"]],\"hovertemplate\":\"<b>%{hovertext}</b><br>(%{customdata[7]})<br><br>%{customdata[0]}<br>$%{x:,} (%{customdata[3]:.0%})<br>%{customdata[5]} bed, %{customdata[6]} bath<br>%{customdata[1]} sqft<br>%{customdata[2]:,} lot size<br>$%{customdata[4]} HOA<br>%{y}<extra></extra> average rating\",\"hovertext\":[\"32162 Calle Los Elegantes\"],\"legendgroup\":\"San Juan Capistrano, Under Contract\",\"marker\":{\"color\":\"#19d3f3\",\"size\":[4473],\"sizemode\":\"area\",\"sizeref\":20.5,\"symbol\":\"cross\"},\"mode\":\"markers+text\",\"name\":\"San Juan Capistrano, Under Contract\",\"orientation\":\"v\",\"showlegend\":true,\"text\":[\"32162 Calle Los Elegantes\"],\"x\":[2199000],\"xaxis\":\"x\",\"y\":[9.0],\"yaxis\":\"y\",\"type\":\"scatter\",\"textfont\":{\"size\":10},\"textposition\":\"top center\"},{\"customdata\":[[\"San Juan Capistrano\",3000,12632,0.66,205,4,4,\"Sold\"]],\"hovertemplate\":\"<b>%{hovertext}</b><br>(%{customdata[7]})<br><br>%{customdata[0]}<br>$%{x:,} (%{customdata[3]:.0%})<br>%{customdata[5]} bed, %{customdata[6]} bath<br>%{customdata[1]} sqft<br>%{customdata[2]:,} lot size<br>$%{customdata[4]} HOA<br>%{y}<extra></extra> average rating\",\"hovertext\":[\"28242 Las Brisas Del Mar\"],\"legendgroup\":\"San Juan Capistrano, Sold\",\"marker\":{\"color\":\"#19d3f3\",\"size\":[3000],\"sizemode\":\"area\",\"sizeref\":20.5,\"symbol\":\"x\"},\"mode\":\"markers+text\",\"name\":\"San Juan Capistrano, Sold\",\"orientation\":\"v\",\"showlegend\":true,\"text\":[\"28242 Las Brisas Del Mar\"],\"x\":[2489000],\"xaxis\":\"x\",\"y\":[5.6],\"yaxis\":\"y\",\"type\":\"scatter\",\"textfont\":{\"size\":10},\"textposition\":\"top center\"},{\"customdata\":[[\"Lake Forest\",3458,9350,0.63,175,5,4,\"For Sale\"],[\"Lake Forest\",2672,5663,0.71,125,5,4,\"For Sale\"]],\"hovertemplate\":\"<b>%{hovertext}</b><br>(%{customdata[7]})<br><br>%{customdata[0]}<br>$%{x:,} (%{customdata[3]:.0%})<br>%{customdata[5]} bed, %{customdata[6]} bath<br>%{customdata[1]} sqft<br>%{customdata[2]:,} lot size<br>$%{customdata[4]} HOA<br>%{y}<extra></extra> average rating\",\"hovertext\":[\"21861 Montbury Dr\",\"21422 Via Floresta\"],\"legendgroup\":\"Lake Forest, For Sale\",\"marker\":{\"color\":\"#FF6692\",\"size\":[3458,2672],\"sizemode\":\"area\",\"sizeref\":20.5,\"symbol\":\"circle\"},\"mode\":\"markers+text\",\"name\":\"Lake Forest, For Sale\",\"orientation\":\"v\",\"showlegend\":true,\"text\":[\"21861 Montbury Dr\",\"21422 Via Floresta\"],\"x\":[1798000,1400000],\"xaxis\":\"x\",\"y\":[8.0,5.4],\"yaxis\":\"y\",\"type\":\"scatter\",\"textfont\":{\"size\":10},\"textposition\":\"top center\"},{\"customdata\":[[\"San Clemente\",3786,9778,0.71,215,5,5,\"For Sale\"]],\"hovertemplate\":\"<b>%{hovertext}</b><br>(%{customdata[7]})<br><br>%{customdata[0]}<br>$%{x:,} (%{customdata[3]:.0%})<br>%{customdata[5]} bed, %{customdata[6]} bath<br>%{customdata[1]} sqft<br>%{customdata[2]:,} lot size<br>$%{customdata[4]} HOA<br>%{y}<extra></extra> average rating\",\"hovertext\":[\"23 Via Lucena\"],\"legendgroup\":\"San Clemente, For Sale\",\"marker\":{\"color\":\"#B6E880\",\"size\":[3786],\"sizemode\":\"area\",\"sizeref\":20.5,\"symbol\":\"circle\"},\"mode\":\"markers+text\",\"name\":\"San Clemente, For Sale\",\"orientation\":\"v\",\"showlegend\":true,\"text\":[\"23 Via Lucena\"],\"x\":[2400000],\"xaxis\":\"x\",\"y\":[8.0],\"yaxis\":\"y\",\"type\":\"scatter\",\"textfont\":{\"size\":10},\"textposition\":\"top center\"},{\"customdata\":[[\"Orange\",2936,8000,0.68,0,4,3,\"Under Contract\"]],\"hovertemplate\":\"<b>%{hovertext}</b><br>(%{customdata[7]})<br><br>%{customdata[0]}<br>$%{x:,} (%{customdata[3]:.0%})<br>%{customdata[5]} bed, %{customdata[6]} bath<br>%{customdata[1]} sqft<br>%{customdata[2]:,} lot size<br>$%{customdata[4]} HOA<br>%{y}<extra></extra> average rating\",\"hovertext\":[\"2110 E Vista Mesa Way\"],\"legendgroup\":\"Orange, Under Contract\",\"marker\":{\"color\":\"#FF97FF\",\"size\":[2936],\"sizemode\":\"area\",\"sizeref\":20.5,\"symbol\":\"cross\"},\"mode\":\"markers+text\",\"name\":\"Orange, Under Contract\",\"orientation\":\"v\",\"showlegend\":true,\"text\":[\"2110 E Vista Mesa Way\"],\"x\":[1499000],\"xaxis\":\"x\",\"y\":[7.0],\"yaxis\":\"y\",\"type\":\"scatter\",\"textfont\":{\"size\":10},\"textposition\":\"top center\"},{\"customdata\":[[\"Irvine\",3066,5972,0.38,490,4,4,\"For Sale\"]],\"hovertemplate\":\"<b>%{hovertext}</b><br>(%{customdata[7]})<br><br>%{customdata[0]}<br>$%{x:,} (%{customdata[3]:.0%})<br>%{customdata[5]} bed, %{customdata[6]} bath<br>%{customdata[1]} sqft<br>%{customdata[2]:,} lot size<br>$%{customdata[4]} HOA<br>%{y}<extra></extra> average rating\",\"hovertext\":[\"24 Trumpet Vine\"],\"legendgroup\":\"Irvine, For Sale\",\"marker\":{\"color\":\"#FECB52\",\"size\":[3066],\"sizemode\":\"area\",\"sizeref\":20.5,\"symbol\":\"circle\"},\"mode\":\"markers+text\",\"name\":\"Irvine, For Sale\",\"orientation\":\"v\",\"showlegend\":true,\"text\":[\"24 Trumpet Vine\"],\"x\":[2895000],\"xaxis\":\"x\",\"y\":[5.6],\"yaxis\":\"y\",\"type\":\"scatter\",\"textfont\":{\"size\":10},\"textposition\":\"top center\"},{\"customdata\":[[\"Irvine\",4106,9558,0.47,215,4,5,\"Pending\"]],\"hovertemplate\":\"<b>%{hovertext}</b><br>(%{customdata[7]})<br><br>%{customdata[0]}<br>$%{x:,} (%{customdata[3]:.0%})<br>%{customdata[5]} bed, %{customdata[6]} bath<br>%{customdata[1]} sqft<br>%{customdata[2]:,} lot size<br>$%{customdata[4]} HOA<br>%{y}<extra></extra> average rating\",\"hovertext\":[\"116 Crossover\"],\"legendgroup\":\"Irvine, Pending\",\"marker\":{\"color\":\"#FECB52\",\"size\":[4106],\"sizemode\":\"area\",\"sizeref\":20.5,\"symbol\":\"cross\"},\"mode\":\"markers+text\",\"name\":\"Irvine, Pending\",\"orientation\":\"v\",\"showlegend\":true,\"text\":[\"116 Crossover\"],\"x\":[2800000],\"xaxis\":\"x\",\"y\":[6.8],\"yaxis\":\"y\",\"type\":\"scatter\",\"textfont\":{\"size\":10},\"textposition\":\"top center\"},{\"customdata\":[[\"Dana Point\",3630,12632,0.17,260,5,5,\"Sold\"]],\"hovertemplate\":\"<b>%{hovertext}</b><br>(%{customdata[7]})<br><br>%{customdata[0]}<br>$%{x:,} (%{customdata[3]:.0%})<br>%{customdata[5]} bed, %{customdata[6]} bath<br>%{customdata[1]} sqft<br>%{customdata[2]:,} lot size<br>$%{customdata[4]} HOA<br>%{y}<extra></extra> average rating\",\"hovertext\":[\"32761 Ocean Vista Ct\"],\"legendgroup\":\"Dana Point, Sold\",\"marker\":{\"color\":\"#636efa\",\"size\":[3630],\"sizemode\":\"area\",\"sizeref\":20.5,\"symbol\":\"x\"},\"mode\":\"markers+text\",\"name\":\"Dana Point, Sold\",\"orientation\":\"v\",\"showlegend\":true,\"text\":[\"32761 Ocean Vista Ct\"],\"x\":[2330000],\"xaxis\":\"x\",\"y\":[6.2],\"yaxis\":\"y\",\"type\":\"scatter\",\"textfont\":{\"size\":10},\"textposition\":\"top center\"},{\"customdata\":[[\"Foothill Ranch\",2882,5100,0.44,84,5,3,\"For Sale\"]],\"hovertemplate\":\"<b>%{hovertext}</b><br>(%{customdata[7]})<br><br>%{customdata[0]}<br>$%{x:,} (%{customdata[3]:.0%})<br>%{customdata[5]} bed, %{customdata[6]} bath<br>%{customdata[1]} sqft<br>%{customdata[2]:,} lot size<br>$%{customdata[4]} HOA<br>%{y}<extra></extra> average rating\",\"hovertext\":[\"63 Tessera Ave\"],\"legendgroup\":\"Foothill Ranch, For Sale\",\"marker\":{\"color\":\"#EF553B\",\"size\":[2882],\"sizemode\":\"area\",\"sizeref\":20.5,\"symbol\":\"circle\"},\"mode\":\"markers+text\",\"name\":\"Foothill Ranch, For Sale\",\"orientation\":\"v\",\"showlegend\":true,\"text\":[\"63 Tessera Ave\"],\"x\":[1435000],\"xaxis\":\"x\",\"y\":[6.0],\"yaxis\":\"y\",\"type\":\"scatter\",\"textfont\":{\"size\":10},\"textposition\":\"top center\"},{\"hovertemplate\":\"<b>OLS trendline</b><br>aveq = 5.05731 * log10(price) + -24.6028<br>R<sup>2</sup>=0.288233<br><br>price=%{x}<br>aveq=%{y} <b>(trend)</b><extra></extra>\",\"legendgroup\":\"\",\"marker\":{\"color\":\"#636efa\",\"symbol\":\"circle\"},\"mode\":\"lines\",\"name\":\"\",\"showlegend\":false,\"x\":[1299000,1395000,1400000,1435000,1450000,1499000,1499000,1500000,1520000,1549000,1595000,1595000,1599000,1700000,1750000,1798000,1949900,2000000,2000000,2088000,2199000,2199000,2330000,2399500,2400000,2489000,2495000,2495000,2500000,2699000,2699900,2750000,2800000,2895000,2899000,2925000,2999000,2999999,3888000,3995000,5900000],\"xaxis\":\"x\",\"y\":[6.315620913100457,6.472220955590991,6.480079153469031,6.534313117938954,6.557152463750878,6.630147879233661,6.630147879233661,6.63161261017423,6.660703948902668,6.702213529102423,6.766488308073207,6.766488308073207,6.771989535655475,6.906516426976438,6.970183608369286,7.029615346182787,7.207747389148217,7.263467147189374,7.263467147189374,7.358041458147522,7.471804417289473,7.471804417289473,7.598898239254279,7.663454020891098,7.663911644387699,7.743886277273408,7.74917447556798,7.74917447556798,7.753571602089625,7.921792440656869,7.922524711151187,7.962907446411958,8.002482642582752,8.075765850174346,8.078798455369945,8.098408978184384,8.15328385591928,8.154015367166505,8.723495053867776,8.783123464007513,9.639505039393281],\"yaxis\":\"y\",\"type\":\"scatter\",\"textfont\":{\"size\":10},\"textposition\":\"top center\"}],                        {\"template\":{\"data\":{\"bar\":[{\"error_x\":{\"color\":\"#2a3f5f\"},\"error_y\":{\"color\":\"#2a3f5f\"},\"marker\":{\"line\":{\"color\":\"#E5ECF6\",\"width\":0.5},\"pattern\":{\"fillmode\":\"overlay\",\"size\":10,\"solidity\":0.2}},\"type\":\"bar\"}],\"barpolar\":[{\"marker\":{\"line\":{\"color\":\"#E5ECF6\",\"width\":0.5},\"pattern\":{\"fillmode\":\"overlay\",\"size\":10,\"solidity\":0.2}},\"type\":\"barpolar\"}],\"carpet\":[{\"aaxis\":{\"endlinecolor\":\"#2a3f5f\",\"gridcolor\":\"white\",\"linecolor\":\"white\",\"minorgridcolor\":\"white\",\"startlinecolor\":\"#2a3f5f\"},\"baxis\":{\"endlinecolor\":\"#2a3f5f\",\"gridcolor\":\"white\",\"linecolor\":\"white\",\"minorgridcolor\":\"white\",\"startlinecolor\":\"#2a3f5f\"},\"type\":\"carpet\"}],\"choropleth\":[{\"colorbar\":{\"outlinewidth\":0,\"ticks\":\"\"},\"type\":\"choropleth\"}],\"contour\":[{\"colorbar\":{\"outlinewidth\":0,\"ticks\":\"\"},\"colorscale\":[[0.0,\"#0d0887\"],[0.1111111111111111,\"#46039f\"],[0.2222222222222222,\"#7201a8\"],[0.3333333333333333,\"#9c179e\"],[0.4444444444444444,\"#bd3786\"],[0.5555555555555556,\"#d8576b\"],[0.6666666666666666,\"#ed7953\"],[0.7777777777777778,\"#fb9f3a\"],[0.8888888888888888,\"#fdca26\"],[1.0,\"#f0f921\"]],\"type\":\"contour\"}],\"contourcarpet\":[{\"colorbar\":{\"outlinewidth\":0,\"ticks\":\"\"},\"type\":\"contourcarpet\"}],\"heatmap\":[{\"colorbar\":{\"outlinewidth\":0,\"ticks\":\"\"},\"colorscale\":[[0.0,\"#0d0887\"],[0.1111111111111111,\"#46039f\"],[0.2222222222222222,\"#7201a8\"],[0.3333333333333333,\"#9c179e\"],[0.4444444444444444,\"#bd3786\"],[0.5555555555555556,\"#d8576b\"],[0.6666666666666666,\"#ed7953\"],[0.7777777777777778,\"#fb9f3a\"],[0.8888888888888888,\"#fdca26\"],[1.0,\"#f0f921\"]],\"type\":\"heatmap\"}],\"heatmapgl\":[{\"colorbar\":{\"outlinewidth\":0,\"ticks\":\"\"},\"colorscale\":[[0.0,\"#0d0887\"],[0.1111111111111111,\"#46039f\"],[0.2222222222222222,\"#7201a8\"],[0.3333333333333333,\"#9c179e\"],[0.4444444444444444,\"#bd3786\"],[0.5555555555555556,\"#d8576b\"],[0.6666666666666666,\"#ed7953\"],[0.7777777777777778,\"#fb9f3a\"],[0.8888888888888888,\"#fdca26\"],[1.0,\"#f0f921\"]],\"type\":\"heatmapgl\"}],\"histogram\":[{\"marker\":{\"pattern\":{\"fillmode\":\"overlay\",\"size\":10,\"solidity\":0.2}},\"type\":\"histogram\"}],\"histogram2d\":[{\"colorbar\":{\"outlinewidth\":0,\"ticks\":\"\"},\"colorscale\":[[0.0,\"#0d0887\"],[0.1111111111111111,\"#46039f\"],[0.2222222222222222,\"#7201a8\"],[0.3333333333333333,\"#9c179e\"],[0.4444444444444444,\"#bd3786\"],[0.5555555555555556,\"#d8576b\"],[0.6666666666666666,\"#ed7953\"],[0.7777777777777778,\"#fb9f3a\"],[0.8888888888888888,\"#fdca26\"],[1.0,\"#f0f921\"]],\"type\":\"histogram2d\"}],\"histogram2dcontour\":[{\"colorbar\":{\"outlinewidth\":0,\"ticks\":\"\"},\"colorscale\":[[0.0,\"#0d0887\"],[0.1111111111111111,\"#46039f\"],[0.2222222222222222,\"#7201a8\"],[0.3333333333333333,\"#9c179e\"],[0.4444444444444444,\"#bd3786\"],[0.5555555555555556,\"#d8576b\"],[0.6666666666666666,\"#ed7953\"],[0.7777777777777778,\"#fb9f3a\"],[0.8888888888888888,\"#fdca26\"],[1.0,\"#f0f921\"]],\"type\":\"histogram2dcontour\"}],\"mesh3d\":[{\"colorbar\":{\"outlinewidth\":0,\"ticks\":\"\"},\"type\":\"mesh3d\"}],\"parcoords\":[{\"line\":{\"colorbar\":{\"outlinewidth\":0,\"ticks\":\"\"}},\"type\":\"parcoords\"}],\"pie\":[{\"automargin\":true,\"type\":\"pie\"}],\"scatter\":[{\"marker\":{\"colorbar\":{\"outlinewidth\":0,\"ticks\":\"\"}},\"type\":\"scatter\"}],\"scatter3d\":[{\"line\":{\"colorbar\":{\"outlinewidth\":0,\"ticks\":\"\"}},\"marker\":{\"colorbar\":{\"outlinewidth\":0,\"ticks\":\"\"}},\"type\":\"scatter3d\"}],\"scattercarpet\":[{\"marker\":{\"colorbar\":{\"outlinewidth\":0,\"ticks\":\"\"}},\"type\":\"scattercarpet\"}],\"scattergeo\":[{\"marker\":{\"colorbar\":{\"outlinewidth\":0,\"ticks\":\"\"}},\"type\":\"scattergeo\"}],\"scattergl\":[{\"marker\":{\"colorbar\":{\"outlinewidth\":0,\"ticks\":\"\"}},\"type\":\"scattergl\"}],\"scattermapbox\":[{\"marker\":{\"colorbar\":{\"outlinewidth\":0,\"ticks\":\"\"}},\"type\":\"scattermapbox\"}],\"scatterpolar\":[{\"marker\":{\"colorbar\":{\"outlinewidth\":0,\"ticks\":\"\"}},\"type\":\"scatterpolar\"}],\"scatterpolargl\":[{\"marker\":{\"colorbar\":{\"outlinewidth\":0,\"ticks\":\"\"}},\"type\":\"scatterpolargl\"}],\"scatterternary\":[{\"marker\":{\"colorbar\":{\"outlinewidth\":0,\"ticks\":\"\"}},\"type\":\"scatterternary\"}],\"surface\":[{\"colorbar\":{\"outlinewidth\":0,\"ticks\":\"\"},\"colorscale\":[[0.0,\"#0d0887\"],[0.1111111111111111,\"#46039f\"],[0.2222222222222222,\"#7201a8\"],[0.3333333333333333,\"#9c179e\"],[0.4444444444444444,\"#bd3786\"],[0.5555555555555556,\"#d8576b\"],[0.6666666666666666,\"#ed7953\"],[0.7777777777777778,\"#fb9f3a\"],[0.8888888888888888,\"#fdca26\"],[1.0,\"#f0f921\"]],\"type\":\"surface\"}],\"table\":[{\"cells\":{\"fill\":{\"color\":\"#EBF0F8\"},\"line\":{\"color\":\"white\"}},\"header\":{\"fill\":{\"color\":\"#C8D4E3\"},\"line\":{\"color\":\"white\"}},\"type\":\"table\"}]},\"layout\":{\"annotationdefaults\":{\"arrowcolor\":\"#2a3f5f\",\"arrowhead\":0,\"arrowwidth\":1},\"autotypenumbers\":\"strict\",\"coloraxis\":{\"colorbar\":{\"outlinewidth\":0,\"ticks\":\"\"}},\"colorscale\":{\"diverging\":[[0,\"#8e0152\"],[0.1,\"#c51b7d\"],[0.2,\"#de77ae\"],[0.3,\"#f1b6da\"],[0.4,\"#fde0ef\"],[0.5,\"#f7f7f7\"],[0.6,\"#e6f5d0\"],[0.7,\"#b8e186\"],[0.8,\"#7fbc41\"],[0.9,\"#4d9221\"],[1,\"#276419\"]],\"sequential\":[[0.0,\"#0d0887\"],[0.1111111111111111,\"#46039f\"],[0.2222222222222222,\"#7201a8\"],[0.3333333333333333,\"#9c179e\"],[0.4444444444444444,\"#bd3786\"],[0.5555555555555556,\"#d8576b\"],[0.6666666666666666,\"#ed7953\"],[0.7777777777777778,\"#fb9f3a\"],[0.8888888888888888,\"#fdca26\"],[1.0,\"#f0f921\"]],\"sequentialminus\":[[0.0,\"#0d0887\"],[0.1111111111111111,\"#46039f\"],[0.2222222222222222,\"#7201a8\"],[0.3333333333333333,\"#9c179e\"],[0.4444444444444444,\"#bd3786\"],[0.5555555555555556,\"#d8576b\"],[0.6666666666666666,\"#ed7953\"],[0.7777777777777778,\"#fb9f3a\"],[0.8888888888888888,\"#fdca26\"],[1.0,\"#f0f921\"]]},\"colorway\":[\"#636efa\",\"#EF553B\",\"#00cc96\",\"#ab63fa\",\"#FFA15A\",\"#19d3f3\",\"#FF6692\",\"#B6E880\",\"#FF97FF\",\"#FECB52\"],\"font\":{\"color\":\"#2a3f5f\"},\"geo\":{\"bgcolor\":\"white\",\"lakecolor\":\"white\",\"landcolor\":\"#E5ECF6\",\"showlakes\":true,\"showland\":true,\"subunitcolor\":\"white\"},\"hoverlabel\":{\"align\":\"left\"},\"hovermode\":\"closest\",\"mapbox\":{\"style\":\"light\"},\"paper_bgcolor\":\"white\",\"plot_bgcolor\":\"#E5ECF6\",\"polar\":{\"angularaxis\":{\"gridcolor\":\"white\",\"linecolor\":\"white\",\"ticks\":\"\"},\"bgcolor\":\"#E5ECF6\",\"radialaxis\":{\"gridcolor\":\"white\",\"linecolor\":\"white\",\"ticks\":\"\"}},\"scene\":{\"xaxis\":{\"backgroundcolor\":\"#E5ECF6\",\"gridcolor\":\"white\",\"gridwidth\":2,\"linecolor\":\"white\",\"showbackground\":true,\"ticks\":\"\",\"zerolinecolor\":\"white\"},\"yaxis\":{\"backgroundcolor\":\"#E5ECF6\",\"gridcolor\":\"white\",\"gridwidth\":2,\"linecolor\":\"white\",\"showbackground\":true,\"ticks\":\"\",\"zerolinecolor\":\"white\"},\"zaxis\":{\"backgroundcolor\":\"#E5ECF6\",\"gridcolor\":\"white\",\"gridwidth\":2,\"linecolor\":\"white\",\"showbackground\":true,\"ticks\":\"\",\"zerolinecolor\":\"white\"}},\"shapedefaults\":{\"line\":{\"color\":\"#2a3f5f\"}},\"ternary\":{\"aaxis\":{\"gridcolor\":\"white\",\"linecolor\":\"white\",\"ticks\":\"\"},\"baxis\":{\"gridcolor\":\"white\",\"linecolor\":\"white\",\"ticks\":\"\"},\"bgcolor\":\"#E5ECF6\",\"caxis\":{\"gridcolor\":\"white\",\"linecolor\":\"white\",\"ticks\":\"\"}},\"title\":{\"x\":0.05},\"xaxis\":{\"automargin\":true,\"gridcolor\":\"white\",\"linecolor\":\"white\",\"ticks\":\"\",\"title\":{\"standoff\":15},\"zerolinecolor\":\"white\",\"zerolinewidth\":2},\"yaxis\":{\"automargin\":true,\"gridcolor\":\"white\",\"linecolor\":\"white\",\"ticks\":\"\",\"title\":{\"standoff\":15},\"zerolinecolor\":\"white\",\"zerolinewidth\":2}}},\"xaxis\":{\"anchor\":\"y\",\"domain\":[0.0,1.0],\"title\":{\"text\":\"price\"}},\"yaxis\":{\"anchor\":\"x\",\"domain\":[0.0,1.0],\"title\":{\"text\":\"Rating (average)\"}},\"legend\":{\"title\":{\"text\":\"area, status\"},\"tracegroupgap\":0,\"itemsizing\":\"constant\"},\"margin\":{\"t\":60},\"title\":{\"text\":\"Orange County Houses: Rating vs Price\"},\"annotations\":[{\"showarrow\":false,\"text\":\"note: point size = sqft\",\"x\":0.5,\"xref\":\"paper\",\"y\":0,\"yref\":\"paper\"}]},                        {\"responsive\": true}                    ).then(function(){\n",
              "                            \n",
              "var gd = document.getElementById('b8686fdd-79dc-47b2-ae3f-60169aaaa973');\n",
              "var x = new MutationObserver(function (mutations, observer) {{\n",
              "        var display = window.getComputedStyle(gd).display;\n",
              "        if (!display || display === 'none') {{\n",
              "            console.log([gd, 'removed!']);\n",
              "            Plotly.purge(gd);\n",
              "            observer.disconnect();\n",
              "        }}\n",
              "}});\n",
              "\n",
              "// Listen for the removal of the full notebook cells\n",
              "var notebookContainer = gd.closest('#notebook-container');\n",
              "if (notebookContainer) {{\n",
              "    x.observe(notebookContainer, {childList: true});\n",
              "}}\n",
              "\n",
              "// Listen for the clearing of the current output cell\n",
              "var outputEl = gd.closest('.output');\n",
              "if (outputEl) {{\n",
              "    x.observe(outputEl, {childList: true});\n",
              "}}\n",
              "\n",
              "                        })                };                            </script>        </div>\n",
              "</body>\n",
              "</html>"
            ]
          },
          "metadata": {}
        }
      ]
    },
    {
      "cell_type": "markdown",
      "source": [
        "### Plot: Price Change since 2019\n",
        "The median increase in asking price relative to 2019 is `40%`. Houses below this median are depicted in the green area of the plot, while houses above this are depicted in the red area of the plot."
      ],
      "metadata": {
        "id": "VNbk_wdcgMBS"
      }
    },
    {
      "cell_type": "code",
      "source": [
        "#hide_input\n",
        "#Rating vs. Price change\n",
        "symbol_map = {\"For Sale\":\"circle\",\n",
        "              \"Coming Soon\":\"circle\",\n",
        "              \"Off Market\":\"square\",\n",
        "              \"Pending\":\"cross\",\n",
        "              \"Under Contract\":\"cross\",\n",
        "              \"Sold\":\"x\"}\n",
        "\n",
        "trend = px.scatter(hdf,y=\"aveq\",x=\"delta_price\",trendline=\"ols\") # the trendline option will add a second trace (trend.data[1]) that we can add to the scatter plot we want\n",
        "fig = px.scatter(hdf,y=\"aveq\",x=\"delta_price\",color=\"area\", size=\"sqft\", symbol=\"status\",symbol_map=symbol_map,text=\"home2\",hover_name=\"home2\",hover_data=[\"area\",\"sqft\",\"lot\",\"price\",\"delta_price\",\"hoafee\",\"bed\",\"bath\",\"status\"])\n",
        "hovertemplate = \"<b>%{hovertext}</b><br>(%{customdata[7]})<br><br>%{customdata[0]}<br>$%{customdata[3]:,} (%{x:.0%})<br>%{customdata[5]} bed, %{customdata[6]} bath<br>%{customdata[1]} sqft<br>%{customdata[2]:,} lot size<br>$%{customdata[4]} HOA<br>%{y}<extra></extra> average rating\"\n",
        "fig.update_traces(hovertemplate=hovertemplate)\n",
        "fig.update_traces(textposition='top center',textfont_size=8)\n",
        "fig.add_trace(trend.data[1])\n",
        "fig.update_layout(title=\"Orange County Houses: Rating vs Price change (since 2019)\")\n",
        "fig.update_xaxes(title_text=\"Price change (since 2019)\",tickformat='.0%')\n",
        "fig.update_yaxes(title_text=\"Rating (average)\")\n",
        "fig.add_vrect(x0=-0.1, x1=hdf.delta_price.mean(), line_width=0, fillcolor=\"green\", opacity=0.1)\n",
        "fig.add_vrect(x0=hdf.delta_price.mean(), x1=1.05, line_width=0, fillcolor=\"red\", opacity=0.1)\n",
        "fig.add_annotation(xref=\"paper\",yref=\"paper\",x=0.5,y=0,showarrow=False,text=\"note: green/red boundary is at the median price increase\")\n",
        "fig.write_html('H21_rating_vs_delta_price.html')\n",
        "fig.show()"
      ],
      "metadata": {
        "id": "htp9M0_SFS3G",
        "colab": {
          "base_uri": "https://localhost:8080/",
          "height": 542
        },
        "outputId": "044eb36e-ac25-4ffc-b692-ac1356f7a9b8"
      },
      "execution_count": 43,
      "outputs": [
        {
          "output_type": "display_data",
          "data": {
            "text/html": [
              "<html>\n",
              "<head><meta charset=\"utf-8\" /></head>\n",
              "<body>\n",
              "    <div>            <script src=\"https://cdnjs.cloudflare.com/ajax/libs/mathjax/2.7.5/MathJax.js?config=TeX-AMS-MML_SVG\"></script><script type=\"text/javascript\">if (window.MathJax) {MathJax.Hub.Config({SVG: {font: \"STIX-Web\"}});}</script>                <script type=\"text/javascript\">window.PlotlyConfig = {MathJaxConfig: 'local'};</script>\n",
              "        <script src=\"https://cdn.plot.ly/plotly-2.8.3.min.js\"></script>                <div id=\"e0e27d5f-2ddf-4816-a7b4-c1a2a9b978f1\" class=\"plotly-graph-div\" style=\"height:525px; width:100%;\"></div>            <script type=\"text/javascript\">                                    window.PLOTLYENV=window.PLOTLYENV || {};                                    if (document.getElementById(\"e0e27d5f-2ddf-4816-a7b4-c1a2a9b978f1\")) {                    Plotly.newPlot(                        \"e0e27d5f-2ddf-4816-a7b4-c1a2a9b978f1\",                        [{\"customdata\":[[\"Laguna Hills\",3513,7500,1550000,130,4,4,\"Under Contract\"],[\"Laguna Hills\",3178,7345,1349000,0,4,3,\"Under Contract\"]],\"hovertemplate\":\"<b>%{hovertext}</b><br>(%{customdata[7]})<br><br>%{customdata[0]}<br>$%{customdata[3]:,} (%{x:.0%})<br>%{customdata[5]} bed, %{customdata[6]} bath<br>%{customdata[1]} sqft<br>%{customdata[2]:,} lot size<br>$%{customdata[4]} HOA<br>%{y}<extra></extra> average rating\",\"hovertext\":[\"25861 Faircourt Ln\",\"25292 Linda Vista Dr\"],\"legendgroup\":\"Laguna Hills, Under Contract\",\"marker\":{\"color\":\"#636efa\",\"size\":[3513,3178],\"sizemode\":\"area\",\"sizeref\":20.5,\"symbol\":\"cross\"},\"mode\":\"markers+text\",\"name\":\"Laguna Hills, Under Contract\",\"orientation\":\"v\",\"showlegend\":true,\"text\":[\"25861 Faircourt Ln\",\"25292 Linda Vista Dr\"],\"x\":[0.19,0.5],\"xaxis\":\"x\",\"y\":[0.0,4.0],\"yaxis\":\"y\",\"type\":\"scatter\",\"textfont\":{\"size\":8},\"textposition\":\"top center\"},{\"customdata\":[[\"Laguna Hills\",6742,28314,3995000,157,6,6,\"For Sale\"],[\"Laguna Hills\",2841,8190,1520000,0,4,3,\"For Sale\"],[\"Laguna Hills\",3370,7701,1599000,130,5,3,\"For Sale\"]],\"hovertemplate\":\"<b>%{hovertext}</b><br>(%{customdata[7]})<br><br>%{customdata[0]}<br>$%{customdata[3]:,} (%{x:.0%})<br>%{customdata[5]} bed, %{customdata[6]} bath<br>%{customdata[1]} sqft<br>%{customdata[2]:,} lot size<br>$%{customdata[4]} HOA<br>%{y}<extra></extra> average rating\",\"hovertext\":[\"27641 Deputy Cir\",\"25551 El Capitan Ln\",\"26936 Falling Leaf Dr\"],\"legendgroup\":\"Laguna Hills, For Sale\",\"marker\":{\"color\":\"#636efa\",\"size\":[6742,2841,3370],\"sizemode\":\"area\",\"sizeref\":20.5,\"symbol\":\"circle\"},\"mode\":\"markers+text\",\"name\":\"Laguna Hills, For Sale\",\"orientation\":\"v\",\"showlegend\":true,\"text\":[\"27641 Deputy Cir\",\"25551 El Capitan Ln\",\"26936 Falling Leaf Dr\"],\"x\":[0.48,0.75,0.33],\"xaxis\":\"x\",\"y\":[9.2,6.0,7.0],\"yaxis\":\"y\",\"type\":\"scatter\",\"textfont\":{\"size\":8},\"textposition\":\"top center\"},{\"customdata\":[[\"Laguna Hills\",7372,15681,2999999,113,8,11,\"Pending\"],[\"Laguna Hills\",4000,21780,2199000,147,5,5,\"Pending\"],[\"Laguna Hills\",6799,82764,2500000,471,6,7,\"Pending\"],[\"Laguna Hills\",2650,10150,1395000,0,4,3,\"Pending\"]],\"hovertemplate\":\"<b>%{hovertext}</b><br>(%{customdata[7]})<br><br>%{customdata[0]}<br>$%{customdata[3]:,} (%{x:.0%})<br>%{customdata[5]} bed, %{customdata[6]} bath<br>%{customdata[1]} sqft<br>%{customdata[2]:,} lot size<br>$%{customdata[4]} HOA<br>%{y}<extra></extra> average rating\",\"hovertext\":[\"26041 Spur Branch Ln\",\"27773 Hidden Trail Rd\",\"25731 Bucklestone Dr\",\"25491 El Conejo Ln\"],\"legendgroup\":\"Laguna Hills, Pending\",\"marker\":{\"color\":\"#636efa\",\"size\":[7372,4000,6799,2650],\"sizemode\":\"area\",\"sizeref\":20.5,\"symbol\":\"cross\"},\"mode\":\"markers+text\",\"name\":\"Laguna Hills, Pending\",\"orientation\":\"v\",\"showlegend\":true,\"text\":[\"26041 Spur Branch Ln\",\"27773 Hidden Trail Rd\",\"25731 Bucklestone Dr\",\"25491 El Conejo Ln\"],\"x\":[0.3,0.22,0.0,0.62],\"xaxis\":\"x\",\"y\":[10.0,8.5,8.3,5.3],\"yaxis\":\"y\",\"type\":\"scatter\",\"textfont\":{\"size\":8},\"textposition\":\"top center\"},{\"customdata\":[[\"Laguna Hills\",3890,16117,1699900,0,5,4,\"Off Market\"]],\"hovertemplate\":\"<b>%{hovertext}</b><br>(%{customdata[7]})<br><br>%{customdata[0]}<br>$%{customdata[3]:,} (%{x:.0%})<br>%{customdata[5]} bed, %{customdata[6]} bath<br>%{customdata[1]} sqft<br>%{customdata[2]:,} lot size<br>$%{customdata[4]} HOA<br>%{y}<extra></extra> average rating\",\"hovertext\":[\"25485 Barents St\"],\"legendgroup\":\"Laguna Hills, Off Market\",\"marker\":{\"color\":\"#636efa\",\"size\":[3890],\"sizemode\":\"area\",\"sizeref\":20.5,\"symbol\":\"square\"},\"mode\":\"markers+text\",\"name\":\"Laguna Hills, Off Market\",\"orientation\":\"v\",\"showlegend\":true,\"text\":[\"25485 Barents St\"],\"x\":[0.7],\"xaxis\":\"x\",\"y\":[4.4],\"yaxis\":\"y\",\"type\":\"scatter\",\"textfont\":{\"size\":8},\"textposition\":\"top center\"},{\"customdata\":[[\"Fullerton\",3183,28750,1675000,0,4,3,\"Under Contract\"]],\"hovertemplate\":\"<b>%{hovertext}</b><br>(%{customdata[7]})<br><br>%{customdata[0]}<br>$%{customdata[3]:,} (%{x:.0%})<br>%{customdata[5]} bed, %{customdata[6]} bath<br>%{customdata[1]} sqft<br>%{customdata[2]:,} lot size<br>$%{customdata[4]} HOA<br>%{y}<extra></extra> average rating\",\"hovertext\":[\"3101 Flintridge Dr\"],\"legendgroup\":\"Fullerton, Under Contract\",\"marker\":{\"color\":\"#EF553B\",\"size\":[3183],\"sizemode\":\"area\",\"sizeref\":20.5,\"symbol\":\"cross\"},\"mode\":\"markers+text\",\"name\":\"Fullerton, Under Contract\",\"orientation\":\"v\",\"showlegend\":true,\"text\":[\"3101 Flintridge Dr\"],\"x\":[0.29],\"xaxis\":\"x\",\"y\":[0.0],\"yaxis\":\"y\",\"type\":\"scatter\",\"textfont\":{\"size\":8},\"textposition\":\"top center\"},{\"customdata\":[[\"Ladera Ranch\",3433,6322,1700000,200,5,4,\"For Sale\"]],\"hovertemplate\":\"<b>%{hovertext}</b><br>(%{customdata[7]})<br><br>%{customdata[0]}<br>$%{customdata[3]:,} (%{x:.0%})<br>%{customdata[5]} bed, %{customdata[6]} bath<br>%{customdata[1]} sqft<br>%{customdata[2]:,} lot size<br>$%{customdata[4]} HOA<br>%{y}<extra></extra> average rating\",\"hovertext\":[\"20 Winslow St\"],\"legendgroup\":\"Ladera Ranch, For Sale\",\"marker\":{\"color\":\"#00cc96\",\"size\":[3433],\"sizemode\":\"area\",\"sizeref\":20.5,\"symbol\":\"circle\"},\"mode\":\"markers+text\",\"name\":\"Ladera Ranch, For Sale\",\"orientation\":\"v\",\"showlegend\":true,\"text\":[\"20 Winslow St\"],\"x\":[0.42],\"xaxis\":\"x\",\"y\":[9.0],\"yaxis\":\"y\",\"type\":\"scatter\",\"textfont\":{\"size\":8},\"textposition\":\"top center\"},{\"customdata\":[[\"Ladera Ranch\",4673,8847,2699900,472,5,6,\"Pending\"],[\"Ladera Ranch\",2523,5767,1299000,226,5,3,\"Pending\"]],\"hovertemplate\":\"<b>%{hovertext}</b><br>(%{customdata[7]})<br><br>%{customdata[0]}<br>$%{customdata[3]:,} (%{x:.0%})<br>%{customdata[5]} bed, %{customdata[6]} bath<br>%{customdata[1]} sqft<br>%{customdata[2]:,} lot size<br>$%{customdata[4]} HOA<br>%{y}<extra></extra> average rating\",\"hovertext\":[\"19 Basilica Pl\",\"39 Chimney Ln\"],\"legendgroup\":\"Ladera Ranch, Pending\",\"marker\":{\"color\":\"#00cc96\",\"size\":[4673,2523],\"sizemode\":\"area\",\"sizeref\":20.5,\"symbol\":\"cross\"},\"mode\":\"markers+text\",\"name\":\"Ladera Ranch, Pending\",\"orientation\":\"v\",\"showlegend\":true,\"text\":[\"19 Basilica Pl\",\"39 Chimney Ln\"],\"x\":[0.5,0.37],\"xaxis\":\"x\",\"y\":[8.0,5.3],\"yaxis\":\"y\",\"type\":\"scatter\",\"textfont\":{\"size\":8},\"textposition\":\"top center\"},{\"customdata\":[[\"Mission Viejo\",3906,9315,2088000,497,4,5,\"Under Contract\"]],\"hovertemplate\":\"<b>%{hovertext}</b><br>(%{customdata[7]})<br><br>%{customdata[0]}<br>$%{customdata[3]:,} (%{x:.0%})<br>%{customdata[5]} bed, %{customdata[6]} bath<br>%{customdata[1]} sqft<br>%{customdata[2]:,} lot size<br>$%{customdata[4]} HOA<br>%{y}<extra></extra> average rating\",\"hovertext\":[\"5 Christopher St\"],\"legendgroup\":\"Mission Viejo, Under Contract\",\"marker\":{\"color\":\"#ab63fa\",\"size\":[3906],\"sizemode\":\"area\",\"sizeref\":20.5,\"symbol\":\"cross\"},\"mode\":\"markers+text\",\"name\":\"Mission Viejo, Under Contract\",\"orientation\":\"v\",\"showlegend\":true,\"text\":[\"5 Christopher St\"],\"x\":[0.31],\"xaxis\":\"x\",\"y\":[8.0],\"yaxis\":\"y\",\"type\":\"scatter\",\"textfont\":{\"size\":8},\"textposition\":\"top center\"},{\"customdata\":[[\"Mission Viejo\",2882,11326,1595000,0,6,4,\"For Sale\"]],\"hovertemplate\":\"<b>%{hovertext}</b><br>(%{customdata[7]})<br><br>%{customdata[0]}<br>$%{customdata[3]:,} (%{x:.0%})<br>%{customdata[5]} bed, %{customdata[6]} bath<br>%{customdata[1]} sqft<br>%{customdata[2]:,} lot size<br>$%{customdata[4]} HOA<br>%{y}<extra></extra> average rating\",\"hovertext\":[\"26722 Cuenca Dr\"],\"legendgroup\":\"Mission Viejo, For Sale\",\"marker\":{\"color\":\"#ab63fa\",\"size\":[2882],\"sizemode\":\"area\",\"sizeref\":20.5,\"symbol\":\"circle\"},\"mode\":\"markers+text\",\"name\":\"Mission Viejo, For Sale\",\"orientation\":\"v\",\"showlegend\":true,\"text\":[\"26722 Cuenca Dr\"],\"x\":[0.77],\"xaxis\":\"x\",\"y\":[6.0],\"yaxis\":\"y\",\"type\":\"scatter\",\"textfont\":{\"size\":8},\"textposition\":\"top center\"},{\"customdata\":[[\"Mission Viejo\",3792,9308,1949900,237,5,5,\"Pending\"],[\"Mission Viejo\",3415,7700,1450000,76,5,3,\"Pending\"],[\"Mission Viejo\",2866,5508,1499000,169,5,3,\"Pending\"],[\"Mission Viejo\",2908,5775,1695000,125,5,3,\"Pending\"]],\"hovertemplate\":\"<b>%{hovertext}</b><br>(%{customdata[7]})<br><br>%{customdata[0]}<br>$%{customdata[3]:,} (%{x:.0%})<br>%{customdata[5]} bed, %{customdata[6]} bath<br>%{customdata[1]} sqft<br>%{customdata[2]:,} lot size<br>$%{customdata[4]} HOA<br>%{y}<extra></extra> average rating\",\"hovertext\":[\"1 Wyeth St\",\"28335 Driza\",\"26192 Palmetto Pl\",\"25575 Pacific Hills Dr\"],\"legendgroup\":\"Mission Viejo, Pending\",\"marker\":{\"color\":\"#ab63fa\",\"size\":[3792,3415,2866,2908],\"sizemode\":\"area\",\"sizeref\":20.5,\"symbol\":\"cross\"},\"mode\":\"markers+text\",\"name\":\"Mission Viejo, Pending\",\"orientation\":\"v\",\"showlegend\":true,\"text\":[\"1 Wyeth St\",\"28335 Driza\",\"26192 Palmetto Pl\",\"25575 Pacific Hills Dr\"],\"x\":[0.3,0.45,0.58,0.41],\"xaxis\":\"x\",\"y\":[10.0,8.0,6.5,4.6],\"yaxis\":\"y\",\"type\":\"scatter\",\"textfont\":{\"size\":8},\"textposition\":\"top center\"},{\"customdata\":[[\"Mission Viejo\",3300,7474,2000000,253,5,4,\"Off Market\"]],\"hovertemplate\":\"<b>%{hovertext}</b><br>(%{customdata[7]})<br><br>%{customdata[0]}<br>$%{customdata[3]:,} (%{x:.0%})<br>%{customdata[5]} bed, %{customdata[6]} bath<br>%{customdata[1]} sqft<br>%{customdata[2]:,} lot size<br>$%{customdata[4]} HOA<br>%{y}<extra></extra> average rating\",\"hovertext\":[\"24038 Skyline\"],\"legendgroup\":\"Mission Viejo, Off Market\",\"marker\":{\"color\":\"#ab63fa\",\"size\":[3300],\"sizemode\":\"area\",\"sizeref\":20.5,\"symbol\":\"square\"},\"mode\":\"markers+text\",\"name\":\"Mission Viejo, Off Market\",\"orientation\":\"v\",\"showlegend\":true,\"text\":[\"24038 Skyline\"],\"x\":[0.54],\"xaxis\":\"x\",\"y\":[7.0],\"yaxis\":\"y\",\"type\":\"scatter\",\"textfont\":{\"size\":8},\"textposition\":\"top center\"},{\"customdata\":[[\"Mission Viejo\",3747,7962,1595000,253,4,3,\"Sold\"]],\"hovertemplate\":\"<b>%{hovertext}</b><br>(%{customdata[7]})<br><br>%{customdata[0]}<br>$%{customdata[3]:,} (%{x:.0%})<br>%{customdata[5]} bed, %{customdata[6]} bath<br>%{customdata[1]} sqft<br>%{customdata[2]:,} lot size<br>$%{customdata[4]} HOA<br>%{y}<extra></extra> average rating\",\"hovertext\":[\"23272 Eagle Rdg\"],\"legendgroup\":\"Mission Viejo, Sold\",\"marker\":{\"color\":\"#ab63fa\",\"size\":[3747],\"sizemode\":\"area\",\"sizeref\":20.5,\"symbol\":\"x\"},\"mode\":\"markers+text\",\"name\":\"Mission Viejo, Sold\",\"orientation\":\"v\",\"showlegend\":true,\"text\":[\"23272 Eagle Rdg\"],\"x\":[0.45],\"xaxis\":\"x\",\"y\":[7.4],\"yaxis\":\"y\",\"type\":\"scatter\",\"textfont\":{\"size\":8},\"textposition\":\"top center\"},{\"customdata\":[[\"Coto De Caza\",5177,9600,2495000,278,5,6,\"Under Contract\"],[\"Coto De Caza\",4400,13068,2999000,235,5,5,\"Under Contract\"]],\"hovertemplate\":\"<b>%{hovertext}</b><br>(%{customdata[7]})<br><br>%{customdata[0]}<br>$%{customdata[3]:,} (%{x:.0%})<br>%{customdata[5]} bed, %{customdata[6]} bath<br>%{customdata[1]} sqft<br>%{customdata[2]:,} lot size<br>$%{customdata[4]} HOA<br>%{y}<extra></extra> average rating\",\"hovertext\":[\"114 Vela Ct\",\"3 Canada Oaks\"],\"legendgroup\":\"Coto De Caza, Under Contract\",\"marker\":{\"color\":\"#FFA15A\",\"size\":[5177,4400],\"sizemode\":\"area\",\"sizeref\":20.5,\"symbol\":\"cross\"},\"mode\":\"markers+text\",\"name\":\"Coto De Caza, Under Contract\",\"orientation\":\"v\",\"showlegend\":true,\"text\":[\"114 Vela Ct\",\"3 Canada Oaks\"],\"x\":[0.39,0.67],\"xaxis\":\"x\",\"y\":[8.4,7.8],\"yaxis\":\"y\",\"type\":\"scatter\",\"textfont\":{\"size\":8},\"textposition\":\"top center\"},{\"customdata\":[[\"Coto De Caza\",5600,22216,2699000,225,6,7,\"Pending\"],[\"Coto De Caza\",3970,12196,2399500,235,5,5,\"Pending\"],[\"Coto De Caza\",3000,12197,1549000,235,4,3,\"Pending\"],[\"Coto De Caza\",3300,6840,1649000,140,6,6,\"Pending\"]],\"hovertemplate\":\"<b>%{hovertext}</b><br>(%{customdata[7]})<br><br>%{customdata[0]}<br>$%{customdata[3]:,} (%{x:.0%})<br>%{customdata[5]} bed, %{customdata[6]} bath<br>%{customdata[1]} sqft<br>%{customdata[2]:,} lot size<br>$%{customdata[4]} HOA<br>%{y}<extra></extra> average rating\",\"hovertext\":[\"8 Lippizaner\",\"29 Cherry Hills Dr\",\"4 Tanglewood\",\"31862 Via Pato\"],\"legendgroup\":\"Coto De Caza, Pending\",\"marker\":{\"color\":\"#FFA15A\",\"size\":[5600,3970,3000,3300],\"sizemode\":\"area\",\"sizeref\":20.5,\"symbol\":\"cross\"},\"mode\":\"markers+text\",\"name\":\"Coto De Caza, Pending\",\"orientation\":\"v\",\"showlegend\":true,\"text\":[\"8 Lippizaner\",\"29 Cherry Hills Dr\",\"4 Tanglewood\",\"31862 Via Pato\"],\"x\":[0.29,0.41,0.19,0.37],\"xaxis\":\"x\",\"y\":[10.0,7.0,6.0,4.8],\"yaxis\":\"y\",\"type\":\"scatter\",\"textfont\":{\"size\":8},\"textposition\":\"top center\"},{\"customdata\":[[\"Coto De Caza\",5000,19602,2899000,235,6,5,\"Sold\"]],\"hovertemplate\":\"<b>%{hovertext}</b><br>(%{customdata[7]})<br><br>%{customdata[0]}<br>$%{customdata[3]:,} (%{x:.0%})<br>%{customdata[5]} bed, %{customdata[6]} bath<br>%{customdata[1]} sqft<br>%{customdata[2]:,} lot size<br>$%{customdata[4]} HOA<br>%{y}<extra></extra> average rating\",\"hovertext\":[\"8 Panorama\"],\"legendgroup\":\"Coto De Caza, Sold\",\"marker\":{\"color\":\"#FFA15A\",\"size\":[5000],\"sizemode\":\"area\",\"sizeref\":20.5,\"symbol\":\"x\"},\"mode\":\"markers+text\",\"name\":\"Coto De Caza, Sold\",\"orientation\":\"v\",\"showlegend\":true,\"text\":[\"8 Panorama\"],\"x\":[0.45],\"xaxis\":\"x\",\"y\":[8.4],\"yaxis\":\"y\",\"type\":\"scatter\",\"textfont\":{\"size\":8},\"textposition\":\"top center\"},{\"customdata\":[[\"Laguna Niguel\",3800,8170,2495000,280,5,5,\"Under Contract\"]],\"hovertemplate\":\"<b>%{hovertext}</b><br>(%{customdata[7]})<br><br>%{customdata[0]}<br>$%{customdata[3]:,} (%{x:.0%})<br>%{customdata[5]} bed, %{customdata[6]} bath<br>%{customdata[1]} sqft<br>%{customdata[2]:,} lot size<br>$%{customdata[4]} HOA<br>%{y}<extra></extra> average rating\",\"hovertext\":[\"28811 Drakes Bay\"],\"legendgroup\":\"Laguna Niguel, Under Contract\",\"marker\":{\"color\":\"#19d3f3\",\"size\":[3800],\"sizemode\":\"area\",\"sizeref\":20.5,\"symbol\":\"cross\"},\"mode\":\"markers+text\",\"name\":\"Laguna Niguel, Under Contract\",\"orientation\":\"v\",\"showlegend\":true,\"text\":[\"28811 Drakes Bay\"],\"x\":[0.66],\"xaxis\":\"x\",\"y\":[6.5],\"yaxis\":\"y\",\"type\":\"scatter\",\"textfont\":{\"size\":8},\"textposition\":\"top center\"},{\"customdata\":[[\"Laguna Niguel\",5300,15246,3888000,336,5,6,\"For Sale\"]],\"hovertemplate\":\"<b>%{hovertext}</b><br>(%{customdata[7]})<br><br>%{customdata[0]}<br>$%{customdata[3]:,} (%{x:.0%})<br>%{customdata[5]} bed, %{customdata[6]} bath<br>%{customdata[1]} sqft<br>%{customdata[2]:,} lot size<br>$%{customdata[4]} HOA<br>%{y}<extra></extra> average rating\",\"hovertext\":[\"12 Vista Montemar\"],\"legendgroup\":\"Laguna Niguel, For Sale\",\"marker\":{\"color\":\"#19d3f3\",\"size\":[5300],\"sizemode\":\"area\",\"sizeref\":20.5,\"symbol\":\"circle\"},\"mode\":\"markers+text\",\"name\":\"Laguna Niguel, For Sale\",\"orientation\":\"v\",\"showlegend\":true,\"text\":[\"12 Vista Montemar\"],\"x\":[0.39],\"xaxis\":\"x\",\"y\":[8.4],\"yaxis\":\"y\",\"type\":\"scatter\",\"textfont\":{\"size\":8},\"textposition\":\"top center\"},{\"customdata\":[[\"Laguna Niguel\",3690,7800,2750000,350,5,5,\"Pending\"],[\"Laguna Niguel\",4075,13068,1750000,0,4,4,\"Pending\"],[\"Laguna Niguel\",2625,7800,1500000,155,4,3,\"Pending\"],[\"Laguna Niguel\",3284,7258,2000000,190,5,4,\"Pending\"],[\"Laguna Niguel\",3656,6500,1999888,154,4,4,\"Pending\"]],\"hovertemplate\":\"<b>%{hovertext}</b><br>(%{customdata[7]})<br><br>%{customdata[0]}<br>$%{customdata[3]:,} (%{x:.0%})<br>%{customdata[5]} bed, %{customdata[6]} bath<br>%{customdata[1]} sqft<br>%{customdata[2]:,} lot size<br>$%{customdata[4]} HOA<br>%{y}<extra></extra> average rating\",\"hovertext\":[\"35 Hastings\",\"24711 Crown Royale\",\"4 Bastia\",\"27856 Homestead Rd\",\"30322 La Vue\"],\"legendgroup\":\"Laguna Niguel, Pending\",\"marker\":{\"color\":\"#19d3f3\",\"size\":[3690,4075,2625,3284,3656],\"sizemode\":\"area\",\"sizeref\":20.5,\"symbol\":\"cross\"},\"mode\":\"markers+text\",\"name\":\"Laguna Niguel, Pending\",\"orientation\":\"v\",\"showlegend\":true,\"text\":[\"35 Hastings\",\"24711 Crown Royale\",\"4 Bastia\",\"27856 Homestead Rd\",\"30322 La Vue\"],\"x\":[0.62,0.09,0.36,0.43,0.11],\"xaxis\":\"x\",\"y\":[8.0,7.2,7.0,5.3,1.0],\"yaxis\":\"y\",\"type\":\"scatter\",\"textfont\":{\"size\":8},\"textposition\":\"top center\"},{\"customdata\":[[\"Laguna Niguel\",8200,19166,5900000,0,7,11,\"Off Market\"]],\"hovertemplate\":\"<b>%{hovertext}</b><br>(%{customdata[7]})<br><br>%{customdata[0]}<br>$%{customdata[3]:,} (%{x:.0%})<br>%{customdata[5]} bed, %{customdata[6]} bath<br>%{customdata[1]} sqft<br>%{customdata[2]:,} lot size<br>$%{customdata[4]} HOA<br>%{y}<extra></extra> average rating\",\"hovertext\":[\"30752 Paseo Del Niguel\"],\"legendgroup\":\"Laguna Niguel, Off Market\",\"marker\":{\"color\":\"#19d3f3\",\"size\":[8200],\"sizemode\":\"area\",\"sizeref\":20.5,\"symbol\":\"square\"},\"mode\":\"markers+text\",\"name\":\"Laguna Niguel, Off Market\",\"orientation\":\"v\",\"showlegend\":true,\"text\":[\"30752 Paseo Del Niguel\"],\"x\":[0.97],\"xaxis\":\"x\",\"y\":[9.6],\"yaxis\":\"y\",\"type\":\"scatter\",\"textfont\":{\"size\":8},\"textposition\":\"top center\"},{\"customdata\":[[\"San Juan Capistrano\",4473,11761,2199000,325,5,5,\"Under Contract\"],[\"San Juan Capistrano\",2567,20908,1399900,0,4,3,\"Under Contract\"]],\"hovertemplate\":\"<b>%{hovertext}</b><br>(%{customdata[7]})<br><br>%{customdata[0]}<br>$%{customdata[3]:,} (%{x:.0%})<br>%{customdata[5]} bed, %{customdata[6]} bath<br>%{customdata[1]} sqft<br>%{customdata[2]:,} lot size<br>$%{customdata[4]} HOA<br>%{y}<extra></extra> average rating\",\"hovertext\":[\"32162 Calle Los Elegantes\",\"31952 Paseo Terraza\"],\"legendgroup\":\"San Juan Capistrano, Under Contract\",\"marker\":{\"color\":\"#FF6692\",\"size\":[4473,2567],\"sizemode\":\"area\",\"sizeref\":20.5,\"symbol\":\"cross\"},\"mode\":\"markers+text\",\"name\":\"San Juan Capistrano, Under Contract\",\"orientation\":\"v\",\"showlegend\":true,\"text\":[\"32162 Calle Los Elegantes\",\"31952 Paseo Terraza\"],\"x\":[0.47,0.4],\"xaxis\":\"x\",\"y\":[9.0,4.4],\"yaxis\":\"y\",\"type\":\"scatter\",\"textfont\":{\"size\":8},\"textposition\":\"top center\"},{\"customdata\":[[\"San Juan Capistrano\",5387,22651,2925000,350,5,5,\"Off Market\"]],\"hovertemplate\":\"<b>%{hovertext}</b><br>(%{customdata[7]})<br><br>%{customdata[0]}<br>$%{customdata[3]:,} (%{x:.0%})<br>%{customdata[5]} bed, %{customdata[6]} bath<br>%{customdata[1]} sqft<br>%{customdata[2]:,} lot size<br>$%{customdata[4]} HOA<br>%{y}<extra></extra> average rating\",\"hovertext\":[\"27826 Golden Ridge Ln\"],\"legendgroup\":\"San Juan Capistrano, Off Market\",\"marker\":{\"color\":\"#FF6692\",\"size\":[5387],\"sizemode\":\"area\",\"sizeref\":20.5,\"symbol\":\"square\"},\"mode\":\"markers+text\",\"name\":\"San Juan Capistrano, Off Market\",\"orientation\":\"v\",\"showlegend\":true,\"text\":[\"27826 Golden Ridge Ln\"],\"x\":[0.17],\"xaxis\":\"x\",\"y\":[7.6],\"yaxis\":\"y\",\"type\":\"scatter\",\"textfont\":{\"size\":8},\"textposition\":\"top center\"},{\"customdata\":[[\"San Juan Capistrano\",3000,12632,2489000,205,4,4,\"Sold\"]],\"hovertemplate\":\"<b>%{hovertext}</b><br>(%{customdata[7]})<br><br>%{customdata[0]}<br>$%{customdata[3]:,} (%{x:.0%})<br>%{customdata[5]} bed, %{customdata[6]} bath<br>%{customdata[1]} sqft<br>%{customdata[2]:,} lot size<br>$%{customdata[4]} HOA<br>%{y}<extra></extra> average rating\",\"hovertext\":[\"28242 Las Brisas Del Mar\"],\"legendgroup\":\"San Juan Capistrano, Sold\",\"marker\":{\"color\":\"#FF6692\",\"size\":[3000],\"sizemode\":\"area\",\"sizeref\":20.5,\"symbol\":\"x\"},\"mode\":\"markers+text\",\"name\":\"San Juan Capistrano, Sold\",\"orientation\":\"v\",\"showlegend\":true,\"text\":[\"28242 Las Brisas Del Mar\"],\"x\":[0.66],\"xaxis\":\"x\",\"y\":[5.6],\"yaxis\":\"y\",\"type\":\"scatter\",\"textfont\":{\"size\":8},\"textposition\":\"top center\"},{\"customdata\":[[\"Lake Forest\",3458,9350,1798000,175,5,4,\"For Sale\"],[\"Lake Forest\",2672,5663,1400000,125,5,4,\"For Sale\"]],\"hovertemplate\":\"<b>%{hovertext}</b><br>(%{customdata[7]})<br><br>%{customdata[0]}<br>$%{customdata[3]:,} (%{x:.0%})<br>%{customdata[5]} bed, %{customdata[6]} bath<br>%{customdata[1]} sqft<br>%{customdata[2]:,} lot size<br>$%{customdata[4]} HOA<br>%{y}<extra></extra> average rating\",\"hovertext\":[\"21861 Montbury Dr\",\"21422 Via Floresta\"],\"legendgroup\":\"Lake Forest, For Sale\",\"marker\":{\"color\":\"#B6E880\",\"size\":[3458,2672],\"sizemode\":\"area\",\"sizeref\":20.5,\"symbol\":\"circle\"},\"mode\":\"markers+text\",\"name\":\"Lake Forest, For Sale\",\"orientation\":\"v\",\"showlegend\":true,\"text\":[\"21861 Montbury Dr\",\"21422 Via Floresta\"],\"x\":[0.63,0.71],\"xaxis\":\"x\",\"y\":[8.0,5.4],\"yaxis\":\"y\",\"type\":\"scatter\",\"textfont\":{\"size\":8},\"textposition\":\"top center\"},{\"customdata\":[[\"Lake Forest\",2915,4344,1550000,261,4,3,\"Pending\"]],\"hovertemplate\":\"<b>%{hovertext}</b><br>(%{customdata[7]})<br><br>%{customdata[0]}<br>$%{customdata[3]:,} (%{x:.0%})<br>%{customdata[5]} bed, %{customdata[6]} bath<br>%{customdata[1]} sqft<br>%{customdata[2]:,} lot size<br>$%{customdata[4]} HOA<br>%{y}<extra></extra> average rating\",\"hovertext\":[\"78 Pinnacle Dr\"],\"legendgroup\":\"Lake Forest, Pending\",\"marker\":{\"color\":\"#B6E880\",\"size\":[2915],\"sizemode\":\"area\",\"sizeref\":20.5,\"symbol\":\"cross\"},\"mode\":\"markers+text\",\"name\":\"Lake Forest, Pending\",\"orientation\":\"v\",\"showlegend\":true,\"text\":[\"78 Pinnacle Dr\"],\"x\":[0.41],\"xaxis\":\"x\",\"y\":[2.5],\"yaxis\":\"y\",\"type\":\"scatter\",\"textfont\":{\"size\":8},\"textposition\":\"top center\"},{\"customdata\":[[\"San Clemente\",3786,9778,2400000,215,5,5,\"For Sale\"]],\"hovertemplate\":\"<b>%{hovertext}</b><br>(%{customdata[7]})<br><br>%{customdata[0]}<br>$%{customdata[3]:,} (%{x:.0%})<br>%{customdata[5]} bed, %{customdata[6]} bath<br>%{customdata[1]} sqft<br>%{customdata[2]:,} lot size<br>$%{customdata[4]} HOA<br>%{y}<extra></extra> average rating\",\"hovertext\":[\"23 Via Lucena\"],\"legendgroup\":\"San Clemente, For Sale\",\"marker\":{\"color\":\"#FF97FF\",\"size\":[3786],\"sizemode\":\"area\",\"sizeref\":20.5,\"symbol\":\"circle\"},\"mode\":\"markers+text\",\"name\":\"San Clemente, For Sale\",\"orientation\":\"v\",\"showlegend\":true,\"text\":[\"23 Via Lucena\"],\"x\":[0.71],\"xaxis\":\"x\",\"y\":[8.0],\"yaxis\":\"y\",\"type\":\"scatter\",\"textfont\":{\"size\":8},\"textposition\":\"top center\"},{\"customdata\":[[\"Orange\",2936,8000,1499000,0,4,3,\"Under Contract\"]],\"hovertemplate\":\"<b>%{hovertext}</b><br>(%{customdata[7]})<br><br>%{customdata[0]}<br>$%{customdata[3]:,} (%{x:.0%})<br>%{customdata[5]} bed, %{customdata[6]} bath<br>%{customdata[1]} sqft<br>%{customdata[2]:,} lot size<br>$%{customdata[4]} HOA<br>%{y}<extra></extra> average rating\",\"hovertext\":[\"2110 E Vista Mesa Way\"],\"legendgroup\":\"Orange, Under Contract\",\"marker\":{\"color\":\"#FECB52\",\"size\":[2936],\"sizemode\":\"area\",\"sizeref\":20.5,\"symbol\":\"cross\"},\"mode\":\"markers+text\",\"name\":\"Orange, Under Contract\",\"orientation\":\"v\",\"showlegend\":true,\"text\":[\"2110 E Vista Mesa Way\"],\"x\":[0.68],\"xaxis\":\"x\",\"y\":[7.0],\"yaxis\":\"y\",\"type\":\"scatter\",\"textfont\":{\"size\":8},\"textposition\":\"top center\"},{\"customdata\":[[\"Irvine\",3066,5972,2895000,490,4,4,\"For Sale\"]],\"hovertemplate\":\"<b>%{hovertext}</b><br>(%{customdata[7]})<br><br>%{customdata[0]}<br>$%{customdata[3]:,} (%{x:.0%})<br>%{customdata[5]} bed, %{customdata[6]} bath<br>%{customdata[1]} sqft<br>%{customdata[2]:,} lot size<br>$%{customdata[4]} HOA<br>%{y}<extra></extra> average rating\",\"hovertext\":[\"24 Trumpet Vine\"],\"legendgroup\":\"Irvine, For Sale\",\"marker\":{\"color\":\"#636efa\",\"size\":[3066],\"sizemode\":\"area\",\"sizeref\":20.5,\"symbol\":\"circle\"},\"mode\":\"markers+text\",\"name\":\"Irvine, For Sale\",\"orientation\":\"v\",\"showlegend\":true,\"text\":[\"24 Trumpet Vine\"],\"x\":[0.38],\"xaxis\":\"x\",\"y\":[5.6],\"yaxis\":\"y\",\"type\":\"scatter\",\"textfont\":{\"size\":8},\"textposition\":\"top center\"},{\"customdata\":[[\"Irvine\",4106,9558,2800000,215,4,5,\"Pending\"]],\"hovertemplate\":\"<b>%{hovertext}</b><br>(%{customdata[7]})<br><br>%{customdata[0]}<br>$%{customdata[3]:,} (%{x:.0%})<br>%{customdata[5]} bed, %{customdata[6]} bath<br>%{customdata[1]} sqft<br>%{customdata[2]:,} lot size<br>$%{customdata[4]} HOA<br>%{y}<extra></extra> average rating\",\"hovertext\":[\"116 Crossover\"],\"legendgroup\":\"Irvine, Pending\",\"marker\":{\"color\":\"#636efa\",\"size\":[4106],\"sizemode\":\"area\",\"sizeref\":20.5,\"symbol\":\"cross\"},\"mode\":\"markers+text\",\"name\":\"Irvine, Pending\",\"orientation\":\"v\",\"showlegend\":true,\"text\":[\"116 Crossover\"],\"x\":[0.47],\"xaxis\":\"x\",\"y\":[6.8],\"yaxis\":\"y\",\"type\":\"scatter\",\"textfont\":{\"size\":8},\"textposition\":\"top center\"},{\"customdata\":[[\"Dana Point\",3630,12632,2330000,260,5,5,\"Sold\"]],\"hovertemplate\":\"<b>%{hovertext}</b><br>(%{customdata[7]})<br><br>%{customdata[0]}<br>$%{customdata[3]:,} (%{x:.0%})<br>%{customdata[5]} bed, %{customdata[6]} bath<br>%{customdata[1]} sqft<br>%{customdata[2]:,} lot size<br>$%{customdata[4]} HOA<br>%{y}<extra></extra> average rating\",\"hovertext\":[\"32761 Ocean Vista Ct\"],\"legendgroup\":\"Dana Point, Sold\",\"marker\":{\"color\":\"#EF553B\",\"size\":[3630],\"sizemode\":\"area\",\"sizeref\":20.5,\"symbol\":\"x\"},\"mode\":\"markers+text\",\"name\":\"Dana Point, Sold\",\"orientation\":\"v\",\"showlegend\":true,\"text\":[\"32761 Ocean Vista Ct\"],\"x\":[0.17],\"xaxis\":\"x\",\"y\":[6.2],\"yaxis\":\"y\",\"type\":\"scatter\",\"textfont\":{\"size\":8},\"textposition\":\"top center\"},{\"customdata\":[[\"Foothill Ranch\",2882,5100,1435000,84,5,3,\"For Sale\"]],\"hovertemplate\":\"<b>%{hovertext}</b><br>(%{customdata[7]})<br><br>%{customdata[0]}<br>$%{customdata[3]:,} (%{x:.0%})<br>%{customdata[5]} bed, %{customdata[6]} bath<br>%{customdata[1]} sqft<br>%{customdata[2]:,} lot size<br>$%{customdata[4]} HOA<br>%{y}<extra></extra> average rating\",\"hovertext\":[\"63 Tessera Ave\"],\"legendgroup\":\"Foothill Ranch, For Sale\",\"marker\":{\"color\":\"#00cc96\",\"size\":[2882],\"sizemode\":\"area\",\"sizeref\":20.5,\"symbol\":\"circle\"},\"mode\":\"markers+text\",\"name\":\"Foothill Ranch, For Sale\",\"orientation\":\"v\",\"showlegend\":true,\"text\":[\"63 Tessera Ave\"],\"x\":[0.44],\"xaxis\":\"x\",\"y\":[6.0],\"yaxis\":\"y\",\"type\":\"scatter\",\"textfont\":{\"size\":8},\"textposition\":\"top center\"},{\"hovertemplate\":\"<b>OLS trendline</b><br>aveq = 1.54005 * delta_price + 5.91683<br>R<sup>2</sup>=0.017423<br><br>delta_price=%{x}<br>aveq=%{y} <b>(trend)</b><extra></extra>\",\"legendgroup\":\"\",\"marker\":{\"color\":\"#636efa\",\"symbol\":\"circle\"},\"mode\":\"lines\",\"name\":\"\",\"showlegend\":false,\"x\":[0.0,0.09,0.11,0.17,0.17,0.19,0.19,0.22,0.29,0.29,0.3,0.3,0.31,0.33,0.36,0.37,0.37,0.38,0.39,0.39,0.4,0.41,0.41,0.41,0.42,0.43,0.44,0.45,0.45,0.45,0.47,0.47,0.48,0.5,0.5,0.54,0.58,0.62,0.62,0.63,0.66,0.66,0.67,0.68,0.7,0.71,0.71,0.75,0.77,0.97],\"xaxis\":\"x\",\"y\":[5.916833544256681,6.0554381002009965,6.086239112633067,6.178642149929278,6.178642149929278,6.209443162361348,6.209443162361348,6.2556446810094535,6.363448224521699,6.363448224521699,6.378848730737734,6.378848730737734,6.394249236953769,6.425050249385839,6.4712517680339445,6.4866522742499795,6.4866522742499795,6.502052780466014,6.517453286682049,6.517453286682049,6.532853792898084,6.54825429911412,6.54825429911412,6.54825429911412,6.563654805330155,6.57905531154619,6.594455817762225,6.60985632397826,6.60985632397826,6.60985632397826,6.64065733641033,6.64065733641033,6.656057842626366,6.686858855058436,6.686858855058436,6.748460879922576,6.810062904786716,6.871664929650857,6.871664929650857,6.887065435866892,6.9332669545149965,6.9332669545149965,6.948667460731032,6.964067966947067,6.994868979379137,7.010269485595172,7.010269485595172,7.071871510459313,7.102672522891383,7.410682647212084],\"yaxis\":\"y\",\"type\":\"scatter\"}],                        {\"template\":{\"data\":{\"bar\":[{\"error_x\":{\"color\":\"#2a3f5f\"},\"error_y\":{\"color\":\"#2a3f5f\"},\"marker\":{\"line\":{\"color\":\"#E5ECF6\",\"width\":0.5},\"pattern\":{\"fillmode\":\"overlay\",\"size\":10,\"solidity\":0.2}},\"type\":\"bar\"}],\"barpolar\":[{\"marker\":{\"line\":{\"color\":\"#E5ECF6\",\"width\":0.5},\"pattern\":{\"fillmode\":\"overlay\",\"size\":10,\"solidity\":0.2}},\"type\":\"barpolar\"}],\"carpet\":[{\"aaxis\":{\"endlinecolor\":\"#2a3f5f\",\"gridcolor\":\"white\",\"linecolor\":\"white\",\"minorgridcolor\":\"white\",\"startlinecolor\":\"#2a3f5f\"},\"baxis\":{\"endlinecolor\":\"#2a3f5f\",\"gridcolor\":\"white\",\"linecolor\":\"white\",\"minorgridcolor\":\"white\",\"startlinecolor\":\"#2a3f5f\"},\"type\":\"carpet\"}],\"choropleth\":[{\"colorbar\":{\"outlinewidth\":0,\"ticks\":\"\"},\"type\":\"choropleth\"}],\"contour\":[{\"colorbar\":{\"outlinewidth\":0,\"ticks\":\"\"},\"colorscale\":[[0.0,\"#0d0887\"],[0.1111111111111111,\"#46039f\"],[0.2222222222222222,\"#7201a8\"],[0.3333333333333333,\"#9c179e\"],[0.4444444444444444,\"#bd3786\"],[0.5555555555555556,\"#d8576b\"],[0.6666666666666666,\"#ed7953\"],[0.7777777777777778,\"#fb9f3a\"],[0.8888888888888888,\"#fdca26\"],[1.0,\"#f0f921\"]],\"type\":\"contour\"}],\"contourcarpet\":[{\"colorbar\":{\"outlinewidth\":0,\"ticks\":\"\"},\"type\":\"contourcarpet\"}],\"heatmap\":[{\"colorbar\":{\"outlinewidth\":0,\"ticks\":\"\"},\"colorscale\":[[0.0,\"#0d0887\"],[0.1111111111111111,\"#46039f\"],[0.2222222222222222,\"#7201a8\"],[0.3333333333333333,\"#9c179e\"],[0.4444444444444444,\"#bd3786\"],[0.5555555555555556,\"#d8576b\"],[0.6666666666666666,\"#ed7953\"],[0.7777777777777778,\"#fb9f3a\"],[0.8888888888888888,\"#fdca26\"],[1.0,\"#f0f921\"]],\"type\":\"heatmap\"}],\"heatmapgl\":[{\"colorbar\":{\"outlinewidth\":0,\"ticks\":\"\"},\"colorscale\":[[0.0,\"#0d0887\"],[0.1111111111111111,\"#46039f\"],[0.2222222222222222,\"#7201a8\"],[0.3333333333333333,\"#9c179e\"],[0.4444444444444444,\"#bd3786\"],[0.5555555555555556,\"#d8576b\"],[0.6666666666666666,\"#ed7953\"],[0.7777777777777778,\"#fb9f3a\"],[0.8888888888888888,\"#fdca26\"],[1.0,\"#f0f921\"]],\"type\":\"heatmapgl\"}],\"histogram\":[{\"marker\":{\"pattern\":{\"fillmode\":\"overlay\",\"size\":10,\"solidity\":0.2}},\"type\":\"histogram\"}],\"histogram2d\":[{\"colorbar\":{\"outlinewidth\":0,\"ticks\":\"\"},\"colorscale\":[[0.0,\"#0d0887\"],[0.1111111111111111,\"#46039f\"],[0.2222222222222222,\"#7201a8\"],[0.3333333333333333,\"#9c179e\"],[0.4444444444444444,\"#bd3786\"],[0.5555555555555556,\"#d8576b\"],[0.6666666666666666,\"#ed7953\"],[0.7777777777777778,\"#fb9f3a\"],[0.8888888888888888,\"#fdca26\"],[1.0,\"#f0f921\"]],\"type\":\"histogram2d\"}],\"histogram2dcontour\":[{\"colorbar\":{\"outlinewidth\":0,\"ticks\":\"\"},\"colorscale\":[[0.0,\"#0d0887\"],[0.1111111111111111,\"#46039f\"],[0.2222222222222222,\"#7201a8\"],[0.3333333333333333,\"#9c179e\"],[0.4444444444444444,\"#bd3786\"],[0.5555555555555556,\"#d8576b\"],[0.6666666666666666,\"#ed7953\"],[0.7777777777777778,\"#fb9f3a\"],[0.8888888888888888,\"#fdca26\"],[1.0,\"#f0f921\"]],\"type\":\"histogram2dcontour\"}],\"mesh3d\":[{\"colorbar\":{\"outlinewidth\":0,\"ticks\":\"\"},\"type\":\"mesh3d\"}],\"parcoords\":[{\"line\":{\"colorbar\":{\"outlinewidth\":0,\"ticks\":\"\"}},\"type\":\"parcoords\"}],\"pie\":[{\"automargin\":true,\"type\":\"pie\"}],\"scatter\":[{\"marker\":{\"colorbar\":{\"outlinewidth\":0,\"ticks\":\"\"}},\"type\":\"scatter\"}],\"scatter3d\":[{\"line\":{\"colorbar\":{\"outlinewidth\":0,\"ticks\":\"\"}},\"marker\":{\"colorbar\":{\"outlinewidth\":0,\"ticks\":\"\"}},\"type\":\"scatter3d\"}],\"scattercarpet\":[{\"marker\":{\"colorbar\":{\"outlinewidth\":0,\"ticks\":\"\"}},\"type\":\"scattercarpet\"}],\"scattergeo\":[{\"marker\":{\"colorbar\":{\"outlinewidth\":0,\"ticks\":\"\"}},\"type\":\"scattergeo\"}],\"scattergl\":[{\"marker\":{\"colorbar\":{\"outlinewidth\":0,\"ticks\":\"\"}},\"type\":\"scattergl\"}],\"scattermapbox\":[{\"marker\":{\"colorbar\":{\"outlinewidth\":0,\"ticks\":\"\"}},\"type\":\"scattermapbox\"}],\"scatterpolar\":[{\"marker\":{\"colorbar\":{\"outlinewidth\":0,\"ticks\":\"\"}},\"type\":\"scatterpolar\"}],\"scatterpolargl\":[{\"marker\":{\"colorbar\":{\"outlinewidth\":0,\"ticks\":\"\"}},\"type\":\"scatterpolargl\"}],\"scatterternary\":[{\"marker\":{\"colorbar\":{\"outlinewidth\":0,\"ticks\":\"\"}},\"type\":\"scatterternary\"}],\"surface\":[{\"colorbar\":{\"outlinewidth\":0,\"ticks\":\"\"},\"colorscale\":[[0.0,\"#0d0887\"],[0.1111111111111111,\"#46039f\"],[0.2222222222222222,\"#7201a8\"],[0.3333333333333333,\"#9c179e\"],[0.4444444444444444,\"#bd3786\"],[0.5555555555555556,\"#d8576b\"],[0.6666666666666666,\"#ed7953\"],[0.7777777777777778,\"#fb9f3a\"],[0.8888888888888888,\"#fdca26\"],[1.0,\"#f0f921\"]],\"type\":\"surface\"}],\"table\":[{\"cells\":{\"fill\":{\"color\":\"#EBF0F8\"},\"line\":{\"color\":\"white\"}},\"header\":{\"fill\":{\"color\":\"#C8D4E3\"},\"line\":{\"color\":\"white\"}},\"type\":\"table\"}]},\"layout\":{\"annotationdefaults\":{\"arrowcolor\":\"#2a3f5f\",\"arrowhead\":0,\"arrowwidth\":1},\"autotypenumbers\":\"strict\",\"coloraxis\":{\"colorbar\":{\"outlinewidth\":0,\"ticks\":\"\"}},\"colorscale\":{\"diverging\":[[0,\"#8e0152\"],[0.1,\"#c51b7d\"],[0.2,\"#de77ae\"],[0.3,\"#f1b6da\"],[0.4,\"#fde0ef\"],[0.5,\"#f7f7f7\"],[0.6,\"#e6f5d0\"],[0.7,\"#b8e186\"],[0.8,\"#7fbc41\"],[0.9,\"#4d9221\"],[1,\"#276419\"]],\"sequential\":[[0.0,\"#0d0887\"],[0.1111111111111111,\"#46039f\"],[0.2222222222222222,\"#7201a8\"],[0.3333333333333333,\"#9c179e\"],[0.4444444444444444,\"#bd3786\"],[0.5555555555555556,\"#d8576b\"],[0.6666666666666666,\"#ed7953\"],[0.7777777777777778,\"#fb9f3a\"],[0.8888888888888888,\"#fdca26\"],[1.0,\"#f0f921\"]],\"sequentialminus\":[[0.0,\"#0d0887\"],[0.1111111111111111,\"#46039f\"],[0.2222222222222222,\"#7201a8\"],[0.3333333333333333,\"#9c179e\"],[0.4444444444444444,\"#bd3786\"],[0.5555555555555556,\"#d8576b\"],[0.6666666666666666,\"#ed7953\"],[0.7777777777777778,\"#fb9f3a\"],[0.8888888888888888,\"#fdca26\"],[1.0,\"#f0f921\"]]},\"colorway\":[\"#636efa\",\"#EF553B\",\"#00cc96\",\"#ab63fa\",\"#FFA15A\",\"#19d3f3\",\"#FF6692\",\"#B6E880\",\"#FF97FF\",\"#FECB52\"],\"font\":{\"color\":\"#2a3f5f\"},\"geo\":{\"bgcolor\":\"white\",\"lakecolor\":\"white\",\"landcolor\":\"#E5ECF6\",\"showlakes\":true,\"showland\":true,\"subunitcolor\":\"white\"},\"hoverlabel\":{\"align\":\"left\"},\"hovermode\":\"closest\",\"mapbox\":{\"style\":\"light\"},\"paper_bgcolor\":\"white\",\"plot_bgcolor\":\"#E5ECF6\",\"polar\":{\"angularaxis\":{\"gridcolor\":\"white\",\"linecolor\":\"white\",\"ticks\":\"\"},\"bgcolor\":\"#E5ECF6\",\"radialaxis\":{\"gridcolor\":\"white\",\"linecolor\":\"white\",\"ticks\":\"\"}},\"scene\":{\"xaxis\":{\"backgroundcolor\":\"#E5ECF6\",\"gridcolor\":\"white\",\"gridwidth\":2,\"linecolor\":\"white\",\"showbackground\":true,\"ticks\":\"\",\"zerolinecolor\":\"white\"},\"yaxis\":{\"backgroundcolor\":\"#E5ECF6\",\"gridcolor\":\"white\",\"gridwidth\":2,\"linecolor\":\"white\",\"showbackground\":true,\"ticks\":\"\",\"zerolinecolor\":\"white\"},\"zaxis\":{\"backgroundcolor\":\"#E5ECF6\",\"gridcolor\":\"white\",\"gridwidth\":2,\"linecolor\":\"white\",\"showbackground\":true,\"ticks\":\"\",\"zerolinecolor\":\"white\"}},\"shapedefaults\":{\"line\":{\"color\":\"#2a3f5f\"}},\"ternary\":{\"aaxis\":{\"gridcolor\":\"white\",\"linecolor\":\"white\",\"ticks\":\"\"},\"baxis\":{\"gridcolor\":\"white\",\"linecolor\":\"white\",\"ticks\":\"\"},\"bgcolor\":\"#E5ECF6\",\"caxis\":{\"gridcolor\":\"white\",\"linecolor\":\"white\",\"ticks\":\"\"}},\"title\":{\"x\":0.05},\"xaxis\":{\"automargin\":true,\"gridcolor\":\"white\",\"linecolor\":\"white\",\"ticks\":\"\",\"title\":{\"standoff\":15},\"zerolinecolor\":\"white\",\"zerolinewidth\":2},\"yaxis\":{\"automargin\":true,\"gridcolor\":\"white\",\"linecolor\":\"white\",\"ticks\":\"\",\"title\":{\"standoff\":15},\"zerolinecolor\":\"white\",\"zerolinewidth\":2}}},\"xaxis\":{\"anchor\":\"y\",\"domain\":[0.0,1.0],\"title\":{\"text\":\"Price change (since 2019)\"},\"tickformat\":\".0%\"},\"yaxis\":{\"anchor\":\"x\",\"domain\":[0.0,1.0],\"title\":{\"text\":\"Rating (average)\"}},\"legend\":{\"title\":{\"text\":\"area, status\"},\"tracegroupgap\":0,\"itemsizing\":\"constant\"},\"margin\":{\"t\":60},\"title\":{\"text\":\"Orange County Houses: Rating vs Price change (since 2019)\"},\"shapes\":[{\"fillcolor\":\"green\",\"line\":{\"width\":0},\"opacity\":0.1,\"type\":\"rect\",\"x0\":-0.1,\"x1\":0.44359999999999994,\"xref\":\"x\",\"y0\":0,\"y1\":1,\"yref\":\"y domain\"},{\"fillcolor\":\"red\",\"line\":{\"width\":0},\"opacity\":0.1,\"type\":\"rect\",\"x0\":0.44359999999999994,\"x1\":1.05,\"xref\":\"x\",\"y0\":0,\"y1\":1,\"yref\":\"y domain\"}],\"annotations\":[{\"showarrow\":false,\"text\":\"note: green/red boundary is at the median price increase\",\"x\":0.5,\"xref\":\"paper\",\"y\":0,\"yref\":\"paper\"}]},                        {\"responsive\": true}                    ).then(function(){\n",
              "                            \n",
              "var gd = document.getElementById('e0e27d5f-2ddf-4816-a7b4-c1a2a9b978f1');\n",
              "var x = new MutationObserver(function (mutations, observer) {{\n",
              "        var display = window.getComputedStyle(gd).display;\n",
              "        if (!display || display === 'none') {{\n",
              "            console.log([gd, 'removed!']);\n",
              "            Plotly.purge(gd);\n",
              "            observer.disconnect();\n",
              "        }}\n",
              "}});\n",
              "\n",
              "// Listen for the removal of the full notebook cells\n",
              "var notebookContainer = gd.closest('#notebook-container');\n",
              "if (notebookContainer) {{\n",
              "    x.observe(notebookContainer, {childList: true});\n",
              "}}\n",
              "\n",
              "// Listen for the clearing of the current output cell\n",
              "var outputEl = gd.closest('.output');\n",
              "if (outputEl) {{\n",
              "    x.observe(outputEl, {childList: true});\n",
              "}}\n",
              "\n",
              "                        })                };                            </script>        </div>\n",
              "</body>\n",
              "</html>"
            ]
          },
          "metadata": {}
        }
      ]
    },
    {
      "cell_type": "markdown",
      "source": [
        "### What are our ratings sensitive to? Rating, Price and Square Footage\n",
        "\n",
        "Our average house rating grows *less than linearly* with the increase in square footage. \n",
        "\n",
        "* There are several houses with an `average rating > 7` beyond `3500` square feet. "
      ],
      "metadata": {
        "id": "TiRFiexDfvGY"
      }
    },
    {
      "cell_type": "code",
      "source": [
        "#hide_input\n",
        "# Rating vs Sqft\n",
        "\n",
        "trend = px.scatter(hdf,y=\"aveq\",x=\"sqft\",trendline=\"ols\",trendline_options=dict(log_x=True)).data[1] # the trendline option will add a second trace (trend.data[1]) that we can add to the scatter plot we want\n",
        "fig = px.scatter(hdf,y=\"aveq\",x=\"sqft\",color=\"area\",hover_name=\"home2\",hover_data=[\"area\",\"sqft\",\"lot\",\"price\",\"delta_price\",\"hoafee\",\"bed\",\"bath\",\"status\"])\n",
        "hovertemplate = \"<b>%{hovertext}</b><br>(%{customdata[7]})<br><br>%{customdata[0]}<br>$%{customdata[2]:,} (%{customdata[3]:.0%})<br>%{customdata[5]} bed, %{customdata[6]} bath<br>%{x} sqft<br>%{customdata[1]:,} lot size<br>$%{customdata[4]} HOA<br>%{y}<extra></extra> average rating\"\n",
        "fig.update_traces(hovertemplate=hovertemplate)\n",
        "fig.add_trace(trend)\n",
        "fig.update_layout(title=\"Orange County Houses: Rating vs Square Footage\")\n",
        "fig.update_xaxes(title_text=\"Square Feet\")\n",
        "fig.update_yaxes(title_text=\"Rating (average)\")\n",
        "fig.write_html('H21_rating_vs_sqft.html')\n",
        "fig.show()"
      ],
      "metadata": {
        "id": "g30lXH_PAgJK",
        "colab": {
          "base_uri": "https://localhost:8080/",
          "height": 542
        },
        "outputId": "b98d2ea5-eeca-4d3d-a522-9de8ee2f7351"
      },
      "execution_count": 44,
      "outputs": [
        {
          "output_type": "display_data",
          "data": {
            "text/html": [
              "<html>\n",
              "<head><meta charset=\"utf-8\" /></head>\n",
              "<body>\n",
              "    <div>            <script src=\"https://cdnjs.cloudflare.com/ajax/libs/mathjax/2.7.5/MathJax.js?config=TeX-AMS-MML_SVG\"></script><script type=\"text/javascript\">if (window.MathJax) {MathJax.Hub.Config({SVG: {font: \"STIX-Web\"}});}</script>                <script type=\"text/javascript\">window.PlotlyConfig = {MathJaxConfig: 'local'};</script>\n",
              "        <script src=\"https://cdn.plot.ly/plotly-2.8.3.min.js\"></script>                <div id=\"5401aa55-554f-4680-931d-5858e69fc564\" class=\"plotly-graph-div\" style=\"height:525px; width:100%;\"></div>            <script type=\"text/javascript\">                                    window.PLOTLYENV=window.PLOTLYENV || {};                                    if (document.getElementById(\"5401aa55-554f-4680-931d-5858e69fc564\")) {                    Plotly.newPlot(                        \"5401aa55-554f-4680-931d-5858e69fc564\",                        [{\"customdata\":[[\"Laguna Hills\",7500,1550000,0.19,130,4,4,\"Under Contract\"],[\"Laguna Hills\",15681,2999999,0.3,113,8,11,\"Pending\"],[\"Laguna Hills\",28314,3995000,0.48,157,6,6,\"For Sale\"],[\"Laguna Hills\",21780,2199000,0.22,147,5,5,\"Pending\"],[\"Laguna Hills\",82764,2500000,0.0,471,6,7,\"Pending\"],[\"Laguna Hills\",8190,1520000,0.75,0,4,3,\"For Sale\"],[\"Laguna Hills\",10150,1395000,0.62,0,4,3,\"Pending\"],[\"Laguna Hills\",16117,1699900,0.7,0,5,4,\"Off Market\"],[\"Laguna Hills\",7345,1349000,0.5,0,4,3,\"Under Contract\"],[\"Laguna Hills\",7701,1599000,0.33,130,5,3,\"For Sale\"]],\"hovertemplate\":\"<b>%{hovertext}</b><br>(%{customdata[7]})<br><br>%{customdata[0]}<br>$%{customdata[2]:,} (%{customdata[3]:.0%})<br>%{customdata[5]} bed, %{customdata[6]} bath<br>%{x} sqft<br>%{customdata[1]:,} lot size<br>$%{customdata[4]} HOA<br>%{y}<extra></extra> average rating\",\"hovertext\":[\"25861 Faircourt Ln\",\"26041 Spur Branch Ln\",\"27641 Deputy Cir\",\"27773 Hidden Trail Rd\",\"25731 Bucklestone Dr\",\"25551 El Capitan Ln\",\"25491 El Conejo Ln\",\"25485 Barents St\",\"25292 Linda Vista Dr\",\"26936 Falling Leaf Dr\"],\"legendgroup\":\"Laguna Hills\",\"marker\":{\"color\":\"#636efa\",\"symbol\":\"circle\"},\"mode\":\"markers\",\"name\":\"Laguna Hills\",\"orientation\":\"v\",\"showlegend\":true,\"x\":[3513,7372,6742,4000,6799,2841,2650,3890,3178,3370],\"xaxis\":\"x\",\"y\":[0.0,10.0,9.2,8.5,8.3,6.0,5.3,4.4,4.0,7.0],\"yaxis\":\"y\",\"type\":\"scatter\"},{\"customdata\":[[\"Fullerton\",28750,1675000,0.29,0,4,3,\"Under Contract\"]],\"hovertemplate\":\"<b>%{hovertext}</b><br>(%{customdata[7]})<br><br>%{customdata[0]}<br>$%{customdata[2]:,} (%{customdata[3]:.0%})<br>%{customdata[5]} bed, %{customdata[6]} bath<br>%{x} sqft<br>%{customdata[1]:,} lot size<br>$%{customdata[4]} HOA<br>%{y}<extra></extra> average rating\",\"hovertext\":[\"3101 Flintridge Dr\"],\"legendgroup\":\"Fullerton\",\"marker\":{\"color\":\"#EF553B\",\"symbol\":\"circle\"},\"mode\":\"markers\",\"name\":\"Fullerton\",\"orientation\":\"v\",\"showlegend\":true,\"x\":[3183],\"xaxis\":\"x\",\"y\":[0.0],\"yaxis\":\"y\",\"type\":\"scatter\"},{\"customdata\":[[\"Ladera Ranch\",6322,1700000,0.42,200,5,4,\"For Sale\"],[\"Ladera Ranch\",8847,2699900,0.5,472,5,6,\"Pending\"],[\"Ladera Ranch\",5767,1299000,0.37,226,5,3,\"Pending\"]],\"hovertemplate\":\"<b>%{hovertext}</b><br>(%{customdata[7]})<br><br>%{customdata[0]}<br>$%{customdata[2]:,} (%{customdata[3]:.0%})<br>%{customdata[5]} bed, %{customdata[6]} bath<br>%{x} sqft<br>%{customdata[1]:,} lot size<br>$%{customdata[4]} HOA<br>%{y}<extra></extra> average rating\",\"hovertext\":[\"20 Winslow St\",\"19 Basilica Pl\",\"39 Chimney Ln\"],\"legendgroup\":\"Ladera Ranch\",\"marker\":{\"color\":\"#00cc96\",\"symbol\":\"circle\"},\"mode\":\"markers\",\"name\":\"Ladera Ranch\",\"orientation\":\"v\",\"showlegend\":true,\"x\":[3433,4673,2523],\"xaxis\":\"x\",\"y\":[9.0,8.0,5.3],\"yaxis\":\"y\",\"type\":\"scatter\"},{\"customdata\":[[\"Mission Viejo\",9308,1949900,0.3,237,5,5,\"Pending\"],[\"Mission Viejo\",7700,1450000,0.45,76,5,3,\"Pending\"],[\"Mission Viejo\",9315,2088000,0.31,497,4,5,\"Under Contract\"],[\"Mission Viejo\",7962,1595000,0.45,253,4,3,\"Sold\"],[\"Mission Viejo\",7474,2000000,0.54,253,5,4,\"Off Market\"],[\"Mission Viejo\",5508,1499000,0.58,169,5,3,\"Pending\"],[\"Mission Viejo\",5775,1695000,0.41,125,5,3,\"Pending\"],[\"Mission Viejo\",11326,1595000,0.77,0,6,4,\"For Sale\"]],\"hovertemplate\":\"<b>%{hovertext}</b><br>(%{customdata[7]})<br><br>%{customdata[0]}<br>$%{customdata[2]:,} (%{customdata[3]:.0%})<br>%{customdata[5]} bed, %{customdata[6]} bath<br>%{x} sqft<br>%{customdata[1]:,} lot size<br>$%{customdata[4]} HOA<br>%{y}<extra></extra> average rating\",\"hovertext\":[\"1 Wyeth St\",\"28335 Driza\",\"5 Christopher St\",\"23272 Eagle Rdg\",\"24038 Skyline\",\"26192 Palmetto Pl\",\"25575 Pacific Hills Dr\",\"26722 Cuenca Dr\"],\"legendgroup\":\"Mission Viejo\",\"marker\":{\"color\":\"#ab63fa\",\"symbol\":\"circle\"},\"mode\":\"markers\",\"name\":\"Mission Viejo\",\"orientation\":\"v\",\"showlegend\":true,\"x\":[3792,3415,3906,3747,3300,2866,2908,2882],\"xaxis\":\"x\",\"y\":[10.0,8.0,8.0,7.4,7.0,6.5,4.6,6.0],\"yaxis\":\"y\",\"type\":\"scatter\"},{\"customdata\":[[\"Coto De Caza\",22216,2699000,0.29,225,6,7,\"Pending\"],[\"Coto De Caza\",9600,2495000,0.39,278,5,6,\"Under Contract\"],[\"Coto De Caza\",19602,2899000,0.45,235,6,5,\"Sold\"],[\"Coto De Caza\",13068,2999000,0.67,235,5,5,\"Under Contract\"],[\"Coto De Caza\",12196,2399500,0.41,235,5,5,\"Pending\"],[\"Coto De Caza\",12197,1549000,0.19,235,4,3,\"Pending\"],[\"Coto De Caza\",6840,1649000,0.37,140,6,6,\"Pending\"]],\"hovertemplate\":\"<b>%{hovertext}</b><br>(%{customdata[7]})<br><br>%{customdata[0]}<br>$%{customdata[2]:,} (%{customdata[3]:.0%})<br>%{customdata[5]} bed, %{customdata[6]} bath<br>%{x} sqft<br>%{customdata[1]:,} lot size<br>$%{customdata[4]} HOA<br>%{y}<extra></extra> average rating\",\"hovertext\":[\"8 Lippizaner\",\"114 Vela Ct\",\"8 Panorama\",\"3 Canada Oaks\",\"29 Cherry Hills Dr\",\"4 Tanglewood\",\"31862 Via Pato\"],\"legendgroup\":\"Coto De Caza\",\"marker\":{\"color\":\"#FFA15A\",\"symbol\":\"circle\"},\"mode\":\"markers\",\"name\":\"Coto De Caza\",\"orientation\":\"v\",\"showlegend\":true,\"x\":[5600,5177,5000,4400,3970,3000,3300],\"xaxis\":\"x\",\"y\":[10.0,8.4,8.4,7.8,7.0,6.0,4.8],\"yaxis\":\"y\",\"type\":\"scatter\"},{\"customdata\":[[\"Laguna Niguel\",19166,5900000,0.97,0,7,11,\"Off Market\"],[\"Laguna Niguel\",15246,3888000,0.39,336,5,6,\"For Sale\"],[\"Laguna Niguel\",7800,2750000,0.62,350,5,5,\"Pending\"],[\"Laguna Niguel\",13068,1750000,0.09,0,4,4,\"Pending\"],[\"Laguna Niguel\",7800,1500000,0.36,155,4,3,\"Pending\"],[\"Laguna Niguel\",8170,2495000,0.66,280,5,5,\"Under Contract\"],[\"Laguna Niguel\",7258,2000000,0.43,190,5,4,\"Pending\"],[\"Laguna Niguel\",6500,1999888,0.11,154,4,4,\"Pending\"]],\"hovertemplate\":\"<b>%{hovertext}</b><br>(%{customdata[7]})<br><br>%{customdata[0]}<br>$%{customdata[2]:,} (%{customdata[3]:.0%})<br>%{customdata[5]} bed, %{customdata[6]} bath<br>%{x} sqft<br>%{customdata[1]:,} lot size<br>$%{customdata[4]} HOA<br>%{y}<extra></extra> average rating\",\"hovertext\":[\"30752 Paseo Del Niguel\",\"12 Vista Montemar\",\"35 Hastings\",\"24711 Crown Royale\",\"4 Bastia\",\"28811 Drakes Bay\",\"27856 Homestead Rd\",\"30322 La Vue\"],\"legendgroup\":\"Laguna Niguel\",\"marker\":{\"color\":\"#19d3f3\",\"symbol\":\"circle\"},\"mode\":\"markers\",\"name\":\"Laguna Niguel\",\"orientation\":\"v\",\"showlegend\":true,\"x\":[8200,5300,3690,4075,2625,3800,3284,3656],\"xaxis\":\"x\",\"y\":[9.6,8.4,8.0,7.2,7.0,6.5,5.3,1.0],\"yaxis\":\"y\",\"type\":\"scatter\"},{\"customdata\":[[\"San Juan Capistrano\",11761,2199000,0.47,325,5,5,\"Under Contract\"],[\"San Juan Capistrano\",22651,2925000,0.17,350,5,5,\"Off Market\"],[\"San Juan Capistrano\",12632,2489000,0.66,205,4,4,\"Sold\"],[\"San Juan Capistrano\",20908,1399900,0.4,0,4,3,\"Under Contract\"]],\"hovertemplate\":\"<b>%{hovertext}</b><br>(%{customdata[7]})<br><br>%{customdata[0]}<br>$%{customdata[2]:,} (%{customdata[3]:.0%})<br>%{customdata[5]} bed, %{customdata[6]} bath<br>%{x} sqft<br>%{customdata[1]:,} lot size<br>$%{customdata[4]} HOA<br>%{y}<extra></extra> average rating\",\"hovertext\":[\"32162 Calle Los Elegantes\",\"27826 Golden Ridge Ln\",\"28242 Las Brisas Del Mar\",\"31952 Paseo Terraza\"],\"legendgroup\":\"San Juan Capistrano\",\"marker\":{\"color\":\"#FF6692\",\"symbol\":\"circle\"},\"mode\":\"markers\",\"name\":\"San Juan Capistrano\",\"orientation\":\"v\",\"showlegend\":true,\"x\":[4473,5387,3000,2567],\"xaxis\":\"x\",\"y\":[9.0,7.6,5.6,4.4],\"yaxis\":\"y\",\"type\":\"scatter\"},{\"customdata\":[[\"Lake Forest\",9350,1798000,0.63,175,5,4,\"For Sale\"],[\"Lake Forest\",5663,1400000,0.71,125,5,4,\"For Sale\"],[\"Lake Forest\",4344,1550000,0.41,261,4,3,\"Pending\"]],\"hovertemplate\":\"<b>%{hovertext}</b><br>(%{customdata[7]})<br><br>%{customdata[0]}<br>$%{customdata[2]:,} (%{customdata[3]:.0%})<br>%{customdata[5]} bed, %{customdata[6]} bath<br>%{x} sqft<br>%{customdata[1]:,} lot size<br>$%{customdata[4]} HOA<br>%{y}<extra></extra> average rating\",\"hovertext\":[\"21861 Montbury Dr\",\"21422 Via Floresta\",\"78 Pinnacle Dr\"],\"legendgroup\":\"Lake Forest\",\"marker\":{\"color\":\"#B6E880\",\"symbol\":\"circle\"},\"mode\":\"markers\",\"name\":\"Lake Forest\",\"orientation\":\"v\",\"showlegend\":true,\"x\":[3458,2672,2915],\"xaxis\":\"x\",\"y\":[8.0,5.4,2.5],\"yaxis\":\"y\",\"type\":\"scatter\"},{\"customdata\":[[\"San Clemente\",9778,2400000,0.71,215,5,5,\"For Sale\"]],\"hovertemplate\":\"<b>%{hovertext}</b><br>(%{customdata[7]})<br><br>%{customdata[0]}<br>$%{customdata[2]:,} (%{customdata[3]:.0%})<br>%{customdata[5]} bed, %{customdata[6]} bath<br>%{x} sqft<br>%{customdata[1]:,} lot size<br>$%{customdata[4]} HOA<br>%{y}<extra></extra> average rating\",\"hovertext\":[\"23 Via Lucena\"],\"legendgroup\":\"San Clemente\",\"marker\":{\"color\":\"#FF97FF\",\"symbol\":\"circle\"},\"mode\":\"markers\",\"name\":\"San Clemente\",\"orientation\":\"v\",\"showlegend\":true,\"x\":[3786],\"xaxis\":\"x\",\"y\":[8.0],\"yaxis\":\"y\",\"type\":\"scatter\"},{\"customdata\":[[\"Orange\",8000,1499000,0.68,0,4,3,\"Under Contract\"]],\"hovertemplate\":\"<b>%{hovertext}</b><br>(%{customdata[7]})<br><br>%{customdata[0]}<br>$%{customdata[2]:,} (%{customdata[3]:.0%})<br>%{customdata[5]} bed, %{customdata[6]} bath<br>%{x} sqft<br>%{customdata[1]:,} lot size<br>$%{customdata[4]} HOA<br>%{y}<extra></extra> average rating\",\"hovertext\":[\"2110 E Vista Mesa Way\"],\"legendgroup\":\"Orange\",\"marker\":{\"color\":\"#FECB52\",\"symbol\":\"circle\"},\"mode\":\"markers\",\"name\":\"Orange\",\"orientation\":\"v\",\"showlegend\":true,\"x\":[2936],\"xaxis\":\"x\",\"y\":[7.0],\"yaxis\":\"y\",\"type\":\"scatter\"},{\"customdata\":[[\"Irvine\",9558,2800000,0.47,215,4,5,\"Pending\"],[\"Irvine\",5972,2895000,0.38,490,4,4,\"For Sale\"]],\"hovertemplate\":\"<b>%{hovertext}</b><br>(%{customdata[7]})<br><br>%{customdata[0]}<br>$%{customdata[2]:,} (%{customdata[3]:.0%})<br>%{customdata[5]} bed, %{customdata[6]} bath<br>%{x} sqft<br>%{customdata[1]:,} lot size<br>$%{customdata[4]} HOA<br>%{y}<extra></extra> average rating\",\"hovertext\":[\"116 Crossover\",\"24 Trumpet Vine\"],\"legendgroup\":\"Irvine\",\"marker\":{\"color\":\"#636efa\",\"symbol\":\"circle\"},\"mode\":\"markers\",\"name\":\"Irvine\",\"orientation\":\"v\",\"showlegend\":true,\"x\":[4106,3066],\"xaxis\":\"x\",\"y\":[6.8,5.6],\"yaxis\":\"y\",\"type\":\"scatter\"},{\"customdata\":[[\"Dana Point\",12632,2330000,0.17,260,5,5,\"Sold\"]],\"hovertemplate\":\"<b>%{hovertext}</b><br>(%{customdata[7]})<br><br>%{customdata[0]}<br>$%{customdata[2]:,} (%{customdata[3]:.0%})<br>%{customdata[5]} bed, %{customdata[6]} bath<br>%{x} sqft<br>%{customdata[1]:,} lot size<br>$%{customdata[4]} HOA<br>%{y}<extra></extra> average rating\",\"hovertext\":[\"32761 Ocean Vista Ct\"],\"legendgroup\":\"Dana Point\",\"marker\":{\"color\":\"#EF553B\",\"symbol\":\"circle\"},\"mode\":\"markers\",\"name\":\"Dana Point\",\"orientation\":\"v\",\"showlegend\":true,\"x\":[3630],\"xaxis\":\"x\",\"y\":[6.2],\"yaxis\":\"y\",\"type\":\"scatter\"},{\"customdata\":[[\"Foothill Ranch\",5100,1435000,0.44,84,5,3,\"For Sale\"]],\"hovertemplate\":\"<b>%{hovertext}</b><br>(%{customdata[7]})<br><br>%{customdata[0]}<br>$%{customdata[2]:,} (%{customdata[3]:.0%})<br>%{customdata[5]} bed, %{customdata[6]} bath<br>%{x} sqft<br>%{customdata[1]:,} lot size<br>$%{customdata[4]} HOA<br>%{y}<extra></extra> average rating\",\"hovertext\":[\"63 Tessera Ave\"],\"legendgroup\":\"Foothill Ranch\",\"marker\":{\"color\":\"#00cc96\",\"symbol\":\"circle\"},\"mode\":\"markers\",\"name\":\"Foothill Ranch\",\"orientation\":\"v\",\"showlegend\":true,\"x\":[2882],\"xaxis\":\"x\",\"y\":[6.0],\"yaxis\":\"y\",\"type\":\"scatter\"},{\"hovertemplate\":\"<b>OLS trendline</b><br>aveq = 10.7444 * log10(sqft) + -31.7826<br>R<sup>2</sup>=0.324192<br><br>sqft=%{x}<br>aveq=%{y} <b>(trend)</b><extra></extra>\",\"legendgroup\":\"\",\"marker\":{\"color\":\"#636efa\",\"symbol\":\"circle\"},\"mode\":\"lines\",\"name\":\"\",\"showlegend\":false,\"x\":[2523,2567,2625,2650,2672,2841,2866,2882,2882,2908,2915,2936,3000,3000,3066,3178,3183,3284,3300,3300,3370,3415,3433,3458,3513,3630,3656,3690,3747,3786,3792,3800,3890,3906,3970,4000,4075,4106,4400,4473,4673,5000,5177,5300,5387,5600,6742,6799,7372,8200],\"xaxis\":\"x\",\"y\":[4.7689568914328575,4.849632434602135,4.953889995924769,4.998120000295046,5.0366986009247015,5.322873139722745,5.363755042403419,5.389732732457055,5.389732732457055,5.431640438538139,5.442859270550002,5.476354830890479,5.576978256107267,5.576978256107267,5.678522393306871,5.845938754359224,5.853274442906731,5.999038354018957,6.021717526362224,6.021717526362224,6.119662992436787,6.181559367520762,6.206089841489373,6.239947416559843,6.313580469007434,6.46645679661718,6.499759708668961,6.542954092197789,6.614483028083114,6.662799665915976,6.670188789430021,6.680022787851776,6.789250336109667,6.8084036950653015,6.884240497235858,6.919369123801687,7.006050821188509,7.04141418473521,7.364108394056643,7.440890207214494,7.645000179405699,7.96060837418738,8.12293638733366,8.232504531878128,8.308479272002558,8.48942614481657,9.355431956762274,9.394716604994699,9.772277635731555,10.268975077972321],\"yaxis\":\"y\",\"type\":\"scatter\"}],                        {\"template\":{\"data\":{\"bar\":[{\"error_x\":{\"color\":\"#2a3f5f\"},\"error_y\":{\"color\":\"#2a3f5f\"},\"marker\":{\"line\":{\"color\":\"#E5ECF6\",\"width\":0.5},\"pattern\":{\"fillmode\":\"overlay\",\"size\":10,\"solidity\":0.2}},\"type\":\"bar\"}],\"barpolar\":[{\"marker\":{\"line\":{\"color\":\"#E5ECF6\",\"width\":0.5},\"pattern\":{\"fillmode\":\"overlay\",\"size\":10,\"solidity\":0.2}},\"type\":\"barpolar\"}],\"carpet\":[{\"aaxis\":{\"endlinecolor\":\"#2a3f5f\",\"gridcolor\":\"white\",\"linecolor\":\"white\",\"minorgridcolor\":\"white\",\"startlinecolor\":\"#2a3f5f\"},\"baxis\":{\"endlinecolor\":\"#2a3f5f\",\"gridcolor\":\"white\",\"linecolor\":\"white\",\"minorgridcolor\":\"white\",\"startlinecolor\":\"#2a3f5f\"},\"type\":\"carpet\"}],\"choropleth\":[{\"colorbar\":{\"outlinewidth\":0,\"ticks\":\"\"},\"type\":\"choropleth\"}],\"contour\":[{\"colorbar\":{\"outlinewidth\":0,\"ticks\":\"\"},\"colorscale\":[[0.0,\"#0d0887\"],[0.1111111111111111,\"#46039f\"],[0.2222222222222222,\"#7201a8\"],[0.3333333333333333,\"#9c179e\"],[0.4444444444444444,\"#bd3786\"],[0.5555555555555556,\"#d8576b\"],[0.6666666666666666,\"#ed7953\"],[0.7777777777777778,\"#fb9f3a\"],[0.8888888888888888,\"#fdca26\"],[1.0,\"#f0f921\"]],\"type\":\"contour\"}],\"contourcarpet\":[{\"colorbar\":{\"outlinewidth\":0,\"ticks\":\"\"},\"type\":\"contourcarpet\"}],\"heatmap\":[{\"colorbar\":{\"outlinewidth\":0,\"ticks\":\"\"},\"colorscale\":[[0.0,\"#0d0887\"],[0.1111111111111111,\"#46039f\"],[0.2222222222222222,\"#7201a8\"],[0.3333333333333333,\"#9c179e\"],[0.4444444444444444,\"#bd3786\"],[0.5555555555555556,\"#d8576b\"],[0.6666666666666666,\"#ed7953\"],[0.7777777777777778,\"#fb9f3a\"],[0.8888888888888888,\"#fdca26\"],[1.0,\"#f0f921\"]],\"type\":\"heatmap\"}],\"heatmapgl\":[{\"colorbar\":{\"outlinewidth\":0,\"ticks\":\"\"},\"colorscale\":[[0.0,\"#0d0887\"],[0.1111111111111111,\"#46039f\"],[0.2222222222222222,\"#7201a8\"],[0.3333333333333333,\"#9c179e\"],[0.4444444444444444,\"#bd3786\"],[0.5555555555555556,\"#d8576b\"],[0.6666666666666666,\"#ed7953\"],[0.7777777777777778,\"#fb9f3a\"],[0.8888888888888888,\"#fdca26\"],[1.0,\"#f0f921\"]],\"type\":\"heatmapgl\"}],\"histogram\":[{\"marker\":{\"pattern\":{\"fillmode\":\"overlay\",\"size\":10,\"solidity\":0.2}},\"type\":\"histogram\"}],\"histogram2d\":[{\"colorbar\":{\"outlinewidth\":0,\"ticks\":\"\"},\"colorscale\":[[0.0,\"#0d0887\"],[0.1111111111111111,\"#46039f\"],[0.2222222222222222,\"#7201a8\"],[0.3333333333333333,\"#9c179e\"],[0.4444444444444444,\"#bd3786\"],[0.5555555555555556,\"#d8576b\"],[0.6666666666666666,\"#ed7953\"],[0.7777777777777778,\"#fb9f3a\"],[0.8888888888888888,\"#fdca26\"],[1.0,\"#f0f921\"]],\"type\":\"histogram2d\"}],\"histogram2dcontour\":[{\"colorbar\":{\"outlinewidth\":0,\"ticks\":\"\"},\"colorscale\":[[0.0,\"#0d0887\"],[0.1111111111111111,\"#46039f\"],[0.2222222222222222,\"#7201a8\"],[0.3333333333333333,\"#9c179e\"],[0.4444444444444444,\"#bd3786\"],[0.5555555555555556,\"#d8576b\"],[0.6666666666666666,\"#ed7953\"],[0.7777777777777778,\"#fb9f3a\"],[0.8888888888888888,\"#fdca26\"],[1.0,\"#f0f921\"]],\"type\":\"histogram2dcontour\"}],\"mesh3d\":[{\"colorbar\":{\"outlinewidth\":0,\"ticks\":\"\"},\"type\":\"mesh3d\"}],\"parcoords\":[{\"line\":{\"colorbar\":{\"outlinewidth\":0,\"ticks\":\"\"}},\"type\":\"parcoords\"}],\"pie\":[{\"automargin\":true,\"type\":\"pie\"}],\"scatter\":[{\"marker\":{\"colorbar\":{\"outlinewidth\":0,\"ticks\":\"\"}},\"type\":\"scatter\"}],\"scatter3d\":[{\"line\":{\"colorbar\":{\"outlinewidth\":0,\"ticks\":\"\"}},\"marker\":{\"colorbar\":{\"outlinewidth\":0,\"ticks\":\"\"}},\"type\":\"scatter3d\"}],\"scattercarpet\":[{\"marker\":{\"colorbar\":{\"outlinewidth\":0,\"ticks\":\"\"}},\"type\":\"scattercarpet\"}],\"scattergeo\":[{\"marker\":{\"colorbar\":{\"outlinewidth\":0,\"ticks\":\"\"}},\"type\":\"scattergeo\"}],\"scattergl\":[{\"marker\":{\"colorbar\":{\"outlinewidth\":0,\"ticks\":\"\"}},\"type\":\"scattergl\"}],\"scattermapbox\":[{\"marker\":{\"colorbar\":{\"outlinewidth\":0,\"ticks\":\"\"}},\"type\":\"scattermapbox\"}],\"scatterpolar\":[{\"marker\":{\"colorbar\":{\"outlinewidth\":0,\"ticks\":\"\"}},\"type\":\"scatterpolar\"}],\"scatterpolargl\":[{\"marker\":{\"colorbar\":{\"outlinewidth\":0,\"ticks\":\"\"}},\"type\":\"scatterpolargl\"}],\"scatterternary\":[{\"marker\":{\"colorbar\":{\"outlinewidth\":0,\"ticks\":\"\"}},\"type\":\"scatterternary\"}],\"surface\":[{\"colorbar\":{\"outlinewidth\":0,\"ticks\":\"\"},\"colorscale\":[[0.0,\"#0d0887\"],[0.1111111111111111,\"#46039f\"],[0.2222222222222222,\"#7201a8\"],[0.3333333333333333,\"#9c179e\"],[0.4444444444444444,\"#bd3786\"],[0.5555555555555556,\"#d8576b\"],[0.6666666666666666,\"#ed7953\"],[0.7777777777777778,\"#fb9f3a\"],[0.8888888888888888,\"#fdca26\"],[1.0,\"#f0f921\"]],\"type\":\"surface\"}],\"table\":[{\"cells\":{\"fill\":{\"color\":\"#EBF0F8\"},\"line\":{\"color\":\"white\"}},\"header\":{\"fill\":{\"color\":\"#C8D4E3\"},\"line\":{\"color\":\"white\"}},\"type\":\"table\"}]},\"layout\":{\"annotationdefaults\":{\"arrowcolor\":\"#2a3f5f\",\"arrowhead\":0,\"arrowwidth\":1},\"autotypenumbers\":\"strict\",\"coloraxis\":{\"colorbar\":{\"outlinewidth\":0,\"ticks\":\"\"}},\"colorscale\":{\"diverging\":[[0,\"#8e0152\"],[0.1,\"#c51b7d\"],[0.2,\"#de77ae\"],[0.3,\"#f1b6da\"],[0.4,\"#fde0ef\"],[0.5,\"#f7f7f7\"],[0.6,\"#e6f5d0\"],[0.7,\"#b8e186\"],[0.8,\"#7fbc41\"],[0.9,\"#4d9221\"],[1,\"#276419\"]],\"sequential\":[[0.0,\"#0d0887\"],[0.1111111111111111,\"#46039f\"],[0.2222222222222222,\"#7201a8\"],[0.3333333333333333,\"#9c179e\"],[0.4444444444444444,\"#bd3786\"],[0.5555555555555556,\"#d8576b\"],[0.6666666666666666,\"#ed7953\"],[0.7777777777777778,\"#fb9f3a\"],[0.8888888888888888,\"#fdca26\"],[1.0,\"#f0f921\"]],\"sequentialminus\":[[0.0,\"#0d0887\"],[0.1111111111111111,\"#46039f\"],[0.2222222222222222,\"#7201a8\"],[0.3333333333333333,\"#9c179e\"],[0.4444444444444444,\"#bd3786\"],[0.5555555555555556,\"#d8576b\"],[0.6666666666666666,\"#ed7953\"],[0.7777777777777778,\"#fb9f3a\"],[0.8888888888888888,\"#fdca26\"],[1.0,\"#f0f921\"]]},\"colorway\":[\"#636efa\",\"#EF553B\",\"#00cc96\",\"#ab63fa\",\"#FFA15A\",\"#19d3f3\",\"#FF6692\",\"#B6E880\",\"#FF97FF\",\"#FECB52\"],\"font\":{\"color\":\"#2a3f5f\"},\"geo\":{\"bgcolor\":\"white\",\"lakecolor\":\"white\",\"landcolor\":\"#E5ECF6\",\"showlakes\":true,\"showland\":true,\"subunitcolor\":\"white\"},\"hoverlabel\":{\"align\":\"left\"},\"hovermode\":\"closest\",\"mapbox\":{\"style\":\"light\"},\"paper_bgcolor\":\"white\",\"plot_bgcolor\":\"#E5ECF6\",\"polar\":{\"angularaxis\":{\"gridcolor\":\"white\",\"linecolor\":\"white\",\"ticks\":\"\"},\"bgcolor\":\"#E5ECF6\",\"radialaxis\":{\"gridcolor\":\"white\",\"linecolor\":\"white\",\"ticks\":\"\"}},\"scene\":{\"xaxis\":{\"backgroundcolor\":\"#E5ECF6\",\"gridcolor\":\"white\",\"gridwidth\":2,\"linecolor\":\"white\",\"showbackground\":true,\"ticks\":\"\",\"zerolinecolor\":\"white\"},\"yaxis\":{\"backgroundcolor\":\"#E5ECF6\",\"gridcolor\":\"white\",\"gridwidth\":2,\"linecolor\":\"white\",\"showbackground\":true,\"ticks\":\"\",\"zerolinecolor\":\"white\"},\"zaxis\":{\"backgroundcolor\":\"#E5ECF6\",\"gridcolor\":\"white\",\"gridwidth\":2,\"linecolor\":\"white\",\"showbackground\":true,\"ticks\":\"\",\"zerolinecolor\":\"white\"}},\"shapedefaults\":{\"line\":{\"color\":\"#2a3f5f\"}},\"ternary\":{\"aaxis\":{\"gridcolor\":\"white\",\"linecolor\":\"white\",\"ticks\":\"\"},\"baxis\":{\"gridcolor\":\"white\",\"linecolor\":\"white\",\"ticks\":\"\"},\"bgcolor\":\"#E5ECF6\",\"caxis\":{\"gridcolor\":\"white\",\"linecolor\":\"white\",\"ticks\":\"\"}},\"title\":{\"x\":0.05},\"xaxis\":{\"automargin\":true,\"gridcolor\":\"white\",\"linecolor\":\"white\",\"ticks\":\"\",\"title\":{\"standoff\":15},\"zerolinecolor\":\"white\",\"zerolinewidth\":2},\"yaxis\":{\"automargin\":true,\"gridcolor\":\"white\",\"linecolor\":\"white\",\"ticks\":\"\",\"title\":{\"standoff\":15},\"zerolinecolor\":\"white\",\"zerolinewidth\":2}}},\"xaxis\":{\"anchor\":\"y\",\"domain\":[0.0,1.0],\"title\":{\"text\":\"Square Feet\"}},\"yaxis\":{\"anchor\":\"x\",\"domain\":[0.0,1.0],\"title\":{\"text\":\"Rating (average)\"}},\"legend\":{\"title\":{\"text\":\"area\"},\"tracegroupgap\":0},\"margin\":{\"t\":60},\"title\":{\"text\":\"Orange County Houses: Rating vs Square Footage\"}},                        {\"responsive\": true}                    ).then(function(){\n",
              "                            \n",
              "var gd = document.getElementById('5401aa55-554f-4680-931d-5858e69fc564');\n",
              "var x = new MutationObserver(function (mutations, observer) {{\n",
              "        var display = window.getComputedStyle(gd).display;\n",
              "        if (!display || display === 'none') {{\n",
              "            console.log([gd, 'removed!']);\n",
              "            Plotly.purge(gd);\n",
              "            observer.disconnect();\n",
              "        }}\n",
              "}});\n",
              "\n",
              "// Listen for the removal of the full notebook cells\n",
              "var notebookContainer = gd.closest('#notebook-container');\n",
              "if (notebookContainer) {{\n",
              "    x.observe(notebookContainer, {childList: true});\n",
              "}}\n",
              "\n",
              "// Listen for the clearing of the current output cell\n",
              "var outputEl = gd.closest('.output');\n",
              "if (outputEl) {{\n",
              "    x.observe(outputEl, {childList: true});\n",
              "}}\n",
              "\n",
              "                        })                };                            </script>        </div>\n",
              "</body>\n",
              "</html>"
            ]
          },
          "metadata": {}
        }
      ]
    },
    {
      "cell_type": "markdown",
      "source": [
        "The following shows that we are ***mostly insensitive to price after the square footage of the house is accounted for*** (with `0.3` change in average rating per `100` increase in price/sqft):"
      ],
      "metadata": {
        "id": "jY9GztFHfFrq"
      }
    },
    {
      "cell_type": "code",
      "source": [
        "#hide_input\n",
        "# Rating vs Price per sqft\n",
        "\n",
        "trend = px.scatter(hdf,y=\"aveq\",x=\"psqft\",trendline=\"ols\").data[1] # the trendline option will add a second trace (trend.data[1]) that we can add to the scatter plot we want\n",
        "fig = px.scatter(hdf,y=\"aveq\",x=\"psqft\",color=\"area\",hover_name=\"home2\",hover_data=[\"area\",\"sqft\",\"lot\",\"price\",\"delta_price\",\"hoafee\",\"bed\",\"bath\",\"status\"])\n",
        "hovertemplate = \"<b>%{hovertext}</b><br>(%{customdata[8]})<br><br>%{customdata[0]}<br>$%{customdata[3]:,} (%{customdata[4]:.0%})<br>%{customdata[6]} bed, %{customdata[7]} bath<br>%{customdata[1]} sqft<br>%{customdata[2]:,} lot size<br>$%{customdata[5]} HOA<br>%{y}<extra></extra> average rating\"\n",
        "fig.update_traces(hovertemplate=hovertemplate)\n",
        "fig.add_trace(trend)\n",
        "fig.update_layout(title=\"Orange County Houses: Rating vs Price per square foot\")\n",
        "fig.update_xaxes(title_text=\"Price per Square Foot\")\n",
        "fig.update_yaxes(title_text=\"Rating (average)\")\n",
        "fig.write_html('H21_rating_vs_psqft.html')\n",
        "fig.show()"
      ],
      "metadata": {
        "id": "1QdWtsjIC9rs",
        "colab": {
          "base_uri": "https://localhost:8080/",
          "height": 542
        },
        "outputId": "784d3fb6-a4e3-46b8-de61-1968cb703736"
      },
      "execution_count": 45,
      "outputs": [
        {
          "output_type": "display_data",
          "data": {
            "text/html": [
              "<html>\n",
              "<head><meta charset=\"utf-8\" /></head>\n",
              "<body>\n",
              "    <div>            <script src=\"https://cdnjs.cloudflare.com/ajax/libs/mathjax/2.7.5/MathJax.js?config=TeX-AMS-MML_SVG\"></script><script type=\"text/javascript\">if (window.MathJax) {MathJax.Hub.Config({SVG: {font: \"STIX-Web\"}});}</script>                <script type=\"text/javascript\">window.PlotlyConfig = {MathJaxConfig: 'local'};</script>\n",
              "        <script src=\"https://cdn.plot.ly/plotly-2.8.3.min.js\"></script>                <div id=\"0b738281-d1db-4337-8f3d-9b1e73c1f1c2\" class=\"plotly-graph-div\" style=\"height:525px; width:100%;\"></div>            <script type=\"text/javascript\">                                    window.PLOTLYENV=window.PLOTLYENV || {};                                    if (document.getElementById(\"0b738281-d1db-4337-8f3d-9b1e73c1f1c2\")) {                    Plotly.newPlot(                        \"0b738281-d1db-4337-8f3d-9b1e73c1f1c2\",                        [{\"customdata\":[[\"Laguna Hills\",3513,7500,1550000,0.19,130,4,4,\"Under Contract\"],[\"Laguna Hills\",7372,15681,2999999,0.3,113,8,11,\"Pending\"],[\"Laguna Hills\",6742,28314,3995000,0.48,157,6,6,\"For Sale\"],[\"Laguna Hills\",4000,21780,2199000,0.22,147,5,5,\"Pending\"],[\"Laguna Hills\",6799,82764,2500000,0.0,471,6,7,\"Pending\"],[\"Laguna Hills\",2841,8190,1520000,0.75,0,4,3,\"For Sale\"],[\"Laguna Hills\",2650,10150,1395000,0.62,0,4,3,\"Pending\"],[\"Laguna Hills\",3890,16117,1699900,0.7,0,5,4,\"Off Market\"],[\"Laguna Hills\",3178,7345,1349000,0.5,0,4,3,\"Under Contract\"],[\"Laguna Hills\",3370,7701,1599000,0.33,130,5,3,\"For Sale\"]],\"hovertemplate\":\"<b>%{hovertext}</b><br>(%{customdata[8]})<br><br>%{customdata[0]}<br>$%{customdata[3]:,} (%{customdata[4]:.0%})<br>%{customdata[6]} bed, %{customdata[7]} bath<br>%{customdata[1]} sqft<br>%{customdata[2]:,} lot size<br>$%{customdata[5]} HOA<br>%{y}<extra></extra> average rating\",\"hovertext\":[\"25861 Faircourt Ln\",\"26041 Spur Branch Ln\",\"27641 Deputy Cir\",\"27773 Hidden Trail Rd\",\"25731 Bucklestone Dr\",\"25551 El Capitan Ln\",\"25491 El Conejo Ln\",\"25485 Barents St\",\"25292 Linda Vista Dr\",\"26936 Falling Leaf Dr\"],\"legendgroup\":\"Laguna Hills\",\"marker\":{\"color\":\"#636efa\",\"symbol\":\"circle\"},\"mode\":\"markers\",\"name\":\"Laguna Hills\",\"orientation\":\"v\",\"showlegend\":true,\"x\":[441,407,593,550,368,535,526,437,424,474],\"xaxis\":\"x\",\"y\":[0.0,10.0,9.2,8.5,8.3,6.0,5.3,4.4,4.0,7.0],\"yaxis\":\"y\",\"type\":\"scatter\"},{\"customdata\":[[\"Fullerton\",3183,28750,1675000,0.29,0,4,3,\"Under Contract\"]],\"hovertemplate\":\"<b>%{hovertext}</b><br>(%{customdata[8]})<br><br>%{customdata[0]}<br>$%{customdata[3]:,} (%{customdata[4]:.0%})<br>%{customdata[6]} bed, %{customdata[7]} bath<br>%{customdata[1]} sqft<br>%{customdata[2]:,} lot size<br>$%{customdata[5]} HOA<br>%{y}<extra></extra> average rating\",\"hovertext\":[\"3101 Flintridge Dr\"],\"legendgroup\":\"Fullerton\",\"marker\":{\"color\":\"#EF553B\",\"symbol\":\"circle\"},\"mode\":\"markers\",\"name\":\"Fullerton\",\"orientation\":\"v\",\"showlegend\":true,\"x\":[526],\"xaxis\":\"x\",\"y\":[0.0],\"yaxis\":\"y\",\"type\":\"scatter\"},{\"customdata\":[[\"Ladera Ranch\",3433,6322,1700000,0.42,200,5,4,\"For Sale\"],[\"Ladera Ranch\",4673,8847,2699900,0.5,472,5,6,\"Pending\"],[\"Ladera Ranch\",2523,5767,1299000,0.37,226,5,3,\"Pending\"]],\"hovertemplate\":\"<b>%{hovertext}</b><br>(%{customdata[8]})<br><br>%{customdata[0]}<br>$%{customdata[3]:,} (%{customdata[4]:.0%})<br>%{customdata[6]} bed, %{customdata[7]} bath<br>%{customdata[1]} sqft<br>%{customdata[2]:,} lot size<br>$%{customdata[5]} HOA<br>%{y}<extra></extra> average rating\",\"hovertext\":[\"20 Winslow St\",\"19 Basilica Pl\",\"39 Chimney Ln\"],\"legendgroup\":\"Ladera Ranch\",\"marker\":{\"color\":\"#00cc96\",\"symbol\":\"circle\"},\"mode\":\"markers\",\"name\":\"Ladera Ranch\",\"orientation\":\"v\",\"showlegend\":true,\"x\":[495,578,515],\"xaxis\":\"x\",\"y\":[9.0,8.0,5.3],\"yaxis\":\"y\",\"type\":\"scatter\"},{\"customdata\":[[\"Mission Viejo\",3792,9308,1949900,0.3,237,5,5,\"Pending\"],[\"Mission Viejo\",3415,7700,1450000,0.45,76,5,3,\"Pending\"],[\"Mission Viejo\",3906,9315,2088000,0.31,497,4,5,\"Under Contract\"],[\"Mission Viejo\",3747,7962,1595000,0.45,253,4,3,\"Sold\"],[\"Mission Viejo\",3300,7474,2000000,0.54,253,5,4,\"Off Market\"],[\"Mission Viejo\",2866,5508,1499000,0.58,169,5,3,\"Pending\"],[\"Mission Viejo\",2908,5775,1695000,0.41,125,5,3,\"Pending\"],[\"Mission Viejo\",2882,11326,1595000,0.77,0,6,4,\"For Sale\"]],\"hovertemplate\":\"<b>%{hovertext}</b><br>(%{customdata[8]})<br><br>%{customdata[0]}<br>$%{customdata[3]:,} (%{customdata[4]:.0%})<br>%{customdata[6]} bed, %{customdata[7]} bath<br>%{customdata[1]} sqft<br>%{customdata[2]:,} lot size<br>$%{customdata[5]} HOA<br>%{y}<extra></extra> average rating\",\"hovertext\":[\"1 Wyeth St\",\"28335 Driza\",\"5 Christopher St\",\"23272 Eagle Rdg\",\"24038 Skyline\",\"26192 Palmetto Pl\",\"25575 Pacific Hills Dr\",\"26722 Cuenca Dr\"],\"legendgroup\":\"Mission Viejo\",\"marker\":{\"color\":\"#ab63fa\",\"symbol\":\"circle\"},\"mode\":\"markers\",\"name\":\"Mission Viejo\",\"orientation\":\"v\",\"showlegend\":true,\"x\":[514,425,535,426,606,523,583,553],\"xaxis\":\"x\",\"y\":[10.0,8.0,8.0,7.4,7.0,6.5,4.6,6.0],\"yaxis\":\"y\",\"type\":\"scatter\"},{\"customdata\":[[\"Coto De Caza\",5600,22216,2699000,0.29,225,6,7,\"Pending\"],[\"Coto De Caza\",5177,9600,2495000,0.39,278,5,6,\"Under Contract\"],[\"Coto De Caza\",5000,19602,2899000,0.45,235,6,5,\"Sold\"],[\"Coto De Caza\",4400,13068,2999000,0.67,235,5,5,\"Under Contract\"],[\"Coto De Caza\",3970,12196,2399500,0.41,235,5,5,\"Pending\"],[\"Coto De Caza\",3000,12197,1549000,0.19,235,4,3,\"Pending\"],[\"Coto De Caza\",3300,6840,1649000,0.37,140,6,6,\"Pending\"]],\"hovertemplate\":\"<b>%{hovertext}</b><br>(%{customdata[8]})<br><br>%{customdata[0]}<br>$%{customdata[3]:,} (%{customdata[4]:.0%})<br>%{customdata[6]} bed, %{customdata[7]} bath<br>%{customdata[1]} sqft<br>%{customdata[2]:,} lot size<br>$%{customdata[5]} HOA<br>%{y}<extra></extra> average rating\",\"hovertext\":[\"8 Lippizaner\",\"114 Vela Ct\",\"8 Panorama\",\"3 Canada Oaks\",\"29 Cherry Hills Dr\",\"4 Tanglewood\",\"31862 Via Pato\"],\"legendgroup\":\"Coto De Caza\",\"marker\":{\"color\":\"#FFA15A\",\"symbol\":\"circle\"},\"mode\":\"markers\",\"name\":\"Coto De Caza\",\"orientation\":\"v\",\"showlegend\":true,\"x\":[482,482,580,682,604,516,500],\"xaxis\":\"x\",\"y\":[10.0,8.4,8.4,7.8,7.0,6.0,4.8],\"yaxis\":\"y\",\"type\":\"scatter\"},{\"customdata\":[[\"Laguna Niguel\",8200,19166,5900000,0.97,0,7,11,\"Off Market\"],[\"Laguna Niguel\",5300,15246,3888000,0.39,336,5,6,\"For Sale\"],[\"Laguna Niguel\",3690,7800,2750000,0.62,350,5,5,\"Pending\"],[\"Laguna Niguel\",4075,13068,1750000,0.09,0,4,4,\"Pending\"],[\"Laguna Niguel\",2625,7800,1500000,0.36,155,4,3,\"Pending\"],[\"Laguna Niguel\",3800,8170,2495000,0.66,280,5,5,\"Under Contract\"],[\"Laguna Niguel\",3284,7258,2000000,0.43,190,5,4,\"Pending\"],[\"Laguna Niguel\",3656,6500,1999888,0.11,154,4,4,\"Pending\"]],\"hovertemplate\":\"<b>%{hovertext}</b><br>(%{customdata[8]})<br><br>%{customdata[0]}<br>$%{customdata[3]:,} (%{customdata[4]:.0%})<br>%{customdata[6]} bed, %{customdata[7]} bath<br>%{customdata[1]} sqft<br>%{customdata[2]:,} lot size<br>$%{customdata[5]} HOA<br>%{y}<extra></extra> average rating\",\"hovertext\":[\"30752 Paseo Del Niguel\",\"12 Vista Montemar\",\"35 Hastings\",\"24711 Crown Royale\",\"4 Bastia\",\"28811 Drakes Bay\",\"27856 Homestead Rd\",\"30322 La Vue\"],\"legendgroup\":\"Laguna Niguel\",\"marker\":{\"color\":\"#19d3f3\",\"symbol\":\"circle\"},\"mode\":\"markers\",\"name\":\"Laguna Niguel\",\"orientation\":\"v\",\"showlegend\":true,\"x\":[720,734,745,429,571,657,609,547],\"xaxis\":\"x\",\"y\":[9.6,8.4,8.0,7.2,7.0,6.5,5.3,1.0],\"yaxis\":\"y\",\"type\":\"scatter\"},{\"customdata\":[[\"San Juan Capistrano\",4473,11761,2199000,0.47,325,5,5,\"Under Contract\"],[\"San Juan Capistrano\",5387,22651,2925000,0.17,350,5,5,\"Off Market\"],[\"San Juan Capistrano\",3000,12632,2489000,0.66,205,4,4,\"Sold\"],[\"San Juan Capistrano\",2567,20908,1399900,0.4,0,4,3,\"Under Contract\"]],\"hovertemplate\":\"<b>%{hovertext}</b><br>(%{customdata[8]})<br><br>%{customdata[0]}<br>$%{customdata[3]:,} (%{customdata[4]:.0%})<br>%{customdata[6]} bed, %{customdata[7]} bath<br>%{customdata[1]} sqft<br>%{customdata[2]:,} lot size<br>$%{customdata[5]} HOA<br>%{y}<extra></extra> average rating\",\"hovertext\":[\"32162 Calle Los Elegantes\",\"27826 Golden Ridge Ln\",\"28242 Las Brisas Del Mar\",\"31952 Paseo Terraza\"],\"legendgroup\":\"San Juan Capistrano\",\"marker\":{\"color\":\"#FF6692\",\"symbol\":\"circle\"},\"mode\":\"markers\",\"name\":\"San Juan Capistrano\",\"orientation\":\"v\",\"showlegend\":true,\"x\":[492,543,830,545],\"xaxis\":\"x\",\"y\":[9.0,7.6,5.6,4.4],\"yaxis\":\"y\",\"type\":\"scatter\"},{\"customdata\":[[\"Lake Forest\",3458,9350,1798000,0.63,175,5,4,\"For Sale\"],[\"Lake Forest\",2672,5663,1400000,0.71,125,5,4,\"For Sale\"],[\"Lake Forest\",2915,4344,1550000,0.41,261,4,3,\"Pending\"]],\"hovertemplate\":\"<b>%{hovertext}</b><br>(%{customdata[8]})<br><br>%{customdata[0]}<br>$%{customdata[3]:,} (%{customdata[4]:.0%})<br>%{customdata[6]} bed, %{customdata[7]} bath<br>%{customdata[1]} sqft<br>%{customdata[2]:,} lot size<br>$%{customdata[5]} HOA<br>%{y}<extra></extra> average rating\",\"hovertext\":[\"21861 Montbury Dr\",\"21422 Via Floresta\",\"78 Pinnacle Dr\"],\"legendgroup\":\"Lake Forest\",\"marker\":{\"color\":\"#B6E880\",\"symbol\":\"circle\"},\"mode\":\"markers\",\"name\":\"Lake Forest\",\"orientation\":\"v\",\"showlegend\":true,\"x\":[520,524,532],\"xaxis\":\"x\",\"y\":[8.0,5.4,2.5],\"yaxis\":\"y\",\"type\":\"scatter\"},{\"customdata\":[[\"San Clemente\",3786,9778,2400000,0.71,215,5,5,\"For Sale\"]],\"hovertemplate\":\"<b>%{hovertext}</b><br>(%{customdata[8]})<br><br>%{customdata[0]}<br>$%{customdata[3]:,} (%{customdata[4]:.0%})<br>%{customdata[6]} bed, %{customdata[7]} bath<br>%{customdata[1]} sqft<br>%{customdata[2]:,} lot size<br>$%{customdata[5]} HOA<br>%{y}<extra></extra> average rating\",\"hovertext\":[\"23 Via Lucena\"],\"legendgroup\":\"San Clemente\",\"marker\":{\"color\":\"#FF97FF\",\"symbol\":\"circle\"},\"mode\":\"markers\",\"name\":\"San Clemente\",\"orientation\":\"v\",\"showlegend\":true,\"x\":[634],\"xaxis\":\"x\",\"y\":[8.0],\"yaxis\":\"y\",\"type\":\"scatter\"},{\"customdata\":[[\"Orange\",2936,8000,1499000,0.68,0,4,3,\"Under Contract\"]],\"hovertemplate\":\"<b>%{hovertext}</b><br>(%{customdata[8]})<br><br>%{customdata[0]}<br>$%{customdata[3]:,} (%{customdata[4]:.0%})<br>%{customdata[6]} bed, %{customdata[7]} bath<br>%{customdata[1]} sqft<br>%{customdata[2]:,} lot size<br>$%{customdata[5]} HOA<br>%{y}<extra></extra> average rating\",\"hovertext\":[\"2110 E Vista Mesa Way\"],\"legendgroup\":\"Orange\",\"marker\":{\"color\":\"#FECB52\",\"symbol\":\"circle\"},\"mode\":\"markers\",\"name\":\"Orange\",\"orientation\":\"v\",\"showlegend\":true,\"x\":[511],\"xaxis\":\"x\",\"y\":[7.0],\"yaxis\":\"y\",\"type\":\"scatter\"},{\"customdata\":[[\"Irvine\",4106,9558,2800000,0.47,215,4,5,\"Pending\"],[\"Irvine\",3066,5972,2895000,0.38,490,4,4,\"For Sale\"]],\"hovertemplate\":\"<b>%{hovertext}</b><br>(%{customdata[8]})<br><br>%{customdata[0]}<br>$%{customdata[3]:,} (%{customdata[4]:.0%})<br>%{customdata[6]} bed, %{customdata[7]} bath<br>%{customdata[1]} sqft<br>%{customdata[2]:,} lot size<br>$%{customdata[5]} HOA<br>%{y}<extra></extra> average rating\",\"hovertext\":[\"116 Crossover\",\"24 Trumpet Vine\"],\"legendgroup\":\"Irvine\",\"marker\":{\"color\":\"#636efa\",\"symbol\":\"circle\"},\"mode\":\"markers\",\"name\":\"Irvine\",\"orientation\":\"v\",\"showlegend\":true,\"x\":[682,944],\"xaxis\":\"x\",\"y\":[6.8,5.6],\"yaxis\":\"y\",\"type\":\"scatter\"},{\"customdata\":[[\"Dana Point\",3630,12632,2330000,0.17,260,5,5,\"Sold\"]],\"hovertemplate\":\"<b>%{hovertext}</b><br>(%{customdata[8]})<br><br>%{customdata[0]}<br>$%{customdata[3]:,} (%{customdata[4]:.0%})<br>%{customdata[6]} bed, %{customdata[7]} bath<br>%{customdata[1]} sqft<br>%{customdata[2]:,} lot size<br>$%{customdata[5]} HOA<br>%{y}<extra></extra> average rating\",\"hovertext\":[\"32761 Ocean Vista Ct\"],\"legendgroup\":\"Dana Point\",\"marker\":{\"color\":\"#EF553B\",\"symbol\":\"circle\"},\"mode\":\"markers\",\"name\":\"Dana Point\",\"orientation\":\"v\",\"showlegend\":true,\"x\":[642],\"xaxis\":\"x\",\"y\":[6.2],\"yaxis\":\"y\",\"type\":\"scatter\"},{\"customdata\":[[\"Foothill Ranch\",2882,5100,1435000,0.44,84,5,3,\"For Sale\"]],\"hovertemplate\":\"<b>%{hovertext}</b><br>(%{customdata[8]})<br><br>%{customdata[0]}<br>$%{customdata[3]:,} (%{customdata[4]:.0%})<br>%{customdata[6]} bed, %{customdata[7]} bath<br>%{customdata[1]} sqft<br>%{customdata[2]:,} lot size<br>$%{customdata[5]} HOA<br>%{y}<extra></extra> average rating\",\"hovertext\":[\"63 Tessera Ave\"],\"legendgroup\":\"Foothill Ranch\",\"marker\":{\"color\":\"#00cc96\",\"symbol\":\"circle\"},\"mode\":\"markers\",\"name\":\"Foothill Ranch\",\"orientation\":\"v\",\"showlegend\":true,\"x\":[498],\"xaxis\":\"x\",\"y\":[6.0],\"yaxis\":\"y\",\"type\":\"scatter\"},{\"hovertemplate\":\"<b>OLS trendline</b><br>aveq = 0.00105839 * psqft + 6.01177<br>R<sup>2</sup>=0.002489<br><br>psqft=%{x}<br>aveq=%{y} <b>(trend)</b><extra></extra>\",\"legendgroup\":\"\",\"marker\":{\"color\":\"#636efa\",\"symbol\":\"circle\"},\"mode\":\"lines\",\"name\":\"\",\"showlegend\":false,\"x\":[368,407,424,425,426,429,437,441,474,482,482,492,495,498,500,511,514,515,516,520,523,524,526,526,532,535,535,543,545,547,550,553,571,578,580,583,593,604,606,609,634,642,657,682,682,720,734,745,830,944],\"xaxis\":\"x\",\"y\":[6.401255199272491,6.442532477088938,6.460525136649954,6.461583528388837,6.46264192012772,6.46581709534437,6.474284229255436,6.478517796210969,6.513444723594117,6.521911857505183,6.521911857505183,6.532495774894016,6.535670950110665,6.538846125327315,6.540962908805081,6.552605217932798,6.555780393149448,6.556838784888331,6.557897176627214,6.562130743582747,6.565305918799397,6.56636431053828,6.568481094016047,6.568481094016047,6.574831444449346,6.578006619665996,6.578006619665996,6.586473753577062,6.588590537054829,6.590707320532595,6.593882495749245,6.597057670965895,6.6161087222657935,6.623517464437977,6.625634247915743,6.628809423132393,6.6393933405212255,6.651035649648941,6.653152433126707,6.656327608343357,6.682787401815439,6.691254535726506,6.707130411809754,6.7335902052818355,6.7335902052818355,6.7738090913594,6.788626575703765,6.800268884831481,6.8902321826365585,7.010888840869251],\"yaxis\":\"y\",\"type\":\"scatter\"}],                        {\"template\":{\"data\":{\"bar\":[{\"error_x\":{\"color\":\"#2a3f5f\"},\"error_y\":{\"color\":\"#2a3f5f\"},\"marker\":{\"line\":{\"color\":\"#E5ECF6\",\"width\":0.5},\"pattern\":{\"fillmode\":\"overlay\",\"size\":10,\"solidity\":0.2}},\"type\":\"bar\"}],\"barpolar\":[{\"marker\":{\"line\":{\"color\":\"#E5ECF6\",\"width\":0.5},\"pattern\":{\"fillmode\":\"overlay\",\"size\":10,\"solidity\":0.2}},\"type\":\"barpolar\"}],\"carpet\":[{\"aaxis\":{\"endlinecolor\":\"#2a3f5f\",\"gridcolor\":\"white\",\"linecolor\":\"white\",\"minorgridcolor\":\"white\",\"startlinecolor\":\"#2a3f5f\"},\"baxis\":{\"endlinecolor\":\"#2a3f5f\",\"gridcolor\":\"white\",\"linecolor\":\"white\",\"minorgridcolor\":\"white\",\"startlinecolor\":\"#2a3f5f\"},\"type\":\"carpet\"}],\"choropleth\":[{\"colorbar\":{\"outlinewidth\":0,\"ticks\":\"\"},\"type\":\"choropleth\"}],\"contour\":[{\"colorbar\":{\"outlinewidth\":0,\"ticks\":\"\"},\"colorscale\":[[0.0,\"#0d0887\"],[0.1111111111111111,\"#46039f\"],[0.2222222222222222,\"#7201a8\"],[0.3333333333333333,\"#9c179e\"],[0.4444444444444444,\"#bd3786\"],[0.5555555555555556,\"#d8576b\"],[0.6666666666666666,\"#ed7953\"],[0.7777777777777778,\"#fb9f3a\"],[0.8888888888888888,\"#fdca26\"],[1.0,\"#f0f921\"]],\"type\":\"contour\"}],\"contourcarpet\":[{\"colorbar\":{\"outlinewidth\":0,\"ticks\":\"\"},\"type\":\"contourcarpet\"}],\"heatmap\":[{\"colorbar\":{\"outlinewidth\":0,\"ticks\":\"\"},\"colorscale\":[[0.0,\"#0d0887\"],[0.1111111111111111,\"#46039f\"],[0.2222222222222222,\"#7201a8\"],[0.3333333333333333,\"#9c179e\"],[0.4444444444444444,\"#bd3786\"],[0.5555555555555556,\"#d8576b\"],[0.6666666666666666,\"#ed7953\"],[0.7777777777777778,\"#fb9f3a\"],[0.8888888888888888,\"#fdca26\"],[1.0,\"#f0f921\"]],\"type\":\"heatmap\"}],\"heatmapgl\":[{\"colorbar\":{\"outlinewidth\":0,\"ticks\":\"\"},\"colorscale\":[[0.0,\"#0d0887\"],[0.1111111111111111,\"#46039f\"],[0.2222222222222222,\"#7201a8\"],[0.3333333333333333,\"#9c179e\"],[0.4444444444444444,\"#bd3786\"],[0.5555555555555556,\"#d8576b\"],[0.6666666666666666,\"#ed7953\"],[0.7777777777777778,\"#fb9f3a\"],[0.8888888888888888,\"#fdca26\"],[1.0,\"#f0f921\"]],\"type\":\"heatmapgl\"}],\"histogram\":[{\"marker\":{\"pattern\":{\"fillmode\":\"overlay\",\"size\":10,\"solidity\":0.2}},\"type\":\"histogram\"}],\"histogram2d\":[{\"colorbar\":{\"outlinewidth\":0,\"ticks\":\"\"},\"colorscale\":[[0.0,\"#0d0887\"],[0.1111111111111111,\"#46039f\"],[0.2222222222222222,\"#7201a8\"],[0.3333333333333333,\"#9c179e\"],[0.4444444444444444,\"#bd3786\"],[0.5555555555555556,\"#d8576b\"],[0.6666666666666666,\"#ed7953\"],[0.7777777777777778,\"#fb9f3a\"],[0.8888888888888888,\"#fdca26\"],[1.0,\"#f0f921\"]],\"type\":\"histogram2d\"}],\"histogram2dcontour\":[{\"colorbar\":{\"outlinewidth\":0,\"ticks\":\"\"},\"colorscale\":[[0.0,\"#0d0887\"],[0.1111111111111111,\"#46039f\"],[0.2222222222222222,\"#7201a8\"],[0.3333333333333333,\"#9c179e\"],[0.4444444444444444,\"#bd3786\"],[0.5555555555555556,\"#d8576b\"],[0.6666666666666666,\"#ed7953\"],[0.7777777777777778,\"#fb9f3a\"],[0.8888888888888888,\"#fdca26\"],[1.0,\"#f0f921\"]],\"type\":\"histogram2dcontour\"}],\"mesh3d\":[{\"colorbar\":{\"outlinewidth\":0,\"ticks\":\"\"},\"type\":\"mesh3d\"}],\"parcoords\":[{\"line\":{\"colorbar\":{\"outlinewidth\":0,\"ticks\":\"\"}},\"type\":\"parcoords\"}],\"pie\":[{\"automargin\":true,\"type\":\"pie\"}],\"scatter\":[{\"marker\":{\"colorbar\":{\"outlinewidth\":0,\"ticks\":\"\"}},\"type\":\"scatter\"}],\"scatter3d\":[{\"line\":{\"colorbar\":{\"outlinewidth\":0,\"ticks\":\"\"}},\"marker\":{\"colorbar\":{\"outlinewidth\":0,\"ticks\":\"\"}},\"type\":\"scatter3d\"}],\"scattercarpet\":[{\"marker\":{\"colorbar\":{\"outlinewidth\":0,\"ticks\":\"\"}},\"type\":\"scattercarpet\"}],\"scattergeo\":[{\"marker\":{\"colorbar\":{\"outlinewidth\":0,\"ticks\":\"\"}},\"type\":\"scattergeo\"}],\"scattergl\":[{\"marker\":{\"colorbar\":{\"outlinewidth\":0,\"ticks\":\"\"}},\"type\":\"scattergl\"}],\"scattermapbox\":[{\"marker\":{\"colorbar\":{\"outlinewidth\":0,\"ticks\":\"\"}},\"type\":\"scattermapbox\"}],\"scatterpolar\":[{\"marker\":{\"colorbar\":{\"outlinewidth\":0,\"ticks\":\"\"}},\"type\":\"scatterpolar\"}],\"scatterpolargl\":[{\"marker\":{\"colorbar\":{\"outlinewidth\":0,\"ticks\":\"\"}},\"type\":\"scatterpolargl\"}],\"scatterternary\":[{\"marker\":{\"colorbar\":{\"outlinewidth\":0,\"ticks\":\"\"}},\"type\":\"scatterternary\"}],\"surface\":[{\"colorbar\":{\"outlinewidth\":0,\"ticks\":\"\"},\"colorscale\":[[0.0,\"#0d0887\"],[0.1111111111111111,\"#46039f\"],[0.2222222222222222,\"#7201a8\"],[0.3333333333333333,\"#9c179e\"],[0.4444444444444444,\"#bd3786\"],[0.5555555555555556,\"#d8576b\"],[0.6666666666666666,\"#ed7953\"],[0.7777777777777778,\"#fb9f3a\"],[0.8888888888888888,\"#fdca26\"],[1.0,\"#f0f921\"]],\"type\":\"surface\"}],\"table\":[{\"cells\":{\"fill\":{\"color\":\"#EBF0F8\"},\"line\":{\"color\":\"white\"}},\"header\":{\"fill\":{\"color\":\"#C8D4E3\"},\"line\":{\"color\":\"white\"}},\"type\":\"table\"}]},\"layout\":{\"annotationdefaults\":{\"arrowcolor\":\"#2a3f5f\",\"arrowhead\":0,\"arrowwidth\":1},\"autotypenumbers\":\"strict\",\"coloraxis\":{\"colorbar\":{\"outlinewidth\":0,\"ticks\":\"\"}},\"colorscale\":{\"diverging\":[[0,\"#8e0152\"],[0.1,\"#c51b7d\"],[0.2,\"#de77ae\"],[0.3,\"#f1b6da\"],[0.4,\"#fde0ef\"],[0.5,\"#f7f7f7\"],[0.6,\"#e6f5d0\"],[0.7,\"#b8e186\"],[0.8,\"#7fbc41\"],[0.9,\"#4d9221\"],[1,\"#276419\"]],\"sequential\":[[0.0,\"#0d0887\"],[0.1111111111111111,\"#46039f\"],[0.2222222222222222,\"#7201a8\"],[0.3333333333333333,\"#9c179e\"],[0.4444444444444444,\"#bd3786\"],[0.5555555555555556,\"#d8576b\"],[0.6666666666666666,\"#ed7953\"],[0.7777777777777778,\"#fb9f3a\"],[0.8888888888888888,\"#fdca26\"],[1.0,\"#f0f921\"]],\"sequentialminus\":[[0.0,\"#0d0887\"],[0.1111111111111111,\"#46039f\"],[0.2222222222222222,\"#7201a8\"],[0.3333333333333333,\"#9c179e\"],[0.4444444444444444,\"#bd3786\"],[0.5555555555555556,\"#d8576b\"],[0.6666666666666666,\"#ed7953\"],[0.7777777777777778,\"#fb9f3a\"],[0.8888888888888888,\"#fdca26\"],[1.0,\"#f0f921\"]]},\"colorway\":[\"#636efa\",\"#EF553B\",\"#00cc96\",\"#ab63fa\",\"#FFA15A\",\"#19d3f3\",\"#FF6692\",\"#B6E880\",\"#FF97FF\",\"#FECB52\"],\"font\":{\"color\":\"#2a3f5f\"},\"geo\":{\"bgcolor\":\"white\",\"lakecolor\":\"white\",\"landcolor\":\"#E5ECF6\",\"showlakes\":true,\"showland\":true,\"subunitcolor\":\"white\"},\"hoverlabel\":{\"align\":\"left\"},\"hovermode\":\"closest\",\"mapbox\":{\"style\":\"light\"},\"paper_bgcolor\":\"white\",\"plot_bgcolor\":\"#E5ECF6\",\"polar\":{\"angularaxis\":{\"gridcolor\":\"white\",\"linecolor\":\"white\",\"ticks\":\"\"},\"bgcolor\":\"#E5ECF6\",\"radialaxis\":{\"gridcolor\":\"white\",\"linecolor\":\"white\",\"ticks\":\"\"}},\"scene\":{\"xaxis\":{\"backgroundcolor\":\"#E5ECF6\",\"gridcolor\":\"white\",\"gridwidth\":2,\"linecolor\":\"white\",\"showbackground\":true,\"ticks\":\"\",\"zerolinecolor\":\"white\"},\"yaxis\":{\"backgroundcolor\":\"#E5ECF6\",\"gridcolor\":\"white\",\"gridwidth\":2,\"linecolor\":\"white\",\"showbackground\":true,\"ticks\":\"\",\"zerolinecolor\":\"white\"},\"zaxis\":{\"backgroundcolor\":\"#E5ECF6\",\"gridcolor\":\"white\",\"gridwidth\":2,\"linecolor\":\"white\",\"showbackground\":true,\"ticks\":\"\",\"zerolinecolor\":\"white\"}},\"shapedefaults\":{\"line\":{\"color\":\"#2a3f5f\"}},\"ternary\":{\"aaxis\":{\"gridcolor\":\"white\",\"linecolor\":\"white\",\"ticks\":\"\"},\"baxis\":{\"gridcolor\":\"white\",\"linecolor\":\"white\",\"ticks\":\"\"},\"bgcolor\":\"#E5ECF6\",\"caxis\":{\"gridcolor\":\"white\",\"linecolor\":\"white\",\"ticks\":\"\"}},\"title\":{\"x\":0.05},\"xaxis\":{\"automargin\":true,\"gridcolor\":\"white\",\"linecolor\":\"white\",\"ticks\":\"\",\"title\":{\"standoff\":15},\"zerolinecolor\":\"white\",\"zerolinewidth\":2},\"yaxis\":{\"automargin\":true,\"gridcolor\":\"white\",\"linecolor\":\"white\",\"ticks\":\"\",\"title\":{\"standoff\":15},\"zerolinecolor\":\"white\",\"zerolinewidth\":2}}},\"xaxis\":{\"anchor\":\"y\",\"domain\":[0.0,1.0],\"title\":{\"text\":\"Price per Square Foot\"}},\"yaxis\":{\"anchor\":\"x\",\"domain\":[0.0,1.0],\"title\":{\"text\":\"Rating (average)\"}},\"legend\":{\"title\":{\"text\":\"area\"},\"tracegroupgap\":0},\"margin\":{\"t\":60},\"title\":{\"text\":\"Orange County Houses: Rating vs Price per square foot\"}},                        {\"responsive\": true}                    ).then(function(){\n",
              "                            \n",
              "var gd = document.getElementById('0b738281-d1db-4337-8f3d-9b1e73c1f1c2');\n",
              "var x = new MutationObserver(function (mutations, observer) {{\n",
              "        var display = window.getComputedStyle(gd).display;\n",
              "        if (!display || display === 'none') {{\n",
              "            console.log([gd, 'removed!']);\n",
              "            Plotly.purge(gd);\n",
              "            observer.disconnect();\n",
              "        }}\n",
              "}});\n",
              "\n",
              "// Listen for the removal of the full notebook cells\n",
              "var notebookContainer = gd.closest('#notebook-container');\n",
              "if (notebookContainer) {{\n",
              "    x.observe(notebookContainer, {childList: true});\n",
              "}}\n",
              "\n",
              "// Listen for the clearing of the current output cell\n",
              "var outputEl = gd.closest('.output');\n",
              "if (outputEl) {{\n",
              "    x.observe(outputEl, {childList: true});\n",
              "}}\n",
              "\n",
              "                        })                };                            </script>        </div>\n",
              "</body>\n",
              "</html>"
            ]
          },
          "metadata": {}
        }
      ]
    },
    {
      "cell_type": "code",
      "source": [
        "#hide_input\n",
        "# Sqft vs Price\n",
        "\n",
        "trend = px.scatter(hdf,y=\"sqft\",x=\"price\",trendline=\"ols\").data[1] # the trendline option will add a second trace (trend.data[1]) that we can add to the scatter plot we want\n",
        "fig = px.scatter(hdf,y=\"sqft\",x=\"price\",color=\"area\",hover_name=\"home2\",hover_data=[\"area\",\"sqft\",\"lot\",\"price\",\"delta_price\",\"hoafee\",\"bed\",\"bath\",\"aveq\",\"status\"])\n",
        "hovertemplate = \"<b>%{hovertext}</b><br>(%{customdata[7]})<br><br>%{customdata[0]}<br>$%{x:,} (%{customdata[2]:.0%})<br>%{customdata[4]} bed, %{customdata[5]} bath<br>%{y} sqft<br>%{customdata[1]:,} lot size<br>$%{customdata[3]} HOA<br>%{customdata[6]}<extra></extra> average rating\"\n",
        "fig.update_traces(hovertemplate=hovertemplate)\n",
        "fig.add_trace(trend)\n",
        "fig.update_layout(title=\"Orange County Houses: Sqft vs Price\")\n",
        "fig.update_xaxes(title_text=\"Price\")\n",
        "fig.update_yaxes(title_text=\"Square Feet\")\n",
        "fig.write_html('H21_sqft_vs_price.html')\n",
        "fig.show()"
      ],
      "metadata": {
        "id": "vK4NQwRXoAge",
        "colab": {
          "base_uri": "https://localhost:8080/",
          "height": 542
        },
        "outputId": "2ff9372a-97c6-484b-d16f-c86639ed611e"
      },
      "execution_count": 46,
      "outputs": [
        {
          "output_type": "display_data",
          "data": {
            "text/html": [
              "<html>\n",
              "<head><meta charset=\"utf-8\" /></head>\n",
              "<body>\n",
              "    <div>            <script src=\"https://cdnjs.cloudflare.com/ajax/libs/mathjax/2.7.5/MathJax.js?config=TeX-AMS-MML_SVG\"></script><script type=\"text/javascript\">if (window.MathJax) {MathJax.Hub.Config({SVG: {font: \"STIX-Web\"}});}</script>                <script type=\"text/javascript\">window.PlotlyConfig = {MathJaxConfig: 'local'};</script>\n",
              "        <script src=\"https://cdn.plot.ly/plotly-2.8.3.min.js\"></script>                <div id=\"232dd426-9f52-44f7-ad2a-24f7d1630dd0\" class=\"plotly-graph-div\" style=\"height:525px; width:100%;\"></div>            <script type=\"text/javascript\">                                    window.PLOTLYENV=window.PLOTLYENV || {};                                    if (document.getElementById(\"232dd426-9f52-44f7-ad2a-24f7d1630dd0\")) {                    Plotly.newPlot(                        \"232dd426-9f52-44f7-ad2a-24f7d1630dd0\",                        [{\"customdata\":[[\"Laguna Hills\",7500,0.19,130,4,4,0.0,\"Under Contract\"],[\"Laguna Hills\",15681,0.3,113,8,11,10.0,\"Pending\"],[\"Laguna Hills\",28314,0.48,157,6,6,9.2,\"For Sale\"],[\"Laguna Hills\",21780,0.22,147,5,5,8.5,\"Pending\"],[\"Laguna Hills\",82764,0.0,471,6,7,8.3,\"Pending\"],[\"Laguna Hills\",8190,0.75,0,4,3,6.0,\"For Sale\"],[\"Laguna Hills\",10150,0.62,0,4,3,5.3,\"Pending\"],[\"Laguna Hills\",16117,0.7,0,5,4,4.4,\"Off Market\"],[\"Laguna Hills\",7345,0.5,0,4,3,4.0,\"Under Contract\"],[\"Laguna Hills\",7701,0.33,130,5,3,7.0,\"For Sale\"]],\"hovertemplate\":\"<b>%{hovertext}</b><br>(%{customdata[7]})<br><br>%{customdata[0]}<br>$%{x:,} (%{customdata[2]:.0%})<br>%{customdata[4]} bed, %{customdata[5]} bath<br>%{y} sqft<br>%{customdata[1]:,} lot size<br>$%{customdata[3]} HOA<br>%{customdata[6]}<extra></extra> average rating\",\"hovertext\":[\"25861 Faircourt Ln\",\"26041 Spur Branch Ln\",\"27641 Deputy Cir\",\"27773 Hidden Trail Rd\",\"25731 Bucklestone Dr\",\"25551 El Capitan Ln\",\"25491 El Conejo Ln\",\"25485 Barents St\",\"25292 Linda Vista Dr\",\"26936 Falling Leaf Dr\"],\"legendgroup\":\"Laguna Hills\",\"marker\":{\"color\":\"#636efa\",\"symbol\":\"circle\"},\"mode\":\"markers\",\"name\":\"Laguna Hills\",\"orientation\":\"v\",\"showlegend\":true,\"x\":[1550000,2999999,3995000,2199000,2500000,1520000,1395000,1699900,1349000,1599000],\"xaxis\":\"x\",\"y\":[3513,7372,6742,4000,6799,2841,2650,3890,3178,3370],\"yaxis\":\"y\",\"type\":\"scatter\"},{\"customdata\":[[\"Fullerton\",28750,0.29,0,4,3,0.0,\"Under Contract\"]],\"hovertemplate\":\"<b>%{hovertext}</b><br>(%{customdata[7]})<br><br>%{customdata[0]}<br>$%{x:,} (%{customdata[2]:.0%})<br>%{customdata[4]} bed, %{customdata[5]} bath<br>%{y} sqft<br>%{customdata[1]:,} lot size<br>$%{customdata[3]} HOA<br>%{customdata[6]}<extra></extra> average rating\",\"hovertext\":[\"3101 Flintridge Dr\"],\"legendgroup\":\"Fullerton\",\"marker\":{\"color\":\"#EF553B\",\"symbol\":\"circle\"},\"mode\":\"markers\",\"name\":\"Fullerton\",\"orientation\":\"v\",\"showlegend\":true,\"x\":[1675000],\"xaxis\":\"x\",\"y\":[3183],\"yaxis\":\"y\",\"type\":\"scatter\"},{\"customdata\":[[\"Ladera Ranch\",6322,0.42,200,5,4,9.0,\"For Sale\"],[\"Ladera Ranch\",8847,0.5,472,5,6,8.0,\"Pending\"],[\"Ladera Ranch\",5767,0.37,226,5,3,5.3,\"Pending\"]],\"hovertemplate\":\"<b>%{hovertext}</b><br>(%{customdata[7]})<br><br>%{customdata[0]}<br>$%{x:,} (%{customdata[2]:.0%})<br>%{customdata[4]} bed, %{customdata[5]} bath<br>%{y} sqft<br>%{customdata[1]:,} lot size<br>$%{customdata[3]} HOA<br>%{customdata[6]}<extra></extra> average rating\",\"hovertext\":[\"20 Winslow St\",\"19 Basilica Pl\",\"39 Chimney Ln\"],\"legendgroup\":\"Ladera Ranch\",\"marker\":{\"color\":\"#00cc96\",\"symbol\":\"circle\"},\"mode\":\"markers\",\"name\":\"Ladera Ranch\",\"orientation\":\"v\",\"showlegend\":true,\"x\":[1700000,2699900,1299000],\"xaxis\":\"x\",\"y\":[3433,4673,2523],\"yaxis\":\"y\",\"type\":\"scatter\"},{\"customdata\":[[\"Mission Viejo\",9308,0.3,237,5,5,10.0,\"Pending\"],[\"Mission Viejo\",7700,0.45,76,5,3,8.0,\"Pending\"],[\"Mission Viejo\",9315,0.31,497,4,5,8.0,\"Under Contract\"],[\"Mission Viejo\",7962,0.45,253,4,3,7.4,\"Sold\"],[\"Mission Viejo\",7474,0.54,253,5,4,7.0,\"Off Market\"],[\"Mission Viejo\",5508,0.58,169,5,3,6.5,\"Pending\"],[\"Mission Viejo\",5775,0.41,125,5,3,4.6,\"Pending\"],[\"Mission Viejo\",11326,0.77,0,6,4,6.0,\"For Sale\"]],\"hovertemplate\":\"<b>%{hovertext}</b><br>(%{customdata[7]})<br><br>%{customdata[0]}<br>$%{x:,} (%{customdata[2]:.0%})<br>%{customdata[4]} bed, %{customdata[5]} bath<br>%{y} sqft<br>%{customdata[1]:,} lot size<br>$%{customdata[3]} HOA<br>%{customdata[6]}<extra></extra> average rating\",\"hovertext\":[\"1 Wyeth St\",\"28335 Driza\",\"5 Christopher St\",\"23272 Eagle Rdg\",\"24038 Skyline\",\"26192 Palmetto Pl\",\"25575 Pacific Hills Dr\",\"26722 Cuenca Dr\"],\"legendgroup\":\"Mission Viejo\",\"marker\":{\"color\":\"#ab63fa\",\"symbol\":\"circle\"},\"mode\":\"markers\",\"name\":\"Mission Viejo\",\"orientation\":\"v\",\"showlegend\":true,\"x\":[1949900,1450000,2088000,1595000,2000000,1499000,1695000,1595000],\"xaxis\":\"x\",\"y\":[3792,3415,3906,3747,3300,2866,2908,2882],\"yaxis\":\"y\",\"type\":\"scatter\"},{\"customdata\":[[\"Coto De Caza\",22216,0.29,225,6,7,10.0,\"Pending\"],[\"Coto De Caza\",9600,0.39,278,5,6,8.4,\"Under Contract\"],[\"Coto De Caza\",19602,0.45,235,6,5,8.4,\"Sold\"],[\"Coto De Caza\",13068,0.67,235,5,5,7.8,\"Under Contract\"],[\"Coto De Caza\",12196,0.41,235,5,5,7.0,\"Pending\"],[\"Coto De Caza\",12197,0.19,235,4,3,6.0,\"Pending\"],[\"Coto De Caza\",6840,0.37,140,6,6,4.8,\"Pending\"]],\"hovertemplate\":\"<b>%{hovertext}</b><br>(%{customdata[7]})<br><br>%{customdata[0]}<br>$%{x:,} (%{customdata[2]:.0%})<br>%{customdata[4]} bed, %{customdata[5]} bath<br>%{y} sqft<br>%{customdata[1]:,} lot size<br>$%{customdata[3]} HOA<br>%{customdata[6]}<extra></extra> average rating\",\"hovertext\":[\"8 Lippizaner\",\"114 Vela Ct\",\"8 Panorama\",\"3 Canada Oaks\",\"29 Cherry Hills Dr\",\"4 Tanglewood\",\"31862 Via Pato\"],\"legendgroup\":\"Coto De Caza\",\"marker\":{\"color\":\"#FFA15A\",\"symbol\":\"circle\"},\"mode\":\"markers\",\"name\":\"Coto De Caza\",\"orientation\":\"v\",\"showlegend\":true,\"x\":[2699000,2495000,2899000,2999000,2399500,1549000,1649000],\"xaxis\":\"x\",\"y\":[5600,5177,5000,4400,3970,3000,3300],\"yaxis\":\"y\",\"type\":\"scatter\"},{\"customdata\":[[\"Laguna Niguel\",19166,0.97,0,7,11,9.6,\"Off Market\"],[\"Laguna Niguel\",15246,0.39,336,5,6,8.4,\"For Sale\"],[\"Laguna Niguel\",7800,0.62,350,5,5,8.0,\"Pending\"],[\"Laguna Niguel\",13068,0.09,0,4,4,7.2,\"Pending\"],[\"Laguna Niguel\",7800,0.36,155,4,3,7.0,\"Pending\"],[\"Laguna Niguel\",8170,0.66,280,5,5,6.5,\"Under Contract\"],[\"Laguna Niguel\",7258,0.43,190,5,4,5.3,\"Pending\"],[\"Laguna Niguel\",6500,0.11,154,4,4,1.0,\"Pending\"]],\"hovertemplate\":\"<b>%{hovertext}</b><br>(%{customdata[7]})<br><br>%{customdata[0]}<br>$%{x:,} (%{customdata[2]:.0%})<br>%{customdata[4]} bed, %{customdata[5]} bath<br>%{y} sqft<br>%{customdata[1]:,} lot size<br>$%{customdata[3]} HOA<br>%{customdata[6]}<extra></extra> average rating\",\"hovertext\":[\"30752 Paseo Del Niguel\",\"12 Vista Montemar\",\"35 Hastings\",\"24711 Crown Royale\",\"4 Bastia\",\"28811 Drakes Bay\",\"27856 Homestead Rd\",\"30322 La Vue\"],\"legendgroup\":\"Laguna Niguel\",\"marker\":{\"color\":\"#19d3f3\",\"symbol\":\"circle\"},\"mode\":\"markers\",\"name\":\"Laguna Niguel\",\"orientation\":\"v\",\"showlegend\":true,\"x\":[5900000,3888000,2750000,1750000,1500000,2495000,2000000,1999888],\"xaxis\":\"x\",\"y\":[8200,5300,3690,4075,2625,3800,3284,3656],\"yaxis\":\"y\",\"type\":\"scatter\"},{\"customdata\":[[\"San Juan Capistrano\",11761,0.47,325,5,5,9.0,\"Under Contract\"],[\"San Juan Capistrano\",22651,0.17,350,5,5,7.6,\"Off Market\"],[\"San Juan Capistrano\",12632,0.66,205,4,4,5.6,\"Sold\"],[\"San Juan Capistrano\",20908,0.4,0,4,3,4.4,\"Under Contract\"]],\"hovertemplate\":\"<b>%{hovertext}</b><br>(%{customdata[7]})<br><br>%{customdata[0]}<br>$%{x:,} (%{customdata[2]:.0%})<br>%{customdata[4]} bed, %{customdata[5]} bath<br>%{y} sqft<br>%{customdata[1]:,} lot size<br>$%{customdata[3]} HOA<br>%{customdata[6]}<extra></extra> average rating\",\"hovertext\":[\"32162 Calle Los Elegantes\",\"27826 Golden Ridge Ln\",\"28242 Las Brisas Del Mar\",\"31952 Paseo Terraza\"],\"legendgroup\":\"San Juan Capistrano\",\"marker\":{\"color\":\"#FF6692\",\"symbol\":\"circle\"},\"mode\":\"markers\",\"name\":\"San Juan Capistrano\",\"orientation\":\"v\",\"showlegend\":true,\"x\":[2199000,2925000,2489000,1399900],\"xaxis\":\"x\",\"y\":[4473,5387,3000,2567],\"yaxis\":\"y\",\"type\":\"scatter\"},{\"customdata\":[[\"Lake Forest\",9350,0.63,175,5,4,8.0,\"For Sale\"],[\"Lake Forest\",5663,0.71,125,5,4,5.4,\"For Sale\"],[\"Lake Forest\",4344,0.41,261,4,3,2.5,\"Pending\"]],\"hovertemplate\":\"<b>%{hovertext}</b><br>(%{customdata[7]})<br><br>%{customdata[0]}<br>$%{x:,} (%{customdata[2]:.0%})<br>%{customdata[4]} bed, %{customdata[5]} bath<br>%{y} sqft<br>%{customdata[1]:,} lot size<br>$%{customdata[3]} HOA<br>%{customdata[6]}<extra></extra> average rating\",\"hovertext\":[\"21861 Montbury Dr\",\"21422 Via Floresta\",\"78 Pinnacle Dr\"],\"legendgroup\":\"Lake Forest\",\"marker\":{\"color\":\"#B6E880\",\"symbol\":\"circle\"},\"mode\":\"markers\",\"name\":\"Lake Forest\",\"orientation\":\"v\",\"showlegend\":true,\"x\":[1798000,1400000,1550000],\"xaxis\":\"x\",\"y\":[3458,2672,2915],\"yaxis\":\"y\",\"type\":\"scatter\"},{\"customdata\":[[\"San Clemente\",9778,0.71,215,5,5,8.0,\"For Sale\"]],\"hovertemplate\":\"<b>%{hovertext}</b><br>(%{customdata[7]})<br><br>%{customdata[0]}<br>$%{x:,} (%{customdata[2]:.0%})<br>%{customdata[4]} bed, %{customdata[5]} bath<br>%{y} sqft<br>%{customdata[1]:,} lot size<br>$%{customdata[3]} HOA<br>%{customdata[6]}<extra></extra> average rating\",\"hovertext\":[\"23 Via Lucena\"],\"legendgroup\":\"San Clemente\",\"marker\":{\"color\":\"#FF97FF\",\"symbol\":\"circle\"},\"mode\":\"markers\",\"name\":\"San Clemente\",\"orientation\":\"v\",\"showlegend\":true,\"x\":[2400000],\"xaxis\":\"x\",\"y\":[3786],\"yaxis\":\"y\",\"type\":\"scatter\"},{\"customdata\":[[\"Orange\",8000,0.68,0,4,3,7.0,\"Under Contract\"]],\"hovertemplate\":\"<b>%{hovertext}</b><br>(%{customdata[7]})<br><br>%{customdata[0]}<br>$%{x:,} (%{customdata[2]:.0%})<br>%{customdata[4]} bed, %{customdata[5]} bath<br>%{y} sqft<br>%{customdata[1]:,} lot size<br>$%{customdata[3]} HOA<br>%{customdata[6]}<extra></extra> average rating\",\"hovertext\":[\"2110 E Vista Mesa Way\"],\"legendgroup\":\"Orange\",\"marker\":{\"color\":\"#FECB52\",\"symbol\":\"circle\"},\"mode\":\"markers\",\"name\":\"Orange\",\"orientation\":\"v\",\"showlegend\":true,\"x\":[1499000],\"xaxis\":\"x\",\"y\":[2936],\"yaxis\":\"y\",\"type\":\"scatter\"},{\"customdata\":[[\"Irvine\",9558,0.47,215,4,5,6.8,\"Pending\"],[\"Irvine\",5972,0.38,490,4,4,5.6,\"For Sale\"]],\"hovertemplate\":\"<b>%{hovertext}</b><br>(%{customdata[7]})<br><br>%{customdata[0]}<br>$%{x:,} (%{customdata[2]:.0%})<br>%{customdata[4]} bed, %{customdata[5]} bath<br>%{y} sqft<br>%{customdata[1]:,} lot size<br>$%{customdata[3]} HOA<br>%{customdata[6]}<extra></extra> average rating\",\"hovertext\":[\"116 Crossover\",\"24 Trumpet Vine\"],\"legendgroup\":\"Irvine\",\"marker\":{\"color\":\"#636efa\",\"symbol\":\"circle\"},\"mode\":\"markers\",\"name\":\"Irvine\",\"orientation\":\"v\",\"showlegend\":true,\"x\":[2800000,2895000],\"xaxis\":\"x\",\"y\":[4106,3066],\"yaxis\":\"y\",\"type\":\"scatter\"},{\"customdata\":[[\"Dana Point\",12632,0.17,260,5,5,6.2,\"Sold\"]],\"hovertemplate\":\"<b>%{hovertext}</b><br>(%{customdata[7]})<br><br>%{customdata[0]}<br>$%{x:,} (%{customdata[2]:.0%})<br>%{customdata[4]} bed, %{customdata[5]} bath<br>%{y} sqft<br>%{customdata[1]:,} lot size<br>$%{customdata[3]} HOA<br>%{customdata[6]}<extra></extra> average rating\",\"hovertext\":[\"32761 Ocean Vista Ct\"],\"legendgroup\":\"Dana Point\",\"marker\":{\"color\":\"#EF553B\",\"symbol\":\"circle\"},\"mode\":\"markers\",\"name\":\"Dana Point\",\"orientation\":\"v\",\"showlegend\":true,\"x\":[2330000],\"xaxis\":\"x\",\"y\":[3630],\"yaxis\":\"y\",\"type\":\"scatter\"},{\"customdata\":[[\"Foothill Ranch\",5100,0.44,84,5,3,6.0,\"For Sale\"]],\"hovertemplate\":\"<b>%{hovertext}</b><br>(%{customdata[7]})<br><br>%{customdata[0]}<br>$%{x:,} (%{customdata[2]:.0%})<br>%{customdata[4]} bed, %{customdata[5]} bath<br>%{y} sqft<br>%{customdata[1]:,} lot size<br>$%{customdata[3]} HOA<br>%{customdata[6]}<extra></extra> average rating\",\"hovertext\":[\"63 Tessera Ave\"],\"legendgroup\":\"Foothill Ranch\",\"marker\":{\"color\":\"#00cc96\",\"symbol\":\"circle\"},\"mode\":\"markers\",\"name\":\"Foothill Ranch\",\"orientation\":\"v\",\"showlegend\":true,\"x\":[1435000],\"xaxis\":\"x\",\"y\":[2882],\"yaxis\":\"y\",\"type\":\"scatter\"},{\"hovertemplate\":\"<b>OLS trendline</b><br>sqft = 0.00124457 * price + 1206.89<br>R<sup>2</sup>=0.679760<br><br>price=%{x}<br>sqft=%{y} <b>(trend)</b><extra></extra>\",\"legendgroup\":\"\",\"marker\":{\"color\":\"#636efa\",\"symbol\":\"circle\"},\"mode\":\"lines\",\"name\":\"\",\"showlegend\":false,\"x\":[1299000,1349000,1395000,1399900,1400000,1435000,1450000,1499000,1499000,1500000,1520000,1549000,1550000,1550000,1595000,1595000,1599000,1649000,1675000,1695000,1699900,1700000,1750000,1798000,1949900,1999888,2000000,2000000,2088000,2199000,2199000,2330000,2399500,2400000,2489000,2495000,2495000,2500000,2699000,2699900,2750000,2800000,2895000,2899000,2925000,2999000,2999999,3888000,3995000,5900000],\"xaxis\":\"x\",\"y\":[2823.5802017788697,2885.80847598932,2943.0584882629337,2949.156859135558,2949.281315683979,2992.841107631294,3011.5095898944287,3072.49329862067,3072.49329862067,3073.737864104879,3098.6291737890588,3134.72157283112,3135.966138315329,3135.966138315329,3191.971585104734,3191.971585104734,3196.94984704157,3259.17812125202,3291.536823841454,3316.428133525634,3322.526504398258,3322.6509609466793,3384.879235157129,3444.6183783991614,3633.6678754505087,3695.881214875148,3696.0206062093794,3696.0206062093794,3805.5423688197716,3943.6891375669707,3943.6891375669707,4106.7272159983495,4193.224517150875,4193.84679989298,4304.613127987581,4312.080520892835,4312.080520892835,4318.303348313881,4565.9718796714715,4567.091988607259,4629.444719366131,4691.672993576581,4809.906714576436,4814.884976513272,4847.243679102706,4939.3415249341715,4940.584845852896,6045.760240395974,6178.928747206337,8549.825994624483],\"yaxis\":\"y\",\"type\":\"scatter\"}],                        {\"template\":{\"data\":{\"bar\":[{\"error_x\":{\"color\":\"#2a3f5f\"},\"error_y\":{\"color\":\"#2a3f5f\"},\"marker\":{\"line\":{\"color\":\"#E5ECF6\",\"width\":0.5},\"pattern\":{\"fillmode\":\"overlay\",\"size\":10,\"solidity\":0.2}},\"type\":\"bar\"}],\"barpolar\":[{\"marker\":{\"line\":{\"color\":\"#E5ECF6\",\"width\":0.5},\"pattern\":{\"fillmode\":\"overlay\",\"size\":10,\"solidity\":0.2}},\"type\":\"barpolar\"}],\"carpet\":[{\"aaxis\":{\"endlinecolor\":\"#2a3f5f\",\"gridcolor\":\"white\",\"linecolor\":\"white\",\"minorgridcolor\":\"white\",\"startlinecolor\":\"#2a3f5f\"},\"baxis\":{\"endlinecolor\":\"#2a3f5f\",\"gridcolor\":\"white\",\"linecolor\":\"white\",\"minorgridcolor\":\"white\",\"startlinecolor\":\"#2a3f5f\"},\"type\":\"carpet\"}],\"choropleth\":[{\"colorbar\":{\"outlinewidth\":0,\"ticks\":\"\"},\"type\":\"choropleth\"}],\"contour\":[{\"colorbar\":{\"outlinewidth\":0,\"ticks\":\"\"},\"colorscale\":[[0.0,\"#0d0887\"],[0.1111111111111111,\"#46039f\"],[0.2222222222222222,\"#7201a8\"],[0.3333333333333333,\"#9c179e\"],[0.4444444444444444,\"#bd3786\"],[0.5555555555555556,\"#d8576b\"],[0.6666666666666666,\"#ed7953\"],[0.7777777777777778,\"#fb9f3a\"],[0.8888888888888888,\"#fdca26\"],[1.0,\"#f0f921\"]],\"type\":\"contour\"}],\"contourcarpet\":[{\"colorbar\":{\"outlinewidth\":0,\"ticks\":\"\"},\"type\":\"contourcarpet\"}],\"heatmap\":[{\"colorbar\":{\"outlinewidth\":0,\"ticks\":\"\"},\"colorscale\":[[0.0,\"#0d0887\"],[0.1111111111111111,\"#46039f\"],[0.2222222222222222,\"#7201a8\"],[0.3333333333333333,\"#9c179e\"],[0.4444444444444444,\"#bd3786\"],[0.5555555555555556,\"#d8576b\"],[0.6666666666666666,\"#ed7953\"],[0.7777777777777778,\"#fb9f3a\"],[0.8888888888888888,\"#fdca26\"],[1.0,\"#f0f921\"]],\"type\":\"heatmap\"}],\"heatmapgl\":[{\"colorbar\":{\"outlinewidth\":0,\"ticks\":\"\"},\"colorscale\":[[0.0,\"#0d0887\"],[0.1111111111111111,\"#46039f\"],[0.2222222222222222,\"#7201a8\"],[0.3333333333333333,\"#9c179e\"],[0.4444444444444444,\"#bd3786\"],[0.5555555555555556,\"#d8576b\"],[0.6666666666666666,\"#ed7953\"],[0.7777777777777778,\"#fb9f3a\"],[0.8888888888888888,\"#fdca26\"],[1.0,\"#f0f921\"]],\"type\":\"heatmapgl\"}],\"histogram\":[{\"marker\":{\"pattern\":{\"fillmode\":\"overlay\",\"size\":10,\"solidity\":0.2}},\"type\":\"histogram\"}],\"histogram2d\":[{\"colorbar\":{\"outlinewidth\":0,\"ticks\":\"\"},\"colorscale\":[[0.0,\"#0d0887\"],[0.1111111111111111,\"#46039f\"],[0.2222222222222222,\"#7201a8\"],[0.3333333333333333,\"#9c179e\"],[0.4444444444444444,\"#bd3786\"],[0.5555555555555556,\"#d8576b\"],[0.6666666666666666,\"#ed7953\"],[0.7777777777777778,\"#fb9f3a\"],[0.8888888888888888,\"#fdca26\"],[1.0,\"#f0f921\"]],\"type\":\"histogram2d\"}],\"histogram2dcontour\":[{\"colorbar\":{\"outlinewidth\":0,\"ticks\":\"\"},\"colorscale\":[[0.0,\"#0d0887\"],[0.1111111111111111,\"#46039f\"],[0.2222222222222222,\"#7201a8\"],[0.3333333333333333,\"#9c179e\"],[0.4444444444444444,\"#bd3786\"],[0.5555555555555556,\"#d8576b\"],[0.6666666666666666,\"#ed7953\"],[0.7777777777777778,\"#fb9f3a\"],[0.8888888888888888,\"#fdca26\"],[1.0,\"#f0f921\"]],\"type\":\"histogram2dcontour\"}],\"mesh3d\":[{\"colorbar\":{\"outlinewidth\":0,\"ticks\":\"\"},\"type\":\"mesh3d\"}],\"parcoords\":[{\"line\":{\"colorbar\":{\"outlinewidth\":0,\"ticks\":\"\"}},\"type\":\"parcoords\"}],\"pie\":[{\"automargin\":true,\"type\":\"pie\"}],\"scatter\":[{\"marker\":{\"colorbar\":{\"outlinewidth\":0,\"ticks\":\"\"}},\"type\":\"scatter\"}],\"scatter3d\":[{\"line\":{\"colorbar\":{\"outlinewidth\":0,\"ticks\":\"\"}},\"marker\":{\"colorbar\":{\"outlinewidth\":0,\"ticks\":\"\"}},\"type\":\"scatter3d\"}],\"scattercarpet\":[{\"marker\":{\"colorbar\":{\"outlinewidth\":0,\"ticks\":\"\"}},\"type\":\"scattercarpet\"}],\"scattergeo\":[{\"marker\":{\"colorbar\":{\"outlinewidth\":0,\"ticks\":\"\"}},\"type\":\"scattergeo\"}],\"scattergl\":[{\"marker\":{\"colorbar\":{\"outlinewidth\":0,\"ticks\":\"\"}},\"type\":\"scattergl\"}],\"scattermapbox\":[{\"marker\":{\"colorbar\":{\"outlinewidth\":0,\"ticks\":\"\"}},\"type\":\"scattermapbox\"}],\"scatterpolar\":[{\"marker\":{\"colorbar\":{\"outlinewidth\":0,\"ticks\":\"\"}},\"type\":\"scatterpolar\"}],\"scatterpolargl\":[{\"marker\":{\"colorbar\":{\"outlinewidth\":0,\"ticks\":\"\"}},\"type\":\"scatterpolargl\"}],\"scatterternary\":[{\"marker\":{\"colorbar\":{\"outlinewidth\":0,\"ticks\":\"\"}},\"type\":\"scatterternary\"}],\"surface\":[{\"colorbar\":{\"outlinewidth\":0,\"ticks\":\"\"},\"colorscale\":[[0.0,\"#0d0887\"],[0.1111111111111111,\"#46039f\"],[0.2222222222222222,\"#7201a8\"],[0.3333333333333333,\"#9c179e\"],[0.4444444444444444,\"#bd3786\"],[0.5555555555555556,\"#d8576b\"],[0.6666666666666666,\"#ed7953\"],[0.7777777777777778,\"#fb9f3a\"],[0.8888888888888888,\"#fdca26\"],[1.0,\"#f0f921\"]],\"type\":\"surface\"}],\"table\":[{\"cells\":{\"fill\":{\"color\":\"#EBF0F8\"},\"line\":{\"color\":\"white\"}},\"header\":{\"fill\":{\"color\":\"#C8D4E3\"},\"line\":{\"color\":\"white\"}},\"type\":\"table\"}]},\"layout\":{\"annotationdefaults\":{\"arrowcolor\":\"#2a3f5f\",\"arrowhead\":0,\"arrowwidth\":1},\"autotypenumbers\":\"strict\",\"coloraxis\":{\"colorbar\":{\"outlinewidth\":0,\"ticks\":\"\"}},\"colorscale\":{\"diverging\":[[0,\"#8e0152\"],[0.1,\"#c51b7d\"],[0.2,\"#de77ae\"],[0.3,\"#f1b6da\"],[0.4,\"#fde0ef\"],[0.5,\"#f7f7f7\"],[0.6,\"#e6f5d0\"],[0.7,\"#b8e186\"],[0.8,\"#7fbc41\"],[0.9,\"#4d9221\"],[1,\"#276419\"]],\"sequential\":[[0.0,\"#0d0887\"],[0.1111111111111111,\"#46039f\"],[0.2222222222222222,\"#7201a8\"],[0.3333333333333333,\"#9c179e\"],[0.4444444444444444,\"#bd3786\"],[0.5555555555555556,\"#d8576b\"],[0.6666666666666666,\"#ed7953\"],[0.7777777777777778,\"#fb9f3a\"],[0.8888888888888888,\"#fdca26\"],[1.0,\"#f0f921\"]],\"sequentialminus\":[[0.0,\"#0d0887\"],[0.1111111111111111,\"#46039f\"],[0.2222222222222222,\"#7201a8\"],[0.3333333333333333,\"#9c179e\"],[0.4444444444444444,\"#bd3786\"],[0.5555555555555556,\"#d8576b\"],[0.6666666666666666,\"#ed7953\"],[0.7777777777777778,\"#fb9f3a\"],[0.8888888888888888,\"#fdca26\"],[1.0,\"#f0f921\"]]},\"colorway\":[\"#636efa\",\"#EF553B\",\"#00cc96\",\"#ab63fa\",\"#FFA15A\",\"#19d3f3\",\"#FF6692\",\"#B6E880\",\"#FF97FF\",\"#FECB52\"],\"font\":{\"color\":\"#2a3f5f\"},\"geo\":{\"bgcolor\":\"white\",\"lakecolor\":\"white\",\"landcolor\":\"#E5ECF6\",\"showlakes\":true,\"showland\":true,\"subunitcolor\":\"white\"},\"hoverlabel\":{\"align\":\"left\"},\"hovermode\":\"closest\",\"mapbox\":{\"style\":\"light\"},\"paper_bgcolor\":\"white\",\"plot_bgcolor\":\"#E5ECF6\",\"polar\":{\"angularaxis\":{\"gridcolor\":\"white\",\"linecolor\":\"white\",\"ticks\":\"\"},\"bgcolor\":\"#E5ECF6\",\"radialaxis\":{\"gridcolor\":\"white\",\"linecolor\":\"white\",\"ticks\":\"\"}},\"scene\":{\"xaxis\":{\"backgroundcolor\":\"#E5ECF6\",\"gridcolor\":\"white\",\"gridwidth\":2,\"linecolor\":\"white\",\"showbackground\":true,\"ticks\":\"\",\"zerolinecolor\":\"white\"},\"yaxis\":{\"backgroundcolor\":\"#E5ECF6\",\"gridcolor\":\"white\",\"gridwidth\":2,\"linecolor\":\"white\",\"showbackground\":true,\"ticks\":\"\",\"zerolinecolor\":\"white\"},\"zaxis\":{\"backgroundcolor\":\"#E5ECF6\",\"gridcolor\":\"white\",\"gridwidth\":2,\"linecolor\":\"white\",\"showbackground\":true,\"ticks\":\"\",\"zerolinecolor\":\"white\"}},\"shapedefaults\":{\"line\":{\"color\":\"#2a3f5f\"}},\"ternary\":{\"aaxis\":{\"gridcolor\":\"white\",\"linecolor\":\"white\",\"ticks\":\"\"},\"baxis\":{\"gridcolor\":\"white\",\"linecolor\":\"white\",\"ticks\":\"\"},\"bgcolor\":\"#E5ECF6\",\"caxis\":{\"gridcolor\":\"white\",\"linecolor\":\"white\",\"ticks\":\"\"}},\"title\":{\"x\":0.05},\"xaxis\":{\"automargin\":true,\"gridcolor\":\"white\",\"linecolor\":\"white\",\"ticks\":\"\",\"title\":{\"standoff\":15},\"zerolinecolor\":\"white\",\"zerolinewidth\":2},\"yaxis\":{\"automargin\":true,\"gridcolor\":\"white\",\"linecolor\":\"white\",\"ticks\":\"\",\"title\":{\"standoff\":15},\"zerolinecolor\":\"white\",\"zerolinewidth\":2}}},\"xaxis\":{\"anchor\":\"y\",\"domain\":[0.0,1.0],\"title\":{\"text\":\"Price\"}},\"yaxis\":{\"anchor\":\"x\",\"domain\":[0.0,1.0],\"title\":{\"text\":\"Square Feet\"}},\"legend\":{\"title\":{\"text\":\"area\"},\"tracegroupgap\":0},\"margin\":{\"t\":60},\"title\":{\"text\":\"Orange County Houses: Sqft vs Price\"}},                        {\"responsive\": true}                    ).then(function(){\n",
              "                            \n",
              "var gd = document.getElementById('232dd426-9f52-44f7-ad2a-24f7d1630dd0');\n",
              "var x = new MutationObserver(function (mutations, observer) {{\n",
              "        var display = window.getComputedStyle(gd).display;\n",
              "        if (!display || display === 'none') {{\n",
              "            console.log([gd, 'removed!']);\n",
              "            Plotly.purge(gd);\n",
              "            observer.disconnect();\n",
              "        }}\n",
              "}});\n",
              "\n",
              "// Listen for the removal of the full notebook cells\n",
              "var notebookContainer = gd.closest('#notebook-container');\n",
              "if (notebookContainer) {{\n",
              "    x.observe(notebookContainer, {childList: true});\n",
              "}}\n",
              "\n",
              "// Listen for the clearing of the current output cell\n",
              "var outputEl = gd.closest('.output');\n",
              "if (outputEl) {{\n",
              "    x.observe(outputEl, {childList: true});\n",
              "}}\n",
              "\n",
              "                        })                };                            </script>        </div>\n",
              "</body>\n",
              "</html>"
            ]
          },
          "metadata": {}
        }
      ]
    },
    {
      "cell_type": "code",
      "source": [
        "#hide\n",
        "# Mount google drive (so I can try to export whole notebook as html)\n",
        "\n",
        "# from google.colab import drive\n",
        "# drive.mount('/content/drive/')"
      ],
      "metadata": {
        "id": "EXLKv-adJx_F"
      },
      "execution_count": 47,
      "outputs": []
    },
    {
      "cell_type": "code",
      "source": [
        "#hide\n",
        "# Convert the notebook to html\n",
        "\n",
        "# %%shell\n",
        "# cp '/content/drive/MyDrive/Colab Notebooks/HouseSearch2021.ipynb' ./\n",
        "# jupyter nbconvert --to html /content/HouseSearch2021.ipynb"
      ],
      "metadata": {
        "id": "ouxocMuTGpDf"
      },
      "execution_count": 48,
      "outputs": []
    },
    {
      "cell_type": "markdown",
      "source": [
        "## Historical Prices in the OC Areas\n",
        "\n",
        "Below are shown the historical prices of houses in each area relative to their estimated price in  2000. The final points in 2021 are based on average asking price per area of the houses we have noted. \n",
        "\n",
        "### Methodology\n",
        "Historical prices are taken from the [Federal Housing Finance Agency's House Price Index (HPI 2000)](https://www.fhfa.gov/DataTools/Downloads/Pages/House-Price-Index.aspx). This gives the measure $hpi\\_2000(X)$ for any year $X$ in any zip code. The 2021 points are calculated as follows: \n",
        "\n",
        "hpi_2000(2021) $\\equiv$ hpi_2000(2019) * ( 1 + $\\langle\\frac{zillow\\_asking(house_i)}{zillow\\_2019(house_i)}\\rangle_{i \\in area})$"
      ],
      "metadata": {
        "id": "a7MyqAwihI0H"
      }
    },
    {
      "cell_type": "code",
      "source": [
        "#hide_input\n",
        "# Make Historical house prices figure\n",
        "trendline = px.scatter(hpiyeardf.reset_index().groupby('year').mean()['hpi_2000'].reset_index(),x='year',y='hpi_2000',trendline='ols').data[1].update(line_color='black')\n",
        "#fig = hpiyeardf.unstack(level=0).plot();\n",
        "fig = px.scatter(hpiyeardf.reset_index(),x='year',y='hpi_2000',color='area').update_traces(mode='lines')\n",
        "\n",
        "#fig = hpiyeardf.unstack(level=0).plot();\n",
        "fig.add_traces(trendline)\n",
        "fig.update_yaxes(title_text=\"HPI (% of 2000 baseline)\")\n",
        "fig.update_layout(title=\"Orange County Houses: Historical Prices since 2000\")\n",
        "fig.add_annotation(xref=\"paper\",yref=\"paper\",x=0.5,y=0,showarrow=False,text=\"note: 2021 values are projected from selling prices over 2019 price\")\n"
      ],
      "metadata": {
        "id": "OcOQKb1TDAG5",
        "colab": {
          "base_uri": "https://localhost:8080/",
          "height": 542
        },
        "outputId": "baa1f8ce-d4ab-4f4e-cc51-9897aa44143b"
      },
      "execution_count": 49,
      "outputs": [
        {
          "output_type": "display_data",
          "data": {
            "text/html": [
              "<html>\n",
              "<head><meta charset=\"utf-8\" /></head>\n",
              "<body>\n",
              "    <div>            <script src=\"https://cdnjs.cloudflare.com/ajax/libs/mathjax/2.7.5/MathJax.js?config=TeX-AMS-MML_SVG\"></script><script type=\"text/javascript\">if (window.MathJax) {MathJax.Hub.Config({SVG: {font: \"STIX-Web\"}});}</script>                <script type=\"text/javascript\">window.PlotlyConfig = {MathJaxConfig: 'local'};</script>\n",
              "        <script src=\"https://cdn.plot.ly/plotly-2.8.3.min.js\"></script>                <div id=\"3fbe2f43-0351-468d-9432-72652eb77ca5\" class=\"plotly-graph-div\" style=\"height:525px; width:100%;\"></div>            <script type=\"text/javascript\">                                    window.PLOTLYENV=window.PLOTLYENV || {};                                    if (document.getElementById(\"3fbe2f43-0351-468d-9432-72652eb77ca5\")) {                    Plotly.newPlot(                        \"3fbe2f43-0351-468d-9432-72652eb77ca5\",                        [{\"hovertemplate\":\"area=Coto De Caza<br>year=%{x}<br>hpi_2000=%{y}<extra></extra>\",\"legendgroup\":\"Coto De Caza\",\"marker\":{\"color\":\"#636efa\",\"symbol\":\"circle\"},\"mode\":\"lines\",\"name\":\"Coto De Caza\",\"orientation\":\"v\",\"showlegend\":true,\"x\":[2001,2002,2003,2004,2005,2006,2007,2008,2009,2010,2011,2012,2013,2014,2015,2016,2017,2018,2019,2020,2021],\"xaxis\":\"x\",\"y\":[111.32,122.11,134.06,156.78,193.51,213.75,195.75,175.24,158.73,157.43,147.38,149.13,158.38,181.35,211.82,203.29,193.43,222.19,220.44,226.1,307.67125714285714],\"yaxis\":\"y\",\"type\":\"scatter\"},{\"hovertemplate\":\"area=Dana Point<br>year=%{x}<br>hpi_2000=%{y}<extra></extra>\",\"legendgroup\":\"Dana Point\",\"marker\":{\"color\":\"#EF553B\",\"symbol\":\"circle\"},\"mode\":\"lines\",\"name\":\"Dana Point\",\"orientation\":\"v\",\"showlegend\":true,\"x\":[2001,2002,2003,2004,2005,2006,2007,2008,2009,2010,2011,2012,2013,2014,2015,2016,2017,2018,2019,2020,2021],\"xaxis\":\"x\",\"y\":[111.72,122.28,135.09,158.51,198.93,215.53,211.49,187.33,170.13,163.91,155.87,159.57,174.38,198.55,204.95,220.31,231.09,243.12,248.07,250.19,290.2419],\"yaxis\":\"y\",\"type\":\"scatter\"},{\"hovertemplate\":\"area=Foothill Ranch<br>year=%{x}<br>hpi_2000=%{y}<extra></extra>\",\"legendgroup\":\"Foothill Ranch\",\"marker\":{\"color\":\"#00cc96\",\"symbol\":\"circle\"},\"mode\":\"lines\",\"name\":\"Foothill Ranch\",\"orientation\":\"v\",\"showlegend\":true,\"x\":[2001,2002,2003,2004,2005,2006,2007,2008,2009,2010,2011,2012,2013,2014,2015,2016,2017,2018,2019,2020,2021],\"xaxis\":\"x\",\"y\":[111.48,122.58,136.73,162.72,209.68,223.68,214.49,185.35,165.34,166.31,158.08,160.95,169.63,194.18,204.25,204.83,228.8,245.2,224.87,239.96,323.8128],\"yaxis\":\"y\",\"type\":\"scatter\"},{\"hovertemplate\":\"area=Fullerton<br>year=%{x}<br>hpi_2000=%{y}<extra></extra>\",\"legendgroup\":\"Fullerton\",\"marker\":{\"color\":\"#ab63fa\",\"symbol\":\"circle\"},\"mode\":\"lines\",\"name\":\"Fullerton\",\"orientation\":\"v\",\"showlegend\":true,\"x\":[2001,2002,2003,2004,2005,2006,2007,2008,2009,2010,2011,2012,2013,2014,2015,2016,2017,2018,2019,2020,2021],\"xaxis\":\"x\",\"y\":[109.89,122.97,135.68,163.09,196.46,223.44,216.71,194.97,172.5,170.81,162.32,162.33,179.54,200.88,205.8,216.13,221.58,230.12,237.81,241.01,306.7749],\"yaxis\":\"y\",\"type\":\"scatter\"},{\"hovertemplate\":\"area=Irvine<br>year=%{x}<br>hpi_2000=%{y}<extra></extra>\",\"legendgroup\":\"Irvine\",\"marker\":{\"color\":\"#FFA15A\",\"symbol\":\"circle\"},\"mode\":\"lines\",\"name\":\"Irvine\",\"orientation\":\"v\",\"showlegend\":true,\"x\":[2001,2002,2003,2004,2005,2006,2007,2008,2009,2010,2011,2012,2013,2014,2015,2016,2017,2018,2019,2020,2021],\"xaxis\":\"x\",\"y\":[110.565,124.28,136.055,161.05,189.27499999999998,223.27999999999997,258.01,190.96,184.76,176.51999999999998,188.765,179.46,182.04,null,null,null,null,null,null,231.78,null],\"yaxis\":\"y\",\"type\":\"scatter\"},{\"hovertemplate\":\"area=Ladera Ranch<br>year=%{x}<br>hpi_2000=%{y}<extra></extra>\",\"legendgroup\":\"Ladera Ranch\",\"marker\":{\"color\":\"#19d3f3\",\"symbol\":\"circle\"},\"mode\":\"lines\",\"name\":\"Ladera Ranch\",\"orientation\":\"v\",\"showlegend\":true,\"x\":[2001,2002,2003,2004,2005,2006,2007,2008,2009,2010,2011,2012,2013,2014,2015,2016,2017,2018,2019,2020,2021],\"xaxis\":\"x\",\"y\":[107.06,122.29,137.15,173.09,207.09,217.79,214.28,179.22,158.68,153.9,150.55,137.52,148.65,189.32,null,null,211.27,null,217.84,216.35,311.5112],\"yaxis\":\"y\",\"type\":\"scatter\"},{\"hovertemplate\":\"area=Laguna Hills<br>year=%{x}<br>hpi_2000=%{y}<extra></extra>\",\"legendgroup\":\"Laguna Hills\",\"marker\":{\"color\":\"#FF6692\",\"symbol\":\"circle\"},\"mode\":\"lines\",\"name\":\"Laguna Hills\",\"orientation\":\"v\",\"showlegend\":true,\"x\":[2001,2002,2003,2004,2005,2006,2007,2008,2009,2010,2011,2012,2013,2014,2015,2016,2017,2018,2019,2020,2021],\"xaxis\":\"x\",\"y\":[110.09,122.98,137.37,165.9,206.57,223.27,217.59,180.28,162.81,162.55,154.62,155.15,174.96,197.83,201.99,213.17,220.7,228.89,232.18,238.01,327.14162],\"yaxis\":\"y\",\"type\":\"scatter\"},{\"hovertemplate\":\"area=Laguna Niguel<br>year=%{x}<br>hpi_2000=%{y}<extra></extra>\",\"legendgroup\":\"Laguna Niguel\",\"marker\":{\"color\":\"#B6E880\",\"symbol\":\"circle\"},\"mode\":\"lines\",\"name\":\"Laguna Niguel\",\"orientation\":\"v\",\"showlegend\":true,\"x\":[2001,2002,2003,2004,2005,2006,2007,2008,2009,2010,2011,2012,2013,2014,2015,2016,2017,2018,2019,2020,2021],\"xaxis\":\"x\",\"y\":[108.18,118.92,131.09,158.36,197.81,210.52,204.28,178.45,157.74,156.02,151.2,153.88,167.38,187.26,191.71,206.7,216.54,224.03,225.6,226.49,327.96599999999995],\"yaxis\":\"y\",\"type\":\"scatter\"},{\"hovertemplate\":\"area=Lake Forest<br>year=%{x}<br>hpi_2000=%{y}<extra></extra>\",\"legendgroup\":\"Lake Forest\",\"marker\":{\"color\":\"#FF97FF\",\"symbol\":\"circle\"},\"mode\":\"lines\",\"name\":\"Lake Forest\",\"orientation\":\"v\",\"showlegend\":true,\"x\":[2001,2002,2003,2004,2005,2006,2007,2008,2009,2010,2011,2012,2013,2014,2015,2016,2017,2018,2019,2020,2021],\"xaxis\":\"x\",\"y\":[109.45,122.91,137.38,168.4,208.49,230.19,215.37,177.29,156.95,159.38,152.97,153.64,173.09,197.74,202.5,211.9,226.22,234.76,237.4,247.04,375.8833333333333],\"yaxis\":\"y\",\"type\":\"scatter\"},{\"hovertemplate\":\"area=Mission Viejo<br>year=%{x}<br>hpi_2000=%{y}<extra></extra>\",\"legendgroup\":\"Mission Viejo\",\"marker\":{\"color\":\"#FECB52\",\"symbol\":\"circle\"},\"mode\":\"lines\",\"name\":\"Mission Viejo\",\"orientation\":\"v\",\"showlegend\":true,\"x\":[2001,2002,2003,2004,2005,2006,2007,2008,2009,2010,2011,2012,2013,2014,2015,2016,2017,2018,2019,2020,2021],\"xaxis\":\"x\",\"y\":[109.76666666666667,123.16000000000001,137.33666666666667,168.84333333333333,205.48000000000002,221.77666666666664,215.10333333333332,180.49333333333334,162.11,159.5066666666667,152.2266666666667,149.17333333333335,165.28,195.71,203.89,212.87,220.45666666666668,238.22500000000002,229.75666666666666,232.48,339.1782791666667],\"yaxis\":\"y\",\"type\":\"scatter\"},{\"hovertemplate\":\"area=Orange<br>year=%{x}<br>hpi_2000=%{y}<extra></extra>\",\"legendgroup\":\"Orange\",\"marker\":{\"color\":\"#636efa\",\"symbol\":\"circle\"},\"mode\":\"lines\",\"name\":\"Orange\",\"orientation\":\"v\",\"showlegend\":true,\"x\":[2001,2002,2003,2004,2005,2006,2007,2008,2009,2010,2011,2012,2013,2014,2015,2016,2017,2018,2019,2020,2021],\"xaxis\":\"x\",\"y\":[109.2,123.6,137.51,168.34,204.08,229.97,222.09,181.68,162.22,168.99,156.9,157.82,175.33,196.68,206.23,220.46,230.28,240.7,246.47,254.28,414.06960000000004],\"yaxis\":\"y\",\"type\":\"scatter\"},{\"hovertemplate\":\"area=San Clemente<br>year=%{x}<br>hpi_2000=%{y}<extra></extra>\",\"legendgroup\":\"San Clemente\",\"marker\":{\"color\":\"#EF553B\",\"symbol\":\"circle\"},\"mode\":\"lines\",\"name\":\"San Clemente\",\"orientation\":\"v\",\"showlegend\":true,\"x\":[2001,2002,2003,2004,2005,2006,2007,2008,2009,2010,2011,2012,2013,2014,2015,2016,2017,2018,2019,2020,2021],\"xaxis\":\"x\",\"y\":[112.1,123.11,136.05,160.22,207.06,216.75,209.76,182.87,166.69,160.79,151.85,156.31,172.84,195.37,205.98,209.4,219.62,221.1,225.89,229.07,386.27189999999996],\"yaxis\":\"y\",\"type\":\"scatter\"},{\"hovertemplate\":\"area=San Juan Capistrano<br>year=%{x}<br>hpi_2000=%{y}<extra></extra>\",\"legendgroup\":\"San Juan Capistrano\",\"marker\":{\"color\":\"#00cc96\",\"symbol\":\"circle\"},\"mode\":\"lines\",\"name\":\"San Juan Capistrano\",\"orientation\":\"v\",\"showlegend\":true,\"x\":[2001,2002,2003,2004,2005,2006,2007,2008,2009,2010,2011,2012,2013,2014,2015,2016,2017,2018,2019,2020,2021],\"xaxis\":\"x\",\"y\":[111.27,124.63,136.47,170.38,202.76,230.35,218.93,188.23,161.26,157.93,151.64,150.58,168.58,192.2,196.55,214.96,213.2,232.86,233.87,237.66,333.26475],\"yaxis\":\"y\",\"type\":\"scatter\"},{\"hovertemplate\":\"<b>OLS trendline</b><br>hpi_2000 = 5.94122 * year + -11755.8<br>R<sup>2</sup>=0.552211<br><br>year=%{x}<br>hpi_2000=%{y} <b>(trend)</b><extra></extra>\",\"legendgroup\":\"\",\"line\":{\"color\":\"black\"},\"marker\":{\"color\":\"#636efa\",\"symbol\":\"circle\"},\"mode\":\"lines\",\"name\":\"\",\"showlegend\":false,\"x\":[2001,2002,2003,2004,2005,2006,2007,2008,2009,2010,2011,2012,2013,2014,2015,2016,2017,2018,2019,2020,2021],\"xaxis\":\"x\",\"y\":[132.61453218026145,138.5557519138274,144.49697164739337,150.43819138095932,156.3794111145271,162.32063084809306,168.26185058165902,174.20307031522498,180.14429004879094,186.0855097823569,192.02672951592467,197.96794924949063,203.9091689830566,209.85038871662255,215.7916084501885,221.73282818375446,227.67404791732224,233.6152676508882,239.55648738445416,245.49770711802012,251.43892685158607],\"yaxis\":\"y\",\"type\":\"scatter\"}],                        {\"template\":{\"data\":{\"bar\":[{\"error_x\":{\"color\":\"#2a3f5f\"},\"error_y\":{\"color\":\"#2a3f5f\"},\"marker\":{\"line\":{\"color\":\"#E5ECF6\",\"width\":0.5},\"pattern\":{\"fillmode\":\"overlay\",\"size\":10,\"solidity\":0.2}},\"type\":\"bar\"}],\"barpolar\":[{\"marker\":{\"line\":{\"color\":\"#E5ECF6\",\"width\":0.5},\"pattern\":{\"fillmode\":\"overlay\",\"size\":10,\"solidity\":0.2}},\"type\":\"barpolar\"}],\"carpet\":[{\"aaxis\":{\"endlinecolor\":\"#2a3f5f\",\"gridcolor\":\"white\",\"linecolor\":\"white\",\"minorgridcolor\":\"white\",\"startlinecolor\":\"#2a3f5f\"},\"baxis\":{\"endlinecolor\":\"#2a3f5f\",\"gridcolor\":\"white\",\"linecolor\":\"white\",\"minorgridcolor\":\"white\",\"startlinecolor\":\"#2a3f5f\"},\"type\":\"carpet\"}],\"choropleth\":[{\"colorbar\":{\"outlinewidth\":0,\"ticks\":\"\"},\"type\":\"choropleth\"}],\"contour\":[{\"colorbar\":{\"outlinewidth\":0,\"ticks\":\"\"},\"colorscale\":[[0.0,\"#0d0887\"],[0.1111111111111111,\"#46039f\"],[0.2222222222222222,\"#7201a8\"],[0.3333333333333333,\"#9c179e\"],[0.4444444444444444,\"#bd3786\"],[0.5555555555555556,\"#d8576b\"],[0.6666666666666666,\"#ed7953\"],[0.7777777777777778,\"#fb9f3a\"],[0.8888888888888888,\"#fdca26\"],[1.0,\"#f0f921\"]],\"type\":\"contour\"}],\"contourcarpet\":[{\"colorbar\":{\"outlinewidth\":0,\"ticks\":\"\"},\"type\":\"contourcarpet\"}],\"heatmap\":[{\"colorbar\":{\"outlinewidth\":0,\"ticks\":\"\"},\"colorscale\":[[0.0,\"#0d0887\"],[0.1111111111111111,\"#46039f\"],[0.2222222222222222,\"#7201a8\"],[0.3333333333333333,\"#9c179e\"],[0.4444444444444444,\"#bd3786\"],[0.5555555555555556,\"#d8576b\"],[0.6666666666666666,\"#ed7953\"],[0.7777777777777778,\"#fb9f3a\"],[0.8888888888888888,\"#fdca26\"],[1.0,\"#f0f921\"]],\"type\":\"heatmap\"}],\"heatmapgl\":[{\"colorbar\":{\"outlinewidth\":0,\"ticks\":\"\"},\"colorscale\":[[0.0,\"#0d0887\"],[0.1111111111111111,\"#46039f\"],[0.2222222222222222,\"#7201a8\"],[0.3333333333333333,\"#9c179e\"],[0.4444444444444444,\"#bd3786\"],[0.5555555555555556,\"#d8576b\"],[0.6666666666666666,\"#ed7953\"],[0.7777777777777778,\"#fb9f3a\"],[0.8888888888888888,\"#fdca26\"],[1.0,\"#f0f921\"]],\"type\":\"heatmapgl\"}],\"histogram\":[{\"marker\":{\"pattern\":{\"fillmode\":\"overlay\",\"size\":10,\"solidity\":0.2}},\"type\":\"histogram\"}],\"histogram2d\":[{\"colorbar\":{\"outlinewidth\":0,\"ticks\":\"\"},\"colorscale\":[[0.0,\"#0d0887\"],[0.1111111111111111,\"#46039f\"],[0.2222222222222222,\"#7201a8\"],[0.3333333333333333,\"#9c179e\"],[0.4444444444444444,\"#bd3786\"],[0.5555555555555556,\"#d8576b\"],[0.6666666666666666,\"#ed7953\"],[0.7777777777777778,\"#fb9f3a\"],[0.8888888888888888,\"#fdca26\"],[1.0,\"#f0f921\"]],\"type\":\"histogram2d\"}],\"histogram2dcontour\":[{\"colorbar\":{\"outlinewidth\":0,\"ticks\":\"\"},\"colorscale\":[[0.0,\"#0d0887\"],[0.1111111111111111,\"#46039f\"],[0.2222222222222222,\"#7201a8\"],[0.3333333333333333,\"#9c179e\"],[0.4444444444444444,\"#bd3786\"],[0.5555555555555556,\"#d8576b\"],[0.6666666666666666,\"#ed7953\"],[0.7777777777777778,\"#fb9f3a\"],[0.8888888888888888,\"#fdca26\"],[1.0,\"#f0f921\"]],\"type\":\"histogram2dcontour\"}],\"mesh3d\":[{\"colorbar\":{\"outlinewidth\":0,\"ticks\":\"\"},\"type\":\"mesh3d\"}],\"parcoords\":[{\"line\":{\"colorbar\":{\"outlinewidth\":0,\"ticks\":\"\"}},\"type\":\"parcoords\"}],\"pie\":[{\"automargin\":true,\"type\":\"pie\"}],\"scatter\":[{\"marker\":{\"colorbar\":{\"outlinewidth\":0,\"ticks\":\"\"}},\"type\":\"scatter\"}],\"scatter3d\":[{\"line\":{\"colorbar\":{\"outlinewidth\":0,\"ticks\":\"\"}},\"marker\":{\"colorbar\":{\"outlinewidth\":0,\"ticks\":\"\"}},\"type\":\"scatter3d\"}],\"scattercarpet\":[{\"marker\":{\"colorbar\":{\"outlinewidth\":0,\"ticks\":\"\"}},\"type\":\"scattercarpet\"}],\"scattergeo\":[{\"marker\":{\"colorbar\":{\"outlinewidth\":0,\"ticks\":\"\"}},\"type\":\"scattergeo\"}],\"scattergl\":[{\"marker\":{\"colorbar\":{\"outlinewidth\":0,\"ticks\":\"\"}},\"type\":\"scattergl\"}],\"scattermapbox\":[{\"marker\":{\"colorbar\":{\"outlinewidth\":0,\"ticks\":\"\"}},\"type\":\"scattermapbox\"}],\"scatterpolar\":[{\"marker\":{\"colorbar\":{\"outlinewidth\":0,\"ticks\":\"\"}},\"type\":\"scatterpolar\"}],\"scatterpolargl\":[{\"marker\":{\"colorbar\":{\"outlinewidth\":0,\"ticks\":\"\"}},\"type\":\"scatterpolargl\"}],\"scatterternary\":[{\"marker\":{\"colorbar\":{\"outlinewidth\":0,\"ticks\":\"\"}},\"type\":\"scatterternary\"}],\"surface\":[{\"colorbar\":{\"outlinewidth\":0,\"ticks\":\"\"},\"colorscale\":[[0.0,\"#0d0887\"],[0.1111111111111111,\"#46039f\"],[0.2222222222222222,\"#7201a8\"],[0.3333333333333333,\"#9c179e\"],[0.4444444444444444,\"#bd3786\"],[0.5555555555555556,\"#d8576b\"],[0.6666666666666666,\"#ed7953\"],[0.7777777777777778,\"#fb9f3a\"],[0.8888888888888888,\"#fdca26\"],[1.0,\"#f0f921\"]],\"type\":\"surface\"}],\"table\":[{\"cells\":{\"fill\":{\"color\":\"#EBF0F8\"},\"line\":{\"color\":\"white\"}},\"header\":{\"fill\":{\"color\":\"#C8D4E3\"},\"line\":{\"color\":\"white\"}},\"type\":\"table\"}]},\"layout\":{\"annotationdefaults\":{\"arrowcolor\":\"#2a3f5f\",\"arrowhead\":0,\"arrowwidth\":1},\"autotypenumbers\":\"strict\",\"coloraxis\":{\"colorbar\":{\"outlinewidth\":0,\"ticks\":\"\"}},\"colorscale\":{\"diverging\":[[0,\"#8e0152\"],[0.1,\"#c51b7d\"],[0.2,\"#de77ae\"],[0.3,\"#f1b6da\"],[0.4,\"#fde0ef\"],[0.5,\"#f7f7f7\"],[0.6,\"#e6f5d0\"],[0.7,\"#b8e186\"],[0.8,\"#7fbc41\"],[0.9,\"#4d9221\"],[1,\"#276419\"]],\"sequential\":[[0.0,\"#0d0887\"],[0.1111111111111111,\"#46039f\"],[0.2222222222222222,\"#7201a8\"],[0.3333333333333333,\"#9c179e\"],[0.4444444444444444,\"#bd3786\"],[0.5555555555555556,\"#d8576b\"],[0.6666666666666666,\"#ed7953\"],[0.7777777777777778,\"#fb9f3a\"],[0.8888888888888888,\"#fdca26\"],[1.0,\"#f0f921\"]],\"sequentialminus\":[[0.0,\"#0d0887\"],[0.1111111111111111,\"#46039f\"],[0.2222222222222222,\"#7201a8\"],[0.3333333333333333,\"#9c179e\"],[0.4444444444444444,\"#bd3786\"],[0.5555555555555556,\"#d8576b\"],[0.6666666666666666,\"#ed7953\"],[0.7777777777777778,\"#fb9f3a\"],[0.8888888888888888,\"#fdca26\"],[1.0,\"#f0f921\"]]},\"colorway\":[\"#636efa\",\"#EF553B\",\"#00cc96\",\"#ab63fa\",\"#FFA15A\",\"#19d3f3\",\"#FF6692\",\"#B6E880\",\"#FF97FF\",\"#FECB52\"],\"font\":{\"color\":\"#2a3f5f\"},\"geo\":{\"bgcolor\":\"white\",\"lakecolor\":\"white\",\"landcolor\":\"#E5ECF6\",\"showlakes\":true,\"showland\":true,\"subunitcolor\":\"white\"},\"hoverlabel\":{\"align\":\"left\"},\"hovermode\":\"closest\",\"mapbox\":{\"style\":\"light\"},\"paper_bgcolor\":\"white\",\"plot_bgcolor\":\"#E5ECF6\",\"polar\":{\"angularaxis\":{\"gridcolor\":\"white\",\"linecolor\":\"white\",\"ticks\":\"\"},\"bgcolor\":\"#E5ECF6\",\"radialaxis\":{\"gridcolor\":\"white\",\"linecolor\":\"white\",\"ticks\":\"\"}},\"scene\":{\"xaxis\":{\"backgroundcolor\":\"#E5ECF6\",\"gridcolor\":\"white\",\"gridwidth\":2,\"linecolor\":\"white\",\"showbackground\":true,\"ticks\":\"\",\"zerolinecolor\":\"white\"},\"yaxis\":{\"backgroundcolor\":\"#E5ECF6\",\"gridcolor\":\"white\",\"gridwidth\":2,\"linecolor\":\"white\",\"showbackground\":true,\"ticks\":\"\",\"zerolinecolor\":\"white\"},\"zaxis\":{\"backgroundcolor\":\"#E5ECF6\",\"gridcolor\":\"white\",\"gridwidth\":2,\"linecolor\":\"white\",\"showbackground\":true,\"ticks\":\"\",\"zerolinecolor\":\"white\"}},\"shapedefaults\":{\"line\":{\"color\":\"#2a3f5f\"}},\"ternary\":{\"aaxis\":{\"gridcolor\":\"white\",\"linecolor\":\"white\",\"ticks\":\"\"},\"baxis\":{\"gridcolor\":\"white\",\"linecolor\":\"white\",\"ticks\":\"\"},\"bgcolor\":\"#E5ECF6\",\"caxis\":{\"gridcolor\":\"white\",\"linecolor\":\"white\",\"ticks\":\"\"}},\"title\":{\"x\":0.05},\"xaxis\":{\"automargin\":true,\"gridcolor\":\"white\",\"linecolor\":\"white\",\"ticks\":\"\",\"title\":{\"standoff\":15},\"zerolinecolor\":\"white\",\"zerolinewidth\":2},\"yaxis\":{\"automargin\":true,\"gridcolor\":\"white\",\"linecolor\":\"white\",\"ticks\":\"\",\"title\":{\"standoff\":15},\"zerolinecolor\":\"white\",\"zerolinewidth\":2}}},\"xaxis\":{\"anchor\":\"y\",\"domain\":[0.0,1.0],\"title\":{\"text\":\"year\"}},\"yaxis\":{\"anchor\":\"x\",\"domain\":[0.0,1.0],\"title\":{\"text\":\"HPI (% of 2000 baseline)\"}},\"legend\":{\"title\":{\"text\":\"area\"},\"tracegroupgap\":0},\"margin\":{\"t\":60},\"title\":{\"text\":\"Orange County Houses: Historical Prices since 2000\"},\"annotations\":[{\"showarrow\":false,\"text\":\"note: 2021 values are projected from selling prices over 2019 price\",\"x\":0.5,\"xref\":\"paper\",\"y\":0,\"yref\":\"paper\"}]},                        {\"responsive\": true}                    ).then(function(){\n",
              "                            \n",
              "var gd = document.getElementById('3fbe2f43-0351-468d-9432-72652eb77ca5');\n",
              "var x = new MutationObserver(function (mutations, observer) {{\n",
              "        var display = window.getComputedStyle(gd).display;\n",
              "        if (!display || display === 'none') {{\n",
              "            console.log([gd, 'removed!']);\n",
              "            Plotly.purge(gd);\n",
              "            observer.disconnect();\n",
              "        }}\n",
              "}});\n",
              "\n",
              "// Listen for the removal of the full notebook cells\n",
              "var notebookContainer = gd.closest('#notebook-container');\n",
              "if (notebookContainer) {{\n",
              "    x.observe(notebookContainer, {childList: true});\n",
              "}}\n",
              "\n",
              "// Listen for the clearing of the current output cell\n",
              "var outputEl = gd.closest('.output');\n",
              "if (outputEl) {{\n",
              "    x.observe(outputEl, {childList: true});\n",
              "}}\n",
              "\n",
              "                        })                };                            </script>        </div>\n",
              "</body>\n",
              "</html>"
            ]
          },
          "metadata": {}
        }
      ]
    },
    {
      "cell_type": "markdown",
      "source": [
        "The sharp rise in 2021 is confirmed by [a recent FHFA report for 2021 Q3](https://www.fhfa.gov/Videos/Pages/FHFA-House-Price-Index-2021-Q3.aspx)."
      ],
      "metadata": {
        "id": "kIWIkrsSssvp"
      }
    },
    {
      "cell_type": "markdown",
      "source": [
        "## Historical Data on houses sold from OCRE \n",
        "\n",
        "The Orange County Real Estate Inc provides [access to some data](https://www.ocrealestateinc.com/search/market_report_search/), about 2k homes sold in the last 3 years in the specific regions of OC that we have been looking at. "
      ],
      "metadata": {
        "id": "QQL_4r2n8lD3"
      }
    },
    {
      "cell_type": "code",
      "source": [
        "#hide\n",
        "# Read in ocre data\n",
        "sheetId = '1az-gajkCWX4GwgJnNMFX8gfeRvhRxAY3QMTowj0YTwE'\n",
        "ocredf =  pd.read_csv(f'https://docs.google.com/spreadsheets/d/{sheetId}/export?gid=853689105&format=csv',parse_dates=True)#,dtype='str')\n",
        "ocre_descdf = ocredf[['home','zip','area','desc']]\n",
        "ocredf.drop(columns=['Unnamed: 0','desc'],inplace=True)\n",
        "ocredf.closing_date = pd.to_datetime(ocredf.closing_date)\n",
        "ocredf['price_sold_list_ratio'] = ocredf.price_sold / ocredf.price_list\n",
        "ocredf['year_sold'] = ocredf.closing_date.dt.year\n",
        "#ocredf.head()"
      ],
      "metadata": {
        "id": "y2dlwidHg_YG"
      },
      "execution_count": 50,
      "outputs": []
    },
    {
      "cell_type": "code",
      "source": [
        "#hide_input\n",
        "filter = 'price_list < 2e6 and price_list > 7.5e5 and closing_date > 20190701'\n",
        "bin_freq = '3M'\n",
        "focredf = ocredf.query(filter)\n",
        "\n",
        "trendline = px.scatter(focredf.groupby([pd.Grouper(key='closing_date',freq=bin_freq)]).mean().price_sold.reset_index(),x='closing_date',y='price_sold',trendline=\"lowess\").data[1].update(line_color='black')\n",
        "\n",
        "fig = px.line(focredf.groupby(['area',pd.Grouper(key='closing_date',freq=bin_freq)]).mean().price_sold.reset_index(),x='closing_date',y='price_sold',color='area')\n",
        "fig.add_traces(trendline)\n",
        "fig.update_layout(title=\"Orange County Houses: Selling Price Last 3 Years (OCRE data)\")\n",
        "fig.update_xaxes(title_text=\"Year\")\n",
        "fig.update_yaxes(title_text=\"Price Sold\")\n",
        "fig.add_annotation(xref=\"paper\",yref=\"paper\",x=0.5,y=0,showarrow=False,text=f\"filter: {filter}  ;  time binning: {bin_freq}\")\n",
        "fig.show()"
      ],
      "metadata": {
        "id": "TYPskQR79nBf",
        "colab": {
          "base_uri": "https://localhost:8080/",
          "height": 542
        },
        "outputId": "8e9249fc-bfab-431f-fd70-38e61c2e3042"
      },
      "execution_count": 51,
      "outputs": [
        {
          "output_type": "display_data",
          "data": {
            "text/html": [
              "<html>\n",
              "<head><meta charset=\"utf-8\" /></head>\n",
              "<body>\n",
              "    <div>            <script src=\"https://cdnjs.cloudflare.com/ajax/libs/mathjax/2.7.5/MathJax.js?config=TeX-AMS-MML_SVG\"></script><script type=\"text/javascript\">if (window.MathJax) {MathJax.Hub.Config({SVG: {font: \"STIX-Web\"}});}</script>                <script type=\"text/javascript\">window.PlotlyConfig = {MathJaxConfig: 'local'};</script>\n",
              "        <script src=\"https://cdn.plot.ly/plotly-2.8.3.min.js\"></script>                <div id=\"af80ebb1-6243-49b8-8804-23815add05d3\" class=\"plotly-graph-div\" style=\"height:525px; width:100%;\"></div>            <script type=\"text/javascript\">                                    window.PLOTLYENV=window.PLOTLYENV || {};                                    if (document.getElementById(\"af80ebb1-6243-49b8-8804-23815add05d3\")) {                    Plotly.newPlot(                        \"af80ebb1-6243-49b8-8804-23815add05d3\",                        [{\"hovertemplate\":\"area=Aliso Viejo<br>closing_date=%{x}<br>price_sold=%{y}<extra></extra>\",\"legendgroup\":\"Aliso Viejo\",\"line\":{\"color\":\"#636efa\",\"dash\":\"solid\"},\"marker\":{\"symbol\":\"circle\"},\"mode\":\"lines\",\"name\":\"Aliso Viejo\",\"orientation\":\"v\",\"showlegend\":true,\"x\":[\"2019-07-31T00:00:00\",\"2019-10-31T00:00:00\",\"2020-01-31T00:00:00\",\"2020-04-30T00:00:00\",\"2020-07-31T00:00:00\",\"2020-10-31T00:00:00\",\"2021-01-31T00:00:00\",\"2021-04-30T00:00:00\",\"2021-07-31T00:00:00\",\"2021-10-31T00:00:00\"],\"xaxis\":\"x\",\"y\":[1385000.0,1607495.0,1155000.0,1433250.0,1625000.0,1530000.0,1463200.0,1675000.0,1794604.6666666667,1975000.0],\"yaxis\":\"y\",\"type\":\"scatter\"},{\"hovertemplate\":\"area=Costa Mesa<br>closing_date=%{x}<br>price_sold=%{y}<extra></extra>\",\"legendgroup\":\"Costa Mesa\",\"line\":{\"color\":\"#EF553B\",\"dash\":\"solid\"},\"marker\":{\"symbol\":\"circle\"},\"mode\":\"lines\",\"name\":\"Costa Mesa\",\"orientation\":\"v\",\"showlegend\":true,\"x\":[\"2020-01-31T00:00:00\",\"2020-07-31T00:00:00\",\"2021-01-31T00:00:00\",\"2021-07-31T00:00:00\",\"2021-10-31T00:00:00\",\"2022-01-31T00:00:00\"],\"xaxis\":\"x\",\"y\":[1410000.0,1413750.0,1250000.0,1925000.0,1900000.0,1915000.0],\"yaxis\":\"y\",\"type\":\"scatter\"},{\"hovertemplate\":\"area=Coto De Caza<br>closing_date=%{x}<br>price_sold=%{y}<extra></extra>\",\"legendgroup\":\"Coto De Caza\",\"line\":{\"color\":\"#00cc96\",\"dash\":\"solid\"},\"marker\":{\"symbol\":\"circle\"},\"mode\":\"lines\",\"name\":\"Coto De Caza\",\"orientation\":\"v\",\"showlegend\":true,\"x\":[\"2019-07-31T00:00:00\",\"2019-10-31T00:00:00\",\"2020-01-31T00:00:00\",\"2020-04-30T00:00:00\",\"2020-07-31T00:00:00\",\"2020-10-31T00:00:00\",\"2021-01-31T00:00:00\",\"2021-04-30T00:00:00\",\"2021-07-31T00:00:00\",\"2021-10-31T00:00:00\",\"2022-01-31T00:00:00\"],\"xaxis\":\"x\",\"y\":[1441500.0,1532875.0,1432928.0,1597479.1666666667,1406604.7142857143,1424882.3529411764,1619312.5,1594673.9130434783,1703883.3333333333,1724470.5882352942,1764500.0],\"yaxis\":\"y\",\"type\":\"scatter\"},{\"hovertemplate\":\"area=Fullerton<br>closing_date=%{x}<br>price_sold=%{y}<extra></extra>\",\"legendgroup\":\"Fullerton\",\"line\":{\"color\":\"#ab63fa\",\"dash\":\"solid\"},\"marker\":{\"symbol\":\"circle\"},\"mode\":\"lines\",\"name\":\"Fullerton\",\"orientation\":\"v\",\"showlegend\":true,\"x\":[\"2019-07-31T00:00:00\",\"2019-10-31T00:00:00\",\"2020-01-31T00:00:00\",\"2020-04-30T00:00:00\",\"2020-07-31T00:00:00\",\"2020-10-31T00:00:00\",\"2021-01-31T00:00:00\",\"2021-04-30T00:00:00\",\"2021-07-31T00:00:00\",\"2021-10-31T00:00:00\",\"2022-01-31T00:00:00\"],\"xaxis\":\"x\",\"y\":[1345833.3333333333,1370809.7777777778,1350000.0,1436000.0,1409642.857142857,1356285.7142857143,1535000.0,1293000.0,1672555.5555555555,1849100.0,1837000.0],\"yaxis\":\"y\",\"type\":\"scatter\"},{\"hovertemplate\":\"area=Irvine<br>closing_date=%{x}<br>price_sold=%{y}<extra></extra>\",\"legendgroup\":\"Irvine\",\"line\":{\"color\":\"#FFA15A\",\"dash\":\"solid\"},\"marker\":{\"symbol\":\"circle\"},\"mode\":\"lines\",\"name\":\"Irvine\",\"orientation\":\"v\",\"showlegend\":true,\"x\":[\"2019-10-31T00:00:00\",\"2020-01-31T00:00:00\",\"2020-04-30T00:00:00\",\"2020-07-31T00:00:00\",\"2020-10-31T00:00:00\",\"2021-01-31T00:00:00\",\"2021-04-30T00:00:00\",\"2021-07-31T00:00:00\",\"2021-10-31T00:00:00\"],\"xaxis\":\"x\",\"y\":[1380000.0,1568000.0,1635000.0,1165000.0,1500000.0,1669700.0,1589400.0,1889000.0,1612555.4285714286],\"yaxis\":\"y\",\"type\":\"scatter\"},{\"hovertemplate\":\"area=Ladera Ranch<br>closing_date=%{x}<br>price_sold=%{y}<extra></extra>\",\"legendgroup\":\"Ladera Ranch\",\"line\":{\"color\":\"#19d3f3\",\"dash\":\"solid\"},\"marker\":{\"symbol\":\"circle\"},\"mode\":\"lines\",\"name\":\"Ladera Ranch\",\"orientation\":\"v\",\"showlegend\":true,\"x\":[\"2019-07-31T00:00:00\",\"2019-10-31T00:00:00\",\"2020-01-31T00:00:00\",\"2020-04-30T00:00:00\",\"2020-07-31T00:00:00\",\"2020-10-31T00:00:00\",\"2021-01-31T00:00:00\",\"2021-04-30T00:00:00\",\"2021-07-31T00:00:00\",\"2022-01-31T00:00:00\"],\"xaxis\":\"x\",\"y\":[1477783.3333333333,1387875.0,1391858.3333333333,1515529.294117647,1422718.1818181819,1503500.0,1380000.0,1702333.3333333333,1753857.142857143,1825000.0],\"yaxis\":\"y\",\"type\":\"scatter\"},{\"hovertemplate\":\"area=Laguna Hills<br>closing_date=%{x}<br>price_sold=%{y}<extra></extra>\",\"legendgroup\":\"Laguna Hills\",\"line\":{\"color\":\"#FF6692\",\"dash\":\"solid\"},\"marker\":{\"symbol\":\"circle\"},\"mode\":\"lines\",\"name\":\"Laguna Hills\",\"orientation\":\"v\",\"showlegend\":true,\"x\":[\"2019-07-31T00:00:00\",\"2019-10-31T00:00:00\",\"2020-01-31T00:00:00\",\"2020-04-30T00:00:00\",\"2020-07-31T00:00:00\",\"2020-10-31T00:00:00\",\"2021-01-31T00:00:00\",\"2021-04-30T00:00:00\",\"2021-07-31T00:00:00\",\"2021-10-31T00:00:00\",\"2022-01-31T00:00:00\"],\"xaxis\":\"x\",\"y\":[1528333.3333333333,1325357.142857143,1376071.4285714286,1770500.0,1413272.7272727273,1560000.0,1525020.0,1725194.4444444445,1639666.6666666667,1539907.3333333333,1467500.0],\"yaxis\":\"y\",\"type\":\"scatter\"},{\"hovertemplate\":\"area=Laguna Niguel<br>closing_date=%{x}<br>price_sold=%{y}<extra></extra>\",\"legendgroup\":\"Laguna Niguel\",\"line\":{\"color\":\"#B6E880\",\"dash\":\"solid\"},\"marker\":{\"symbol\":\"circle\"},\"mode\":\"lines\",\"name\":\"Laguna Niguel\",\"orientation\":\"v\",\"showlegend\":true,\"x\":[\"2019-07-31T00:00:00\",\"2019-10-31T00:00:00\",\"2020-01-31T00:00:00\",\"2020-04-30T00:00:00\",\"2020-07-31T00:00:00\",\"2020-10-31T00:00:00\",\"2021-01-31T00:00:00\",\"2021-04-30T00:00:00\",\"2021-07-31T00:00:00\",\"2021-10-31T00:00:00\",\"2022-01-31T00:00:00\"],\"xaxis\":\"x\",\"y\":[1500000.0,1452765.3333333333,1570166.6666666667,1431650.0,1514857.142857143,1507222.2222222222,1453530.7692307692,1544166.6666666667,1649166.6666666667,1601550.0,1825000.0],\"yaxis\":\"y\",\"type\":\"scatter\"},{\"hovertemplate\":\"area=Lake Forest<br>closing_date=%{x}<br>price_sold=%{y}<extra></extra>\",\"legendgroup\":\"Lake Forest\",\"line\":{\"color\":\"#FF97FF\",\"dash\":\"solid\"},\"marker\":{\"symbol\":\"circle\"},\"mode\":\"lines\",\"name\":\"Lake Forest\",\"orientation\":\"v\",\"showlegend\":true,\"x\":[\"2019-07-31T00:00:00\",\"2019-10-31T00:00:00\",\"2020-01-31T00:00:00\",\"2020-07-31T00:00:00\",\"2020-10-31T00:00:00\",\"2021-01-31T00:00:00\",\"2021-04-30T00:00:00\",\"2021-07-31T00:00:00\",\"2021-10-31T00:00:00\",\"2022-01-31T00:00:00\"],\"xaxis\":\"x\",\"y\":[1227333.3333333333,1158333.3333333333,1134000.0,1153333.3333333333,1205400.0,1460000.0,1266666.6666666667,1494090.9090909092,1775000.0,1583000.0],\"yaxis\":\"y\",\"type\":\"scatter\"},{\"hovertemplate\":\"area=Mission Viejo<br>closing_date=%{x}<br>price_sold=%{y}<extra></extra>\",\"legendgroup\":\"Mission Viejo\",\"line\":{\"color\":\"#FECB52\",\"dash\":\"solid\"},\"marker\":{\"symbol\":\"circle\"},\"mode\":\"lines\",\"name\":\"Mission Viejo\",\"orientation\":\"v\",\"showlegend\":true,\"x\":[\"2019-07-31T00:00:00\",\"2019-10-31T00:00:00\",\"2020-01-31T00:00:00\",\"2020-04-30T00:00:00\",\"2020-07-31T00:00:00\",\"2020-10-31T00:00:00\",\"2021-01-31T00:00:00\",\"2021-04-30T00:00:00\",\"2021-07-31T00:00:00\",\"2021-10-31T00:00:00\",\"2022-01-31T00:00:00\"],\"xaxis\":\"x\",\"y\":[1120400.0,1142935.294117647,1050231.3333333333,1138508.0,1126045.4545454546,1188045.7142857143,1308750.0,1447444.4444444445,1478578.9473684211,1451642.857142857,1520500.0],\"yaxis\":\"y\",\"type\":\"scatter\"},{\"hovertemplate\":\"area=Rancho Mission Viejo<br>closing_date=%{x}<br>price_sold=%{y}<extra></extra>\",\"legendgroup\":\"Rancho Mission Viejo\",\"line\":{\"color\":\"#636efa\",\"dash\":\"solid\"},\"marker\":{\"symbol\":\"circle\"},\"mode\":\"lines\",\"name\":\"Rancho Mission Viejo\",\"orientation\":\"v\",\"showlegend\":true,\"x\":[\"2020-01-31T00:00:00\",\"2020-04-30T00:00:00\",\"2020-07-31T00:00:00\",\"2020-10-31T00:00:00\",\"2021-01-31T00:00:00\",\"2021-07-31T00:00:00\",\"2021-10-31T00:00:00\"],\"xaxis\":\"x\",\"y\":[1500000.0,1399000.0,1745000.0,1309000.0,1556666.6666666667,2046666.6666666667,1950000.0],\"yaxis\":\"y\",\"type\":\"scatter\"},{\"hovertemplate\":\"area=Rancho Santa Margarita<br>closing_date=%{x}<br>price_sold=%{y}<extra></extra>\",\"legendgroup\":\"Rancho Santa Margarita\",\"line\":{\"color\":\"#EF553B\",\"dash\":\"solid\"},\"marker\":{\"symbol\":\"circle\"},\"mode\":\"lines\",\"name\":\"Rancho Santa Margarita\",\"orientation\":\"v\",\"showlegend\":true,\"x\":[\"2019-07-31T00:00:00\",\"2019-10-31T00:00:00\",\"2020-01-31T00:00:00\",\"2020-04-30T00:00:00\",\"2020-07-31T00:00:00\",\"2020-10-31T00:00:00\",\"2021-01-31T00:00:00\",\"2021-04-30T00:00:00\",\"2021-07-31T00:00:00\",\"2021-10-31T00:00:00\",\"2022-01-31T00:00:00\"],\"xaxis\":\"x\",\"y\":[1080000.0,1178250.0,1044500.0,1094000.0,1194640.0,1312571.4285714286,1267080.0,1482545.4545454546,1441923.076923077,1512285.4545454546,1593333.3333333333],\"yaxis\":\"y\",\"type\":\"scatter\"},{\"hovertemplate\":\"area=San Clemente<br>closing_date=%{x}<br>price_sold=%{y}<extra></extra>\",\"legendgroup\":\"San Clemente\",\"line\":{\"color\":\"#00cc96\",\"dash\":\"solid\"},\"marker\":{\"symbol\":\"circle\"},\"mode\":\"lines\",\"name\":\"San Clemente\",\"orientation\":\"v\",\"showlegend\":true,\"x\":[\"2019-07-31T00:00:00\",\"2019-10-31T00:00:00\",\"2020-01-31T00:00:00\",\"2020-04-30T00:00:00\",\"2020-07-31T00:00:00\",\"2020-10-31T00:00:00\",\"2021-01-31T00:00:00\",\"2021-04-30T00:00:00\",\"2021-07-31T00:00:00\",\"2021-10-31T00:00:00\",\"2022-01-31T00:00:00\"],\"xaxis\":\"x\",\"y\":[1352777.7777777778,1367908.3333333333,1633750.0,1300064.2857142857,1417263.1578947369,1515866.6666666667,1522785.7142857143,1625990.9090909092,1630200.0,1846536.3636363635,2044400.0],\"yaxis\":\"y\",\"type\":\"scatter\"},{\"hovertemplate\":\"area=San Juan Capistrano<br>closing_date=%{x}<br>price_sold=%{y}<extra></extra>\",\"legendgroup\":\"San Juan Capistrano\",\"line\":{\"color\":\"#ab63fa\",\"dash\":\"solid\"},\"marker\":{\"symbol\":\"circle\"},\"mode\":\"lines\",\"name\":\"San Juan Capistrano\",\"orientation\":\"v\",\"showlegend\":true,\"x\":[\"2019-07-31T00:00:00\",\"2019-10-31T00:00:00\",\"2020-01-31T00:00:00\",\"2020-04-30T00:00:00\",\"2020-07-31T00:00:00\",\"2020-10-31T00:00:00\",\"2021-01-31T00:00:00\",\"2021-04-30T00:00:00\",\"2021-07-31T00:00:00\",\"2021-10-31T00:00:00\",\"2022-01-31T00:00:00\"],\"xaxis\":\"x\",\"y\":[1460000.0,1606250.0,1445090.9090909092,1530090.9090909092,1564882.3529411764,1571868.4210526317,1686176.4705882352,1754500.0,1768818.1818181819,1722857.142857143,1932500.0],\"yaxis\":\"y\",\"type\":\"scatter\"},{\"hovertemplate\":\"<b>LOWESS trendline</b><br><br>closing_date=%{x}<br>price_sold=%{y} <b>(trend)</b><extra></extra>\",\"legendgroup\":\"\",\"line\":{\"color\":\"black\"},\"marker\":{\"color\":\"#636efa\",\"symbol\":\"circle\"},\"mode\":\"lines\",\"name\":\"\",\"showlegend\":false,\"x\":[\"2019-07-31T00:00:00\",\"2019-10-31T00:00:00\",\"2020-01-31T00:00:00\",\"2020-04-30T00:00:00\",\"2020-07-31T00:00:00\",\"2020-10-31T00:00:00\",\"2021-01-31T00:00:00\",\"2021-04-30T00:00:00\",\"2021-07-31T00:00:00\",\"2021-10-31T00:00:00\",\"2022-01-31T00:00:00\"],\"xaxis\":\"x\",\"y\":[1356595.4035672557,1369220.4050995621,1381721.2307388003,1396018.0992414227,1424119.489931634,1457350.4419953395,1512115.4741831545,1572043.1495304322,1622754.3393155776,1672723.7626507867,1720953.3270001053],\"yaxis\":\"y\",\"type\":\"scatter\"}],                        {\"template\":{\"data\":{\"bar\":[{\"error_x\":{\"color\":\"#2a3f5f\"},\"error_y\":{\"color\":\"#2a3f5f\"},\"marker\":{\"line\":{\"color\":\"#E5ECF6\",\"width\":0.5},\"pattern\":{\"fillmode\":\"overlay\",\"size\":10,\"solidity\":0.2}},\"type\":\"bar\"}],\"barpolar\":[{\"marker\":{\"line\":{\"color\":\"#E5ECF6\",\"width\":0.5},\"pattern\":{\"fillmode\":\"overlay\",\"size\":10,\"solidity\":0.2}},\"type\":\"barpolar\"}],\"carpet\":[{\"aaxis\":{\"endlinecolor\":\"#2a3f5f\",\"gridcolor\":\"white\",\"linecolor\":\"white\",\"minorgridcolor\":\"white\",\"startlinecolor\":\"#2a3f5f\"},\"baxis\":{\"endlinecolor\":\"#2a3f5f\",\"gridcolor\":\"white\",\"linecolor\":\"white\",\"minorgridcolor\":\"white\",\"startlinecolor\":\"#2a3f5f\"},\"type\":\"carpet\"}],\"choropleth\":[{\"colorbar\":{\"outlinewidth\":0,\"ticks\":\"\"},\"type\":\"choropleth\"}],\"contour\":[{\"colorbar\":{\"outlinewidth\":0,\"ticks\":\"\"},\"colorscale\":[[0.0,\"#0d0887\"],[0.1111111111111111,\"#46039f\"],[0.2222222222222222,\"#7201a8\"],[0.3333333333333333,\"#9c179e\"],[0.4444444444444444,\"#bd3786\"],[0.5555555555555556,\"#d8576b\"],[0.6666666666666666,\"#ed7953\"],[0.7777777777777778,\"#fb9f3a\"],[0.8888888888888888,\"#fdca26\"],[1.0,\"#f0f921\"]],\"type\":\"contour\"}],\"contourcarpet\":[{\"colorbar\":{\"outlinewidth\":0,\"ticks\":\"\"},\"type\":\"contourcarpet\"}],\"heatmap\":[{\"colorbar\":{\"outlinewidth\":0,\"ticks\":\"\"},\"colorscale\":[[0.0,\"#0d0887\"],[0.1111111111111111,\"#46039f\"],[0.2222222222222222,\"#7201a8\"],[0.3333333333333333,\"#9c179e\"],[0.4444444444444444,\"#bd3786\"],[0.5555555555555556,\"#d8576b\"],[0.6666666666666666,\"#ed7953\"],[0.7777777777777778,\"#fb9f3a\"],[0.8888888888888888,\"#fdca26\"],[1.0,\"#f0f921\"]],\"type\":\"heatmap\"}],\"heatmapgl\":[{\"colorbar\":{\"outlinewidth\":0,\"ticks\":\"\"},\"colorscale\":[[0.0,\"#0d0887\"],[0.1111111111111111,\"#46039f\"],[0.2222222222222222,\"#7201a8\"],[0.3333333333333333,\"#9c179e\"],[0.4444444444444444,\"#bd3786\"],[0.5555555555555556,\"#d8576b\"],[0.6666666666666666,\"#ed7953\"],[0.7777777777777778,\"#fb9f3a\"],[0.8888888888888888,\"#fdca26\"],[1.0,\"#f0f921\"]],\"type\":\"heatmapgl\"}],\"histogram\":[{\"marker\":{\"pattern\":{\"fillmode\":\"overlay\",\"size\":10,\"solidity\":0.2}},\"type\":\"histogram\"}],\"histogram2d\":[{\"colorbar\":{\"outlinewidth\":0,\"ticks\":\"\"},\"colorscale\":[[0.0,\"#0d0887\"],[0.1111111111111111,\"#46039f\"],[0.2222222222222222,\"#7201a8\"],[0.3333333333333333,\"#9c179e\"],[0.4444444444444444,\"#bd3786\"],[0.5555555555555556,\"#d8576b\"],[0.6666666666666666,\"#ed7953\"],[0.7777777777777778,\"#fb9f3a\"],[0.8888888888888888,\"#fdca26\"],[1.0,\"#f0f921\"]],\"type\":\"histogram2d\"}],\"histogram2dcontour\":[{\"colorbar\":{\"outlinewidth\":0,\"ticks\":\"\"},\"colorscale\":[[0.0,\"#0d0887\"],[0.1111111111111111,\"#46039f\"],[0.2222222222222222,\"#7201a8\"],[0.3333333333333333,\"#9c179e\"],[0.4444444444444444,\"#bd3786\"],[0.5555555555555556,\"#d8576b\"],[0.6666666666666666,\"#ed7953\"],[0.7777777777777778,\"#fb9f3a\"],[0.8888888888888888,\"#fdca26\"],[1.0,\"#f0f921\"]],\"type\":\"histogram2dcontour\"}],\"mesh3d\":[{\"colorbar\":{\"outlinewidth\":0,\"ticks\":\"\"},\"type\":\"mesh3d\"}],\"parcoords\":[{\"line\":{\"colorbar\":{\"outlinewidth\":0,\"ticks\":\"\"}},\"type\":\"parcoords\"}],\"pie\":[{\"automargin\":true,\"type\":\"pie\"}],\"scatter\":[{\"marker\":{\"colorbar\":{\"outlinewidth\":0,\"ticks\":\"\"}},\"type\":\"scatter\"}],\"scatter3d\":[{\"line\":{\"colorbar\":{\"outlinewidth\":0,\"ticks\":\"\"}},\"marker\":{\"colorbar\":{\"outlinewidth\":0,\"ticks\":\"\"}},\"type\":\"scatter3d\"}],\"scattercarpet\":[{\"marker\":{\"colorbar\":{\"outlinewidth\":0,\"ticks\":\"\"}},\"type\":\"scattercarpet\"}],\"scattergeo\":[{\"marker\":{\"colorbar\":{\"outlinewidth\":0,\"ticks\":\"\"}},\"type\":\"scattergeo\"}],\"scattergl\":[{\"marker\":{\"colorbar\":{\"outlinewidth\":0,\"ticks\":\"\"}},\"type\":\"scattergl\"}],\"scattermapbox\":[{\"marker\":{\"colorbar\":{\"outlinewidth\":0,\"ticks\":\"\"}},\"type\":\"scattermapbox\"}],\"scatterpolar\":[{\"marker\":{\"colorbar\":{\"outlinewidth\":0,\"ticks\":\"\"}},\"type\":\"scatterpolar\"}],\"scatterpolargl\":[{\"marker\":{\"colorbar\":{\"outlinewidth\":0,\"ticks\":\"\"}},\"type\":\"scatterpolargl\"}],\"scatterternary\":[{\"marker\":{\"colorbar\":{\"outlinewidth\":0,\"ticks\":\"\"}},\"type\":\"scatterternary\"}],\"surface\":[{\"colorbar\":{\"outlinewidth\":0,\"ticks\":\"\"},\"colorscale\":[[0.0,\"#0d0887\"],[0.1111111111111111,\"#46039f\"],[0.2222222222222222,\"#7201a8\"],[0.3333333333333333,\"#9c179e\"],[0.4444444444444444,\"#bd3786\"],[0.5555555555555556,\"#d8576b\"],[0.6666666666666666,\"#ed7953\"],[0.7777777777777778,\"#fb9f3a\"],[0.8888888888888888,\"#fdca26\"],[1.0,\"#f0f921\"]],\"type\":\"surface\"}],\"table\":[{\"cells\":{\"fill\":{\"color\":\"#EBF0F8\"},\"line\":{\"color\":\"white\"}},\"header\":{\"fill\":{\"color\":\"#C8D4E3\"},\"line\":{\"color\":\"white\"}},\"type\":\"table\"}]},\"layout\":{\"annotationdefaults\":{\"arrowcolor\":\"#2a3f5f\",\"arrowhead\":0,\"arrowwidth\":1},\"autotypenumbers\":\"strict\",\"coloraxis\":{\"colorbar\":{\"outlinewidth\":0,\"ticks\":\"\"}},\"colorscale\":{\"diverging\":[[0,\"#8e0152\"],[0.1,\"#c51b7d\"],[0.2,\"#de77ae\"],[0.3,\"#f1b6da\"],[0.4,\"#fde0ef\"],[0.5,\"#f7f7f7\"],[0.6,\"#e6f5d0\"],[0.7,\"#b8e186\"],[0.8,\"#7fbc41\"],[0.9,\"#4d9221\"],[1,\"#276419\"]],\"sequential\":[[0.0,\"#0d0887\"],[0.1111111111111111,\"#46039f\"],[0.2222222222222222,\"#7201a8\"],[0.3333333333333333,\"#9c179e\"],[0.4444444444444444,\"#bd3786\"],[0.5555555555555556,\"#d8576b\"],[0.6666666666666666,\"#ed7953\"],[0.7777777777777778,\"#fb9f3a\"],[0.8888888888888888,\"#fdca26\"],[1.0,\"#f0f921\"]],\"sequentialminus\":[[0.0,\"#0d0887\"],[0.1111111111111111,\"#46039f\"],[0.2222222222222222,\"#7201a8\"],[0.3333333333333333,\"#9c179e\"],[0.4444444444444444,\"#bd3786\"],[0.5555555555555556,\"#d8576b\"],[0.6666666666666666,\"#ed7953\"],[0.7777777777777778,\"#fb9f3a\"],[0.8888888888888888,\"#fdca26\"],[1.0,\"#f0f921\"]]},\"colorway\":[\"#636efa\",\"#EF553B\",\"#00cc96\",\"#ab63fa\",\"#FFA15A\",\"#19d3f3\",\"#FF6692\",\"#B6E880\",\"#FF97FF\",\"#FECB52\"],\"font\":{\"color\":\"#2a3f5f\"},\"geo\":{\"bgcolor\":\"white\",\"lakecolor\":\"white\",\"landcolor\":\"#E5ECF6\",\"showlakes\":true,\"showland\":true,\"subunitcolor\":\"white\"},\"hoverlabel\":{\"align\":\"left\"},\"hovermode\":\"closest\",\"mapbox\":{\"style\":\"light\"},\"paper_bgcolor\":\"white\",\"plot_bgcolor\":\"#E5ECF6\",\"polar\":{\"angularaxis\":{\"gridcolor\":\"white\",\"linecolor\":\"white\",\"ticks\":\"\"},\"bgcolor\":\"#E5ECF6\",\"radialaxis\":{\"gridcolor\":\"white\",\"linecolor\":\"white\",\"ticks\":\"\"}},\"scene\":{\"xaxis\":{\"backgroundcolor\":\"#E5ECF6\",\"gridcolor\":\"white\",\"gridwidth\":2,\"linecolor\":\"white\",\"showbackground\":true,\"ticks\":\"\",\"zerolinecolor\":\"white\"},\"yaxis\":{\"backgroundcolor\":\"#E5ECF6\",\"gridcolor\":\"white\",\"gridwidth\":2,\"linecolor\":\"white\",\"showbackground\":true,\"ticks\":\"\",\"zerolinecolor\":\"white\"},\"zaxis\":{\"backgroundcolor\":\"#E5ECF6\",\"gridcolor\":\"white\",\"gridwidth\":2,\"linecolor\":\"white\",\"showbackground\":true,\"ticks\":\"\",\"zerolinecolor\":\"white\"}},\"shapedefaults\":{\"line\":{\"color\":\"#2a3f5f\"}},\"ternary\":{\"aaxis\":{\"gridcolor\":\"white\",\"linecolor\":\"white\",\"ticks\":\"\"},\"baxis\":{\"gridcolor\":\"white\",\"linecolor\":\"white\",\"ticks\":\"\"},\"bgcolor\":\"#E5ECF6\",\"caxis\":{\"gridcolor\":\"white\",\"linecolor\":\"white\",\"ticks\":\"\"}},\"title\":{\"x\":0.05},\"xaxis\":{\"automargin\":true,\"gridcolor\":\"white\",\"linecolor\":\"white\",\"ticks\":\"\",\"title\":{\"standoff\":15},\"zerolinecolor\":\"white\",\"zerolinewidth\":2},\"yaxis\":{\"automargin\":true,\"gridcolor\":\"white\",\"linecolor\":\"white\",\"ticks\":\"\",\"title\":{\"standoff\":15},\"zerolinecolor\":\"white\",\"zerolinewidth\":2}}},\"xaxis\":{\"anchor\":\"y\",\"domain\":[0.0,1.0],\"title\":{\"text\":\"Year\"}},\"yaxis\":{\"anchor\":\"x\",\"domain\":[0.0,1.0],\"title\":{\"text\":\"Price Sold\"}},\"legend\":{\"title\":{\"text\":\"area\"},\"tracegroupgap\":0},\"margin\":{\"t\":60},\"title\":{\"text\":\"Orange County Houses: Selling Price Last 3 Years (OCRE data)\"},\"annotations\":[{\"showarrow\":false,\"text\":\"filter: price_list < 2e6 and price_list > 7.5e5 and closing_date > 20190701  ;  time binning: 3M\",\"x\":0.5,\"xref\":\"paper\",\"y\":0,\"yref\":\"paper\"}]},                        {\"responsive\": true}                    ).then(function(){\n",
              "                            \n",
              "var gd = document.getElementById('af80ebb1-6243-49b8-8804-23815add05d3');\n",
              "var x = new MutationObserver(function (mutations, observer) {{\n",
              "        var display = window.getComputedStyle(gd).display;\n",
              "        if (!display || display === 'none') {{\n",
              "            console.log([gd, 'removed!']);\n",
              "            Plotly.purge(gd);\n",
              "            observer.disconnect();\n",
              "        }}\n",
              "}});\n",
              "\n",
              "// Listen for the removal of the full notebook cells\n",
              "var notebookContainer = gd.closest('#notebook-container');\n",
              "if (notebookContainer) {{\n",
              "    x.observe(notebookContainer, {childList: true});\n",
              "}}\n",
              "\n",
              "// Listen for the clearing of the current output cell\n",
              "var outputEl = gd.closest('.output');\n",
              "if (outputEl) {{\n",
              "    x.observe(outputEl, {childList: true});\n",
              "}}\n",
              "\n",
              "                        })                };                            </script>        </div>\n",
              "</body>\n",
              "</html>"
            ]
          },
          "metadata": {}
        }
      ]
    },
    {
      "cell_type": "markdown",
      "source": [
        "* Within the price range of 750k to 2M, **the average price across all areas here has increase from 1.35M (Aug 2019) to 1.7M (Jan 2021)**\n",
        "* This is easier to see by deselecting all areas in the legend (double click a single one to select only that area; then single click to deselect that area as well)"
      ],
      "metadata": {
        "id": "CqDFLy_U-cKL"
      }
    },
    {
      "cell_type": "code",
      "source": [
        "#hide_input\n",
        "filter = 'price_list < 2e6 and price_list > 7.5e5 and closing_date > 20190701'\n",
        "bin_freq = '2W'\n",
        "focredf = ocredf.query(filter)\n",
        "\n",
        "trendline = px.scatter(focredf.groupby([pd.Grouper(key='closing_date',freq=bin_freq)]).mean().price_sold_list_ratio.reset_index(),x='closing_date',y='price_sold_list_ratio',trendline=\"lowess\").data[1].update(line_color='black')\n",
        "\n",
        "fig = px.line(focredf.groupby(['area',pd.Grouper(key='closing_date',freq=bin_freq)]).mean().price_sold_list_ratio.reset_index(),x='closing_date',y='price_sold_list_ratio',color='area')\n",
        "fig.add_traces(trendline)\n",
        "fig.update_layout(title=\"Orange County Houses: How much do they sell over/under list price?\")\n",
        "fig.update_xaxes(title_text=\"Year\")\n",
        "fig.update_yaxes(title_text=\"Sold/List Price (%)\")\n",
        "fig.add_annotation(xref=\"paper\",yref=\"paper\",x=0.5,y=0,showarrow=False,text=f\"filter: {filter}\")\n",
        "fig.show()"
      ],
      "metadata": {
        "id": "WWNy48R9t3ZB",
        "colab": {
          "base_uri": "https://localhost:8080/",
          "height": 542
        },
        "outputId": "a94d943c-9901-4f14-afe4-0a6cad7b1bdc"
      },
      "execution_count": 52,
      "outputs": [
        {
          "output_type": "display_data",
          "data": {
            "text/html": [
              "<html>\n",
              "<head><meta charset=\"utf-8\" /></head>\n",
              "<body>\n",
              "    <div>            <script src=\"https://cdnjs.cloudflare.com/ajax/libs/mathjax/2.7.5/MathJax.js?config=TeX-AMS-MML_SVG\"></script><script type=\"text/javascript\">if (window.MathJax) {MathJax.Hub.Config({SVG: {font: \"STIX-Web\"}});}</script>                <script type=\"text/javascript\">window.PlotlyConfig = {MathJaxConfig: 'local'};</script>\n",
              "        <script src=\"https://cdn.plot.ly/plotly-2.8.3.min.js\"></script>                <div id=\"bbbaaea6-5381-4bfb-a018-17bc596710b5\" class=\"plotly-graph-div\" style=\"height:525px; width:100%;\"></div>            <script type=\"text/javascript\">                                    window.PLOTLYENV=window.PLOTLYENV || {};                                    if (document.getElementById(\"bbbaaea6-5381-4bfb-a018-17bc596710b5\")) {                    Plotly.newPlot(                        \"bbbaaea6-5381-4bfb-a018-17bc596710b5\",                        [{\"hovertemplate\":\"area=Aliso Viejo<br>closing_date=%{x}<br>price_sold_list_ratio=%{y}<extra></extra>\",\"legendgroup\":\"Aliso Viejo\",\"line\":{\"color\":\"#636efa\",\"dash\":\"solid\"},\"marker\":{\"symbol\":\"circle\"},\"mode\":\"lines\",\"name\":\"Aliso Viejo\",\"orientation\":\"v\",\"showlegend\":true,\"x\":[\"2019-08-04T00:00:00\",\"2019-09-01T00:00:00\",\"2019-09-29T00:00:00\",\"2019-11-10T00:00:00\",\"2020-03-15T00:00:00\",\"2020-03-29T00:00:00\",\"2020-08-02T00:00:00\",\"2020-08-30T00:00:00\",\"2020-10-11T00:00:00\",\"2020-11-22T00:00:00\",\"2020-12-20T00:00:00\",\"2021-01-31T00:00:00\",\"2021-02-14T00:00:00\",\"2021-06-06T00:00:00\",\"2021-07-04T00:00:00\",\"2021-08-01T00:00:00\",\"2021-11-07T00:00:00\"],\"xaxis\":\"x\",\"y\":[0.9899928520371694,0.9694983054614146,0.9639278688524591,0.9829787234042553,0.98,0.964951690821256,0.9848484848484849,1.0,1.0714285714285714,1.0313588850174216,0.9785507246376811,0.9508771929824561,0.9710144927536232,1.0054054054054054,0.986,1.0606060606060606,1.0533333333333332],\"yaxis\":\"y\",\"type\":\"scatter\"},{\"hovertemplate\":\"area=Costa Mesa<br>closing_date=%{x}<br>price_sold_list_ratio=%{y}<extra></extra>\",\"legendgroup\":\"Costa Mesa\",\"line\":{\"color\":\"#EF553B\",\"dash\":\"solid\"},\"marker\":{\"symbol\":\"circle\"},\"mode\":\"lines\",\"name\":\"Costa Mesa\",\"orientation\":\"v\",\"showlegend\":true,\"x\":[\"2019-12-08T00:00:00\",\"2020-02-02T00:00:00\",\"2020-05-24T00:00:00\",\"2020-12-06T00:00:00\",\"2021-06-20T00:00:00\",\"2021-09-26T00:00:00\",\"2021-11-07T00:00:00\",\"2021-11-21T00:00:00\"],\"xaxis\":\"x\",\"y\":[0.9636767976278725,0.931961120640366,0.9456521739130435,0.9616124317255174,0.9871794871794872,0.950950950950951,1.1400737230121116,1.0341614906832297],\"yaxis\":\"y\",\"type\":\"scatter\"},{\"hovertemplate\":\"area=Coto De Caza<br>closing_date=%{x}<br>price_sold_list_ratio=%{y}<extra></extra>\",\"legendgroup\":\"Coto De Caza\",\"line\":{\"color\":\"#00cc96\",\"dash\":\"solid\"},\"marker\":{\"symbol\":\"circle\"},\"mode\":\"lines\",\"name\":\"Coto De Caza\",\"orientation\":\"v\",\"showlegend\":true,\"x\":[\"2019-07-21T00:00:00\",\"2019-08-04T00:00:00\",\"2019-09-01T00:00:00\",\"2019-09-29T00:00:00\",\"2019-10-13T00:00:00\",\"2019-10-27T00:00:00\",\"2019-11-10T00:00:00\",\"2019-11-24T00:00:00\",\"2019-12-08T00:00:00\",\"2019-12-22T00:00:00\",\"2020-01-05T00:00:00\",\"2020-01-19T00:00:00\",\"2020-02-16T00:00:00\",\"2020-03-01T00:00:00\",\"2020-03-15T00:00:00\",\"2020-03-29T00:00:00\",\"2020-04-12T00:00:00\",\"2020-04-26T00:00:00\",\"2020-05-10T00:00:00\",\"2020-05-24T00:00:00\",\"2020-06-07T00:00:00\",\"2020-06-21T00:00:00\",\"2020-07-05T00:00:00\",\"2020-08-02T00:00:00\",\"2020-08-16T00:00:00\",\"2020-08-30T00:00:00\",\"2020-09-13T00:00:00\",\"2020-09-27T00:00:00\",\"2020-10-11T00:00:00\",\"2020-10-25T00:00:00\",\"2020-11-08T00:00:00\",\"2020-11-22T00:00:00\",\"2020-12-06T00:00:00\",\"2020-12-20T00:00:00\",\"2021-01-03T00:00:00\",\"2021-01-17T00:00:00\",\"2021-01-31T00:00:00\",\"2021-02-14T00:00:00\",\"2021-02-28T00:00:00\",\"2021-03-14T00:00:00\",\"2021-03-28T00:00:00\",\"2021-04-11T00:00:00\",\"2021-04-25T00:00:00\",\"2021-05-09T00:00:00\",\"2021-05-23T00:00:00\",\"2021-06-06T00:00:00\",\"2021-06-20T00:00:00\",\"2021-07-04T00:00:00\",\"2021-07-18T00:00:00\",\"2021-08-01T00:00:00\",\"2021-08-15T00:00:00\",\"2021-08-29T00:00:00\",\"2021-09-12T00:00:00\",\"2021-09-26T00:00:00\",\"2021-10-24T00:00:00\",\"2021-11-07T00:00:00\",\"2021-11-21T00:00:00\",\"2021-12-05T00:00:00\",\"2021-12-19T00:00:00\"],\"xaxis\":\"x\",\"y\":[0.9823434301098699,0.9854457246816253,0.9534883720930233,0.9624448820244565,1.0083338958338022,0.9978574788012327,0.9764751920310999,0.9683716451674305,0.9740059761390653,0.9697914332771234,0.9571428571428572,0.9800650596380015,0.9826489300173511,0.9635750404106929,0.920046002300115,0.9800497058338373,0.9738585365019248,1.0,0.9928826177138518,0.9660257179005387,0.9581070359933422,0.9754916975750262,0.9755118710300299,0.9930271157450408,0.9942816297355254,0.9862204724409449,1.0039596832253421,0.9925377360159969,0.986081113510919,1.001439921582649,1.0076923076923077,1.0170826435381033,0.9975418857335956,0.9891944000178082,0.9770491803278688,0.9607389004428697,1.1333333333333333,0.974852450603028,0.9885073364811692,1.032258064516129,1.037936507936508,1.0132272008861778,1.0688035758292127,1.0095047523761882,1.0120102230693242,0.9987890311366711,1.019601431603129,1.0716561150499981,1.046296678653734,1.0689698607505043,1.0603273448151695,0.9980601642975543,0.9796963148153515,1.0365221490253655,1.0667377825188347,1.0110584518167456,0.9447984858219451,1.0375,1.059302661204709],\"yaxis\":\"y\",\"type\":\"scatter\"},{\"hovertemplate\":\"area=Fullerton<br>closing_date=%{x}<br>price_sold_list_ratio=%{y}<extra></extra>\",\"legendgroup\":\"Fullerton\",\"line\":{\"color\":\"#ab63fa\",\"dash\":\"solid\"},\"marker\":{\"symbol\":\"circle\"},\"mode\":\"lines\",\"name\":\"Fullerton\",\"orientation\":\"v\",\"showlegend\":true,\"x\":[\"2019-07-21T00:00:00\",\"2019-08-04T00:00:00\",\"2019-08-18T00:00:00\",\"2019-09-01T00:00:00\",\"2019-09-29T00:00:00\",\"2019-10-27T00:00:00\",\"2019-11-24T00:00:00\",\"2019-12-22T00:00:00\",\"2020-01-05T00:00:00\",\"2020-01-19T00:00:00\",\"2020-03-01T00:00:00\",\"2020-03-15T00:00:00\",\"2020-03-29T00:00:00\",\"2020-04-26T00:00:00\",\"2020-05-24T00:00:00\",\"2020-06-07T00:00:00\",\"2020-07-05T00:00:00\",\"2020-08-02T00:00:00\",\"2020-08-30T00:00:00\",\"2020-09-13T00:00:00\",\"2020-09-27T00:00:00\",\"2020-10-11T00:00:00\",\"2020-11-08T00:00:00\",\"2020-12-06T00:00:00\",\"2020-12-20T00:00:00\",\"2021-01-03T00:00:00\",\"2021-02-14T00:00:00\",\"2021-04-25T00:00:00\",\"2021-05-09T00:00:00\",\"2021-06-06T00:00:00\",\"2021-06-20T00:00:00\",\"2021-07-04T00:00:00\",\"2021-08-01T00:00:00\",\"2021-08-29T00:00:00\",\"2021-09-12T00:00:00\",\"2021-09-26T00:00:00\",\"2021-10-10T00:00:00\",\"2021-10-24T00:00:00\",\"2021-11-07T00:00:00\",\"2021-12-19T00:00:00\",\"2022-01-16T00:00:00\"],\"xaxis\":\"x\",\"y\":[0.931098696461825,0.9725823367337869,0.972610644257703,1.0080123266563945,0.970873786407767,0.9700766839563009,0.9517241379310345,0.9888888888888889,0.9391717171717171,0.9122807017543859,1.0162146085933483,1.16711140760507,0.9723445574536717,0.9787234042553191,0.9748427672955975,0.929020979020979,0.9806622861998469,1.0,0.9781790820165538,0.9721030042918455,0.9838709677419355,0.9714622473033788,1.1416666666666666,0.9500475023751187,1.0,1.003584229390681,1.0,1.034408549799245,1.0392320534223707,1.1527272727272728,1.0315001250625313,1.0160069219121783,1.0005002501250626,0.9166717592875516,1.025089605734767,1.0278770550393137,1.0783768760422456,1.2887179487179488,1.0804547266401903,1.0713340475560318,1.1284046692607004],\"yaxis\":\"y\",\"type\":\"scatter\"},{\"hovertemplate\":\"area=Irvine<br>closing_date=%{x}<br>price_sold_list_ratio=%{y}<extra></extra>\",\"legendgroup\":\"Irvine\",\"line\":{\"color\":\"#FFA15A\",\"dash\":\"solid\"},\"marker\":{\"symbol\":\"circle\"},\"mode\":\"lines\",\"name\":\"Irvine\",\"orientation\":\"v\",\"showlegend\":true,\"x\":[\"2019-08-04T00:00:00\",\"2019-11-24T00:00:00\",\"2019-12-22T00:00:00\",\"2020-02-02T00:00:00\",\"2020-03-15T00:00:00\",\"2020-03-29T00:00:00\",\"2020-06-21T00:00:00\",\"2020-07-19T00:00:00\",\"2020-08-16T00:00:00\",\"2020-09-13T00:00:00\",\"2020-09-27T00:00:00\",\"2020-10-25T00:00:00\",\"2020-12-06T00:00:00\",\"2021-01-17T00:00:00\",\"2021-02-14T00:00:00\",\"2021-02-28T00:00:00\",\"2021-03-14T00:00:00\",\"2021-06-06T00:00:00\",\"2021-07-04T00:00:00\",\"2021-07-18T00:00:00\",\"2021-08-15T00:00:00\",\"2021-09-26T00:00:00\",\"2021-10-10T00:00:00\"],\"xaxis\":\"x\",\"y\":[0.985793149166219,0.9648884013241399,0.9487179487179487,0.9531845740358772,0.956193017567267,0.9462759462759462,0.9137931034482759,0.9689922480620154,0.9598233924957807,0.9517076354144007,1.0561797752808988,0.9489993544222078,1.0026666666666668,1.0,0.9766233766233766,1.0153538050734312,1.0198558959456439,1.060935799782372,1.0583182259664077,0.975975975975976,1.0204081632653061,1.0068581779735364,1.000645577792124],\"yaxis\":\"y\",\"type\":\"scatter\"},{\"hovertemplate\":\"area=Ladera Ranch<br>closing_date=%{x}<br>price_sold_list_ratio=%{y}<extra></extra>\",\"legendgroup\":\"Ladera Ranch\",\"line\":{\"color\":\"#19d3f3\",\"dash\":\"solid\"},\"marker\":{\"symbol\":\"circle\"},\"mode\":\"lines\",\"name\":\"Ladera Ranch\",\"orientation\":\"v\",\"showlegend\":true,\"x\":[\"2019-07-07T00:00:00\",\"2019-07-21T00:00:00\",\"2019-08-04T00:00:00\",\"2019-08-18T00:00:00\",\"2019-09-01T00:00:00\",\"2019-09-15T00:00:00\",\"2019-11-10T00:00:00\",\"2019-11-24T00:00:00\",\"2019-12-22T00:00:00\",\"2020-01-19T00:00:00\",\"2020-02-16T00:00:00\",\"2020-03-01T00:00:00\",\"2020-03-15T00:00:00\",\"2020-03-29T00:00:00\",\"2020-04-12T00:00:00\",\"2020-06-07T00:00:00\",\"2020-06-21T00:00:00\",\"2020-07-05T00:00:00\",\"2020-08-02T00:00:00\",\"2020-08-16T00:00:00\",\"2020-08-30T00:00:00\",\"2020-09-13T00:00:00\",\"2020-09-27T00:00:00\",\"2020-10-11T00:00:00\",\"2020-10-25T00:00:00\",\"2021-01-31T00:00:00\",\"2021-02-14T00:00:00\",\"2021-03-14T00:00:00\",\"2021-03-28T00:00:00\",\"2021-04-11T00:00:00\",\"2021-04-25T00:00:00\",\"2021-05-09T00:00:00\",\"2021-05-23T00:00:00\",\"2021-06-06T00:00:00\",\"2021-06-20T00:00:00\",\"2021-07-04T00:00:00\",\"2021-12-05T00:00:00\",\"2021-12-19T00:00:00\"],\"xaxis\":\"x\",\"y\":[0.9761236858970603,0.9751252657055108,1.0,0.9922495155947246,1.0090566037735849,0.9923076923076923,0.9830508474576272,0.9465855307640297,0.9350708924103419,0.994070270760724,0.9859919954259577,0.9788194076093019,1.053537834705005,0.9993332839469591,1.0,0.9600548602777301,1.1567872955407414,0.9779282668673188,0.9934853329341509,0.997429622652177,1.0,1.0212121212121212,0.9978217862677458,1.0653325485579752,0.9997084476070466,1.0,1.0500700046669778,0.9714285714285714,1.0,1.0039393234048215,1.05124593716143,1.0533079604389555,1.0348484848484847,1.0,1.089655172413793,1.0588925466362793,1.0594467333725721,1.0],\"yaxis\":\"y\",\"type\":\"scatter\"},{\"hovertemplate\":\"area=Laguna Hills<br>closing_date=%{x}<br>price_sold_list_ratio=%{y}<extra></extra>\",\"legendgroup\":\"Laguna Hills\",\"line\":{\"color\":\"#FF6692\",\"dash\":\"solid\"},\"marker\":{\"symbol\":\"circle\"},\"mode\":\"lines\",\"name\":\"Laguna Hills\",\"orientation\":\"v\",\"showlegend\":true,\"x\":[\"2019-07-07T00:00:00\",\"2019-07-21T00:00:00\",\"2019-08-18T00:00:00\",\"2019-09-29T00:00:00\",\"2019-10-13T00:00:00\",\"2019-10-27T00:00:00\",\"2019-11-10T00:00:00\",\"2019-12-08T00:00:00\",\"2020-01-05T00:00:00\",\"2020-02-02T00:00:00\",\"2020-02-16T00:00:00\",\"2020-03-01T00:00:00\",\"2020-03-15T00:00:00\",\"2020-03-29T00:00:00\",\"2020-04-26T00:00:00\",\"2020-05-24T00:00:00\",\"2020-06-21T00:00:00\",\"2020-07-05T00:00:00\",\"2020-07-19T00:00:00\",\"2020-08-02T00:00:00\",\"2020-08-30T00:00:00\",\"2020-09-13T00:00:00\",\"2020-09-27T00:00:00\",\"2020-10-11T00:00:00\",\"2020-10-25T00:00:00\",\"2020-11-08T00:00:00\",\"2020-11-22T00:00:00\",\"2020-12-06T00:00:00\",\"2020-12-20T00:00:00\",\"2021-01-03T00:00:00\",\"2021-01-17T00:00:00\",\"2021-01-31T00:00:00\",\"2021-02-28T00:00:00\",\"2021-03-28T00:00:00\",\"2021-04-11T00:00:00\",\"2021-04-25T00:00:00\",\"2021-05-09T00:00:00\",\"2021-06-20T00:00:00\",\"2021-07-18T00:00:00\",\"2021-08-15T00:00:00\",\"2021-08-29T00:00:00\",\"2021-09-26T00:00:00\",\"2021-12-05T00:00:00\",\"2022-01-02T00:00:00\"],\"xaxis\":\"x\",\"y\":[1.003584229390681,1.0262814853567885,0.9958720330237358,0.948,0.9552249220522016,0.9872882202692027,0.9699144080352288,0.9738113763910023,0.95127206511983,0.9433962264150944,0.9110057925223802,1.4305555555555556,0.9959014825818248,0.992280701754386,0.9344334020876305,0.9863013698630136,0.9817447779533088,0.9785123361885937,0.992831541218638,1.008802427152097,0.9803921568627451,0.9848484848484849,0.9731634258670352,1.1146496815286624,1.001537458208277,1.0183951819171944,0.9755068869338985,0.9925435548901556,1.0920436817472698,1.0063277718502115,0.9885467453596783,0.982910052910053,1.1065573770491803,1.0070528967254408,0.9921771414064069,1.0058823529411764,1.0,1.0067114093959733,1.0642392486114904,1.0200152978621064,1.0211554109031733,1.0346485532128216,1.0245014245014243,1.0357150255107326],\"yaxis\":\"y\",\"type\":\"scatter\"},{\"hovertemplate\":\"area=Laguna Niguel<br>closing_date=%{x}<br>price_sold_list_ratio=%{y}<extra></extra>\",\"legendgroup\":\"Laguna Niguel\",\"line\":{\"color\":\"#B6E880\",\"dash\":\"solid\"},\"marker\":{\"symbol\":\"circle\"},\"mode\":\"lines\",\"name\":\"Laguna Niguel\",\"orientation\":\"v\",\"showlegend\":true,\"x\":[\"2019-08-04T00:00:00\",\"2019-08-18T00:00:00\",\"2019-09-01T00:00:00\",\"2019-09-15T00:00:00\",\"2019-09-29T00:00:00\",\"2019-10-13T00:00:00\",\"2019-12-08T00:00:00\",\"2019-12-22T00:00:00\",\"2020-01-05T00:00:00\",\"2020-03-01T00:00:00\",\"2020-03-15T00:00:00\",\"2020-03-29T00:00:00\",\"2020-04-26T00:00:00\",\"2020-05-10T00:00:00\",\"2020-06-07T00:00:00\",\"2020-07-05T00:00:00\",\"2020-07-19T00:00:00\",\"2020-08-02T00:00:00\",\"2020-08-16T00:00:00\",\"2020-08-30T00:00:00\",\"2020-09-27T00:00:00\",\"2020-11-08T00:00:00\",\"2020-11-22T00:00:00\",\"2020-12-06T00:00:00\",\"2020-12-20T00:00:00\",\"2021-01-17T00:00:00\",\"2021-01-31T00:00:00\",\"2021-02-28T00:00:00\",\"2021-03-14T00:00:00\",\"2021-03-28T00:00:00\",\"2021-04-11T00:00:00\",\"2021-04-25T00:00:00\",\"2021-05-09T00:00:00\",\"2021-06-06T00:00:00\",\"2021-07-04T00:00:00\",\"2021-08-01T00:00:00\",\"2021-09-26T00:00:00\",\"2021-10-24T00:00:00\",\"2021-11-21T00:00:00\"],\"xaxis\":\"x\",\"y\":[0.9837790671172844,0.9490740740740741,0.9902890739833414,0.9829194771823191,0.9358490566037736,0.9411764705882353,0.9479739869934968,0.9667955727430324,0.9873646209386282,0.9740681999944667,0.9841833440929633,0.9723731032104338,0.9992315378704137,0.9428571428571427,0.8094986807387863,0.9834638816362054,0.9712950600801068,0.9840723136971891,1.006779661016949,0.9655779915977775,0.9834412349841466,0.9839908519153803,0.9683666881859264,0.9771610771970913,1.0431789737171464,0.9677784104811868,1.0005145797598627,0.9857142857142858,0.9705228031145717,1.0022727272727272,1.0064516129032257,0.9929824561403509,1.0350218886804252,1.0,1.0429929207011537,1.0382237211916807,1.0285714285714285,1.0939789080918827,1.040909090909091],\"yaxis\":\"y\",\"type\":\"scatter\"},{\"hovertemplate\":\"area=Lake Forest<br>closing_date=%{x}<br>price_sold_list_ratio=%{y}<extra></extra>\",\"legendgroup\":\"Lake Forest\",\"line\":{\"color\":\"#FF97FF\",\"dash\":\"solid\"},\"marker\":{\"symbol\":\"circle\"},\"mode\":\"lines\",\"name\":\"Lake Forest\",\"orientation\":\"v\",\"showlegend\":true,\"x\":[\"2019-07-21T00:00:00\",\"2019-09-01T00:00:00\",\"2019-09-15T00:00:00\",\"2019-09-29T00:00:00\",\"2019-12-08T00:00:00\",\"2019-12-22T00:00:00\",\"2020-02-02T00:00:00\",\"2020-06-07T00:00:00\",\"2020-08-02T00:00:00\",\"2020-08-30T00:00:00\",\"2020-09-27T00:00:00\",\"2020-12-06T00:00:00\",\"2021-02-14T00:00:00\",\"2021-03-14T00:00:00\",\"2021-05-23T00:00:00\",\"2021-06-06T00:00:00\",\"2021-06-20T00:00:00\",\"2021-07-04T00:00:00\",\"2021-08-01T00:00:00\",\"2021-09-12T00:00:00\",\"2021-10-10T00:00:00\",\"2021-11-21T00:00:00\"],\"xaxis\":\"x\",\"y\":[0.9969502181165,0.9386733416770964,0.9845981076734501,0.9752859127649527,0.9674728940783986,0.9565217391304348,1.0,1.0188679245283019,0.9924937447873228,1.017255288692616,1.0205128205128204,0.9811827956989247,0.9016393442622951,1.0,1.0173918991813615,0.9939794818844937,1.0,0.9841711478500004,1.1191335740072201,1.0060362173038229,1.0000645202916316,1.0],\"yaxis\":\"y\",\"type\":\"scatter\"},{\"hovertemplate\":\"area=Mission Viejo<br>closing_date=%{x}<br>price_sold_list_ratio=%{y}<extra></extra>\",\"legendgroup\":\"Mission Viejo\",\"line\":{\"color\":\"#FECB52\",\"dash\":\"solid\"},\"marker\":{\"symbol\":\"circle\"},\"mode\":\"lines\",\"name\":\"Mission Viejo\",\"orientation\":\"v\",\"showlegend\":true,\"x\":[\"2019-07-07T00:00:00\",\"2019-07-21T00:00:00\",\"2019-08-04T00:00:00\",\"2019-08-18T00:00:00\",\"2019-09-01T00:00:00\",\"2019-09-15T00:00:00\",\"2019-09-29T00:00:00\",\"2019-11-10T00:00:00\",\"2019-11-24T00:00:00\",\"2019-12-08T00:00:00\",\"2019-12-22T00:00:00\",\"2020-02-02T00:00:00\",\"2020-03-01T00:00:00\",\"2020-03-15T00:00:00\",\"2020-03-29T00:00:00\",\"2020-04-12T00:00:00\",\"2020-04-26T00:00:00\",\"2020-05-10T00:00:00\",\"2020-06-07T00:00:00\",\"2020-07-19T00:00:00\",\"2020-08-02T00:00:00\",\"2020-08-16T00:00:00\",\"2020-08-30T00:00:00\",\"2020-09-27T00:00:00\",\"2020-11-08T00:00:00\",\"2020-12-06T00:00:00\",\"2020-12-20T00:00:00\",\"2021-01-03T00:00:00\",\"2021-01-17T00:00:00\",\"2021-01-31T00:00:00\",\"2021-02-14T00:00:00\",\"2021-02-28T00:00:00\",\"2021-03-14T00:00:00\",\"2021-03-28T00:00:00\",\"2021-04-11T00:00:00\",\"2021-04-25T00:00:00\",\"2021-06-06T00:00:00\",\"2021-06-20T00:00:00\",\"2021-07-04T00:00:00\",\"2021-07-18T00:00:00\",\"2021-08-01T00:00:00\",\"2021-08-15T00:00:00\",\"2021-08-29T00:00:00\",\"2021-09-12T00:00:00\",\"2021-09-26T00:00:00\",\"2021-10-10T00:00:00\",\"2021-11-07T00:00:00\",\"2021-11-21T00:00:00\",\"2021-12-05T00:00:00\",\"2021-12-19T00:00:00\",\"2022-01-02T00:00:00\"],\"xaxis\":\"x\",\"y\":[0.9731517809062236,0.9652728243140111,0.978159884021953,0.973649374593352,0.981598160540065,0.9656524023113913,0.9853658536585366,0.9860573589174404,0.9806029590804975,0.9705882352941176,0.9731427917972838,0.96,0.9673674845900105,1.0,1.120018147757874,0.9503491078355314,0.981004391510544,1.0,0.986414115667517,0.9749745695997316,1.0014328063241107,0.9877846649138302,1.0013542096150871,0.9884591871456868,0.9714285714285714,1.0100090991810737,1.0296897307439281,0.9706025088604244,0.9724260618189904,0.9593765097927671,1.0002452783909737,1.0162116639764194,0.9925541125541125,1.0,1.0138187056867676,1.0227063429968273,1.034956026260374,1.1129032258064515,1.0196304849884528,1.0943136500451025,0.9179820811555057,0.9379310344827586,1.0805337145580176,1.0723406462263791,1.0029940119760479,1.0319223985890653,1.0077519379844961,1.1309760220968164,1.0169911129945097,1.0520186335403727,1.0400693379558636],\"yaxis\":\"y\",\"type\":\"scatter\"},{\"hovertemplate\":\"area=Rancho Mission Viejo<br>closing_date=%{x}<br>price_sold_list_ratio=%{y}<extra></extra>\",\"legendgroup\":\"Rancho Mission Viejo\",\"line\":{\"color\":\"#636efa\",\"dash\":\"solid\"},\"marker\":{\"symbol\":\"circle\"},\"mode\":\"lines\",\"name\":\"Rancho Mission Viejo\",\"orientation\":\"v\",\"showlegend\":true,\"x\":[\"2019-12-22T00:00:00\",\"2020-03-29T00:00:00\",\"2020-07-19T00:00:00\",\"2020-09-13T00:00:00\",\"2020-12-06T00:00:00\",\"2021-01-03T00:00:00\",\"2021-06-06T00:00:00\",\"2021-07-18T00:00:00\",\"2021-08-29T00:00:00\"],\"xaxis\":\"x\",\"y\":[0.9375585974123383,1.0,0.9699833240689272,1.0076982294072363,1.0007147962830594,0.9776887871853547,1.095052807115064,1.1733333333333333,1.0833935218623256],\"yaxis\":\"y\",\"type\":\"scatter\"},{\"hovertemplate\":\"area=Rancho Santa Margarita<br>closing_date=%{x}<br>price_sold_list_ratio=%{y}<extra></extra>\",\"legendgroup\":\"Rancho Santa Margarita\",\"line\":{\"color\":\"#EF553B\",\"dash\":\"solid\"},\"marker\":{\"symbol\":\"circle\"},\"mode\":\"lines\",\"name\":\"Rancho Santa Margarita\",\"orientation\":\"v\",\"showlegend\":true,\"x\":[\"2019-07-07T00:00:00\",\"2019-08-04T00:00:00\",\"2019-08-18T00:00:00\",\"2019-09-01T00:00:00\",\"2019-09-15T00:00:00\",\"2019-09-29T00:00:00\",\"2019-10-13T00:00:00\",\"2019-11-24T00:00:00\",\"2020-02-16T00:00:00\",\"2020-03-15T00:00:00\",\"2020-04-26T00:00:00\",\"2020-05-24T00:00:00\",\"2020-06-07T00:00:00\",\"2020-06-21T00:00:00\",\"2020-07-05T00:00:00\",\"2020-07-19T00:00:00\",\"2020-08-16T00:00:00\",\"2020-10-11T00:00:00\",\"2020-11-08T00:00:00\",\"2020-11-22T00:00:00\",\"2020-12-20T00:00:00\",\"2021-01-03T00:00:00\",\"2021-01-17T00:00:00\",\"2021-02-14T00:00:00\",\"2021-02-28T00:00:00\",\"2021-03-14T00:00:00\",\"2021-04-25T00:00:00\",\"2021-05-09T00:00:00\",\"2021-05-23T00:00:00\",\"2021-06-06T00:00:00\",\"2021-06-20T00:00:00\",\"2021-07-04T00:00:00\",\"2021-07-18T00:00:00\",\"2021-08-01T00:00:00\",\"2021-08-15T00:00:00\",\"2021-08-29T00:00:00\",\"2021-09-12T00:00:00\",\"2021-09-26T00:00:00\",\"2021-10-10T00:00:00\",\"2021-10-24T00:00:00\",\"2021-11-07T00:00:00\",\"2021-12-05T00:00:00\",\"2021-12-19T00:00:00\",\"2022-01-02T00:00:00\"],\"xaxis\":\"x\",\"y\":[0.9391304347826087,0.9278565471226021,0.9686954411073233,0.9777633551683764,0.9949738434711253,0.9827115559599636,0.9783269961977187,1.0,0.9721082854799016,1.0088781275221954,1.063410174817367,0.9591078066914498,0.9825925925925926,1.0008410428931875,0.9711423962188489,0.9898507301406445,0.98932384341637,1.006228340475892,1.0,1.012693129058196,0.988780487804878,0.9051731941148226,1.0007147962830594,0.9851470142467414,1.0300424033922715,0.9936620166889611,1.0,1.0428967529393578,1.0167344489632641,1.0476712319524752,1.0007423096118915,1.0084680523479599,1.039426523297491,1.034411722984873,1.1095700819048149,1.0,1.0060642813826561,1.0006253908692933,1.0200296735905046,0.987615734129089,1.0,0.9815541891991999,1.0166357517477778,1.0083375521097004],\"yaxis\":\"y\",\"type\":\"scatter\"},{\"hovertemplate\":\"area=San Clemente<br>closing_date=%{x}<br>price_sold_list_ratio=%{y}<extra></extra>\",\"legendgroup\":\"San Clemente\",\"line\":{\"color\":\"#00cc96\",\"dash\":\"solid\"},\"marker\":{\"symbol\":\"circle\"},\"mode\":\"lines\",\"name\":\"San Clemente\",\"orientation\":\"v\",\"showlegend\":true,\"x\":[\"2019-07-07T00:00:00\",\"2019-07-21T00:00:00\",\"2019-08-04T00:00:00\",\"2019-09-01T00:00:00\",\"2019-09-15T00:00:00\",\"2019-09-29T00:00:00\",\"2019-10-13T00:00:00\",\"2019-11-10T00:00:00\",\"2019-12-22T00:00:00\",\"2020-01-05T00:00:00\",\"2020-01-19T00:00:00\",\"2020-03-01T00:00:00\",\"2020-03-15T00:00:00\",\"2020-03-29T00:00:00\",\"2020-04-12T00:00:00\",\"2020-04-26T00:00:00\",\"2020-05-24T00:00:00\",\"2020-06-07T00:00:00\",\"2020-06-21T00:00:00\",\"2020-07-05T00:00:00\",\"2020-07-19T00:00:00\",\"2020-08-30T00:00:00\",\"2020-09-13T00:00:00\",\"2020-10-11T00:00:00\",\"2020-10-25T00:00:00\",\"2020-11-08T00:00:00\",\"2020-11-22T00:00:00\",\"2020-12-06T00:00:00\",\"2020-12-20T00:00:00\",\"2021-01-03T00:00:00\",\"2021-01-17T00:00:00\",\"2021-01-31T00:00:00\",\"2021-02-28T00:00:00\",\"2021-03-28T00:00:00\",\"2021-04-11T00:00:00\",\"2021-04-25T00:00:00\",\"2021-05-23T00:00:00\",\"2021-06-06T00:00:00\",\"2021-06-20T00:00:00\",\"2021-07-04T00:00:00\",\"2021-07-18T00:00:00\",\"2021-08-01T00:00:00\",\"2021-08-15T00:00:00\",\"2021-09-12T00:00:00\",\"2021-09-26T00:00:00\",\"2021-10-10T00:00:00\",\"2021-12-05T00:00:00\",\"2022-01-02T00:00:00\"],\"xaxis\":\"x\",\"y\":[1.049677923702314,0.9841951582184176,0.9929824561403509,0.9619047619047619,0.9920990937712048,1.0003335557038024,1.0149520866554353,1.0,0.9863394046648901,0.9857142857142858,0.9295774647887324,0.99768875192604,0.9638217928073001,1.0143623949165252,0.9815032168261147,0.9319870906607512,1.0,0.9684452750549856,0.9772624788188267,0.9854930326473663,0.9725416104363473,0.9834488067744419,1.0008192692792526,1.0151515151515151,0.9692640692640694,1.0,1.008465506249638,0.9846654870887503,1.0816012317167052,1.0,1.0,1.0079212533906725,1.0,1.0416626580503592,1.0209797099607698,1.0130319589651016,1.0210526315789474,1.0310773870334549,1.026026026026026,1.0206935123042506,1.0085714285714287,1.0111679777430826,1.103282771039045,1.0208333333333333,1.0487515050806844,1.0,1.0523124325011117,1.1500146763304657],\"yaxis\":\"y\",\"type\":\"scatter\"},{\"hovertemplate\":\"area=San Juan Capistrano<br>closing_date=%{x}<br>price_sold_list_ratio=%{y}<extra></extra>\",\"legendgroup\":\"San Juan Capistrano\",\"line\":{\"color\":\"#ab63fa\",\"dash\":\"solid\"},\"marker\":{\"symbol\":\"circle\"},\"mode\":\"lines\",\"name\":\"San Juan Capistrano\",\"orientation\":\"v\",\"showlegend\":true,\"x\":[\"2019-07-21T00:00:00\",\"2019-08-18T00:00:00\",\"2019-09-01T00:00:00\",\"2019-11-10T00:00:00\",\"2019-11-24T00:00:00\",\"2019-12-22T00:00:00\",\"2020-01-05T00:00:00\",\"2020-02-16T00:00:00\",\"2020-03-15T00:00:00\",\"2020-03-29T00:00:00\",\"2020-04-12T00:00:00\",\"2020-04-26T00:00:00\",\"2020-05-24T00:00:00\",\"2020-06-21T00:00:00\",\"2020-07-05T00:00:00\",\"2020-07-19T00:00:00\",\"2020-08-02T00:00:00\",\"2020-08-16T00:00:00\",\"2020-08-30T00:00:00\",\"2020-09-13T00:00:00\",\"2020-09-27T00:00:00\",\"2020-10-11T00:00:00\",\"2020-10-25T00:00:00\",\"2020-11-08T00:00:00\",\"2020-11-22T00:00:00\",\"2020-12-06T00:00:00\",\"2020-12-20T00:00:00\",\"2021-01-03T00:00:00\",\"2021-01-17T00:00:00\",\"2021-02-14T00:00:00\",\"2021-02-28T00:00:00\",\"2021-03-14T00:00:00\",\"2021-03-28T00:00:00\",\"2021-04-11T00:00:00\",\"2021-04-25T00:00:00\",\"2021-05-09T00:00:00\",\"2021-05-23T00:00:00\",\"2021-06-06T00:00:00\",\"2021-06-20T00:00:00\",\"2021-07-04T00:00:00\",\"2021-08-01T00:00:00\",\"2021-08-29T00:00:00\",\"2021-09-26T00:00:00\",\"2021-10-10T00:00:00\",\"2021-11-07T00:00:00\",\"2021-11-21T00:00:00\",\"2021-12-19T00:00:00\",\"2022-01-02T00:00:00\"],\"xaxis\":\"x\",\"y\":[0.9739826551034023,0.9417304296645085,0.9412733804038153,0.9679457952576233,0.9073247299553151,0.9807846277021617,0.966819279941848,0.9648186287212921,0.985568192106577,0.9732441471571907,0.98989898989899,1.0054876136719975,0.9427006530440278,0.9706502741584074,1.0,0.9908778424114225,0.9717798268982559,0.9703911840127665,1.0324483775811208,0.9723302589176576,0.979500094781596,0.9330461645876224,1.225,0.988175731674305,1.004374414066569,1.008138211063313,0.9371428571428572,0.9801795124537789,0.9873617693522907,1.0188087774294672,0.9888579387186629,0.956045194562669,0.9891636565712698,0.9747102212855637,1.026315789473684,1.0277777777777777,1.1782608695652175,0.989247311827957,1.0003129454347717,1.066194585446543,1.1279563371740449,1.0280636972074775,0.9433962264150944,0.9210526315789473,0.9743589743589743,1.0389972144846797,1.0366870483602002,1.000050002500125],\"yaxis\":\"y\",\"type\":\"scatter\"},{\"hovertemplate\":\"<b>LOWESS trendline</b><br><br>closing_date=%{x}<br>price_sold_list_ratio=%{y} <b>(trend)</b><extra></extra>\",\"legendgroup\":\"\",\"line\":{\"color\":\"black\"},\"marker\":{\"color\":\"#636efa\",\"symbol\":\"circle\"},\"mode\":\"lines\",\"name\":\"\",\"showlegend\":false,\"x\":[\"2019-07-07T00:00:00\",\"2019-07-21T00:00:00\",\"2019-08-04T00:00:00\",\"2019-08-18T00:00:00\",\"2019-09-01T00:00:00\",\"2019-09-15T00:00:00\",\"2019-09-29T00:00:00\",\"2019-10-13T00:00:00\",\"2019-10-27T00:00:00\",\"2019-11-10T00:00:00\",\"2019-11-24T00:00:00\",\"2019-12-08T00:00:00\",\"2019-12-22T00:00:00\",\"2020-01-05T00:00:00\",\"2020-01-19T00:00:00\",\"2020-02-02T00:00:00\",\"2020-02-16T00:00:00\",\"2020-03-01T00:00:00\",\"2020-03-15T00:00:00\",\"2020-03-29T00:00:00\",\"2020-04-12T00:00:00\",\"2020-04-26T00:00:00\",\"2020-05-10T00:00:00\",\"2020-05-24T00:00:00\",\"2020-06-07T00:00:00\",\"2020-06-21T00:00:00\",\"2020-07-05T00:00:00\",\"2020-07-19T00:00:00\",\"2020-08-02T00:00:00\",\"2020-08-16T00:00:00\",\"2020-08-30T00:00:00\",\"2020-09-13T00:00:00\",\"2020-09-27T00:00:00\",\"2020-10-11T00:00:00\",\"2020-10-25T00:00:00\",\"2020-11-08T00:00:00\",\"2020-11-22T00:00:00\",\"2020-12-06T00:00:00\",\"2020-12-20T00:00:00\",\"2021-01-03T00:00:00\",\"2021-01-17T00:00:00\",\"2021-01-31T00:00:00\",\"2021-02-14T00:00:00\",\"2021-02-28T00:00:00\",\"2021-03-14T00:00:00\",\"2021-03-28T00:00:00\",\"2021-04-11T00:00:00\",\"2021-04-25T00:00:00\",\"2021-05-09T00:00:00\",\"2021-05-23T00:00:00\",\"2021-06-06T00:00:00\",\"2021-06-20T00:00:00\",\"2021-07-04T00:00:00\",\"2021-07-18T00:00:00\",\"2021-08-01T00:00:00\",\"2021-08-15T00:00:00\",\"2021-08-29T00:00:00\",\"2021-09-12T00:00:00\",\"2021-09-26T00:00:00\",\"2021-10-10T00:00:00\",\"2021-10-24T00:00:00\",\"2021-11-07T00:00:00\",\"2021-11-21T00:00:00\",\"2021-12-05T00:00:00\",\"2021-12-19T00:00:00\",\"2022-01-02T00:00:00\",\"2022-01-16T00:00:00\"],\"xaxis\":\"x\",\"y\":[0.9737701682681907,0.974088988720692,0.9744239359926415,0.9747749721616077,0.9751416645019231,0.9755235014322983,0.9759198209566833,0.9763295604620694,0.9767516248130464,0.9771846192003203,0.9776266954327232,0.9780757423533838,0.9785298509912079,0.9789873431390435,0.979446852264537,0.9799074503197621,0.9803690236955692,0.9808329082481351,0.981302619726998,0.9817854534409207,0.9823000124378654,0.9828922772960778,0.9837969274376951,0.9847410754105167,0.9857111711176482,0.986698860078201,0.987699979424033,0.9887124269675077,0.9897384136240048,0.990785913765153,0.9918589749817981,0.9929610817633724,0.9941009567996778,0.9952901146248216,0.9965342675355306,0.9978432716513495,0.9992260125144342,1.0006848844056206,1.002207752867342,1.0037679045716816,1.0053379288547137,1.0068984380412134,1.0084375752543275,1.0099446235710856,1.0114147532417173,1.0128545038295056,1.014329317533012,1.0158062666362835,1.017295635942116,1.0188007275145896,1.0203212732812832,1.0218554803455084,1.0234012630317137,1.024956616102371,1.026519364729491,1.0280872976167774,1.0296587775774193,1.0312319445337144,1.032805038496106,1.0343765934422007,1.0359458698839974,1.0375127937871735,1.0390769976952974,1.0406378833300631,1.04219482771735,1.0437477262633086,1.0452967108658442],\"yaxis\":\"y\",\"type\":\"scatter\"}],                        {\"template\":{\"data\":{\"bar\":[{\"error_x\":{\"color\":\"#2a3f5f\"},\"error_y\":{\"color\":\"#2a3f5f\"},\"marker\":{\"line\":{\"color\":\"#E5ECF6\",\"width\":0.5},\"pattern\":{\"fillmode\":\"overlay\",\"size\":10,\"solidity\":0.2}},\"type\":\"bar\"}],\"barpolar\":[{\"marker\":{\"line\":{\"color\":\"#E5ECF6\",\"width\":0.5},\"pattern\":{\"fillmode\":\"overlay\",\"size\":10,\"solidity\":0.2}},\"type\":\"barpolar\"}],\"carpet\":[{\"aaxis\":{\"endlinecolor\":\"#2a3f5f\",\"gridcolor\":\"white\",\"linecolor\":\"white\",\"minorgridcolor\":\"white\",\"startlinecolor\":\"#2a3f5f\"},\"baxis\":{\"endlinecolor\":\"#2a3f5f\",\"gridcolor\":\"white\",\"linecolor\":\"white\",\"minorgridcolor\":\"white\",\"startlinecolor\":\"#2a3f5f\"},\"type\":\"carpet\"}],\"choropleth\":[{\"colorbar\":{\"outlinewidth\":0,\"ticks\":\"\"},\"type\":\"choropleth\"}],\"contour\":[{\"colorbar\":{\"outlinewidth\":0,\"ticks\":\"\"},\"colorscale\":[[0.0,\"#0d0887\"],[0.1111111111111111,\"#46039f\"],[0.2222222222222222,\"#7201a8\"],[0.3333333333333333,\"#9c179e\"],[0.4444444444444444,\"#bd3786\"],[0.5555555555555556,\"#d8576b\"],[0.6666666666666666,\"#ed7953\"],[0.7777777777777778,\"#fb9f3a\"],[0.8888888888888888,\"#fdca26\"],[1.0,\"#f0f921\"]],\"type\":\"contour\"}],\"contourcarpet\":[{\"colorbar\":{\"outlinewidth\":0,\"ticks\":\"\"},\"type\":\"contourcarpet\"}],\"heatmap\":[{\"colorbar\":{\"outlinewidth\":0,\"ticks\":\"\"},\"colorscale\":[[0.0,\"#0d0887\"],[0.1111111111111111,\"#46039f\"],[0.2222222222222222,\"#7201a8\"],[0.3333333333333333,\"#9c179e\"],[0.4444444444444444,\"#bd3786\"],[0.5555555555555556,\"#d8576b\"],[0.6666666666666666,\"#ed7953\"],[0.7777777777777778,\"#fb9f3a\"],[0.8888888888888888,\"#fdca26\"],[1.0,\"#f0f921\"]],\"type\":\"heatmap\"}],\"heatmapgl\":[{\"colorbar\":{\"outlinewidth\":0,\"ticks\":\"\"},\"colorscale\":[[0.0,\"#0d0887\"],[0.1111111111111111,\"#46039f\"],[0.2222222222222222,\"#7201a8\"],[0.3333333333333333,\"#9c179e\"],[0.4444444444444444,\"#bd3786\"],[0.5555555555555556,\"#d8576b\"],[0.6666666666666666,\"#ed7953\"],[0.7777777777777778,\"#fb9f3a\"],[0.8888888888888888,\"#fdca26\"],[1.0,\"#f0f921\"]],\"type\":\"heatmapgl\"}],\"histogram\":[{\"marker\":{\"pattern\":{\"fillmode\":\"overlay\",\"size\":10,\"solidity\":0.2}},\"type\":\"histogram\"}],\"histogram2d\":[{\"colorbar\":{\"outlinewidth\":0,\"ticks\":\"\"},\"colorscale\":[[0.0,\"#0d0887\"],[0.1111111111111111,\"#46039f\"],[0.2222222222222222,\"#7201a8\"],[0.3333333333333333,\"#9c179e\"],[0.4444444444444444,\"#bd3786\"],[0.5555555555555556,\"#d8576b\"],[0.6666666666666666,\"#ed7953\"],[0.7777777777777778,\"#fb9f3a\"],[0.8888888888888888,\"#fdca26\"],[1.0,\"#f0f921\"]],\"type\":\"histogram2d\"}],\"histogram2dcontour\":[{\"colorbar\":{\"outlinewidth\":0,\"ticks\":\"\"},\"colorscale\":[[0.0,\"#0d0887\"],[0.1111111111111111,\"#46039f\"],[0.2222222222222222,\"#7201a8\"],[0.3333333333333333,\"#9c179e\"],[0.4444444444444444,\"#bd3786\"],[0.5555555555555556,\"#d8576b\"],[0.6666666666666666,\"#ed7953\"],[0.7777777777777778,\"#fb9f3a\"],[0.8888888888888888,\"#fdca26\"],[1.0,\"#f0f921\"]],\"type\":\"histogram2dcontour\"}],\"mesh3d\":[{\"colorbar\":{\"outlinewidth\":0,\"ticks\":\"\"},\"type\":\"mesh3d\"}],\"parcoords\":[{\"line\":{\"colorbar\":{\"outlinewidth\":0,\"ticks\":\"\"}},\"type\":\"parcoords\"}],\"pie\":[{\"automargin\":true,\"type\":\"pie\"}],\"scatter\":[{\"marker\":{\"colorbar\":{\"outlinewidth\":0,\"ticks\":\"\"}},\"type\":\"scatter\"}],\"scatter3d\":[{\"line\":{\"colorbar\":{\"outlinewidth\":0,\"ticks\":\"\"}},\"marker\":{\"colorbar\":{\"outlinewidth\":0,\"ticks\":\"\"}},\"type\":\"scatter3d\"}],\"scattercarpet\":[{\"marker\":{\"colorbar\":{\"outlinewidth\":0,\"ticks\":\"\"}},\"type\":\"scattercarpet\"}],\"scattergeo\":[{\"marker\":{\"colorbar\":{\"outlinewidth\":0,\"ticks\":\"\"}},\"type\":\"scattergeo\"}],\"scattergl\":[{\"marker\":{\"colorbar\":{\"outlinewidth\":0,\"ticks\":\"\"}},\"type\":\"scattergl\"}],\"scattermapbox\":[{\"marker\":{\"colorbar\":{\"outlinewidth\":0,\"ticks\":\"\"}},\"type\":\"scattermapbox\"}],\"scatterpolar\":[{\"marker\":{\"colorbar\":{\"outlinewidth\":0,\"ticks\":\"\"}},\"type\":\"scatterpolar\"}],\"scatterpolargl\":[{\"marker\":{\"colorbar\":{\"outlinewidth\":0,\"ticks\":\"\"}},\"type\":\"scatterpolargl\"}],\"scatterternary\":[{\"marker\":{\"colorbar\":{\"outlinewidth\":0,\"ticks\":\"\"}},\"type\":\"scatterternary\"}],\"surface\":[{\"colorbar\":{\"outlinewidth\":0,\"ticks\":\"\"},\"colorscale\":[[0.0,\"#0d0887\"],[0.1111111111111111,\"#46039f\"],[0.2222222222222222,\"#7201a8\"],[0.3333333333333333,\"#9c179e\"],[0.4444444444444444,\"#bd3786\"],[0.5555555555555556,\"#d8576b\"],[0.6666666666666666,\"#ed7953\"],[0.7777777777777778,\"#fb9f3a\"],[0.8888888888888888,\"#fdca26\"],[1.0,\"#f0f921\"]],\"type\":\"surface\"}],\"table\":[{\"cells\":{\"fill\":{\"color\":\"#EBF0F8\"},\"line\":{\"color\":\"white\"}},\"header\":{\"fill\":{\"color\":\"#C8D4E3\"},\"line\":{\"color\":\"white\"}},\"type\":\"table\"}]},\"layout\":{\"annotationdefaults\":{\"arrowcolor\":\"#2a3f5f\",\"arrowhead\":0,\"arrowwidth\":1},\"autotypenumbers\":\"strict\",\"coloraxis\":{\"colorbar\":{\"outlinewidth\":0,\"ticks\":\"\"}},\"colorscale\":{\"diverging\":[[0,\"#8e0152\"],[0.1,\"#c51b7d\"],[0.2,\"#de77ae\"],[0.3,\"#f1b6da\"],[0.4,\"#fde0ef\"],[0.5,\"#f7f7f7\"],[0.6,\"#e6f5d0\"],[0.7,\"#b8e186\"],[0.8,\"#7fbc41\"],[0.9,\"#4d9221\"],[1,\"#276419\"]],\"sequential\":[[0.0,\"#0d0887\"],[0.1111111111111111,\"#46039f\"],[0.2222222222222222,\"#7201a8\"],[0.3333333333333333,\"#9c179e\"],[0.4444444444444444,\"#bd3786\"],[0.5555555555555556,\"#d8576b\"],[0.6666666666666666,\"#ed7953\"],[0.7777777777777778,\"#fb9f3a\"],[0.8888888888888888,\"#fdca26\"],[1.0,\"#f0f921\"]],\"sequentialminus\":[[0.0,\"#0d0887\"],[0.1111111111111111,\"#46039f\"],[0.2222222222222222,\"#7201a8\"],[0.3333333333333333,\"#9c179e\"],[0.4444444444444444,\"#bd3786\"],[0.5555555555555556,\"#d8576b\"],[0.6666666666666666,\"#ed7953\"],[0.7777777777777778,\"#fb9f3a\"],[0.8888888888888888,\"#fdca26\"],[1.0,\"#f0f921\"]]},\"colorway\":[\"#636efa\",\"#EF553B\",\"#00cc96\",\"#ab63fa\",\"#FFA15A\",\"#19d3f3\",\"#FF6692\",\"#B6E880\",\"#FF97FF\",\"#FECB52\"],\"font\":{\"color\":\"#2a3f5f\"},\"geo\":{\"bgcolor\":\"white\",\"lakecolor\":\"white\",\"landcolor\":\"#E5ECF6\",\"showlakes\":true,\"showland\":true,\"subunitcolor\":\"white\"},\"hoverlabel\":{\"align\":\"left\"},\"hovermode\":\"closest\",\"mapbox\":{\"style\":\"light\"},\"paper_bgcolor\":\"white\",\"plot_bgcolor\":\"#E5ECF6\",\"polar\":{\"angularaxis\":{\"gridcolor\":\"white\",\"linecolor\":\"white\",\"ticks\":\"\"},\"bgcolor\":\"#E5ECF6\",\"radialaxis\":{\"gridcolor\":\"white\",\"linecolor\":\"white\",\"ticks\":\"\"}},\"scene\":{\"xaxis\":{\"backgroundcolor\":\"#E5ECF6\",\"gridcolor\":\"white\",\"gridwidth\":2,\"linecolor\":\"white\",\"showbackground\":true,\"ticks\":\"\",\"zerolinecolor\":\"white\"},\"yaxis\":{\"backgroundcolor\":\"#E5ECF6\",\"gridcolor\":\"white\",\"gridwidth\":2,\"linecolor\":\"white\",\"showbackground\":true,\"ticks\":\"\",\"zerolinecolor\":\"white\"},\"zaxis\":{\"backgroundcolor\":\"#E5ECF6\",\"gridcolor\":\"white\",\"gridwidth\":2,\"linecolor\":\"white\",\"showbackground\":true,\"ticks\":\"\",\"zerolinecolor\":\"white\"}},\"shapedefaults\":{\"line\":{\"color\":\"#2a3f5f\"}},\"ternary\":{\"aaxis\":{\"gridcolor\":\"white\",\"linecolor\":\"white\",\"ticks\":\"\"},\"baxis\":{\"gridcolor\":\"white\",\"linecolor\":\"white\",\"ticks\":\"\"},\"bgcolor\":\"#E5ECF6\",\"caxis\":{\"gridcolor\":\"white\",\"linecolor\":\"white\",\"ticks\":\"\"}},\"title\":{\"x\":0.05},\"xaxis\":{\"automargin\":true,\"gridcolor\":\"white\",\"linecolor\":\"white\",\"ticks\":\"\",\"title\":{\"standoff\":15},\"zerolinecolor\":\"white\",\"zerolinewidth\":2},\"yaxis\":{\"automargin\":true,\"gridcolor\":\"white\",\"linecolor\":\"white\",\"ticks\":\"\",\"title\":{\"standoff\":15},\"zerolinecolor\":\"white\",\"zerolinewidth\":2}}},\"xaxis\":{\"anchor\":\"y\",\"domain\":[0.0,1.0],\"title\":{\"text\":\"Year\"}},\"yaxis\":{\"anchor\":\"x\",\"domain\":[0.0,1.0],\"title\":{\"text\":\"Sold/List Price (%)\"}},\"legend\":{\"title\":{\"text\":\"area\"},\"tracegroupgap\":0},\"margin\":{\"t\":60},\"title\":{\"text\":\"Orange County Houses: How much do they sell over/under list price?\"},\"annotations\":[{\"showarrow\":false,\"text\":\"filter: price_list < 2e6 and price_list > 7.5e5 and closing_date > 20190701\",\"x\":0.5,\"xref\":\"paper\",\"y\":0,\"yref\":\"paper\"}]},                        {\"responsive\": true}                    ).then(function(){\n",
              "                            \n",
              "var gd = document.getElementById('bbbaaea6-5381-4bfb-a018-17bc596710b5');\n",
              "var x = new MutationObserver(function (mutations, observer) {{\n",
              "        var display = window.getComputedStyle(gd).display;\n",
              "        if (!display || display === 'none') {{\n",
              "            console.log([gd, 'removed!']);\n",
              "            Plotly.purge(gd);\n",
              "            observer.disconnect();\n",
              "        }}\n",
              "}});\n",
              "\n",
              "// Listen for the removal of the full notebook cells\n",
              "var notebookContainer = gd.closest('#notebook-container');\n",
              "if (notebookContainer) {{\n",
              "    x.observe(notebookContainer, {childList: true});\n",
              "}}\n",
              "\n",
              "// Listen for the clearing of the current output cell\n",
              "var outputEl = gd.closest('.output');\n",
              "if (outputEl) {{\n",
              "    x.observe(outputEl, {childList: true});\n",
              "}}\n",
              "\n",
              "                        })                };                            </script>        </div>\n",
              "</body>\n",
              "</html>"
            ]
          },
          "metadata": {}
        }
      ]
    },
    {
      "cell_type": "markdown",
      "source": [
        "* The average selling price went from **97% of list (Jul 2019) to 104% of list (Jan 2022)** \n",
        "* This is easier to see by deselecting all areas in the legend (double click a single one to select only that area; then single click to deselect that area as well)"
      ],
      "metadata": {
        "id": "ERGaWUHw8CxN"
      }
    },
    {
      "cell_type": "markdown",
      "source": [
        "## CA Monthly Median Owner (Mortgage) Cost \n",
        "\n",
        "What are the typical costs that people in OC pay for their mortgage? We can use data from the [American Community Survey (search median mortgage)](https://data.census.gov/cedsci/) to look at this, though it only goes up to 2019."
      ],
      "metadata": {
        "id": "SJirhHapa3_G"
      }
    },
    {
      "cell_type": "code",
      "source": [
        "#hide\n",
        "# Read in owner cost data\n",
        "sheetId = '1az-gajkCWX4GwgJnNMFX8gfeRvhRxAY3QMTowj0YTwE'\n",
        "ccdf =  pd.read_csv(f'https://docs.google.com/spreadsheets/d/{sheetId}/export?gid=1172779957&format=csv',\n",
        "                 skiprows=2,dtype='str')\n",
        "ccdf.columns=['year','mmoc_total','mmoc_total_err','mmoc_mortg','mmoc_mortg_err','mmoc_nomortg','mmoc_nomortg_err','geoid','geo_area_name']\n",
        "ccdf['zip'] = ccdf.geo_area_name.str.replace('ZCTA5 ','')\n",
        "ccdf = ccdf.merge(azdf,left_on='zip',right_on='zip',how='inner')\n",
        "# survey puts X,XXX+ when values exceed certain threshold (e.g., 4,000+  or 1,500+). Set these to the upper bound with 0.1 added so we can treat numerically but still differentiate later\n",
        "print(ccdf.loc[ccdf.mmoc_mortg.str.contains('\\+'),['year','mmoc_mortg','zip','area']])\n",
        "for col in ccdf.columns[1:6]:\n",
        "  ccdf.loc[ccdf[col].str.contains('\\+'),col] = ccdf.loc[ccdf[col].str.contains('\\+'),col].str.replace(',','').str.replace('\\+','.1')\n",
        "for col in ccdf.columns[1:6]:\n",
        "  ccdf[col] = pd.to_numeric(ccdf[col].str.replace('[^0-9.]','',regex=True),errors='coerce')\n",
        "ccdf.head()"
      ],
      "metadata": {
        "id": "B0hlqrmCOAsW",
        "colab": {
          "base_uri": "https://localhost:8080/",
          "height": 336
        },
        "outputId": "3c7b9cb0-f6a3-405e-9814-edec0d3a1ef9"
      },
      "execution_count": 53,
      "outputs": [
        {
          "output_type": "stream",
          "name": "stdout",
          "text": [
            "     year mmoc_mortg    zip           area\n",
            "5    2014     4,000+  92603         Irvine\n",
            "7    2012     4,000+  92603         Irvine\n",
            "8    2011     4,000+  92603         Irvine\n",
            "108  2019     4,000+  92694   Ladera Ranch\n",
            "109  2019     4,000+  92694  Mission Viejo\n",
            "124  2011     4,000+  92694   Ladera Ranch\n",
            "125  2011     4,000+  92694  Mission Viejo\n"
          ]
        },
        {
          "output_type": "execute_result",
          "data": {
            "application/vnd.google.colaboratory.module+javascript": "\n      import \"https://ssl.gstatic.com/colaboratory/data_table/a6224c040fa35dcf/data_table.js\";\n\n      window.createDataTable({\n        data: [[{\n            'v': 0,\n            'f': \"0\",\n        },\n\"2019\",\n{\n            'v': 3044,\n            'f': \"3044\",\n        },\n{\n            'v': 262,\n            'f': \"262\",\n        },\n{\n            'v': 3652.0,\n            'f': \"3652.0\",\n        },\n{\n            'v': 367.0,\n            'f': \"367.0\",\n        },\n{\n            'v': 1103.0,\n            'f': \"1103.0\",\n        },\n\"185\",\n\"8600000US92603\",\n\"ZCTA5 92603\",\n\"92603\",\n\"Irvine\"],\n [{\n            'v': 1,\n            'f': \"1\",\n        },\n\"2018\",\n{\n            'v': 3194,\n            'f': \"3194\",\n        },\n{\n            'v': 271,\n            'f': \"271\",\n        },\n{\n            'v': 3660.0,\n            'f': \"3660.0\",\n        },\n{\n            'v': 404.0,\n            'f': \"404.0\",\n        },\n{\n            'v': 934.0,\n            'f': \"934.0\",\n        },\n\"124\",\n\"8600000US92603\",\n\"ZCTA5 92603\",\n\"92603\",\n\"Irvine\"],\n [{\n            'v': 2,\n            'f': \"2\",\n        },\n\"2017\",\n{\n            'v': 3166,\n            'f': \"3166\",\n        },\n{\n            'v': 286,\n            'f': \"286\",\n        },\n{\n            'v': 3728.0,\n            'f': \"3728.0\",\n        },\n{\n            'v': 321.0,\n            'f': \"321.0\",\n        },\n{\n            'v': 927.0,\n            'f': \"927.0\",\n        },\n\"172\",\n\"8600000US92603\",\n\"ZCTA5 92603\",\n\"92603\",\n\"Irvine\"],\n [{\n            'v': 3,\n            'f': \"3\",\n        },\n\"2016\",\n{\n            'v': 3192,\n            'f': \"3192\",\n        },\n{\n            'v': 286,\n            'f': \"286\",\n        },\n{\n            'v': 3686.0,\n            'f': \"3686.0\",\n        },\n{\n            'v': 290.0,\n            'f': \"290.0\",\n        },\n{\n            'v': 961.0,\n            'f': \"961.0\",\n        },\n\"175\",\n\"8600000US92603\",\n\"ZCTA5 92603\",\n\"92603\",\n\"Irvine\"],\n [{\n            'v': 4,\n            'f': \"4\",\n        },\n\"2015\",\n{\n            'v': 3107,\n            'f': \"3107\",\n        },\n{\n            'v': 177,\n            'f': \"177\",\n        },\n{\n            'v': 3511.0,\n            'f': \"3511.0\",\n        },\n{\n            'v': 437.0,\n            'f': \"437.0\",\n        },\n{\n            'v': 955.0,\n            'f': \"955.0\",\n        },\n\"215\",\n\"8600000US92603\",\n\"ZCTA5 92603\",\n\"92603\",\n\"Irvine\"]],\n        columns: [[\"number\", \"index\"], [\"string\", \"year\"], [\"number\", \"mmoc_total\"], [\"number\", \"mmoc_total_err\"], [\"number\", \"mmoc_mortg\"], [\"number\", \"mmoc_mortg_err\"], [\"number\", \"mmoc_nomortg\"], [\"string\", \"mmoc_nomortg_err\"], [\"string\", \"geoid\"], [\"string\", \"geo_area_name\"], [\"string\", \"zip\"], [\"string\", \"area\"]],\n        columnOptions: [{\"width\": \"1px\", \"className\": \"index_column\"}],\n        rowsPerPage: 25,\n        helpUrl: \"https://colab.research.google.com/notebooks/data_table.ipynb\",\n        suppressOutputScrolling: true,\n        minimumWidth: undefined,\n      });\n    ",
            "text/html": [
              "\n",
              "  <div id=\"df-349bf2bb-7b44-479c-a461-33eea1dddb02\">\n",
              "    <div class=\"colab-df-container\">\n",
              "      <table id=\"0b9d5a2c-d0b6-400b-ac06-9c5130948396\" class=\"display\"><thead><th></th><th>year</th><th>mmoc_total</th><th>mmoc_total_err</th><th>mmoc_mortg</th><th>mmoc_mortg_err</th><th>mmoc_nomortg</th><th>mmoc_nomortg_err</th><th>geoid</th><th>geo_area_name</th><th>zip</th><th>area</th></thead><tbody><tr><td>Loading... (need <a href=https://github.com/mwouts/itables/#table-not-loading>help</a>?)</td></tr></tbody></table>\n",
              "<link rel=\"stylesheet\" type=\"text/css\" href=\"https://cdn.datatables.net/1.11.3/css/jquery.dataTables.min.css\">\n",
              "<style> table td {\n",
              "    text-overflow: ellipsis;\n",
              "    overflow: hidden;\n",
              "} </style>\n",
              "<style> table th {\n",
              "    text-overflow: ellipsis;\n",
              "    overflow: hidden;\n",
              "} </style>\n",
              "<script type=\"module\">\n",
              "    // Define the table data\n",
              "    const data = [[0, \"2019\", 3044, 262, 3652.0, 367.0, 1103.0, \"185\", \"8600000US92603\", \"ZCTA5 92603\", \"92603\", \"Irvine\"], [1, \"2018\", 3194, 271, 3660.0, 404.0, 934.0, \"124\", \"8600000US92603\", \"ZCTA5 92603\", \"92603\", \"Irvine\"], [2, \"2017\", 3166, 286, 3728.0, 321.0, 927.0, \"172\", \"8600000US92603\", \"ZCTA5 92603\", \"92603\", \"Irvine\"], [3, \"2016\", 3192, 286, 3686.0, 290.0, 961.0, \"175\", \"8600000US92603\", \"ZCTA5 92603\", \"92603\", \"Irvine\"], [4, \"2015\", 3107, 177, 3511.0, 437.0, 955.0, \"215\", \"8600000US92603\", \"ZCTA5 92603\", \"92603\", \"Irvine\"]];\n",
              "\n",
              "    if (typeof require === 'undefined') {\n",
              "        // TODO: This should become the default (use a simple import)\n",
              "        // when the ESM version works independently of whether\n",
              "        // require.js is there or not, see\n",
              "        // https://datatables.net/forums/discussion/69066/esm-es6-module-support?\n",
              "        const {default: $} = await import(\"https://esm.sh/jquery@3.5.0\");\n",
              "        const {default: initDataTables} = await import(\"https://esm.sh/datatables.net@1.11.3?deps=jquery@3.5.0\");\n",
              "\n",
              "        initDataTables();\n",
              "\n",
              "        // Define the dt_args\n",
              "        let dt_args = {\"columnDefs\": [{\"width\": \"70px\", \"targets\": \"_all\"}], \"paging\": false};\n",
              "        dt_args[\"data\"] = data;\n",
              "\n",
              "        // Display the table\n",
              "        $(document).ready(function () {\n",
              "            $('#0b9d5a2c-d0b6-400b-ac06-9c5130948396').DataTable(dt_args);\n",
              "        });\n",
              "    } else {\n",
              "        require([\"jquery\", \"datatables\"], ($, datatables) => {\n",
              "                // Define the dt_args\n",
              "                let dt_args = {\"columnDefs\": [{\"width\": \"70px\", \"targets\": \"_all\"}], \"paging\": false};\n",
              "                dt_args[\"data\"] = data;\n",
              "\n",
              "                // Display the table\n",
              "                $(document).ready(function () {\n",
              "                    $('#0b9d5a2c-d0b6-400b-ac06-9c5130948396').DataTable(dt_args);\n",
              "                });\n",
              "            }\n",
              "        )\n",
              "    }\n",
              "</script>\n",
              "\n",
              "      <button class=\"colab-df-convert\" onclick=\"convertToInteractive('df-349bf2bb-7b44-479c-a461-33eea1dddb02')\"\n",
              "              title=\"Convert this dataframe to an interactive table.\"\n",
              "              style=\"display:none;\">\n",
              "        \n",
              "  <svg xmlns=\"http://www.w3.org/2000/svg\" height=\"24px\"viewBox=\"0 0 24 24\"\n",
              "       width=\"24px\">\n",
              "    <path d=\"M0 0h24v24H0V0z\" fill=\"none\"/>\n",
              "    <path d=\"M18.56 5.44l.94 2.06.94-2.06 2.06-.94-2.06-.94-.94-2.06-.94 2.06-2.06.94zm-11 1L8.5 8.5l.94-2.06 2.06-.94-2.06-.94L8.5 2.5l-.94 2.06-2.06.94zm10 10l.94 2.06.94-2.06 2.06-.94-2.06-.94-.94-2.06-.94 2.06-2.06.94z\"/><path d=\"M17.41 7.96l-1.37-1.37c-.4-.4-.92-.59-1.43-.59-.52 0-1.04.2-1.43.59L10.3 9.45l-7.72 7.72c-.78.78-.78 2.05 0 2.83L4 21.41c.39.39.9.59 1.41.59.51 0 1.02-.2 1.41-.59l7.78-7.78 2.81-2.81c.8-.78.8-2.07 0-2.86zM5.41 20L4 18.59l7.72-7.72 1.47 1.35L5.41 20z\"/>\n",
              "  </svg>\n",
              "      </button>\n",
              "      \n",
              "  <style>\n",
              "    .colab-df-container {\n",
              "      display:flex;\n",
              "      flex-wrap:wrap;\n",
              "      gap: 12px;\n",
              "    }\n",
              "\n",
              "    .colab-df-convert {\n",
              "      background-color: #E8F0FE;\n",
              "      border: none;\n",
              "      border-radius: 50%;\n",
              "      cursor: pointer;\n",
              "      display: none;\n",
              "      fill: #1967D2;\n",
              "      height: 32px;\n",
              "      padding: 0 0 0 0;\n",
              "      width: 32px;\n",
              "    }\n",
              "\n",
              "    .colab-df-convert:hover {\n",
              "      background-color: #E2EBFA;\n",
              "      box-shadow: 0px 1px 2px rgba(60, 64, 67, 0.3), 0px 1px 3px 1px rgba(60, 64, 67, 0.15);\n",
              "      fill: #174EA6;\n",
              "    }\n",
              "\n",
              "    [theme=dark] .colab-df-convert {\n",
              "      background-color: #3B4455;\n",
              "      fill: #D2E3FC;\n",
              "    }\n",
              "\n",
              "    [theme=dark] .colab-df-convert:hover {\n",
              "      background-color: #434B5C;\n",
              "      box-shadow: 0px 1px 3px 1px rgba(0, 0, 0, 0.15);\n",
              "      filter: drop-shadow(0px 1px 2px rgba(0, 0, 0, 0.3));\n",
              "      fill: #FFFFFF;\n",
              "    }\n",
              "  </style>\n",
              "\n",
              "      <script>\n",
              "        const buttonEl =\n",
              "          document.querySelector('#df-349bf2bb-7b44-479c-a461-33eea1dddb02 button.colab-df-convert');\n",
              "        buttonEl.style.display =\n",
              "          google.colab.kernel.accessAllowed ? 'block' : 'none';\n",
              "\n",
              "        async function convertToInteractive(key) {\n",
              "          const element = document.querySelector('#df-349bf2bb-7b44-479c-a461-33eea1dddb02');\n",
              "          const dataTable =\n",
              "            await google.colab.kernel.invokeFunction('convertToInteractive',\n",
              "                                                     [key], {});\n",
              "          if (!dataTable) return;\n",
              "\n",
              "          const docLinkHtml = 'Like what you see? Visit the ' +\n",
              "            '<a target=\"_blank\" href=https://colab.research.google.com/notebooks/data_table.ipynb>data table notebook</a>'\n",
              "            + ' to learn more about interactive tables.';\n",
              "          element.innerHTML = '';\n",
              "          dataTable['output_type'] = 'display_data';\n",
              "          await google.colab.output.renderOutput(dataTable, element);\n",
              "          const docLink = document.createElement('div');\n",
              "          docLink.innerHTML = docLinkHtml;\n",
              "          element.appendChild(docLink);\n",
              "        }\n",
              "      </script>\n",
              "    </div>\n",
              "  </div>\n",
              "  "
            ],
            "text/plain": [
              "   year  mmoc_total  mmoc_total_err  ...  geo_area_name    zip    area\n",
              "0  2019        3044             262  ...    ZCTA5 92603  92603  Irvine\n",
              "1  2018        3194             271  ...    ZCTA5 92603  92603  Irvine\n",
              "2  2017        3166             286  ...    ZCTA5 92603  92603  Irvine\n",
              "3  2016        3192             286  ...    ZCTA5 92603  92603  Irvine\n",
              "4  2015        3107             177  ...    ZCTA5 92603  92603  Irvine\n",
              "\n",
              "[5 rows x 11 columns]"
            ]
          },
          "metadata": {},
          "execution_count": 53
        }
      ]
    },
    {
      "cell_type": "code",
      "source": [
        "#hide_input\n",
        "# Make \n",
        "ccaydf = ccdf.groupby(['area','year']).median().mmoc_mortg.reset_index()\n",
        "fig = px.scatter(ccaydf,x='year',y='mmoc_mortg',color='area',trendline='lowess')\n",
        "fig.update_layout(title=\"Orange County Houses: Monthly Mortgage Cost Over Time\")\n",
        "fig.update_xaxes(title_text=\"Year\")\n",
        "fig.update_yaxes(title_text=\"Monthly Mortgage Cost (USD)\")\n",
        "fig.show()"
      ],
      "metadata": {
        "id": "ZYjwtzORhQnE",
        "colab": {
          "base_uri": "https://localhost:8080/",
          "height": 542
        },
        "outputId": "e7af1f5e-65b0-411b-c299-f37bcc57995d"
      },
      "execution_count": 54,
      "outputs": [
        {
          "output_type": "display_data",
          "data": {
            "text/html": [
              "<html>\n",
              "<head><meta charset=\"utf-8\" /></head>\n",
              "<body>\n",
              "    <div>            <script src=\"https://cdnjs.cloudflare.com/ajax/libs/mathjax/2.7.5/MathJax.js?config=TeX-AMS-MML_SVG\"></script><script type=\"text/javascript\">if (window.MathJax) {MathJax.Hub.Config({SVG: {font: \"STIX-Web\"}});}</script>                <script type=\"text/javascript\">window.PlotlyConfig = {MathJaxConfig: 'local'};</script>\n",
              "        <script src=\"https://cdn.plot.ly/plotly-2.8.3.min.js\"></script>                <div id=\"b79b8edb-6332-4a21-b80f-84e3716c491d\" class=\"plotly-graph-div\" style=\"height:525px; width:100%;\"></div>            <script type=\"text/javascript\">                                    window.PLOTLYENV=window.PLOTLYENV || {};                                    if (document.getElementById(\"b79b8edb-6332-4a21-b80f-84e3716c491d\")) {                    Plotly.newPlot(                        \"b79b8edb-6332-4a21-b80f-84e3716c491d\",                        [{\"hovertemplate\":\"area=Coto De Caza<br>year=%{x}<br>mmoc_mortg=%{y}<extra></extra>\",\"legendgroup\":\"Coto De Caza\",\"marker\":{\"color\":\"#636efa\",\"symbol\":\"circle\"},\"mode\":\"markers\",\"name\":\"Coto De Caza\",\"orientation\":\"v\",\"showlegend\":true,\"x\":[\"2011\",\"2012\",\"2013\",\"2014\",\"2015\",\"2016\",\"2017\",\"2018\",\"2019\"],\"xaxis\":\"x\",\"y\":[3625.0,3625.0,3470.0,3462.0,3403.0,3339.0,3368.0,3443.0,3576.0],\"yaxis\":\"y\",\"type\":\"scatter\"},{\"hovertemplate\":\"<b>LOWESS trendline</b><br><br>area=Coto De Caza<br>year=%{x}<br>mmoc_mortg=%{y} <b>(trend)</b><extra></extra>\",\"legendgroup\":\"Coto De Caza\",\"marker\":{\"color\":\"#636efa\",\"symbol\":\"circle\"},\"mode\":\"lines\",\"name\":\"Coto De Caza\",\"showlegend\":false,\"x\":[\"2011\",\"2012\",\"2013\",\"2014\",\"2015\",\"2016\",\"2017\",\"2018\",\"2019\"],\"xaxis\":\"x\",\"y\":[3636.472938131949,3573.016757489514,3513.2782761718117,3448.8396781387682,3401.639871212927,3367.521701309133,3380.4494045121273,3467.39557106821,3560.4147281583364],\"yaxis\":\"y\",\"type\":\"scatter\"},{\"hovertemplate\":\"area=Dana Point<br>year=%{x}<br>mmoc_mortg=%{y}<extra></extra>\",\"legendgroup\":\"Dana Point\",\"marker\":{\"color\":\"#EF553B\",\"symbol\":\"circle\"},\"mode\":\"markers\",\"name\":\"Dana Point\",\"orientation\":\"v\",\"showlegend\":true,\"x\":[\"2011\",\"2012\",\"2013\",\"2014\",\"2015\",\"2016\",\"2017\",\"2018\",\"2019\"],\"xaxis\":\"x\",\"y\":[3154.0,2945.0,2833.0,2830.0,2849.0,2896.0,3152.0,3192.0,3298.0],\"yaxis\":\"y\",\"type\":\"scatter\"},{\"hovertemplate\":\"<b>LOWESS trendline</b><br><br>area=Dana Point<br>year=%{x}<br>mmoc_mortg=%{y} <b>(trend)</b><extra></extra>\",\"legendgroup\":\"Dana Point\",\"marker\":{\"color\":\"#EF553B\",\"symbol\":\"circle\"},\"mode\":\"lines\",\"name\":\"Dana Point\",\"showlegend\":false,\"x\":[\"2011\",\"2012\",\"2013\",\"2014\",\"2015\",\"2016\",\"2017\",\"2018\",\"2019\"],\"xaxis\":\"x\",\"y\":[3123.1134424855272,2988.7307845256564,2864.17445945995,2836.222033360836,2856.5863968551193,2958.3017688938417,3086.5992887584416,3199.9515651307265,3301.7418988060135],\"yaxis\":\"y\",\"type\":\"scatter\"},{\"hovertemplate\":\"area=Foothill Ranch<br>year=%{x}<br>mmoc_mortg=%{y}<extra></extra>\",\"legendgroup\":\"Foothill Ranch\",\"marker\":{\"color\":\"#00cc96\",\"symbol\":\"circle\"},\"mode\":\"markers\",\"name\":\"Foothill Ranch\",\"orientation\":\"v\",\"showlegend\":true,\"x\":[\"2011\",\"2012\",\"2013\",\"2014\",\"2015\",\"2016\",\"2017\",\"2018\",\"2019\"],\"xaxis\":\"x\",\"y\":[2887.0,2812.0,2700.0,2760.0,2700.0,2687.0,2763.0,3013.0,3147.0],\"yaxis\":\"y\",\"type\":\"scatter\"},{\"hovertemplate\":\"<b>LOWESS trendline</b><br><br>area=Foothill Ranch<br>year=%{x}<br>mmoc_mortg=%{y} <b>(trend)</b><extra></extra>\",\"legendgroup\":\"Foothill Ranch\",\"marker\":{\"color\":\"#00cc96\",\"symbol\":\"circle\"},\"mode\":\"lines\",\"name\":\"Foothill Ranch\",\"showlegend\":false,\"x\":[\"2011\",\"2012\",\"2013\",\"2014\",\"2015\",\"2016\",\"2017\",\"2018\",\"2019\"],\"xaxis\":\"x\",\"y\":[2879.7740635533332,2812.2068952878426,2754.0272878193528,2726.4132369881772,2713.069514831259,2711.299593430839,2817.5130937903527,2984.247475774892,3155.5650206378323],\"yaxis\":\"y\",\"type\":\"scatter\"},{\"hovertemplate\":\"area=Fullerton<br>year=%{x}<br>mmoc_mortg=%{y}<extra></extra>\",\"legendgroup\":\"Fullerton\",\"marker\":{\"color\":\"#ab63fa\",\"symbol\":\"circle\"},\"mode\":\"markers\",\"name\":\"Fullerton\",\"orientation\":\"v\",\"showlegend\":true,\"x\":[\"2011\",\"2012\",\"2013\",\"2014\",\"2015\",\"2016\",\"2017\",\"2018\",\"2019\"],\"xaxis\":\"x\",\"y\":[3163.0,3152.0,3159.0,3068.0,2998.0,2884.0,2826.0,2895.0,3032.0],\"yaxis\":\"y\",\"type\":\"scatter\"},{\"hovertemplate\":\"<b>LOWESS trendline</b><br><br>area=Fullerton<br>year=%{x}<br>mmoc_mortg=%{y} <b>(trend)</b><extra></extra>\",\"legendgroup\":\"Fullerton\",\"marker\":{\"color\":\"#ab63fa\",\"symbol\":\"circle\"},\"mode\":\"lines\",\"name\":\"Fullerton\",\"showlegend\":false,\"x\":[\"2011\",\"2012\",\"2013\",\"2014\",\"2015\",\"2016\",\"2017\",\"2018\",\"2019\"],\"xaxis\":\"x\",\"y\":[3168.201683318858,3150.634671914072,3128.003613919289,3073.6353217224823,2985.3575762758715,2898.646148015291,2865.292072107086,2933.723340476257,3006.7249654378174],\"yaxis\":\"y\",\"type\":\"scatter\"},{\"hovertemplate\":\"area=Irvine<br>year=%{x}<br>mmoc_mortg=%{y}<extra></extra>\",\"legendgroup\":\"Irvine\",\"marker\":{\"color\":\"#FFA15A\",\"symbol\":\"circle\"},\"mode\":\"markers\",\"name\":\"Irvine\",\"orientation\":\"v\",\"showlegend\":true,\"x\":[\"2011\",\"2012\",\"2013\",\"2014\",\"2015\",\"2016\",\"2017\",\"2018\",\"2019\"],\"xaxis\":\"x\",\"y\":[3410.05,3354.55,3267.0,3413.55,3181.5,3314.5,3537.0,3616.0,3708.0],\"yaxis\":\"y\",\"type\":\"scatter\"},{\"hovertemplate\":\"<b>LOWESS trendline</b><br><br>area=Irvine<br>year=%{x}<br>mmoc_mortg=%{y} <b>(trend)</b><extra></extra>\",\"legendgroup\":\"Irvine\",\"marker\":{\"color\":\"#FFA15A\",\"symbol\":\"circle\"},\"mode\":\"lines\",\"name\":\"Irvine\",\"showlegend\":false,\"x\":[\"2011\",\"2012\",\"2013\",\"2014\",\"2015\",\"2016\",\"2017\",\"2018\",\"2019\"],\"xaxis\":\"x\",\"y\":[3395.406763677695,3358.0204210073657,3329.504722593778,3305.152838063449,3286.0176544240403,3314.5000000004125,3465.250000000099,3594.990591509113,3723.519223068328],\"yaxis\":\"y\",\"type\":\"scatter\"},{\"hovertemplate\":\"area=Ladera Ranch<br>year=%{x}<br>mmoc_mortg=%{y}<extra></extra>\",\"legendgroup\":\"Ladera Ranch\",\"marker\":{\"color\":\"#19d3f3\",\"symbol\":\"circle\"},\"mode\":\"markers\",\"name\":\"Ladera Ranch\",\"orientation\":\"v\",\"showlegend\":true,\"x\":[\"2011\",\"2012\",\"2013\",\"2014\",\"2015\",\"2016\",\"2017\",\"2018\",\"2019\"],\"xaxis\":\"x\",\"y\":[4000.1,3904.0,3783.0,3771.0,3596.0,3676.0,3852.0,3940.0,4000.1],\"yaxis\":\"y\",\"type\":\"scatter\"},{\"hovertemplate\":\"<b>LOWESS trendline</b><br><br>area=Ladera Ranch<br>year=%{x}<br>mmoc_mortg=%{y} <b>(trend)</b><extra></extra>\",\"legendgroup\":\"Ladera Ranch\",\"marker\":{\"color\":\"#19d3f3\",\"symbol\":\"circle\"},\"mode\":\"lines\",\"name\":\"Ladera Ranch\",\"showlegend\":false,\"x\":[\"2011\",\"2012\",\"2013\",\"2014\",\"2015\",\"2016\",\"2017\",\"2018\",\"2019\"],\"xaxis\":\"x\",\"y\":[3996.420630836423,3902.194830925494,3814.379838141067,3738.722160022806,3700.4020144237093,3693.584688391223,3826.4644069373126,3923.831686924942,4014.0187128920456],\"yaxis\":\"y\",\"type\":\"scatter\"},{\"hovertemplate\":\"area=Laguna Hills<br>year=%{x}<br>mmoc_mortg=%{y}<extra></extra>\",\"legendgroup\":\"Laguna Hills\",\"marker\":{\"color\":\"#FF6692\",\"symbol\":\"circle\"},\"mode\":\"markers\",\"name\":\"Laguna Hills\",\"orientation\":\"v\",\"showlegend\":true,\"x\":[\"2011\",\"2012\",\"2013\",\"2014\",\"2015\",\"2016\",\"2017\",\"2018\",\"2019\"],\"xaxis\":\"x\",\"y\":[2845.0,2758.0,2702.0,2618.0,2579.0,2651.0,2713.0,2812.0,2958.0],\"yaxis\":\"y\",\"type\":\"scatter\"},{\"hovertemplate\":\"<b>LOWESS trendline</b><br><br>area=Laguna Hills<br>year=%{x}<br>mmoc_mortg=%{y} <b>(trend)</b><extra></extra>\",\"legendgroup\":\"Laguna Hills\",\"marker\":{\"color\":\"#FF6692\",\"symbol\":\"circle\"},\"mode\":\"lines\",\"name\":\"Laguna Hills\",\"showlegend\":false,\"x\":[\"2011\",\"2012\",\"2013\",\"2014\",\"2015\",\"2016\",\"2017\",\"2018\",\"2019\"],\"xaxis\":\"x\",\"y\":[2840.904365937458,2767.583143352187,2694.0468266050802,2625.6803006482037,2626.297024646249,2649.3585680534406,2723.2459700003,2832.714839396242,2944.981146221505],\"yaxis\":\"y\",\"type\":\"scatter\"},{\"hovertemplate\":\"area=Laguna Niguel<br>year=%{x}<br>mmoc_mortg=%{y}<extra></extra>\",\"legendgroup\":\"Laguna Niguel\",\"marker\":{\"color\":\"#B6E880\",\"symbol\":\"circle\"},\"mode\":\"markers\",\"name\":\"Laguna Niguel\",\"orientation\":\"v\",\"showlegend\":true,\"x\":[\"2011\",\"2012\",\"2013\",\"2014\",\"2015\",\"2016\",\"2017\",\"2018\",\"2019\"],\"xaxis\":\"x\",\"y\":[3125.0,3085.0,2946.0,2917.0,2880.0,2887.0,2859.0,3009.0,3103.0],\"yaxis\":\"y\",\"type\":\"scatter\"},{\"hovertemplate\":\"<b>LOWESS trendline</b><br><br>area=Laguna Niguel<br>year=%{x}<br>mmoc_mortg=%{y} <b>(trend)</b><extra></extra>\",\"legendgroup\":\"Laguna Niguel\",\"marker\":{\"color\":\"#B6E880\",\"symbol\":\"circle\"},\"mode\":\"lines\",\"name\":\"Laguna Niguel\",\"showlegend\":false,\"x\":[\"2011\",\"2012\",\"2013\",\"2014\",\"2015\",\"2016\",\"2017\",\"2018\",\"2019\"],\"xaxis\":\"x\",\"y\":[3133.5340938318,3058.3913322042054,2985.1933992327135,2915.194113638412,2892.959334634831,2886.999999999655,2948.000000000002,3021.3520537958984,3096.0031360128005],\"yaxis\":\"y\",\"type\":\"scatter\"},{\"hovertemplate\":\"area=Lake Forest<br>year=%{x}<br>mmoc_mortg=%{y}<extra></extra>\",\"legendgroup\":\"Lake Forest\",\"marker\":{\"color\":\"#FF97FF\",\"symbol\":\"circle\"},\"mode\":\"markers\",\"name\":\"Lake Forest\",\"orientation\":\"v\",\"showlegend\":true,\"x\":[\"2011\",\"2012\",\"2013\",\"2014\",\"2015\",\"2016\",\"2017\",\"2018\",\"2019\"],\"xaxis\":\"x\",\"y\":[2492.0,2511.0,2431.0,2377.0,2324.0,2340.0,2383.0,2443.0,2540.0],\"yaxis\":\"y\",\"type\":\"scatter\"},{\"hovertemplate\":\"<b>LOWESS trendline</b><br><br>area=Lake Forest<br>year=%{x}<br>mmoc_mortg=%{y} <b>(trend)</b><extra></extra>\",\"legendgroup\":\"Lake Forest\",\"marker\":{\"color\":\"#FF97FF\",\"symbol\":\"circle\"},\"mode\":\"lines\",\"name\":\"Lake Forest\",\"showlegend\":false,\"x\":[\"2011\",\"2012\",\"2013\",\"2014\",\"2015\",\"2016\",\"2017\",\"2018\",\"2019\"],\"xaxis\":\"x\",\"y\":[2493.4005120082084,2459.2047870981323,2430.999999998816,2377.241967922002,2348.337208223343,2346.7168149918243,2387.5791969287466,2458.3623866933317,2531.065990183045],\"yaxis\":\"y\",\"type\":\"scatter\"},{\"hovertemplate\":\"area=Mission Viejo<br>year=%{x}<br>mmoc_mortg=%{y}<extra></extra>\",\"legendgroup\":\"Mission Viejo\",\"marker\":{\"color\":\"#FECB52\",\"symbol\":\"circle\"},\"mode\":\"markers\",\"name\":\"Mission Viejo\",\"orientation\":\"v\",\"showlegend\":true,\"x\":[\"2011\",\"2012\",\"2013\",\"2014\",\"2015\",\"2016\",\"2017\",\"2018\",\"2019\"],\"xaxis\":\"x\",\"y\":[2848.0,2836.0,2787.0,2765.0,2714.0,2718.0,2711.0,2845.0,2853.0],\"yaxis\":\"y\",\"type\":\"scatter\"},{\"hovertemplate\":\"<b>LOWESS trendline</b><br><br>area=Mission Viejo<br>year=%{x}<br>mmoc_mortg=%{y} <b>(trend)</b><extra></extra>\",\"legendgroup\":\"Mission Viejo\",\"marker\":{\"color\":\"#FECB52\",\"symbol\":\"circle\"},\"mode\":\"lines\",\"name\":\"Mission Viejo\",\"showlegend\":false,\"x\":[\"2011\",\"2012\",\"2013\",\"2014\",\"2015\",\"2016\",\"2017\",\"2018\",\"2019\"],\"xaxis\":\"x\",\"y\":[2853.20893204937,2823.895307402174,2794.5878208825834,2757.0856997562123,2731.3214218729963,2717.9999999990905,2781.499999999861,2815.7901318503255,2858.877801475226],\"yaxis\":\"y\",\"type\":\"scatter\"},{\"hovertemplate\":\"area=Orange<br>year=%{x}<br>mmoc_mortg=%{y}<extra></extra>\",\"legendgroup\":\"Orange\",\"marker\":{\"color\":\"#636efa\",\"symbol\":\"circle\"},\"mode\":\"markers\",\"name\":\"Orange\",\"orientation\":\"v\",\"showlegend\":true,\"x\":[\"2011\",\"2012\",\"2013\",\"2014\",\"2015\",\"2016\",\"2017\",\"2018\",\"2019\"],\"xaxis\":\"x\",\"y\":[2988.0,2928.0,2859.0,2776.0,2688.0,2632.0,2650.0,2796.0,2936.0],\"yaxis\":\"y\",\"type\":\"scatter\"},{\"hovertemplate\":\"<b>LOWESS trendline</b><br><br>area=Orange<br>year=%{x}<br>mmoc_mortg=%{y} <b>(trend)</b><extra></extra>\",\"legendgroup\":\"Orange\",\"marker\":{\"color\":\"#636efa\",\"symbol\":\"circle\"},\"mode\":\"lines\",\"name\":\"Orange\",\"showlegend\":false,\"x\":[\"2011\",\"2012\",\"2013\",\"2014\",\"2015\",\"2016\",\"2017\",\"2018\",\"2019\"],\"xaxis\":\"x\",\"y\":[2991.24568122626,2923.725964705504,2854.9591139335084,2774.6864505944723,2698.3800851867945,2632.0000000001346,2650.0,2834.6666666666665,2935.9999999997463],\"yaxis\":\"y\",\"type\":\"scatter\"},{\"hovertemplate\":\"area=San Clemente<br>year=%{x}<br>mmoc_mortg=%{y}<extra></extra>\",\"legendgroup\":\"San Clemente\",\"marker\":{\"color\":\"#EF553B\",\"symbol\":\"circle\"},\"mode\":\"markers\",\"name\":\"San Clemente\",\"orientation\":\"v\",\"showlegend\":true,\"x\":[\"2011\",\"2012\",\"2013\",\"2014\",\"2015\",\"2016\",\"2017\",\"2018\",\"2019\"],\"xaxis\":\"x\",\"y\":[3721.0,3620.0,3492.0,3531.0,3484.0,3611.0,3635.0,3844.0,3965.0],\"yaxis\":\"y\",\"type\":\"scatter\"},{\"hovertemplate\":\"<b>LOWESS trendline</b><br><br>area=San Clemente<br>year=%{x}<br>mmoc_mortg=%{y} <b>(trend)</b><extra></extra>\",\"legendgroup\":\"San Clemente\",\"marker\":{\"color\":\"#EF553B\",\"symbol\":\"circle\"},\"mode\":\"lines\",\"name\":\"San Clemente\",\"showlegend\":false,\"x\":[\"2011\",\"2012\",\"2013\",\"2014\",\"2015\",\"2016\",\"2017\",\"2018\",\"2019\"],\"xaxis\":\"x\",\"y\":[3711.5182547004392,3624.463524249679,3546.436034703872,3509.8251114636287,3540.5302033775065,3586.081237704128,3697.125885527662,3828.826840682338,3966.873271537913],\"yaxis\":\"y\",\"type\":\"scatter\"},{\"hovertemplate\":\"area=San Juan Capistrano<br>year=%{x}<br>mmoc_mortg=%{y}<extra></extra>\",\"legendgroup\":\"San Juan Capistrano\",\"marker\":{\"color\":\"#00cc96\",\"symbol\":\"circle\"},\"mode\":\"markers\",\"name\":\"San Juan Capistrano\",\"orientation\":\"v\",\"showlegend\":true,\"x\":[\"2011\",\"2012\",\"2013\",\"2014\",\"2015\",\"2016\",\"2017\",\"2018\",\"2019\"],\"xaxis\":\"x\",\"y\":[2998.0,2987.0,2823.0,2710.0,2724.0,2839.0,2880.0,2972.0,3222.0],\"yaxis\":\"y\",\"type\":\"scatter\"},{\"hovertemplate\":\"<b>LOWESS trendline</b><br><br>area=San Juan Capistrano<br>year=%{x}<br>mmoc_mortg=%{y} <b>(trend)</b><extra></extra>\",\"legendgroup\":\"San Juan Capistrano\",\"marker\":{\"color\":\"#00cc96\",\"symbol\":\"circle\"},\"mode\":\"lines\",\"name\":\"San Juan Capistrano\",\"showlegend\":false,\"x\":[\"2011\",\"2012\",\"2013\",\"2014\",\"2015\",\"2016\",\"2017\",\"2018\",\"2019\"],\"xaxis\":\"x\",\"y\":[3023.6837979013126,2931.5615763390597,2836.69063163549,2747.2954642914256,2752.8335536866616,2817.853935305014,2893.5657852095283,3037.300082857555,3186.6846627406585],\"yaxis\":\"y\",\"type\":\"scatter\"}],                        {\"template\":{\"data\":{\"bar\":[{\"error_x\":{\"color\":\"#2a3f5f\"},\"error_y\":{\"color\":\"#2a3f5f\"},\"marker\":{\"line\":{\"color\":\"#E5ECF6\",\"width\":0.5},\"pattern\":{\"fillmode\":\"overlay\",\"size\":10,\"solidity\":0.2}},\"type\":\"bar\"}],\"barpolar\":[{\"marker\":{\"line\":{\"color\":\"#E5ECF6\",\"width\":0.5},\"pattern\":{\"fillmode\":\"overlay\",\"size\":10,\"solidity\":0.2}},\"type\":\"barpolar\"}],\"carpet\":[{\"aaxis\":{\"endlinecolor\":\"#2a3f5f\",\"gridcolor\":\"white\",\"linecolor\":\"white\",\"minorgridcolor\":\"white\",\"startlinecolor\":\"#2a3f5f\"},\"baxis\":{\"endlinecolor\":\"#2a3f5f\",\"gridcolor\":\"white\",\"linecolor\":\"white\",\"minorgridcolor\":\"white\",\"startlinecolor\":\"#2a3f5f\"},\"type\":\"carpet\"}],\"choropleth\":[{\"colorbar\":{\"outlinewidth\":0,\"ticks\":\"\"},\"type\":\"choropleth\"}],\"contour\":[{\"colorbar\":{\"outlinewidth\":0,\"ticks\":\"\"},\"colorscale\":[[0.0,\"#0d0887\"],[0.1111111111111111,\"#46039f\"],[0.2222222222222222,\"#7201a8\"],[0.3333333333333333,\"#9c179e\"],[0.4444444444444444,\"#bd3786\"],[0.5555555555555556,\"#d8576b\"],[0.6666666666666666,\"#ed7953\"],[0.7777777777777778,\"#fb9f3a\"],[0.8888888888888888,\"#fdca26\"],[1.0,\"#f0f921\"]],\"type\":\"contour\"}],\"contourcarpet\":[{\"colorbar\":{\"outlinewidth\":0,\"ticks\":\"\"},\"type\":\"contourcarpet\"}],\"heatmap\":[{\"colorbar\":{\"outlinewidth\":0,\"ticks\":\"\"},\"colorscale\":[[0.0,\"#0d0887\"],[0.1111111111111111,\"#46039f\"],[0.2222222222222222,\"#7201a8\"],[0.3333333333333333,\"#9c179e\"],[0.4444444444444444,\"#bd3786\"],[0.5555555555555556,\"#d8576b\"],[0.6666666666666666,\"#ed7953\"],[0.7777777777777778,\"#fb9f3a\"],[0.8888888888888888,\"#fdca26\"],[1.0,\"#f0f921\"]],\"type\":\"heatmap\"}],\"heatmapgl\":[{\"colorbar\":{\"outlinewidth\":0,\"ticks\":\"\"},\"colorscale\":[[0.0,\"#0d0887\"],[0.1111111111111111,\"#46039f\"],[0.2222222222222222,\"#7201a8\"],[0.3333333333333333,\"#9c179e\"],[0.4444444444444444,\"#bd3786\"],[0.5555555555555556,\"#d8576b\"],[0.6666666666666666,\"#ed7953\"],[0.7777777777777778,\"#fb9f3a\"],[0.8888888888888888,\"#fdca26\"],[1.0,\"#f0f921\"]],\"type\":\"heatmapgl\"}],\"histogram\":[{\"marker\":{\"pattern\":{\"fillmode\":\"overlay\",\"size\":10,\"solidity\":0.2}},\"type\":\"histogram\"}],\"histogram2d\":[{\"colorbar\":{\"outlinewidth\":0,\"ticks\":\"\"},\"colorscale\":[[0.0,\"#0d0887\"],[0.1111111111111111,\"#46039f\"],[0.2222222222222222,\"#7201a8\"],[0.3333333333333333,\"#9c179e\"],[0.4444444444444444,\"#bd3786\"],[0.5555555555555556,\"#d8576b\"],[0.6666666666666666,\"#ed7953\"],[0.7777777777777778,\"#fb9f3a\"],[0.8888888888888888,\"#fdca26\"],[1.0,\"#f0f921\"]],\"type\":\"histogram2d\"}],\"histogram2dcontour\":[{\"colorbar\":{\"outlinewidth\":0,\"ticks\":\"\"},\"colorscale\":[[0.0,\"#0d0887\"],[0.1111111111111111,\"#46039f\"],[0.2222222222222222,\"#7201a8\"],[0.3333333333333333,\"#9c179e\"],[0.4444444444444444,\"#bd3786\"],[0.5555555555555556,\"#d8576b\"],[0.6666666666666666,\"#ed7953\"],[0.7777777777777778,\"#fb9f3a\"],[0.8888888888888888,\"#fdca26\"],[1.0,\"#f0f921\"]],\"type\":\"histogram2dcontour\"}],\"mesh3d\":[{\"colorbar\":{\"outlinewidth\":0,\"ticks\":\"\"},\"type\":\"mesh3d\"}],\"parcoords\":[{\"line\":{\"colorbar\":{\"outlinewidth\":0,\"ticks\":\"\"}},\"type\":\"parcoords\"}],\"pie\":[{\"automargin\":true,\"type\":\"pie\"}],\"scatter\":[{\"marker\":{\"colorbar\":{\"outlinewidth\":0,\"ticks\":\"\"}},\"type\":\"scatter\"}],\"scatter3d\":[{\"line\":{\"colorbar\":{\"outlinewidth\":0,\"ticks\":\"\"}},\"marker\":{\"colorbar\":{\"outlinewidth\":0,\"ticks\":\"\"}},\"type\":\"scatter3d\"}],\"scattercarpet\":[{\"marker\":{\"colorbar\":{\"outlinewidth\":0,\"ticks\":\"\"}},\"type\":\"scattercarpet\"}],\"scattergeo\":[{\"marker\":{\"colorbar\":{\"outlinewidth\":0,\"ticks\":\"\"}},\"type\":\"scattergeo\"}],\"scattergl\":[{\"marker\":{\"colorbar\":{\"outlinewidth\":0,\"ticks\":\"\"}},\"type\":\"scattergl\"}],\"scattermapbox\":[{\"marker\":{\"colorbar\":{\"outlinewidth\":0,\"ticks\":\"\"}},\"type\":\"scattermapbox\"}],\"scatterpolar\":[{\"marker\":{\"colorbar\":{\"outlinewidth\":0,\"ticks\":\"\"}},\"type\":\"scatterpolar\"}],\"scatterpolargl\":[{\"marker\":{\"colorbar\":{\"outlinewidth\":0,\"ticks\":\"\"}},\"type\":\"scatterpolargl\"}],\"scatterternary\":[{\"marker\":{\"colorbar\":{\"outlinewidth\":0,\"ticks\":\"\"}},\"type\":\"scatterternary\"}],\"surface\":[{\"colorbar\":{\"outlinewidth\":0,\"ticks\":\"\"},\"colorscale\":[[0.0,\"#0d0887\"],[0.1111111111111111,\"#46039f\"],[0.2222222222222222,\"#7201a8\"],[0.3333333333333333,\"#9c179e\"],[0.4444444444444444,\"#bd3786\"],[0.5555555555555556,\"#d8576b\"],[0.6666666666666666,\"#ed7953\"],[0.7777777777777778,\"#fb9f3a\"],[0.8888888888888888,\"#fdca26\"],[1.0,\"#f0f921\"]],\"type\":\"surface\"}],\"table\":[{\"cells\":{\"fill\":{\"color\":\"#EBF0F8\"},\"line\":{\"color\":\"white\"}},\"header\":{\"fill\":{\"color\":\"#C8D4E3\"},\"line\":{\"color\":\"white\"}},\"type\":\"table\"}]},\"layout\":{\"annotationdefaults\":{\"arrowcolor\":\"#2a3f5f\",\"arrowhead\":0,\"arrowwidth\":1},\"autotypenumbers\":\"strict\",\"coloraxis\":{\"colorbar\":{\"outlinewidth\":0,\"ticks\":\"\"}},\"colorscale\":{\"diverging\":[[0,\"#8e0152\"],[0.1,\"#c51b7d\"],[0.2,\"#de77ae\"],[0.3,\"#f1b6da\"],[0.4,\"#fde0ef\"],[0.5,\"#f7f7f7\"],[0.6,\"#e6f5d0\"],[0.7,\"#b8e186\"],[0.8,\"#7fbc41\"],[0.9,\"#4d9221\"],[1,\"#276419\"]],\"sequential\":[[0.0,\"#0d0887\"],[0.1111111111111111,\"#46039f\"],[0.2222222222222222,\"#7201a8\"],[0.3333333333333333,\"#9c179e\"],[0.4444444444444444,\"#bd3786\"],[0.5555555555555556,\"#d8576b\"],[0.6666666666666666,\"#ed7953\"],[0.7777777777777778,\"#fb9f3a\"],[0.8888888888888888,\"#fdca26\"],[1.0,\"#f0f921\"]],\"sequentialminus\":[[0.0,\"#0d0887\"],[0.1111111111111111,\"#46039f\"],[0.2222222222222222,\"#7201a8\"],[0.3333333333333333,\"#9c179e\"],[0.4444444444444444,\"#bd3786\"],[0.5555555555555556,\"#d8576b\"],[0.6666666666666666,\"#ed7953\"],[0.7777777777777778,\"#fb9f3a\"],[0.8888888888888888,\"#fdca26\"],[1.0,\"#f0f921\"]]},\"colorway\":[\"#636efa\",\"#EF553B\",\"#00cc96\",\"#ab63fa\",\"#FFA15A\",\"#19d3f3\",\"#FF6692\",\"#B6E880\",\"#FF97FF\",\"#FECB52\"],\"font\":{\"color\":\"#2a3f5f\"},\"geo\":{\"bgcolor\":\"white\",\"lakecolor\":\"white\",\"landcolor\":\"#E5ECF6\",\"showlakes\":true,\"showland\":true,\"subunitcolor\":\"white\"},\"hoverlabel\":{\"align\":\"left\"},\"hovermode\":\"closest\",\"mapbox\":{\"style\":\"light\"},\"paper_bgcolor\":\"white\",\"plot_bgcolor\":\"#E5ECF6\",\"polar\":{\"angularaxis\":{\"gridcolor\":\"white\",\"linecolor\":\"white\",\"ticks\":\"\"},\"bgcolor\":\"#E5ECF6\",\"radialaxis\":{\"gridcolor\":\"white\",\"linecolor\":\"white\",\"ticks\":\"\"}},\"scene\":{\"xaxis\":{\"backgroundcolor\":\"#E5ECF6\",\"gridcolor\":\"white\",\"gridwidth\":2,\"linecolor\":\"white\",\"showbackground\":true,\"ticks\":\"\",\"zerolinecolor\":\"white\"},\"yaxis\":{\"backgroundcolor\":\"#E5ECF6\",\"gridcolor\":\"white\",\"gridwidth\":2,\"linecolor\":\"white\",\"showbackground\":true,\"ticks\":\"\",\"zerolinecolor\":\"white\"},\"zaxis\":{\"backgroundcolor\":\"#E5ECF6\",\"gridcolor\":\"white\",\"gridwidth\":2,\"linecolor\":\"white\",\"showbackground\":true,\"ticks\":\"\",\"zerolinecolor\":\"white\"}},\"shapedefaults\":{\"line\":{\"color\":\"#2a3f5f\"}},\"ternary\":{\"aaxis\":{\"gridcolor\":\"white\",\"linecolor\":\"white\",\"ticks\":\"\"},\"baxis\":{\"gridcolor\":\"white\",\"linecolor\":\"white\",\"ticks\":\"\"},\"bgcolor\":\"#E5ECF6\",\"caxis\":{\"gridcolor\":\"white\",\"linecolor\":\"white\",\"ticks\":\"\"}},\"title\":{\"x\":0.05},\"xaxis\":{\"automargin\":true,\"gridcolor\":\"white\",\"linecolor\":\"white\",\"ticks\":\"\",\"title\":{\"standoff\":15},\"zerolinecolor\":\"white\",\"zerolinewidth\":2},\"yaxis\":{\"automargin\":true,\"gridcolor\":\"white\",\"linecolor\":\"white\",\"ticks\":\"\",\"title\":{\"standoff\":15},\"zerolinecolor\":\"white\",\"zerolinewidth\":2}}},\"xaxis\":{\"anchor\":\"y\",\"domain\":[0.0,1.0],\"title\":{\"text\":\"Year\"}},\"yaxis\":{\"anchor\":\"x\",\"domain\":[0.0,1.0],\"title\":{\"text\":\"Monthly Mortgage Cost (USD)\"}},\"legend\":{\"title\":{\"text\":\"area\"},\"tracegroupgap\":0},\"margin\":{\"t\":60},\"title\":{\"text\":\"Orange County Houses: Monthly Mortgage Cost Over Time\"}},                        {\"responsive\": true}                    ).then(function(){\n",
              "                            \n",
              "var gd = document.getElementById('b79b8edb-6332-4a21-b80f-84e3716c491d');\n",
              "var x = new MutationObserver(function (mutations, observer) {{\n",
              "        var display = window.getComputedStyle(gd).display;\n",
              "        if (!display || display === 'none') {{\n",
              "            console.log([gd, 'removed!']);\n",
              "            Plotly.purge(gd);\n",
              "            observer.disconnect();\n",
              "        }}\n",
              "}});\n",
              "\n",
              "// Listen for the removal of the full notebook cells\n",
              "var notebookContainer = gd.closest('#notebook-container');\n",
              "if (notebookContainer) {{\n",
              "    x.observe(notebookContainer, {childList: true});\n",
              "}}\n",
              "\n",
              "// Listen for the clearing of the current output cell\n",
              "var outputEl = gd.closest('.output');\n",
              "if (outputEl) {{\n",
              "    x.observe(outputEl, {childList: true});\n",
              "}}\n",
              "\n",
              "                        })                };                            </script>        </div>\n",
              "</body>\n",
              "</html>"
            ]
          },
          "metadata": {}
        }
      ]
    },
    {
      "cell_type": "markdown",
      "source": [
        "* Note: Values that exceed $4,000 are reported in the data as \"4,000+\". They have been replaced with `4000.1` in the data above. This occurs for some areas of Irvine (92603 for 2011,2012,2014), Ladera Ranch/Mission Viejo (92694 for 2011, 2019). The estimates for these places/years may be much higher than shown in the plot.\n",
        "* The takeaway is that mortgage costs are:\n",
        " * Ranked fairly stable across areas (high ranked areas remain high consistently)\n",
        " * Dropped to a low in 2015 and return to 2011 levels in 2019. Unfortunately, we can't yet see beyond 2019 with this data, though for 2021 onward, **we can impute a 40% increase in mortgage costs over 2019**."
      ],
      "metadata": {
        "id": "DJPQGQLDl6JN"
      }
    }
  ]
}